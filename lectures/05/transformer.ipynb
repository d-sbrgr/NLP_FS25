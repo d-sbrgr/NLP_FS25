{
 "cells": [
  {
   "cell_type": "markdown",
   "id": "2f2fab24",
   "metadata": {},
   "source": [
    "# Transformer\n",
    "We will implement the Transformer architecture presented in class."
   ]
  },
  {
   "cell_type": "code",
   "id": "f86ec2a1",
   "metadata": {
    "ExecuteTime": {
     "end_time": "2025-03-27T10:25:04.275666Z",
     "start_time": "2025-03-27T10:25:04.269840Z"
    }
   },
   "source": [
    "import torch\n",
    "import torch.nn as nn"
   ],
   "outputs": [],
   "execution_count": 67
  },
  {
   "cell_type": "markdown",
   "id": "c90b41c4",
   "metadata": {},
   "source": [
    "We start with the attention. Define a class `TransformerAttention` that will contain all the functions related to the Transformer's attention that we need. Add an `__init__` method that takes `hidden_dim` and `num_heads` as parameters."
   ]
  },
  {
   "cell_type": "code",
   "id": "9acea5ba",
   "metadata": {
    "ExecuteTime": {
     "end_time": "2025-03-27T10:25:04.313614Z",
     "start_time": "2025-03-27T10:25:04.295404Z"
    }
   },
   "source": [
    "class TransformerAttention(nn.Module):\n",
    "    \n",
    "    def __init__(self, hidden_dim, num_heads):\n",
    "        super().__init__()\n",
    "        self.hidden_dim = hidden_dim\n",
    "        self.num_heads = num_heads\n",
    "        "
   ],
   "outputs": [],
   "execution_count": 68
  },
  {
   "cell_type": "markdown",
   "id": "07441c1e",
   "metadata": {},
   "source": [
    "Now we're adding its functions one after the other. We start with the best part: the attention function. Implement scaled-dot product attention when given `query`, `key`, and `value` tensors as inputs. The dimensions of these tensors are: `[batch_size, sequence_length, head_dim]`. Scaled dot-product attention is defined as:\n",
    "$$\\text{DPA}(Q, K, V) = \\text{softmax}(\\frac{Q K^\\top}{\\sqrt{d}}) V$$"
   ]
  },
  {
   "cell_type": "code",
   "id": "d266fcf5",
   "metadata": {
    "ExecuteTime": {
     "end_time": "2025-03-27T10:25:04.355744Z",
     "start_time": "2025-03-27T10:25:04.348280Z"
    }
   },
   "source": [
    "import math\n",
    "import torch.nn.functional as F\n",
    "\n",
    "def dot_product_attention(self, query, key, value):\n",
    "    return F.softmax((query @ key.transpose(-1, -2)) / math.sqrt(query.size(-1)), dim=-1) @ value\n",
    "\n",
    "TransformerAttention.dot_product_attention = dot_product_attention"
   ],
   "outputs": [],
   "execution_count": 69
  },
  {
   "cell_type": "markdown",
   "id": "ae0397dd",
   "metadata": {},
   "source": [
    "Implement a function `split_to_heads` that takes a tensor of dimensions `[?, ?, hidden_dim]` and splits it into `num_heads` tensors of size `[?, ?, head_dim]`, where $\\text{head\\_dim} = \\frac{\\text{hidden\\_dim}}{\\text{num\\_heads}}$. The `?` dimensions are the same as before, but your implementation should be independent of them."
   ]
  },
  {
   "cell_type": "code",
   "id": "acfa006a",
   "metadata": {
    "ExecuteTime": {
     "end_time": "2025-03-27T10:25:04.406892Z",
     "start_time": "2025-03-27T10:25:04.399161Z"
    }
   },
   "source": [
    "def split_to_heads(self, tensor: torch.Tensor) -> torch.Tensor:\n",
    "    return tensor.split(self.hidden_dim // self.num_heads, dim=-1)\n",
    "\n",
    "TransformerAttention.split_to_heads = split_to_heads"
   ],
   "outputs": [],
   "execution_count": 70
  },
  {
   "cell_type": "markdown",
   "id": "447ba143",
   "metadata": {},
   "source": [
    "Now implement the `forward` method of `TransformerAttention` (and extend the `__init__` method if necessary). It should:\n",
    "1. project its inputs into `query`, `key` and `value` tensors with 3 separate linear layers\n",
    "2. split the tensors into chunks for each head to process\n",
    "3. perform attention for each head separately\n",
    "4. concatenate the results\n",
    "5. run the output through another linear layer\n",
    "\n",
    "Step 1 and 2 look reversed from the diagram we saw in class, but this is more intuitive and also how Hugging Face implements these operations."
   ]
  },
  {
   "cell_type": "code",
   "id": "b5af616c",
   "metadata": {
    "ExecuteTime": {
     "end_time": "2025-03-27T10:25:04.460117Z",
     "start_time": "2025-03-27T10:25:04.443678Z"
    }
   },
   "source": [
    "def __init__(self, hidden_dim, num_heads):\n",
    "    super(TransformerAttention, self).__init__()\n",
    "    self.hidden_dim = hidden_dim\n",
    "    self.num_heads = num_heads\n",
    "    self.Q = nn.Linear(hidden_dim, hidden_dim)\n",
    "    self.K = nn.Linear(hidden_dim, hidden_dim)\n",
    "    self.V = nn.Linear(hidden_dim, hidden_dim)\n",
    "    self.output_projection = nn.Linear(hidden_dim, hidden_dim)\n",
    "\n",
    "def forward(self, x):\n",
    "    q = self.Q(x)\n",
    "    k = self.K(x)\n",
    "    v = self.V(x)\n",
    "    q = self.split_to_heads(q)\n",
    "    k = self.split_to_heads(k)\n",
    "    v = self.split_to_heads(v)\n",
    "    attention = [self.dot_product_attention(q_, k_, v_) for q_, k_, v_ in zip(q, k, v)]\n",
    "    attention = torch.cat(attention, dim=-1)\n",
    "    return self.output_projection(attention)\n",
    "\n",
    "TransformerAttention.__init__ = __init__\n",
    "TransformerAttention.forward = forward"
   ],
   "outputs": [],
   "execution_count": 71
  },
  {
   "cell_type": "markdown",
   "id": "7aca8c8c",
   "metadata": {},
   "source": [
    "Create a class `TransformerAttentionBlock` that runs Transformer attention, then adds the input as a residual to the output and performs layer normalization."
   ]
  },
  {
   "cell_type": "code",
   "id": "7b3949dd",
   "metadata": {
    "ExecuteTime": {
     "end_time": "2025-03-27T10:25:04.503227Z",
     "start_time": "2025-03-27T10:25:04.490888Z"
    }
   },
   "source": [
    "class TransformerAttentionBlock(nn.Module):\n",
    "    \n",
    "    def __init__(self, hidden_dim, num_heads):\n",
    "        super().__init__()\n",
    "        self.attention = TransformerAttention(hidden_dim, num_heads)\n",
    "        self.norm = nn.LayerNorm(hidden_dim)\n",
    "    \n",
    "    def forward(self, x):\n",
    "        attention = self.attention(x)\n",
    "        return self.norm(x + attention)"
   ],
   "outputs": [],
   "execution_count": 72
  },
  {
   "cell_type": "markdown",
   "id": "65a1712a",
   "metadata": {},
   "source": [
    "Create a class `FeedForwardNetwork` that consists of two linear layers with a ReLU in between. Also add a residual connection from the input to the output and apply layer normalization."
   ]
  },
  {
   "cell_type": "code",
   "id": "5130273f",
   "metadata": {
    "ExecuteTime": {
     "end_time": "2025-03-27T10:25:04.554966Z",
     "start_time": "2025-03-27T10:25:04.541658Z"
    }
   },
   "source": [
    "class FeedForwardNetwork(nn.Module):\n",
    "    \n",
    "    def __init__(self, hidden_dim, inner_dim):\n",
    "        super().__init__()\n",
    "        self.fc1 = nn.Linear(hidden_dim, inner_dim)\n",
    "        self.fc2 = nn.Linear(inner_dim, hidden_dim)\n",
    "        self.norm = nn.LayerNorm(hidden_dim)\n",
    "    \n",
    "    def forward(self, x):\n",
    "        proj = F.relu(self.fc1(x))\n",
    "        proj = self.fc2(proj)\n",
    "        return self.norm(proj + x)"
   ],
   "outputs": [],
   "execution_count": 73
  },
  {
   "cell_type": "markdown",
   "id": "a051c66b",
   "metadata": {},
   "source": [
    "Now we can combine the `TransformerAttentionBlock` and the `FeedForwardNetwork` into a `TransformerLayer`. "
   ]
  },
  {
   "cell_type": "code",
   "id": "3f85aaba",
   "metadata": {
    "ExecuteTime": {
     "end_time": "2025-03-27T10:25:04.612734Z",
     "start_time": "2025-03-27T10:25:04.601034Z"
    }
   },
   "source": [
    "class TransformerLayer(nn.Module):\n",
    "    \n",
    "    def __init__(self, hidden_dim, ffn_inner_dim, num_heads):\n",
    "        super().__init__()\n",
    "        self.attention_block = TransformerAttentionBlock(hidden_dim, num_heads)\n",
    "        self.feed_forward = FeedForwardNetwork(hidden_dim, ffn_inner_dim)\n",
    "    \n",
    "    def forward(self, x):\n",
    "        x = self.attention_block(x)\n",
    "        x = self.feed_forward(x)\n",
    "        return x"
   ],
   "outputs": [],
   "execution_count": 74
  },
  {
   "cell_type": "markdown",
   "id": "0678fa37",
   "metadata": {},
   "source": [
    "We are ready to compose our `TransformerEncoder` of a given number of `TransformerLayer`s."
   ]
  },
  {
   "cell_type": "code",
   "id": "c2d99df9",
   "metadata": {
    "ExecuteTime": {
     "end_time": "2025-03-27T10:25:04.669103Z",
     "start_time": "2025-03-27T10:25:04.659010Z"
    }
   },
   "source": [
    "class TransformerEncoder(nn.Module):\n",
    "    \n",
    "    def __init__(self, hidden_dim, ffn_inner_dim, num_layers, num_heads):\n",
    "        super().__init__()\n",
    "        self.transformers = nn.ModuleList([TransformerLayer(hidden_dim, ffn_inner_dim, num_heads) for _ in range(num_layers)])\n",
    "    \n",
    "    def forward(self, x):\n",
    "        for t in self.transformers:\n",
    "            x = t(x)\n",
    "        return x"
   ],
   "outputs": [],
   "execution_count": 75
  },
  {
   "cell_type": "markdown",
   "id": "7a433083",
   "metadata": {},
   "source": [
    "Let's test our implementation with the hyperparameters..."
   ]
  },
  {
   "cell_type": "code",
   "id": "642b5a3e",
   "metadata": {
    "ExecuteTime": {
     "end_time": "2025-03-27T10:25:04.741361Z",
     "start_time": "2025-03-27T10:25:04.729468Z"
    }
   },
   "source": [
    "hidden_dim = 20\n",
    "embedding_dim = hidden_dim\n",
    "ffn_dim = 100\n",
    "num_heads = 4\n",
    "num_encoder_layers = 6\n",
    "batch_size = 2\n",
    "x_len = 10"
   ],
   "outputs": [],
   "execution_count": 76
  },
  {
   "cell_type": "markdown",
   "id": "26bdae29",
   "metadata": {},
   "source": [
    "... and check if it produces the correct output shapes."
   ]
  },
  {
   "cell_type": "code",
   "id": "7b69461a",
   "metadata": {
    "ExecuteTime": {
     "end_time": "2025-03-27T10:25:04.848063Z",
     "start_time": "2025-03-27T10:25:04.790371Z"
    }
   },
   "source": [
    "x = torch.randn(batch_size, x_len, embedding_dim)\n",
    "encoder = TransformerEncoder(hidden_dim, ffn_dim, num_encoder_layers, num_heads)\n",
    "output = encoder(x)\n",
    "assert list(output.shape) == [batch_size, x_len, hidden_dim], \"Wrong output shape\""
   ],
   "outputs": [],
   "execution_count": 77
  },
  {
   "cell_type": "markdown",
   "id": "b5f341c2",
   "metadata": {},
   "source": [
    "## Transformer Decoder\n",
    "For the Transformer decoder, two components are missing.\n",
    "1. A causal mask in the `TransformerAttention`.\n",
    "2. A cross-attention module in the `TransformerLayer`.\n",
    "\n",
    "We start by generalizing the `TransformerAttention` class to use a causal mask in `dot_product_attention` if it is used for decoder self-attention. We check this by accessing an `is_decoder_self_attention` attribute of `self`, which we have to add as an argument to `TransformerAttention`'s `__init__` method first."
   ]
  },
  {
   "cell_type": "code",
   "id": "662da648",
   "metadata": {
    "ExecuteTime": {
     "end_time": "2025-03-27T10:25:32.652359Z",
     "start_time": "2025-03-27T10:25:32.644073Z"
    }
   },
   "source": [
    "# Add an `is_decoder_self_attention` attribute to TransformerAttention.__init__\n",
    "def __init__(self, hidden_dim, num_heads, is_decoder_self_attention=False):\n",
    "    super(TransformerAttention, self).__init__()  # we get an error here if we call super().__init__()\n",
    "    self.is_self_attention = is_decoder_self_attention\n",
    "    self.hidden_dim = hidden_dim\n",
    "    self.num_heads = num_heads\n",
    "    self.Q = nn.Linear(hidden_dim, hidden_dim)\n",
    "    self.K = nn.Linear(hidden_dim, hidden_dim)\n",
    "    self.V = nn.Linear(hidden_dim, hidden_dim)\n",
    "    self.output_projection = nn.Linear(hidden_dim, hidden_dim)\n",
    "\n",
    "TransformerAttention.__init__ = __init__"
   ],
   "outputs": [],
   "execution_count": 87
  },
  {
   "cell_type": "code",
   "id": "9ed44eeb",
   "metadata": {
    "ExecuteTime": {
     "end_time": "2025-03-27T10:27:57.049950Z",
     "start_time": "2025-03-27T10:27:57.042239Z"
    }
   },
   "source": [
    "# Change the dot_product attention to use a causal mask in case it is used in the decoder self-attention.\n",
    "def dot_product_attention(self, query, key, value):\n",
    "    attention_scores = (query @ key.transpose(-1, -2)) / math.sqrt(query.size(-1))\n",
    "    if self.is_self_attention:\n",
    "        mask = (1 - torch.ones_like(attention_scores).tril()).type(torch.bool)\n",
    "        attention_scores.masked_fill_(mask, -1e8)\n",
    "    return F.softmax(attention_scores, dim=-1) @ value\n",
    "\n",
    "TransformerAttention.dot_product_attention = dot_product_attention"
   ],
   "outputs": [],
   "execution_count": 104
  },
  {
   "cell_type": "markdown",
   "id": "6ba48c06",
   "metadata": {},
   "source": [
    "Now we add cross-attention. We do this by updating the `TransformerAttention`'s `forward` method to take `encoder_hidden_states` as an optional input. Check the lecture slides to see which input gets projected into queries, keys and values."
   ]
  },
  {
   "cell_type": "code",
   "id": "64b5a1b8",
   "metadata": {
    "ExecuteTime": {
     "end_time": "2025-03-27T10:27:57.420790Z",
     "start_time": "2025-03-27T10:27:57.411545Z"
    }
   },
   "source": [
    "def forward(self, x, encoder_hidden_states=None):\n",
    "    encoder_hidden_states = x if encoder_hidden_states is None else encoder_hidden_states\n",
    "    q = self.Q(x)\n",
    "    k = self.K(encoder_hidden_states)\n",
    "    v = self.V(encoder_hidden_states)\n",
    "    q = self.split_to_heads(q)\n",
    "    k = self.split_to_heads(k)\n",
    "    v = self.split_to_heads(v)\n",
    "    attention = [self.dot_product_attention(q_, k_, v_) for q_, k_, v_ in zip(q, k, v)]\n",
    "    attention = torch.cat(attention, dim=-1)\n",
    "    return self.output_projection(attention)\n",
    "    \n",
    "TransformerAttention.forward = forward"
   ],
   "outputs": [],
   "execution_count": 105
  },
  {
   "cell_type": "markdown",
   "id": "a33f0aed",
   "metadata": {},
   "source": [
    "We have to extend the `TransformerAttentionBlock` to allow that additional argument in its `forward` method."
   ]
  },
  {
   "cell_type": "code",
   "id": "987baf3b",
   "metadata": {
    "ExecuteTime": {
     "end_time": "2025-03-27T10:27:57.820526Z",
     "start_time": "2025-03-27T10:27:57.814299Z"
    }
   },
   "source": [
    "def forward(self, x, encoder_hidden_states=None):\n",
    "    attention = self.attention(x, encoder_hidden_states)\n",
    "    return self.norm(x + attention)\n",
    "\n",
    "TransformerAttentionBlock.forward = forward"
   ],
   "outputs": [],
   "execution_count": 106
  },
  {
   "cell_type": "markdown",
   "id": "50b1c6a5",
   "metadata": {},
   "source": [
    "Now we implement a `TransformerDecoderLayer` that consists of decoder self-attention, cross-attention and a feed-forward network. In the `forward` method, use the encoder hidden states as inputs to the cross-attention module."
   ]
  },
  {
   "cell_type": "code",
   "id": "2c3f2d97",
   "metadata": {
    "ExecuteTime": {
     "end_time": "2025-03-27T10:27:58.236561Z",
     "start_time": "2025-03-27T10:27:58.218192Z"
    }
   },
   "source": [
    "class TransformerDecoderLayer(nn.Module):\n",
    "    \n",
    "    def __init__(self, hidden_dim, ffn_inner_dim, num_heads):\n",
    "        super().__init__()\n",
    "        self.self_attention = TransformerAttentionBlock(hidden_dim, num_heads)\n",
    "        self.self_attention.attention.is_self_attention = True\n",
    "        self.cross_attention = TransformerAttentionBlock(hidden_dim, num_heads)\n",
    "        self.feed_forward = FeedForwardNetwork(hidden_dim, ffn_inner_dim)\n",
    "    \n",
    "    def forward(self, x, encoder_hidden_states):\n",
    "        out = self.self_attention(x)\n",
    "        out = self.cross_attention(out, encoder_hidden_states)\n",
    "        return self.feed_forward(out)"
   ],
   "outputs": [],
   "execution_count": 107
  },
  {
   "cell_type": "markdown",
   "id": "9133819c",
   "metadata": {},
   "source": [
    "Add a `TransformerDecoder` that holds the decoder layers."
   ]
  },
  {
   "cell_type": "code",
   "id": "c00668ff",
   "metadata": {
    "ExecuteTime": {
     "end_time": "2025-03-27T10:27:58.738209Z",
     "start_time": "2025-03-27T10:27:58.728055Z"
    }
   },
   "source": [
    "class TransformerDecoder(nn.Module):\n",
    "    \n",
    "    def __init__(self, hidden_dim, ffn_inner_dim, num_layers, num_heads):\n",
    "        super().__init__()\n",
    "        self.layers = nn.ModuleList([TransformerDecoderLayer(hidden_dim, ffn_inner_dim, num_heads) for _ in range(num_layers)])\n",
    "    \n",
    "    def forward(self, x, encoder_hidden_states):\n",
    "        for layer in self.layers:\n",
    "            x = layer(x, encoder_hidden_states)\n",
    "        return x"
   ],
   "outputs": [],
   "execution_count": 108
  },
  {
   "cell_type": "markdown",
   "id": "50442dd4",
   "metadata": {},
   "source": [
    "## Transformer Seq2seq Model\n",
    "We can now put everything together. Create and instantiate a Transformer model that encodes a random input `x`, then generates an output hidden representation for each decoder input `y` that we could then feed into a classifier to predict the words."
   ]
  },
  {
   "cell_type": "code",
   "id": "e31aa870",
   "metadata": {
    "scrolled": true,
    "ExecuteTime": {
     "end_time": "2025-03-27T10:27:59.321663Z",
     "start_time": "2025-03-27T10:27:59.308201Z"
    }
   },
   "source": [
    "class TransformerModel(nn.Module):\n",
    "    \n",
    "    def __init__(self, hidden_dim, ffn_dim, num_encoder_layers, num_decoder_layers, num_heads):\n",
    "        super().__init__()\n",
    "        self.encoder = TransformerEncoder(hidden_dim, ffn_dim, num_encoder_layers, num_heads)\n",
    "        self.decoder = TransformerDecoder(hidden_dim, ffn_dim, num_decoder_layers, num_heads)\n",
    "    \n",
    "    def forward(self, x, y):\n",
    "        encoder_hidden_states = self.encoder(x)\n",
    "        return self.decoder(y, encoder_hidden_states)"
   ],
   "outputs": [],
   "execution_count": 109
  },
  {
   "cell_type": "markdown",
   "id": "53a9995c",
   "metadata": {},
   "source": [
    "We will use the following hyperparameters."
   ]
  },
  {
   "cell_type": "code",
   "id": "c5db22a3",
   "metadata": {
    "ExecuteTime": {
     "end_time": "2025-03-27T10:27:59.952273Z",
     "start_time": "2025-03-27T10:27:59.942401Z"
    }
   },
   "source": [
    "hidden_dim = 20\n",
    "embedding_dim = hidden_dim\n",
    "ffn_dim = 100\n",
    "num_heads = 4\n",
    "num_encoder_layers = 6\n",
    "num_decoder_layers = 2\n",
    "batch_size = 2\n",
    "x_len = 10\n",
    "y_len = 7"
   ],
   "outputs": [],
   "execution_count": 110
  },
  {
   "cell_type": "markdown",
   "id": "bb9c5f68",
   "metadata": {},
   "source": [
    "Now we can run our model and test that the output dimensions are correct."
   ]
  },
  {
   "cell_type": "code",
   "id": "9fa6d1e1",
   "metadata": {
    "ExecuteTime": {
     "end_time": "2025-03-27T10:28:00.749072Z",
     "start_time": "2025-03-27T10:28:00.718963Z"
    }
   },
   "source": [
    "x = torch.randn(batch_size, x_len, embedding_dim)\n",
    "y = torch.randn(batch_size, y_len, embedding_dim)\n",
    "model = TransformerModel(hidden_dim, ffn_dim, num_encoder_layers, num_decoder_layers, num_heads)\n",
    "output = model(x, y)\n",
    "assert list(output.shape) == [batch_size, y_len, hidden_dim], \"Wrong output shape\"\n",
    "num_model_params = sum(param.numel() for param in model.parameters())\n",
    "assert num_model_params == 50480, f\"Wrong number of parameters: {num_model_params}\""
   ],
   "outputs": [],
   "execution_count": 111
  },
  {
   "cell_type": "markdown",
   "id": "3071506d",
   "metadata": {},
   "source": [
    "## What is missing for a real implementation?\n",
    "Look at the [implementation of the Transformer layer for BERT by HuggingFace](https://github.com/huggingface/transformers/blob/v4.46.0/src/transformers/models/bert/modeling_bert.py#L223), from line 223 until 641.\n",
    "\n",
    "**Question:** Name the things you see HuggingFace's implementation do that is still missing in your own implementation."
   ]
  },
  {
   "cell_type": "markdown",
   "id": "eec33e1b",
   "metadata": {},
   "source": [
    "**Answer:** \n",
    "\n",
    "* Dropout at numerous places\n",
    "* Attention mask -> mask out attention to the padding tokens\n",
    "* \n"
   ]
  }
 ],
 "metadata": {
  "kernelspec": {
   "display_name": "nlp-exercises",
   "language": "python",
   "name": "python3"
  },
  "language_info": {
   "codemirror_mode": {
    "name": "ipython",
    "version": 3
   },
   "file_extension": ".py",
   "mimetype": "text/x-python",
   "name": "python",
   "nbconvert_exporter": "python",
   "pygments_lexer": "ipython3",
   "version": "3.12.5"
  }
 },
 "nbformat": 4,
 "nbformat_minor": 5
}
