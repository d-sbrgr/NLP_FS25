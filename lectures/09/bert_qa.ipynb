{
 "cells": [
  {
   "cell_type": "markdown",
   "id": "d06a0aa5",
   "metadata": {},
   "source": [
    "# Question Answering with BERT\n",
    "In this exercise, we will use a pretrained BERT model, finetuned on question answering, to identify the answer to a question in a paragraph."
   ]
  },
  {
   "cell_type": "code",
   "id": "86be112a",
   "metadata": {
    "ExecuteTime": {
     "end_time": "2025-04-17T08:13:00.185940Z",
     "start_time": "2025-04-17T08:12:50.893491Z"
    }
   },
   "source": [
    "%pip install -q torch\n",
    "%pip install -q transformers"
   ],
   "outputs": [
    {
     "name": "stdout",
     "output_type": "stream",
     "text": [
      "Note: you may need to restart the kernel to use updated packages.\n"
     ]
    },
    {
     "name": "stderr",
     "output_type": "stream",
     "text": [
      "\n",
      "[notice] A new release of pip is available: 24.2 -> 25.0.1\n",
      "[notice] To update, run: python.exe -m pip install --upgrade pip\n"
     ]
    },
    {
     "name": "stdout",
     "output_type": "stream",
     "text": [
      "Note: you may need to restart the kernel to use updated packages.\n"
     ]
    },
    {
     "name": "stderr",
     "output_type": "stream",
     "text": [
      "\n",
      "[notice] A new release of pip is available: 24.2 -> 25.0.1\n",
      "[notice] To update, run: python.exe -m pip install --upgrade pip\n"
     ]
    }
   ],
   "execution_count": 1
  },
  {
   "cell_type": "code",
   "id": "c66b8b3d",
   "metadata": {
    "ExecuteTime": {
     "end_time": "2025-04-17T08:13:04.994021Z",
     "start_time": "2025-04-17T08:13:00.210591Z"
    }
   },
   "source": [
    "import torch"
   ],
   "outputs": [],
   "execution_count": 2
  },
  {
   "cell_type": "markdown",
   "id": "e311c68d",
   "metadata": {},
   "source": [
    "## Knowledge distillation\n",
    "\n",
    "[Knowledge distillation](https://en.wikipedia.org/wiki/Knowledge_distillation) is a practice in deep learning to train a much smaller *student* model on the outputs of a large *teacher* model. In that way, one can reduce model parameters a lot while performance decreases only by a little.\n",
    "\n",
    "We will use a distilled model: `distilbert-base-uncased-distilled-squad`. From the 5 parts of the name, we know that:\n",
    "- it is a distilled version of the BERT model\n",
    "- it used BERT-base as a teacher model\n",
    "- it is uncased, so converts all inputs into lowercase\n",
    "- it was distilled again during finetuning (normally it's only done once from the pretrained model)\n",
    "- the model was finetuned on squad (v1.1), a question answering dataset\n",
    "\n",
    "We will now download and initialize the model. Read the [model documentation](https://huggingface.co/distilbert-base-uncased-distilled-squad) on HuggingFace's model hub to see how it is used."
   ]
  },
  {
   "cell_type": "code",
   "id": "19eb086d",
   "metadata": {
    "ExecuteTime": {
     "end_time": "2025-04-17T08:31:22.673241Z",
     "start_time": "2025-04-17T08:30:15.864019Z"
    }
   },
   "source": [
    "from transformers import DistilBertTokenizer, DistilBertForQuestionAnswering\n",
    "\n",
    "tokenizer = DistilBertTokenizer.from_pretrained('distilbert-base-uncased-distilled-squad')\n",
    "model = DistilBertForQuestionAnswering.from_pretrained('distilbert-base-uncased-distilled-squad')\n",
    "model.eval()\n",
    "pass  # Suppress output"
   ],
   "outputs": [
    {
     "name": "stderr",
     "output_type": "stream",
     "text": [
      "C:\\git\\NLP_FS25\\.env3\\Lib\\site-packages\\requests\\__init__.py:86: RequestsDependencyWarning: Unable to find acceptable character detection dependency (chardet or charset_normalizer).\n",
      "  warnings.warn(\n"
     ]
    },
    {
     "data": {
      "text/plain": [
       "tokenizer_config.json:   0%|          | 0.00/48.0 [00:00<?, ?B/s]"
      ],
      "application/vnd.jupyter.widget-view+json": {
       "version_major": 2,
       "version_minor": 0,
       "model_id": "345ff1ecec424d17b72310bb09e4a1d4"
      }
     },
     "metadata": {},
     "output_type": "display_data"
    },
    {
     "name": "stderr",
     "output_type": "stream",
     "text": [
      "C:\\git\\NLP_FS25\\.env3\\Lib\\site-packages\\huggingface_hub\\file_download.py:142: UserWarning: `huggingface_hub` cache-system uses symlinks by default to efficiently store duplicated files but your machine does not support them in C:\\Users\\dave_\\.cache\\huggingface\\hub\\models--distilbert-base-uncased-distilled-squad. Caching files will still work but in a degraded version that might require more space on your disk. This warning can be disabled by setting the `HF_HUB_DISABLE_SYMLINKS_WARNING` environment variable. For more details, see https://huggingface.co/docs/huggingface_hub/how-to-cache#limitations.\n",
      "To support symlinks on Windows, you either need to activate Developer Mode or to run Python as an administrator. In order to activate developer mode, see this article: https://docs.microsoft.com/en-us/windows/apps/get-started/enable-your-device-for-development\n",
      "  warnings.warn(message)\n"
     ]
    },
    {
     "data": {
      "text/plain": [
       "vocab.txt:   0%|          | 0.00/232k [00:00<?, ?B/s]"
      ],
      "application/vnd.jupyter.widget-view+json": {
       "version_major": 2,
       "version_minor": 0,
       "model_id": "bc20cf4e4a40455eb81d9aef907eaca1"
      }
     },
     "metadata": {},
     "output_type": "display_data"
    },
    {
     "data": {
      "text/plain": [
       "tokenizer.json:   0%|          | 0.00/466k [00:00<?, ?B/s]"
      ],
      "application/vnd.jupyter.widget-view+json": {
       "version_major": 2,
       "version_minor": 0,
       "model_id": "1b611e7c487442a8aa032c38d1a2e9b0"
      }
     },
     "metadata": {},
     "output_type": "display_data"
    },
    {
     "data": {
      "text/plain": [
       "config.json:   0%|          | 0.00/451 [00:00<?, ?B/s]"
      ],
      "application/vnd.jupyter.widget-view+json": {
       "version_major": 2,
       "version_minor": 0,
       "model_id": "6c4e42eca7a449928e13ca8499a0d416"
      }
     },
     "metadata": {},
     "output_type": "display_data"
    },
    {
     "data": {
      "text/plain": [
       "model.safetensors:   0%|          | 0.00/265M [00:00<?, ?B/s]"
      ],
      "application/vnd.jupyter.widget-view+json": {
       "version_major": 2,
       "version_minor": 0,
       "model_id": "3736b210091447d99b3652b14ccedf92"
      }
     },
     "metadata": {},
     "output_type": "display_data"
    }
   ],
   "execution_count": 3
  },
  {
   "cell_type": "markdown",
   "id": "06d14ff7",
   "metadata": {},
   "source": [
    "## Extractive Question Answering\n",
    "\n",
    "For extractive question answering, we are given a paragraph and a question, and have to find the answer to the question in the paragraph. Look at the paragraphs (starts of Wikipedia articles about New York City, the capybara, and american football) and questions that we will use for this exercise:"
   ]
  },
  {
   "cell_type": "code",
   "id": "f4e12679",
   "metadata": {
    "ExecuteTime": {
     "end_time": "2025-04-17T08:32:04.498093Z",
     "start_time": "2025-04-17T08:32:04.485803Z"
    }
   },
   "source": [
    "paragraphs = [\n",
    "    \"New York, often called New York City (NYC), is the most populous city in the United States. With a 2020 population of 8,804,190 distributed over 300.46 square miles (778.2 km2), New York City is also the most densely populated major city in the United States. Located at the southern tip of New York State, the city is based in the Eastern Time Zone and constitutes the geographical and demographic center of both the Northeast megalopolis and the New York metropolitan area, the largest metropolitan area in the world by urban landmass. With over 20.1 million people in its metropolitan statistical area and 23.5 million in its combined statistical area as of 2020, New York is one of the world's most populous megacities. New York City is a global cultural, financial, and media center with a significant influence on commerce, health care and life sciences, entertainment, research, technology, education, politics, tourism, dining, art, fashion, and sports. New York is the most photographed city in the world. Home to the headquarters of the United Nations, New York is an important center for international diplomacy, an established safe haven for global investors, and is sometimes described as the capital of the world.\",\n",
    "    \"The capybara or greater capybara (Hydrochoerus hydrochaeris) is a giant cavy rodent native to South America. It is the largest living rodent and a member of the genus Hydrochoerus. The only other extant member is the lesser capybara (Hydrochoerus isthmius). Its close relatives include guinea pigs and rock cavies, and it is more distantly related to the agouti, the chinchilla, and the nutria. The capybara inhabits savannas and dense forests and lives near bodies of water. It is a highly social species and can be found in groups as large as 100 individuals, but usually lives in groups of 10–20 individuals. The capybara is hunted for its meat and hide and also for grease from its thick fatty skin. It is not considered a threatened species.\",\n",
    "    \"American football (referred to simply as football in the United States and Canada), also known as gridiron, is a team sport played by two teams of eleven players on a rectangular field with goalposts at each end. The offense, the team with possession of the oval-shaped football, attempts to advance down the field by running with the ball or passing it, while the defense, the team without possession of the ball, aims to stop the offense's advance and to take control of the ball for themselves. The offense must advance at least ten yards in four downs or plays; if they fail, they turn over the football to the defense, but if they succeed, they are given a new set of four downs to continue the drive. Points are scored primarily by advancing the ball into the opposing team's end zone for a touchdown or kicking the ball through the opponent's goalposts for a field goal. The team with the most points at the end of a game wins.\",\n",
    "]\n",
    "questions = [\n",
    "    [\n",
    "        \"What is New York's population?\",\n",
    "        \"How many people live in New York's metropolitan area?\",\n",
    "        \"To what industries is New York a center?\",\n",
    "        \"What is New York known for?\",\n",
    "        \"What is New York also called?\",\n",
    "        \"What is New York also sometimes called?\",\n",
    "        \"What is New York also sometimes described?\",\n",
    "    ],\n",
    "    [\n",
    "        \"What is the scientific name of the capybara?\",\n",
    "        \"What family of animals does the capybara belong to?\",\n",
    "        \"What are close relatives of the capybara?\",\n",
    "        \"What is the size of groups that the capybara lives in?\",\n",
    "        \"What is the capybara hunted for?\",\n",
    "    ],\n",
    "    [\n",
    "        \"Under what name is American football also known?\",\n",
    "        \"How many players are in a team?\",\n",
    "        \"By what means can the offense advance?\",\n",
    "        \"How many yards must a team advance in four downs?\",\n",
    "        \"How does a team score points?\",\n",
    "        \"How does a team win?\",\n",
    "    ],\n",
    "]"
   ],
   "outputs": [],
   "execution_count": 4
  },
  {
   "cell_type": "markdown",
   "id": "d4a32b0f",
   "metadata": {},
   "source": [
    "## Answering Questions\n",
    "\n",
    "For each of the paragraphs above, we will now answer the associated questions. Take a look at the [model documentation](https://huggingface.co/distilbert-base-uncased-distilled-squad). First, use HuggingFace's pipeline abstraction. Look at the outputs of your model and describe the information it returns."
   ]
  },
  {
   "cell_type": "code",
   "id": "29b9b740",
   "metadata": {
    "ExecuteTime": {
     "end_time": "2025-04-17T08:45:58.876270Z",
     "start_time": "2025-04-17T08:45:54.931993Z"
    }
   },
   "source": [
    "from transformers import pipeline\n",
    "question_answerer = pipeline(\"question-answering\", model='distilbert-base-uncased-distilled-squad')\n",
    "\n",
    "for context, qs in zip(paragraphs, questions):\n",
    "    for q in qs:\n",
    "        result = question_answerer(question=q, context=context)\n",
    "        print(\n",
    "        f\"Question: '{q}', Answer: '{result['answer']}', score: {round(result['score'], 4)}, start: {result['start']}, end: {result['end']}\")\n"
   ],
   "outputs": [
    {
     "name": "stderr",
     "output_type": "stream",
     "text": [
      "Device set to use cpu\n"
     ]
    },
    {
     "name": "stdout",
     "output_type": "stream",
     "text": [
      "Question: 'What is New York's population?', Answer: '8,804,190', score: 0.9858, start: 118, end: 127\n",
      "Question: 'How many people live in New York's metropolitan area?', Answer: '20.1 million', score: 0.5023, start: 548, end: 560\n",
      "Question: 'To what industries is New York a center?', Answer: 'financial, and media', score: 0.0384, start: 760, end: 780\n",
      "Question: 'What is New York known for?', Answer: 'New York City (NYC)', score: 0.1166, start: 23, end: 42\n",
      "Question: 'What is New York also called?', Answer: 'New York City', score: 0.3205, start: 23, end: 36\n",
      "Question: 'What is New York also sometimes called?', Answer: 'New York City (NYC', score: 0.3319, start: 23, end: 41\n",
      "Question: 'What is New York also sometimes described?', Answer: 'New York City (NYC', score: 0.3236, start: 23, end: 41\n",
      "Question: 'What is the scientific name of the capybara?', Answer: 'Hydrochoerus hydrochaeris', score: 0.3257, start: 34, end: 59\n",
      "Question: 'What family of animals does the capybara belong to?', Answer: 'cavy', score: 0.1897, start: 72, end: 76\n",
      "Question: 'What are close relatives of the capybara?', Answer: 'guinea pigs and rock cavies', score: 0.8195, start: 286, end: 313\n",
      "Question: 'What is the size of groups that the capybara lives in?', Answer: '10–20 individuals', score: 0.3549, start: 593, end: 610\n",
      "Question: 'What is the capybara hunted for?', Answer: 'meat and hide', score: 0.4412, start: 643, end: 656\n",
      "Question: 'Under what name is American football also known?', Answer: 'gridiron', score: 0.978, start: 98, end: 106\n",
      "Question: 'How many players are in a team?', Answer: 'eleven', score: 0.5427, start: 147, end: 153\n",
      "Question: 'By what means can the offense advance?', Answer: 'running with the ball or passing it', score: 0.4876, start: 318, end: 353\n",
      "Question: 'How many yards must a team advance in four downs?', Answer: 'ten', score: 0.3951, start: 532, end: 535\n",
      "Question: 'How does a team score points?', Answer: 'advancing the ball into the opposing team's end zone for a touchdown', score: 0.0569, start: 738, end: 806\n",
      "Question: 'How does a team win?', Answer: 'The team with the most points at the end of a game wins', score: 0.377, start: 878, end: 933\n"
     ]
    }
   ],
   "execution_count": 7
  },
  {
   "cell_type": "markdown",
   "id": "2bbea340",
   "metadata": {},
   "source": [
    "Now we will do the same by directly using the tokenizer and the model we loaded at the start. The model documentation also has an example to get you started. Look at the outputs of the model. Perform the necessary steps to give an answer like the pipeline above. Do the answers match?"
   ]
  },
  {
   "cell_type": "code",
   "id": "924dbbf4",
   "metadata": {
    "ExecuteTime": {
     "end_time": "2025-04-17T08:58:21.246478Z",
     "start_time": "2025-04-17T08:58:17.791201Z"
    }
   },
   "source": [
    "for context, qs in zip(paragraphs, questions):\n",
    "    for q in qs:\n",
    "        inputs = tokenizer(q, context, return_tensors=\"pt\")\n",
    "    \n",
    "        outputs = model(**inputs)\n",
    "\n",
    "        answer_start_index = torch.argmax(outputs.start_logits)\n",
    "        answer_end_index = torch.argmax(outputs.end_logits)\n",
    "\n",
    "        predict_answer_tokens = inputs.input_ids[0, answer_start_index : answer_end_index + 1]\n",
    "        answer = tokenizer.decode(predict_answer_tokens)\n",
    "        print(f\"{q}: {answer}, start='{answer_start_index}', end='{answer_end_index}'\")"
   ],
   "outputs": [
    {
     "name": "stdout",
     "output_type": "stream",
     "text": [
      "What is New York's population?: 8, 804, 190, start='37', end='42'\n",
      "How many people live in New York's metropolitan area?: 20. 1 million, start='134', end='137'\n",
      "To what industries is New York a center?: commerce, health care and life sciences, entertainment, research, technology, education, politics, tourism, dining, art, fashion, and sports, start='188', end='215'\n",
      "What is New York known for?: new york city ( nyc ), is the most populous city in the united states. with a 2020 population of 8, 804, 190 distributed over 300. 46 square miles ( 778. 2 km2 ), new york city is also the most densely populated major city in the united states. located at the southern tip of new york state, the city is based in the eastern time zone and constitutes the geographical and demographic center of both the northeast megalopolis and the new york metropolitan area, the largest metropolitan area in the world by urban landmass. with over 20. 1 million people in its metropolitan statistical area and 23. 5 million in its combined statistical area as of 2020, new york is one of the world's most populous megacities. new york city is a global cultural, financial, and media center, start='14', end='180'\n",
      "What is New York also called?: new york city, start='14', end='16'\n",
      "What is New York also sometimes called?: new york city ( nyc, start='15', end='19'\n",
      "What is New York also sometimes described?: new york city ( nyc, start='15', end='19'\n",
      "What is the scientific name of the capybara?: hydrochoerus hydrochaeris, start='23', end='29'\n",
      "What family of animals does the capybara belong to?: cavy rodent native to south america. it is the largest living rodent and a member of the genus hydrochoerus, start='35', end='59'\n",
      "What are close relatives of the capybara?: guinea pigs and rock cavies, start='83', end='88'\n",
      "What is the size of groups that the capybara lives in?: 10 – 20 individuals, start='158', end='161'\n",
      "What is the capybara hunted for?: meat and hide, start='166', end='168'\n",
      "Under what name is American football also known?: gridiron, start='30', end='32'\n",
      "How many players are in a team?: eleven, start='42', end='42'\n",
      "By what means can the offense advance?: running with the ball or passing it, start='77', end='83'\n",
      "How many yards must a team advance in four downs?: ten, start='124', end='124'\n",
      "How does a team score points?: advancing the ball into the opposing team's end zone for a touchdown or kicking the ball through the opponent's goalposts for a field goal, start='165', end='194'\n",
      "How does a team win?: the team with the most points at the end of a game wins, start='195', end='207'\n"
     ]
    }
   ],
   "execution_count": 10
  },
  {
   "cell_type": "markdown",
   "id": "0742687d",
   "metadata": {},
   "source": [
    "Some of the answers do not match, which tells us that pipeline's implementation does something different \n",
    "from what we did. Two things to note:\n",
    "1. A different tokenization procedure seems to have been used, as the answer to the first question appears\n",
    "without spaces in the pipeline result, and with spaces for the tokenizer + model output.\n",
    "2. The start/end indices in the pipeline model are the character start/end indices, whereas the indices we\n",
    "computed in the tokenizer + model code are the indices of the input tokens."
   ]
  },
  {
   "cell_type": "markdown",
   "id": "d029fbcd",
   "metadata": {},
   "source": [
    "## Evaluation\n",
    "\n",
    "Evaluation in extractive QA is done by comparing the token-level overlap between the reference answer (sometimes also called *ground truth* or *gold answer*) and the model's answer. We first compute the precision $P$ (\"how many tokens in the model's answer also appear in the reference?\") and the recall $R$ (\"how many tokens in the reference also appear in the model's answer?\"). Their harmonic mean is also called F1 score, which is our evaluation metric.\n",
    "\n",
    "$$\n",
    "\\begin{align}\n",
    "\\text{P} &= \\frac{\\text{number of tokens in both answers}}{\\text{number of tokens in the model's answer}} \\\\\n",
    "\\text{R} &= \\frac{\\text{number of tokens in both answers}}{\\text{number of tokens in the reference answer}} \\\\\n",
    "\\text{F1} &= 2 \\frac{PR}{P + R} \\\\\n",
    "\\end{align}\n",
    "$$\n",
    "\n",
    "**Task:** Define your own solution to three of the questions above, then compute the word-level F1 score for one of the model's answers for each of them. The final result is the average over all questions."
   ]
  },
  {
   "cell_type": "markdown",
   "id": "13f89055",
   "metadata": {},
   "source": [
    "**Answer:**"
   ]
  }
 ],
 "metadata": {
  "kernelspec": {
   "display_name": "nlp-exercises",
   "language": "python",
   "name": "python3"
  },
  "language_info": {
   "codemirror_mode": {
    "name": "ipython",
    "version": 3
   },
   "file_extension": ".py",
   "mimetype": "text/x-python",
   "name": "python",
   "nbconvert_exporter": "python",
   "pygments_lexer": "ipython3",
   "version": "3.12.5"
  }
 },
 "nbformat": 4,
 "nbformat_minor": 5
}
