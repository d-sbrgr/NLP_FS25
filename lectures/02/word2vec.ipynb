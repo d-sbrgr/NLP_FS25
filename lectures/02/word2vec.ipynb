{
 "cells": [
  {
   "cell_type": "markdown",
   "metadata": {},
   "source": [
    "# Word Embeddings\n",
    "We will use word2vec with gensim to solve word similarity and analogy tasks. Use gensim's [word2vec tutorial](https://radimrehurek.com/gensim/auto_examples/tutorials/run_word2vec.html) for a reference of the functions we need.\n",
    "\n",
    "First, we download the word embeddings pretrained on the (private) Google News corpus. The embeddings are quite big with 1.7 GB. They will be downloaded to your `<HOME>/gensim-data` directory."
   ]
  },
  {
   "cell_type": "code",
   "metadata": {
    "ExecuteTime": {
     "end_time": "2025-02-28T09:40:27.559866Z",
     "start_time": "2025-02-28T09:39:45.833296Z"
    }
   },
   "source": [
    "import gensim.downloader as api\n",
    "from gensim.models.word2vec import KeyedVectors\n",
    "wv: KeyedVectors = api.load('word2vec-google-news-300')"
   ],
   "outputs": [],
   "execution_count": 1
  },
  {
   "cell_type": "markdown",
   "metadata": {},
   "source": [
    "Let's look at the vector size, vocabulary size and its first 10 and last 5 words."
   ]
  },
  {
   "cell_type": "code",
   "metadata": {
    "ExecuteTime": {
     "end_time": "2025-02-28T09:40:33.011465Z",
     "start_time": "2025-02-28T09:40:33.002976Z"
    }
   },
   "source": [
    "print(f\"Vector size: {wv.vector_size}\")\n",
    "print(f\"Vocab size: {len(wv.index_to_key):_}\")\n",
    "\n",
    "print(wv.index_to_key[:10])\n",
    "print(wv.index_to_key[-5:])"
   ],
   "outputs": [
    {
     "name": "stdout",
     "output_type": "stream",
     "text": [
      "Vector size: 300\n",
      "Vocab size: 3_000_000\n",
      "['</s>', 'in', 'for', 'that', 'is', 'on', '##', 'The', 'with', 'said']\n",
      "['RAFFAELE', 'Bim_Skala_Bim', 'Mezze_Cafe', 'pulverizes_boulders', 'snowcapped_Caucasus']\n"
     ]
    }
   ],
   "execution_count": 2
  },
  {
   "cell_type": "markdown",
   "metadata": {},
   "source": [
    "Get the vectors for woman, man, queen and king."
   ]
  },
  {
   "cell_type": "code",
   "metadata": {
    "ExecuteTime": {
     "end_time": "2025-02-28T09:40:37.956981Z",
     "start_time": "2025-02-28T09:40:37.939190Z"
    }
   },
   "source": [
    "def get_vector(name: str):\n",
    "    return wv[name]\n",
    "\n",
    "woman = get_vector(\"woman\")\n",
    "man = get_vector(\"man\")\n",
    "queen = get_vector(\"queen\")\n",
    "king = get_vector(\"king\")\n",
    "\n",
    "print(woman)"
   ],
   "outputs": [
    {
     "name": "stdout",
     "output_type": "stream",
     "text": [
      "[ 2.43164062e-01 -7.71484375e-02 -1.03027344e-01 -1.07421875e-01\n",
      "  1.18164062e-01 -1.07421875e-01 -1.14257812e-01  2.56347656e-02\n",
      "  1.11816406e-01  4.85839844e-02 -9.71679688e-02 -3.43750000e-01\n",
      " -6.29882812e-02 -1.25000000e-01 -2.70996094e-02  9.42382812e-02\n",
      " -1.87500000e-01 -5.34667969e-02  6.25000000e-02 -3.05175781e-02\n",
      " -2.90527344e-02 -4.80957031e-02 -5.51757812e-02 -4.08203125e-01\n",
      "  1.01318359e-02 -2.32421875e-01 -1.70898438e-01  2.63671875e-01\n",
      "  3.49609375e-01 -2.11914062e-01  1.43554688e-01 -6.22558594e-03\n",
      " -2.25585938e-01 -1.05468750e-01 -1.16210938e-01  1.23046875e-01\n",
      "  3.06640625e-01 -4.88281250e-02 -9.57031250e-02  1.99218750e-01\n",
      " -1.57226562e-01 -2.80761719e-02  1.58203125e-01 -2.42919922e-02\n",
      "  1.29882812e-01 -8.98437500e-02 -7.61718750e-02  3.54003906e-02\n",
      " -3.06396484e-02  1.52343750e-01  5.24902344e-02  1.60980225e-03\n",
      "  5.56640625e-02  3.95507812e-02 -7.71484375e-02 -7.12890625e-02\n",
      " -9.22851562e-02 -7.03125000e-02  2.03125000e-01  1.53198242e-02\n",
      "  2.98828125e-01  1.75781250e-01 -4.54101562e-02  9.52148438e-02\n",
      "  4.12597656e-02  7.76367188e-02  9.47265625e-02  1.67968750e-01\n",
      "  2.01171875e-01 -7.22656250e-02  1.83593750e-01  2.15820312e-01\n",
      " -2.38281250e-01  1.04980469e-01 -1.66015625e-02  2.40234375e-01\n",
      "  1.67236328e-02 -4.56542969e-02  1.68945312e-01  1.85546875e-01\n",
      "  2.47070312e-01 -1.02050781e-01  8.49609375e-02 -1.04003906e-01\n",
      " -4.74609375e-01  2.63671875e-01 -1.57226562e-01  8.25195312e-02\n",
      "  2.19726562e-01 -3.03955078e-02 -2.55859375e-01 -1.97265625e-01\n",
      " -9.27734375e-02 -1.28173828e-02  1.26953125e-01  3.54003906e-02\n",
      "  5.88378906e-02  3.27148438e-02  1.72851562e-01 -2.08740234e-02\n",
      " -1.65039062e-01 -2.81250000e-01  8.49609375e-02 -1.69921875e-01\n",
      "  2.31445312e-01 -1.41601562e-01  7.91015625e-02 -1.92382812e-01\n",
      "  7.61718750e-02 -2.23632812e-01 -1.06811523e-02  5.66406250e-02\n",
      "  1.56250000e-01  7.17773438e-02 -1.56250000e-01 -1.44531250e-01\n",
      " -8.30078125e-02 -1.21093750e-01  5.63964844e-02  2.61718750e-01\n",
      "  7.95898438e-02 -1.28784180e-02 -2.00195312e-01 -4.39453125e-02\n",
      " -1.01562500e-01  1.29882812e-01  9.42382812e-02  1.90429688e-02\n",
      "  1.42578125e-01  1.59179688e-01 -7.47070312e-02 -3.24218750e-01\n",
      " -2.07031250e-01  4.80957031e-02 -4.19921875e-02  9.22851562e-02\n",
      " -4.39453125e-02 -2.20703125e-01 -6.25000000e-02  8.39843750e-02\n",
      "  2.29492188e-01 -1.11816406e-01  9.03320312e-02  2.08984375e-01\n",
      " -2.28515625e-01  2.87109375e-01 -1.38671875e-01  1.85546875e-01\n",
      " -2.10937500e-01 -2.05078125e-01  3.00781250e-01 -1.82617188e-01\n",
      "  1.23046875e-01 -1.61132812e-01  9.37500000e-02  1.25976562e-01\n",
      " -8.10546875e-02  9.15527344e-05  1.53320312e-01 -8.10546875e-02\n",
      " -1.93359375e-01  7.08007812e-03  3.84765625e-01  1.05957031e-01\n",
      " -1.09375000e-01 -1.13769531e-01  9.13085938e-02 -1.92382812e-01\n",
      "  6.12792969e-02  6.07299805e-03 -4.54101562e-02  6.25000000e-02\n",
      " -1.30859375e-01 -1.83593750e-01 -1.76757812e-01 -1.87500000e-01\n",
      "  2.44140625e-01  1.89453125e-01 -1.93359375e-01 -2.29492188e-02\n",
      "  2.53906250e-02  3.93676758e-03 -1.38671875e-01 -2.81250000e-01\n",
      " -1.80664062e-01  8.69140625e-02  3.17382812e-02  2.55859375e-01\n",
      " -2.30468750e-01 -5.24902344e-02 -2.18200684e-03  1.60156250e-01\n",
      "  1.57226562e-01  2.79296875e-01  1.37695312e-01  1.04492188e-01\n",
      " -1.18652344e-01 -5.81054688e-02 -7.32421875e-02  1.04980469e-02\n",
      " -1.77734375e-01 -1.07421875e-01 -1.76757812e-01 -1.23046875e-01\n",
      " -1.69921875e-01 -1.34765625e-01  6.39648438e-02  1.22558594e-01\n",
      "  1.95312500e-01 -4.94140625e-01 -3.90625000e-02 -3.19824219e-02\n",
      " -1.58691406e-02 -4.10156250e-02 -1.43554688e-01 -8.59375000e-02\n",
      " -7.95898438e-02  2.46093750e-01 -1.77734375e-01  2.05078125e-01\n",
      "  5.32226562e-02 -2.51464844e-02  2.14843750e-01  2.12402344e-02\n",
      "  9.76562500e-02 -2.16796875e-01  2.85156250e-01 -1.19140625e-01\n",
      " -1.66992188e-01 -3.60107422e-03  4.61425781e-02 -1.63085938e-01\n",
      " -2.53906250e-01  1.89453125e-01 -7.51953125e-02 -5.39550781e-02\n",
      " -1.77734375e-01 -4.32128906e-02 -7.38525391e-03  1.57226562e-01\n",
      "  2.53906250e-01 -1.52343750e-01 -5.27343750e-02 -1.25000000e-01\n",
      "  1.54296875e-01  1.11816406e-01 -1.54418945e-02  8.97216797e-03\n",
      " -5.63964844e-02 -2.58789062e-02  1.93359375e-01  5.22460938e-02\n",
      " -1.56250000e-02 -5.68847656e-02  1.17187500e-01  6.00585938e-02\n",
      " -2.64892578e-02 -1.39648438e-01 -7.27539062e-02 -5.00488281e-02\n",
      "  2.97851562e-02 -9.61914062e-02 -1.60156250e-01 -1.41601562e-01\n",
      "  2.17773438e-01  2.55859375e-01 -4.58984375e-02  1.17187500e-01\n",
      " -2.46093750e-01 -7.27539062e-02 -8.69140625e-02  1.57226562e-01\n",
      " -1.88476562e-01  4.39453125e-02 -5.55419922e-03  6.93359375e-02\n",
      "  1.42578125e-01 -1.20605469e-01 -1.04003906e-01 -3.41796875e-02\n",
      "  1.82617188e-01 -1.29882812e-01  1.63574219e-02  3.20312500e-01\n",
      " -1.12304688e-01 -1.12915039e-02 -1.38671875e-01 -2.20703125e-01\n",
      "  7.59124756e-04  3.94531250e-01  1.03515625e-01 -6.64062500e-02\n",
      " -2.67578125e-01 -2.47070312e-01 -7.27539062e-02  1.07910156e-01\n",
      "  1.18652344e-01 -8.30078125e-02  6.54296875e-02 -2.94189453e-02]\n"
     ]
    }
   ],
   "execution_count": 3
  },
  {
   "cell_type": "markdown",
   "metadata": {},
   "source": "Compute their norms. Are they normalized? -> **NO**"
  },
  {
   "cell_type": "code",
   "metadata": {
    "ExecuteTime": {
     "end_time": "2025-02-28T09:40:42.190987Z",
     "start_time": "2025-02-28T09:40:42.181242Z"
    }
   },
   "source": [
    "import numpy as np\n",
    "\n",
    "print(np.linalg.norm(man))\n",
    "print(np.linalg.norm(woman))\n",
    "print(np.linalg.norm(king))\n",
    "print(np.linalg.norm(queen))"
   ],
   "outputs": [
    {
     "name": "stdout",
     "output_type": "stream",
     "text": [
      "2.3106172\n",
      "2.655624\n",
      "2.9022589\n",
      "3.0283043\n"
     ]
    }
   ],
   "execution_count": 4
  },
  {
   "cell_type": "markdown",
   "metadata": {},
   "source": [
    "## Word Similarity\n",
    "We will now perform a few operations that use word similarity.\n",
    "\n",
    "Given the pairs below..."
   ]
  },
  {
   "cell_type": "code",
   "metadata": {
    "ExecuteTime": {
     "end_time": "2025-02-28T09:40:47.459600Z",
     "start_time": "2025-02-28T09:40:47.451693Z"
    }
   },
   "source": [
    "pairs = [\n",
    "    ('car', 'minivan'),   # a minivan is a kind of car\n",
    "    ('car', 'bicycle'),   # still a wheeled vehicle\n",
    "    ('car', 'airplane'),  # ok, no wheels, but still a vehicle\n",
    "    ('car', 'cereal'),    # ... and so on\n",
    "    ('car', 'democracy'),\n",
    "]"
   ],
   "outputs": [],
   "execution_count": 5
  },
  {
   "cell_type": "markdown",
   "metadata": {},
   "source": [
    "... compute the word similarity of each pair, once with [sklearn's cosine similarity](https://scikit-learn.org/stable/modules/generated/sklearn.metrics.pairwise.cosine_similarity.html), and once with gensim's similarity."
   ]
  },
  {
   "cell_type": "code",
   "metadata": {
    "ExecuteTime": {
     "end_time": "2025-02-28T09:47:04.492043Z",
     "start_time": "2025-02-28T09:47:04.479942Z"
    }
   },
   "source": [
    "from sklearn.metrics.pairwise import cosine_similarity\n",
    "\n",
    "for w1, w2 in pairs:\n",
    "    print(w1, w2)\n",
    "    print(f\"Gensim: {wv.similarity(w1, w2)}\")\n",
    "    v1, v2 = wv[w1], wv[w2]\n",
    "    print(f\"sklearn: {cosine_similarity([v1], [v2])}\")\n",
    "    "
   ],
   "outputs": [
    {
     "name": "stdout",
     "output_type": "stream",
     "text": [
      "car minivan\n",
      "Gensim: 0.6907036900520325\n",
      "sklearn: [[0.69070363]]\n",
      "car bicycle\n",
      "Gensim: 0.5364484190940857\n",
      "sklearn: [[0.5364484]]\n",
      "car airplane\n",
      "Gensim: 0.42435577511787415\n",
      "sklearn: [[0.4243558]]\n",
      "car cereal\n",
      "Gensim: 0.13924746215343475\n",
      "sklearn: [[0.13924746]]\n",
      "car democracy\n",
      "Gensim: 0.07882189750671387\n",
      "sklearn: [[0.0788219]]\n"
     ]
    }
   ],
   "execution_count": 12
  },
  {
   "cell_type": "markdown",
   "metadata": {},
   "source": [
    "Find the most similar word to all of the words: bike, train, plane, car, bus."
   ]
  },
  {
   "cell_type": "code",
   "metadata": {
    "ExecuteTime": {
     "end_time": "2025-02-28T09:57:35.065805Z",
     "start_time": "2025-02-28T09:57:34.840306Z"
    }
   },
   "source": "wv.most_similar(positive=[\"bike\", \"train\", \"plane\", \"car\", \"bus\"], topn=5)",
   "outputs": [
    {
     "data": {
      "text/plain": [
       "[('bicycle', 0.6787395477294922),\n",
       " ('scooter', 0.6726157069206238),\n",
       " ('van', 0.6673939228057861),\n",
       " ('buses', 0.6520541906356812),\n",
       " ('vehicle', 0.6501880288124084)]"
      ]
     },
     "execution_count": 20,
     "metadata": {},
     "output_type": "execute_result"
    }
   ],
   "execution_count": 20
  },
  {
   "cell_type": "markdown",
   "metadata": {},
   "source": [
    "**Odd one out.** Find the term that doesn't fit the rest of the list: fire, water, land, car, sea, air."
   ]
  },
  {
   "cell_type": "code",
   "metadata": {
    "ExecuteTime": {
     "end_time": "2025-02-28T09:47:19.226041Z",
     "start_time": "2025-02-28T09:47:19.213583Z"
    }
   },
   "source": "print(wv.doesnt_match(['fire', 'water', 'land', 'sea', 'air', 'car']))",
   "outputs": [
    {
     "name": "stdout",
     "output_type": "stream",
     "text": [
      "car\n"
     ]
    }
   ],
   "execution_count": 13
  },
  {
   "cell_type": "markdown",
   "metadata": {},
   "source": [
    "Let's evaluate our word vectors on the WordSim353 dataset. You can get it from `datapath('wordsim353.tsv')` (import `datapath` from `gensim.test.utils`). What's the Pearson correlation?"
   ]
  },
  {
   "cell_type": "code",
   "metadata": {
    "ExecuteTime": {
     "end_time": "2025-02-28T09:53:14.041257Z",
     "start_time": "2025-02-28T09:53:13.804679Z"
    }
   },
   "source": [
    "from gensim.test.utils import datapath\n",
    "wv.evaluate_word_pairs(datapath('wordsim353.tsv'))"
   ],
   "outputs": [
    {
     "data": {
      "text/plain": [
       "(PearsonRResult(statistic=0.6238773466616108, pvalue=1.79632377241771e-39),\n",
       " SignificanceResult(statistic=0.6589215888009288, pvalue=2.5346056459149263e-45),\n",
       " 0.0)"
      ]
     },
     "execution_count": 17,
     "metadata": {},
     "output_type": "execute_result"
    }
   ],
   "execution_count": 17
  },
  {
   "cell_type": "markdown",
   "metadata": {},
   "source": [
    "## Word Analogy\n",
    "We also want to evaluate our word embeddings on the word analogy task. The test set from the original word2vec paper also comes with gensim, and is found in `datapath('questions-words.txt')`. Let's look at the categories that are present in the test file."
   ]
  },
  {
   "cell_type": "code",
   "metadata": {
    "ExecuteTime": {
     "end_time": "2025-02-28T09:53:55.177177Z",
     "start_time": "2025-02-28T09:53:55.153599Z"
    }
   },
   "source": [
    "with open(datapath('questions-words.txt')) as f:\n",
    "    for i, line in enumerate(f):\n",
    "        if line.startswith(':'):\n",
    "            print(i, line.strip())"
   ],
   "outputs": [
    {
     "name": "stdout",
     "output_type": "stream",
     "text": [
      "0 : capital-common-countries\n",
      "507 : capital-world\n",
      "5032 : currency\n",
      "5899 : city-in-state\n",
      "8367 : family\n",
      "8874 : gram1-adjective-to-adverb\n",
      "9867 : gram2-opposite\n",
      "10680 : gram3-comparative\n",
      "12013 : gram4-superlative\n",
      "13136 : gram5-present-participle\n",
      "14193 : gram6-nationality-adjective\n",
      "15793 : gram7-past-tense\n",
      "17354 : gram8-plural\n",
      "18687 : gram9-plural-verbs\n"
     ]
    }
   ],
   "execution_count": 18
  },
  {
   "cell_type": "markdown",
   "metadata": {},
   "source": [
    "To save us some computation time, we're just going to use the first category, `capital-common-countries`. We store its evaluation examples in a new text file `word-analogies.txt`."
   ]
  },
  {
   "cell_type": "code",
   "metadata": {
    "ExecuteTime": {
     "end_time": "2025-02-28T09:58:12.264958Z",
     "start_time": "2025-02-28T09:58:12.255389Z"
    }
   },
   "source": [
    "lines = []\n",
    "with open(datapath('questions-words.txt')) as f:\n",
    "    for line in f:\n",
    "        if line.startswith(': capital-world'):\n",
    "            break\n",
    "        lines.append(line)\n",
    "print(lines[:10])\n",
    "with open(datapath('word-analogies.txt'), 'w') as f:\n",
    "    f.writelines(lines)"
   ],
   "outputs": [
    {
     "name": "stdout",
     "output_type": "stream",
     "text": [
      "[': capital-common-countries\\n', 'Athens Greece Baghdad Iraq\\n', 'Athens Greece Bangkok Thailand\\n', 'Athens Greece Beijing China\\n', 'Athens Greece Berlin Germany\\n', 'Athens Greece Bern Switzerland\\n', 'Athens Greece Cairo Egypt\\n', 'Athens Greece Canberra Australia\\n', 'Athens Greece Hanoi Vietnam\\n', 'Athens Greece Havana Cuba\\n']\n"
     ]
    }
   ],
   "execution_count": 21
  },
  {
   "cell_type": "markdown",
   "metadata": {},
   "source": [
    "Now we can evaluate our model with gensim's built-in function `evaluate_word_analogies`. Save the results to a variable `analogy_scores`."
   ]
  },
  {
   "cell_type": "code",
   "metadata": {
    "ExecuteTime": {
     "end_time": "2025-02-28T09:58:56.960684Z",
     "start_time": "2025-02-28T09:58:45.663206Z"
    }
   },
   "source": "analogy_scores = wv.evaluate_word_analogies(datapath('word-analogies.txt'))",
   "outputs": [],
   "execution_count": 22
  },
  {
   "cell_type": "markdown",
   "metadata": {},
   "source": [
    "Print the accuracy and show an example of a correctly solved analogy, and an incorrectly solved one."
   ]
  },
  {
   "cell_type": "code",
   "metadata": {
    "ExecuteTime": {
     "end_time": "2025-02-28T10:04:48.963193Z",
     "start_time": "2025-02-28T10:04:48.941694Z"
    }
   },
   "source": [
    "print(f\"Accuracy: {analogy_scores[0]}\")\n",
    "print(f\"Correct: {analogy_scores[1][0].get('correct')[0]}\")\n",
    "print(f\"Incorrect: {analogy_scores[1][0].get('incorrect')[0]}\")"
   ],
   "outputs": [
    {
     "name": "stdout",
     "output_type": "stream",
     "text": [
      "Accuracy: 0.8320158102766798\n",
      "Correct: ('ATHENS', 'GREECE', 'BANGKOK', 'THAILAND')\n",
      "Incorrect: ('ATHENS', 'GREECE', 'BAGHDAD', 'IRAQ')\n"
     ]
    }
   ],
   "execution_count": 27
  },
  {
   "cell_type": "markdown",
   "metadata": {},
   "source": [
    "## Visualization\n",
    "Let's visualize our word embeddings in two dimensions. We use PCA to reduce the dimensionality of our 300-dim word vectors to 2. Below is a function `display_scatterplot` that takes a list of words as input and plots them in 2D."
   ]
  },
  {
   "cell_type": "code",
   "metadata": {
    "ExecuteTime": {
     "end_time": "2025-02-28T10:05:36.997387Z",
     "start_time": "2025-02-28T10:05:34.765833Z"
    }
   },
   "source": [
    "from sklearn.decomposition import PCA\n",
    "import matplotlib.pyplot as plt\n",
    "%matplotlib inline\n",
    "\n",
    "def display_scatterplot(model, words): # assumes all words are in the vocabulary\n",
    "    word_vectors = [model[word] for word in words]\n",
    "    twodim = PCA().fit_transform(word_vectors)[:,:2]\n",
    "    plt.figure(figsize=(6,6))\n",
    "    plt.scatter(twodim[:,0], twodim[:,1], edgecolors='k', c='r')\n",
    "    for word, (x,y) in zip(words, twodim):\n",
    "        plt.text(x + 0.03, y + 0.03, word)"
   ],
   "outputs": [],
   "execution_count": 28
  },
  {
   "cell_type": "markdown",
   "metadata": {},
   "source": [
    "Define a list of words that could be present in an analogy task. Plot their down-projected embeddings. Can you detect a vector for the relation of your analogy?"
   ]
  },
  {
   "cell_type": "code",
   "metadata": {
    "ExecuteTime": {
     "end_time": "2025-02-28T10:18:20.308859Z",
     "start_time": "2025-02-28T10:18:20.153210Z"
    }
   },
   "source": [
    "words = [\"plane\", \"air\", \"car\", \"road\", \"ship\", \"sea\", \"train\", \"rail\"]\n",
    "display_scatterplot(wv, words)"
   ],
   "outputs": [
    {
     "data": {
      "text/plain": [
       "<Figure size 600x600 with 1 Axes>"
      ],
      "image/png": "[encoded data removed]"
     },
     "metadata": {},
     "output_type": "display_data"
    }
   ],
   "execution_count": 45
  },
  {
   "cell_type": "markdown",
   "metadata": {},
   "source": [
    "## Fun with words\n",
    "Try your own skills in guessing the hidden word by entering words and receiving the cosine similarity on [Semantle](https://semantle.com/)."
   ]
  }
 ],
 "metadata": {
  "kernelspec": {
   "display_name": "Python 3 (ipykernel)",
   "language": "python",
   "name": "python3"
  },
  "language_info": {
   "codemirror_mode": {
    "name": "ipython",
    "version": 3
   },
   "file_extension": ".py",
   "mimetype": "text/x-python",
   "name": "python",
   "nbconvert_exporter": "python",
   "pygments_lexer": "ipython3",
   "version": "3.9.18"
  }
 },
 "nbformat": 4,
 "nbformat_minor": 4
}
