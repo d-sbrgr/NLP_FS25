{
 "cells": [
  {
   "cell_type": "markdown",
   "id": "c46cbd05",
   "metadata": {},
   "source": [
    "# N-Gram Language Models\n",
    "In this exercise, we will use n-gram language models to predict the probability of text, and generate it."
   ]
  },
  {
   "cell_type": "code",
   "id": "19a1c205",
   "metadata": {
    "ExecuteTime": {
     "end_time": "2025-03-06T09:56:31.985672Z",
     "start_time": "2025-03-06T09:56:31.975804Z"
    }
   },
   "source": [
    "import nltk\n",
    "from nltk.corpus import gutenberg"
   ],
   "outputs": [],
   "execution_count": 144
  },
  {
   "cell_type": "markdown",
   "id": "65e74f9a",
   "metadata": {},
   "source": [
    "First, we load Jane Austen's Emma from NLTK's gutenberg corpus that we also used in a previous exercise. Tokenize and lowercase this text such that we have a list of words."
   ]
  },
  {
   "cell_type": "code",
   "id": "e8dd1c74",
   "metadata": {
    "ExecuteTime": {
     "end_time": "2025-03-06T09:56:33.534296Z",
     "start_time": "2025-03-06T09:56:32.517612Z"
    }
   },
   "source": [
    "raw_text = gutenberg.raw('austen-emma.txt')\n",
    "words = [w.lower() for w in nltk.word_tokenize(raw_text)]\n",
    "len(words)"
   ],
   "outputs": [
    {
     "data": {
      "text/plain": [
       "191855"
      ]
     },
     "execution_count": 145,
     "metadata": {},
     "output_type": "execute_result"
    }
   ],
   "execution_count": 145
  },
  {
   "cell_type": "markdown",
   "id": "60adf6a1",
   "metadata": {},
   "source": [
    "Write an n-gram language model class that takes the word list and a parameter `n` as inputs, where `n` is a positive integer larger than 1 that determines the `n` of the n-gram LM. The LM should build a dictionary of n-gram counts from the word list."
   ]
  },
  {
   "metadata": {
    "ExecuteTime": {
     "end_time": "2025-03-06T09:56:33.628405Z",
     "start_time": "2025-03-06T09:56:33.612247Z"
    }
   },
   "cell_type": "code",
   "source": [
    "def preprocess(string: str) -> list[str]:\n",
    "    return [w.lower() for w in nltk.word_tokenize(string)]"
   ],
   "id": "9e8d1a6e5c655a85",
   "outputs": [],
   "execution_count": 146
  },
  {
   "cell_type": "code",
   "id": "9635e870",
   "metadata": {
    "ExecuteTime": {
     "end_time": "2025-03-06T09:56:33.688591Z",
     "start_time": "2025-03-06T09:56:33.677798Z"
    }
   },
   "source": [
    "from collections import defaultdict\n",
    "\n",
    "class NGramLanguageModel:\n",
    "    \n",
    "    def __init__(self, words, n):\n",
    "        assert n > 1, \"n needs to be a positive integer > 1\"\n",
    "        assert n <= len(words), \"n can't be larger than the number of words\"\n",
    "        self.counts: dict[tuple[str, ...], int] = defaultdict(int)\n",
    "        self.n = n\n",
    "        for i in range(len(words) - n + 1):\n",
    "            ngram = tuple(words[i : i+n])\n",
    "            self.counts[ngram] += 1\n",
    "            self.counts[ngram[:-1]] += 1\n",
    "        self.counts[ngram[1:]] += 1"
   ],
   "outputs": [],
   "execution_count": 147
  },
  {
   "cell_type": "markdown",
   "id": "c6c2d523",
   "metadata": {},
   "source": [
    "Now we \"train\" the n-gram LM by building the n-gram counts of the Emma novel. Use a low `n` (i.e. 2 or 3)."
   ]
  },
  {
   "cell_type": "code",
   "id": "54b49ddf",
   "metadata": {
    "ExecuteTime": {
     "end_time": "2025-03-06T09:56:35.186727Z",
     "start_time": "2025-03-06T09:56:34.983763Z"
    }
   },
   "source": "lm = NGramLanguageModel(words, 2)",
   "outputs": [],
   "execution_count": 148
  },
  {
   "cell_type": "markdown",
   "id": "4f7bf596",
   "metadata": {},
   "source": [
    "Let's add a method `log_probability` to the n-gram LM class that computes the probability of an input string. Since multiplying many probabilities (<= 1) results in very small numbers that can underflow, we sum the log probabilities instead."
   ]
  },
  {
   "metadata": {
    "ExecuteTime": {
     "end_time": "2025-03-06T10:06:19.164147Z",
     "start_time": "2025-03-06T10:06:19.156824Z"
    }
   },
   "cell_type": "code",
   "source": [
    "import math\n",
    "\n",
    "def log_probability(self, input_string) -> float:\n",
    "        \"\"\" Returns the log-probability of the input string.\"\"\"\n",
    "        input_words = preprocess(input_string)\n",
    "        probability = 0\n",
    "        for i in range(len(input_words) - self.n + 1):\n",
    "            ngram = tuple(input_words[i : i + self.n])\n",
    "            ngram_min_one = ngram[:-1]\n",
    "            if ngram in self.counts:\n",
    "                probability += math.log(self.counts[ngram] / self.counts[ngram_min_one])\n",
    "        return probability / len(input_words)\n",
    "\n",
    "NGramLanguageModel.log_probability = log_probability"
   ],
   "id": "502b6854d531da26",
   "outputs": [],
   "execution_count": 161
  },
  {
   "cell_type": "markdown",
   "id": "271e7469",
   "metadata": {},
   "source": [
    "Shorter texts will have higher log probability than longer texts, so we need to normalize it by the number of words in the input string."
   ]
  },
  {
   "cell_type": "code",
   "id": "0338f4e9",
   "metadata": {
    "ExecuteTime": {
     "end_time": "2025-03-06T10:06:20.771788Z",
     "start_time": "2025-03-06T10:06:20.759994Z"
    }
   },
   "source": [
    "print(lm.log_probability(\"What is the meaning of life?\"))\n",
    "print(lm.log_probability(\"What is the meaning of life, given I am a student?\"))"
   ],
   "outputs": [
    {
     "name": "stdout",
     "output_type": "stream",
     "text": [
      "-3.5103721425666126\n",
      "-2.1851329382217575\n"
     ]
    }
   ],
   "execution_count": 162
  },
  {
   "cell_type": "markdown",
   "id": "398e2054",
   "metadata": {},
   "source": [
    "Lets predict the probabilities of two novels under our trained model: Jane Austen's *Sense and Sensibility* (`austen-sense.txt`) and Shakespeare's *Hamlet* (`shakespeare-hamlet.txt`).\n",
    "- What do you expect will happen?\n",
    "- What do you observe?"
   ]
  },
  {
   "cell_type": "code",
   "id": "c4dc2cce",
   "metadata": {
    "ExecuteTime": {
     "end_time": "2025-03-06T10:06:22.899914Z",
     "start_time": "2025-03-06T10:06:21.996910Z"
    }
   },
   "source": [
    "austen_sense = gutenberg.raw('austen-sense.txt')\n",
    "shakespeare_hamlet = gutenberg.raw('shakespeare-hamlet.txt')\n",
    "\n",
    "print(\"Austen Sense: \", lm.log_probability(austen_sense))\n",
    "print(\"Shakespeare Hamlet: \", lm.log_probability(shakespeare_hamlet))"
   ],
   "outputs": [
    {
     "name": "stdout",
     "output_type": "stream",
     "text": [
      "Austen Sense:  -2.5932445929509567\n",
      "Shakespeare Hamlet:  -1.5432730138297792\n"
     ]
    }
   ],
   "execution_count": 163
  },
  {
   "cell_type": "markdown",
   "id": "c002ddb4",
   "metadata": {},
   "source": [
    "How many n-grams are known in each input?"
   ]
  },
  {
   "metadata": {
    "ExecuteTime": {
     "end_time": "2025-03-06T10:06:24.492992Z",
     "start_time": "2025-03-06T10:06:24.470650Z"
    }
   },
   "cell_type": "code",
   "source": [
    "def count_known_n_grams(self, input_string) -> int:\n",
    "    input_words = preprocess(input_string)\n",
    "    count = 0\n",
    "    for i in range(len(input_words) - self.n + 1):\n",
    "        ngram = tuple(input_words[i : i + self.n])\n",
    "        if ngram in self.counts:\n",
    "            count += 1\n",
    "    return count\n",
    "\n",
    "NGramLanguageModel.count_known_n_grams = count_known_n_grams"
   ],
   "id": "4a681a8ddb36ba6",
   "outputs": [],
   "execution_count": 164
  },
  {
   "cell_type": "code",
   "id": "2adcafb6",
   "metadata": {
    "ExecuteTime": {
     "end_time": "2025-03-06T10:06:26.538375Z",
     "start_time": "2025-03-06T10:06:25.192464Z"
    }
   },
   "source": [
    "print(\"Austen Sense: \", lm.count_known_n_grams(austen_sense))\n",
    "print(\"Shakespeare Hamlet: \", lm.count_known_n_grams(shakespeare_hamlet))"
   ],
   "outputs": [
    {
     "name": "stdout",
     "output_type": "stream",
     "text": [
      "Austen Sense:  97236\n",
      "Shakespeare Hamlet:  13568\n"
     ]
    }
   ],
   "execution_count": 165
  },
  {
   "cell_type": "markdown",
   "id": "2be2adf0",
   "metadata": {},
   "source": [
    "Let's add a method `generate` that takes the start of a sentence (\"prompt\") and a number of words to generate, then continues our prompt."
   ]
  },
  {
   "cell_type": "code",
   "id": "9975c570",
   "metadata": {
    "ExecuteTime": {
     "end_time": "2025-03-06T10:29:37.093299Z",
     "start_time": "2025-03-06T10:29:37.082199Z"
    }
   },
   "source": [
    "def generate(self, prompt, num_words=10):\n",
    "    \"\"\" Continues a text starting with `prompt` for the `num_words` next words. \"\"\"\n",
    "    prompt_words = preprocess(prompt)\n",
    "    n_gram_minus_one = tuple(prompt_words[-self.n + 1:])\n",
    "    result = []\n",
    "    for _ in range(num_words):\n",
    "        if n_gram_minus_one not in self.counts:\n",
    "            k = \"?\"\n",
    "        else:\n",
    "            k_v = list((k, v) for k, v in self.counts.items() if k[:-1] == n_gram_minus_one)\n",
    "            k = sorted(k_v, key=lambda x: x[1], reverse=True)\n",
    "            k = k[0][0][-1]\n",
    "        result.append(k)\n",
    "        n_gram_minus_one = tuple(list(n_gram_minus_one[1:]) + [k])\n",
    "    return \" \".join(prompt_words + result)\n",
    "        \n",
    "\n",
    "NGramLanguageModel.generate = generate"
   ],
   "outputs": [],
   "execution_count": 210
  },
  {
   "cell_type": "markdown",
   "id": "fd049682",
   "metadata": {},
   "source": [
    "Play around with a few different prompts."
   ]
  },
  {
   "cell_type": "code",
   "id": "c1d951f3",
   "metadata": {
    "ExecuteTime": {
     "end_time": "2025-03-06T10:30:15.809319Z",
     "start_time": "2025-03-06T10:30:15.688577Z"
    }
   },
   "source": "lm.generate(\"Emma is a young an talented woman\")",
   "outputs": [
    {
     "data": {
      "text/plain": [
       "'emma is a young an talented woman , and the same time , and the same time'"
      ]
     },
     "execution_count": 212,
     "metadata": {},
     "output_type": "execute_result"
    }
   ],
   "execution_count": 212
  },
  {
   "metadata": {},
   "cell_type": "code",
   "outputs": [],
   "execution_count": null,
   "source": "",
   "id": "d95ca89d9ade5c81"
  }
 ],
 "metadata": {
  "kernelspec": {
   "display_name": "nlp-exercises",
   "language": "python",
   "name": "python3"
  },
  "language_info": {
   "codemirror_mode": {
    "name": "ipython",
    "version": 3
   },
   "file_extension": ".py",
   "mimetype": "text/x-python",
   "name": "python",
   "nbconvert_exporter": "python",
   "pygments_lexer": "ipython3",
   "version": "3.12.5"
  }
 },
 "nbformat": 4,
 "nbformat_minor": 5
}
