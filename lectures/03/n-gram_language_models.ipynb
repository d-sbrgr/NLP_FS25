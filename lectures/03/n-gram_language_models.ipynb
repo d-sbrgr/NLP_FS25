{
 "cells": [
  {
   "cell_type": "markdown",
   "id": "c46cbd05",
   "metadata": {},
   "source": [
    "# N-Gram Language Models\n",
    "In this exercise, we will use n-gram language models to predict the probability of text, and generate it."
   ]
  },
  {
   "cell_type": "code",
   "execution_count": null,
   "id": "19a1c205",
   "metadata": {},
   "outputs": [],
   "source": [
    "from nltk.corpus import gutenberg"
   ]
  },
  {
   "cell_type": "markdown",
   "id": "65e74f9a",
   "metadata": {},
   "source": [
    "First, we load Jane Austen's Emma from NLTK's gutenberg corpus that we also used in a previous exercise. Tokenize and lowercase this text such that we have a list of words."
   ]
  },
  {
   "cell_type": "code",
   "execution_count": null,
   "id": "e8dd1c74",
   "metadata": {},
   "outputs": [],
   "source": [
    "raw_text = gutenberg.raw('austen-emma.txt')\n",
    "# TODO: tokenize and lowercase the text, save a list of words, print the number of words in this novel"
   ]
  },
  {
   "cell_type": "markdown",
   "id": "60adf6a1",
   "metadata": {},
   "source": [
    "Write an n-gram language model class that takes the word list and a parameter `n` as inputs, where `n` is a positive integer larger than 1 that determines the `n` of the n-gram LM. The LM should build a dictionary of n-gram counts from the word list."
   ]
  },
  {
   "cell_type": "code",
   "execution_count": null,
   "id": "9635e870",
   "metadata": {},
   "outputs": [],
   "source": [
    "class NGramLanguageModel:\n",
    "    \n",
    "    def __init__(self, words, n):\n",
    "        assert n > 1, \"n needs to be a positive integer > 1\"\n",
    "        assert n <= len(words), \"n can't be larger than the number of words\"\n",
    "        # TODO: build a dictionary of n-gram counts"
   ]
  },
  {
   "cell_type": "markdown",
   "id": "c6c2d523",
   "metadata": {},
   "source": [
    "Now we \"train\" the n-gram LM by building the n-gram counts of the Emma novel. Use a low `n` (i.e. 2 or 3)."
   ]
  },
  {
   "cell_type": "code",
   "execution_count": null,
   "id": "54b49ddf",
   "metadata": {},
   "outputs": [],
   "source": []
  },
  {
   "cell_type": "markdown",
   "id": "4f7bf596",
   "metadata": {},
   "source": [
    "Let's add a method `log_probability` to the n-gram LM class that computes the probability of an input string. Since multiplying many probabilities (<= 1) results in very small numbers that can underflow, we sum the log probabilities instead."
   ]
  },
  {
   "cell_type": "code",
   "execution_count": null,
   "id": "a1cfa205",
   "metadata": {},
   "outputs": [],
   "source": [
    "def log_probability(self, input_string):\n",
    "    \"\"\" Returns the log-probability of the input string.\"\"\"\n",
    "    pass\n",
    "\n",
    "NGramLanguageModel.log_probability = log_probability"
   ]
  },
  {
   "cell_type": "markdown",
   "id": "271e7469",
   "metadata": {},
   "source": [
    "Shorter texts will have higher log probability than longer texts, so we need to normalize it by the number of words in the input string."
   ]
  },
  {
   "cell_type": "code",
   "execution_count": null,
   "id": "0338f4e9",
   "metadata": {},
   "outputs": [],
   "source": []
  },
  {
   "cell_type": "markdown",
   "id": "398e2054",
   "metadata": {},
   "source": [
    "Lets predict the probabilities of two novels under our trained model: Jane Austen's *Sense and Sensibility* (`austen-sense.txt`) and Shakespeare's *Hamlet* (`shakespeare-hamlet.txt`).\n",
    "- What do you expect will happen?\n",
    "- What do you observe?"
   ]
  },
  {
   "cell_type": "code",
   "execution_count": null,
   "id": "c4dc2cce",
   "metadata": {},
   "outputs": [],
   "source": []
  },
  {
   "cell_type": "markdown",
   "id": "c002ddb4",
   "metadata": {},
   "source": [
    "How many n-grams are known in each input?"
   ]
  },
  {
   "cell_type": "code",
   "execution_count": null,
   "id": "2adcafb6",
   "metadata": {},
   "outputs": [],
   "source": []
  },
  {
   "cell_type": "markdown",
   "id": "2be2adf0",
   "metadata": {},
   "source": [
    "Let's add a method `generate` that takes the start of a sentence (\"prompt\") and a number of words to generate, then continues our prompt."
   ]
  },
  {
   "cell_type": "code",
   "execution_count": null,
   "id": "9975c570",
   "metadata": {},
   "outputs": [],
   "source": [
    "def generate(self, prompt, num_words=10):\n",
    "    \"\"\" Continues a text starting with `prompt` for the `num_words` next words. \"\"\"\n",
    "    pass\n",
    "\n",
    "NGramLanguageModel.generate = generate"
   ]
  },
  {
   "cell_type": "markdown",
   "id": "fd049682",
   "metadata": {},
   "source": [
    "Play around with a few different prompts."
   ]
  },
  {
   "cell_type": "code",
   "execution_count": null,
   "id": "c1d951f3",
   "metadata": {},
   "outputs": [],
   "source": []
  }
 ],
 "metadata": {
  "kernelspec": {
   "display_name": "nlp-exercises",
   "language": "python",
   "name": "python3"
  },
  "language_info": {
   "codemirror_mode": {
    "name": "ipython",
    "version": 3
   },
   "file_extension": ".py",
   "mimetype": "text/x-python",
   "name": "python",
   "nbconvert_exporter": "python",
   "pygments_lexer": "ipython3",
   "version": "3.12.5"
  }
 },
 "nbformat": 4,
 "nbformat_minor": 5
}
