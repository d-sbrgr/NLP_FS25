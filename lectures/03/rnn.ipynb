{
 "cells": [
  {
   "cell_type": "markdown",
   "id": "d3a1078d",
   "metadata": {},
   "source": [
    "# Recurrent Neural Networks\n",
    "In this exercise, we will implement a simple one-layer recurrent neural network. We will use the formula for an [Elman RNN](https://en.wikipedia.org/wiki/Recurrent_neural_network#Elman_networks_and_Jordan_networks), one of the most basic and classical RNNs. The hidden state update and output at time $t$ are defined like this:\n",
    "\n",
    "$$\n",
    "\\begin{align}\n",
    "h_t &= \\tanh(W_h x_t + U_h h_{t-1} + b_h) \\\\\n",
    "y_t &= \\tanh(W_y h_t + b_y)\n",
    "\\end{align}\n",
    "$$"
   ]
  },
  {
   "cell_type": "code",
   "id": "cd53e848",
   "metadata": {
    "ExecuteTime": {
     "end_time": "2025-03-07T09:37:11.960416Z",
     "start_time": "2025-03-07T09:37:06.225035Z"
    }
   },
   "source": [
    "import torch\n",
    "import torch.nn as nn"
   ],
   "outputs": [],
   "execution_count": 2
  },
  {
   "cell_type": "markdown",
   "id": "96717180",
   "metadata": {},
   "source": [
    "We start by defining the RNN as a subclass of `nn.Module`. The network's parameters are created in the `__init__` method. Use `input_dim`, `hidden_dim` and `output_dim` as arguments that define the dimensionality of the input/hidden/output vectors. Define your parameters as `nn.Parameter` with the appropriate dimensions. The documentation of `torch.nn` can be found [here](https://pytorch.org/docs/stable/nn.html)."
   ]
  },
  {
   "cell_type": "code",
   "id": "3046a484",
   "metadata": {
    "ExecuteTime": {
     "end_time": "2025-03-07T09:59:07.471529Z",
     "start_time": "2025-03-07T09:59:07.464688Z"
    }
   },
   "source": [
    "class RNN(nn.Module):\n",
    "    def __init__(self, input_dim, hidden_dim, output_dim):\n",
    "        super().__init__()\n",
    "        self.Wh = nn.Parameter(torch.zeros(hidden_dim, input_dim))\n",
    "        self.Uh = nn.Parameter(torch.zeros(hidden_dim, hidden_dim))\n",
    "        self.Wy = nn.Parameter(torch.zeros(output_dim, hidden_dim))\n",
    "        self.bh = nn.Parameter(torch.zeros(hidden_dim))\n",
    "        self.by = nn.Parameter(torch.zeros(output_dim))    \n",
    "        "
   ],
   "outputs": [],
   "execution_count": 5
  },
  {
   "cell_type": "markdown",
   "id": "2f1d42c7",
   "metadata": {},
   "source": [
    "Add a function `reset_parameters` that initializes your parameters. Pick a suitable distribution from [nn.init](https://pytorch.org/docs/stable/nn.init.html)."
   ]
  },
  {
   "cell_type": "code",
   "id": "0f7f786e",
   "metadata": {
    "ExecuteTime": {
     "end_time": "2025-03-07T10:06:43.928364Z",
     "start_time": "2025-03-07T10:06:43.915013Z"
    }
   },
   "source": [
    "def reset_parameters(self):\n",
    "    for weight in self.parameters():\n",
    "        nn.init.uniform_(weight, -1, 1)\n",
    "\n",
    "RNN.reset_parameters = reset_parameters"
   ],
   "outputs": [],
   "execution_count": 19
  },
  {
   "cell_type": "markdown",
   "id": "b2f8081d",
   "metadata": {},
   "source": [
    "Add a `forward` function that takes an input and a starting hidden state $h_{t-1}$ and returns the updated hidden state $h_t$ and output $y$ as outputs. The initial hidden state $h_0$ can be initialized randomly/to all zeros."
   ]
  },
  {
   "cell_type": "code",
   "id": "be12dc16",
   "metadata": {
    "ExecuteTime": {
     "end_time": "2025-03-07T10:07:10.860414Z",
     "start_time": "2025-03-07T10:07:10.852052Z"
    }
   },
   "source": [
    "def forward(self, x, ht_1):\n",
    "    ht = torch.tanh(self.Wh @ x + self.Uh @ ht_1 + self.bh)\n",
    "    y = torch.tanh(self.Wy @ ht + self.by)\n",
    "    return ht, y\n",
    "    \n",
    "RNN.forward = forward"
   ],
   "outputs": [],
   "execution_count": 20
  },
  {
   "cell_type": "markdown",
   "id": "79bfa8a9",
   "metadata": {},
   "source": [
    "Test your RNN with a single input."
   ]
  },
  {
   "metadata": {
    "ExecuteTime": {
     "end_time": "2025-03-07T10:07:16.512478Z",
     "start_time": "2025-03-07T10:07:16.499199Z"
    }
   },
   "cell_type": "code",
   "source": [
    "dim_input, dim_hidden, dim_output = (10, 20, 15)\n",
    "h0 = torch.randn(dim_hidden)\n",
    "x0 = torch.randn(dim_input)"
   ],
   "id": "bd639c882041c949",
   "outputs": [],
   "execution_count": 21
  },
  {
   "cell_type": "code",
   "id": "8521f93b",
   "metadata": {
    "ExecuteTime": {
     "end_time": "2025-03-07T10:18:05.345758Z",
     "start_time": "2025-03-07T10:18:05.324636Z"
    }
   },
   "source": [
    "model = RNN(dim_input, dim_hidden, dim_output)\n",
    "model.reset_parameters()\n",
    "ht, y = model.forward(x0, h0)\n",
    "\n",
    "print(\"y shape: \", y.shape)\n",
    "print(\"y: \", y)\n",
    "print(\"ht shape: \", ht.shape)\n",
    "print(\"ht: \", ht)"
   ],
   "outputs": [
    {
     "name": "stdout",
     "output_type": "stream",
     "text": [
      "y shape:  torch.Size([15])\n",
      "y:  tensor([ 0.8522, -0.4396,  0.9081,  0.7018,  0.6939, -0.2038, -0.7309, -0.3070,\n",
      "        -0.9993, -0.9968, -0.3899,  0.9506, -0.3034, -0.4268, -0.9063],\n",
      "       grad_fn=<TanhBackward0>)\n",
      "ht shape:  torch.Size([20])\n",
      "ht:  tensor([-0.9897, -0.8737, -0.9210,  0.7689,  0.9758, -1.0000,  0.9759,  0.9992,\n",
      "        -0.9356,  0.4071,  0.9147, -0.2621, -0.9999, -0.8910, -0.9722, -0.3043,\n",
      "        -0.7230,  0.6928, -0.8009, -0.9991], grad_fn=<TanhBackward0>)\n"
     ]
    }
   ],
   "execution_count": 36
  },
  {
   "cell_type": "markdown",
   "id": "bcbd792b",
   "metadata": {},
   "source": [
    "Now create an input sequence and run it through your RNN."
   ]
  },
  {
   "metadata": {
    "ExecuteTime": {
     "end_time": "2025-03-07T10:25:56.008530Z",
     "start_time": "2025-03-07T10:25:55.994035Z"
    }
   },
   "cell_type": "code",
   "source": [
    "seq_length = 5\n",
    "\n",
    "inputs = [torch.randn(dim_input) for _ in range(seq_length)]"
   ],
   "id": "1fc5a2469c80339d",
   "outputs": [],
   "execution_count": 37
  },
  {
   "cell_type": "code",
   "id": "f7570b70",
   "metadata": {
    "ExecuteTime": {
     "end_time": "2025-03-07T10:27:44.082455Z",
     "start_time": "2025-03-07T10:27:44.070549Z"
    }
   },
   "source": [
    "outputs = []\n",
    "ht = h0\n",
    "for xt in inputs:\n",
    "    ht, y = model.forward(xt, ht)\n",
    "    outputs.append(y)\n",
    "    \n",
    "print(\"ht\\n\", ht)\n",
    "print(\"\\noutputs\\n\", outputs)"
   ],
   "outputs": [
    {
     "name": "stdout",
     "output_type": "stream",
     "text": [
      "ht\n",
      " tensor([-9.8492e-01,  9.0891e-01,  6.6347e-01, -9.9267e-01, -9.8754e-01,\n",
      "        -9.9162e-01,  9.2085e-01,  9.9529e-01,  6.6217e-01,  8.1873e-01,\n",
      "         9.4253e-01, -9.8380e-01, -9.4849e-04,  9.5505e-01, -4.0467e-01,\n",
      "        -2.1099e-01, -9.9999e-01, -7.8392e-01, -9.9894e-01, -5.9547e-01],\n",
      "       grad_fn=<TanhBackward0>)\n",
      "\n",
      "y\n",
      " tensor([-0.2970,  0.4125,  0.9999, -0.1348,  0.4817,  0.9889, -0.9941, -0.8282,\n",
      "        -0.9976,  0.9502,  0.9996, -0.1354, -0.6858,  0.5237,  0.2370],\n",
      "       grad_fn=<TanhBackward0>)\n",
      "\n",
      "outputs\n",
      " [tensor([ 0.8530,  0.5062,  0.9869,  0.9053, -0.9133,  0.8298,  0.3715,  0.9877,\n",
      "        -0.8625, -0.2985,  0.3582,  0.7245,  0.4831, -0.5751,  0.2007],\n",
      "       grad_fn=<TanhBackward0>), tensor([-0.8989, -0.6206,  0.6532, -0.9993, -0.4434,  0.4054,  0.1613, -0.9830,\n",
      "         0.8664,  0.1243,  0.9999,  0.7757,  0.9802, -0.9999, -0.7440],\n",
      "       grad_fn=<TanhBackward0>), tensor([-0.4862,  0.4932, -0.0237,  0.9999,  0.1283,  0.5273,  0.8645, -0.3761,\n",
      "        -0.9958, -0.9917,  0.9800,  0.6827, -0.2817,  0.9940, -0.0802],\n",
      "       grad_fn=<TanhBackward0>), tensor([ 0.9758, -0.6732,  0.9999, -0.9969, -0.9846,  0.3429, -0.8523, -0.9975,\n",
      "        -0.4803, -0.6706,  0.8050,  0.9988, -0.9965, -1.0000,  0.9861],\n",
      "       grad_fn=<TanhBackward0>), tensor([-0.2970,  0.4125,  0.9999, -0.1348,  0.4817,  0.9889, -0.9941, -0.8282,\n",
      "        -0.9976,  0.9502,  0.9996, -0.1354, -0.6858,  0.5237,  0.2370],\n",
      "       grad_fn=<TanhBackward0>)]\n"
     ]
    }
   ],
   "execution_count": 38
  },
  {
   "cell_type": "markdown",
   "id": "9c258a2f",
   "metadata": {},
   "source": [
    "The final hidden state encodes all the information present in the input sequence. It can be used as a feature for classification, or to initialize a decoder RNN to do translation, for example.\n",
    "\n",
    "Now look at PyTorch's documentation for the [`nn.RNN`](https://pytorch.org/docs/stable/generated/torch.nn.RNN.html) and the [`nn.RNNCell`](https://pytorch.org/docs/stable/generated/torch.nn.RNNCell.html) classes. What is the difference between the two? What is the difference to the definition from Wikipedia we used above? Run your input sequence through both the `nn.RNN` and the `nn.RNNCell`."
   ]
  },
  {
   "cell_type": "code",
   "execution_count": null,
   "id": "7c5ce3f8",
   "metadata": {},
   "outputs": [],
   "source": []
  }
 ],
 "metadata": {
  "kernelspec": {
   "display_name": "nlp-exercises",
   "language": "python",
   "name": "python3"
  },
  "language_info": {
   "codemirror_mode": {
    "name": "ipython",
    "version": 3
   },
   "file_extension": ".py",
   "mimetype": "text/x-python",
   "name": "python",
   "nbconvert_exporter": "python",
   "pygments_lexer": "ipython3",
   "version": "3.12.5"
  }
 },
 "nbformat": 4,
 "nbformat_minor": 5
}
