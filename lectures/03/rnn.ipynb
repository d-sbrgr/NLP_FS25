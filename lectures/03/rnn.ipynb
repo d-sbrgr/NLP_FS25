{
 "cells": [
  {
   "cell_type": "markdown",
   "id": "d3a1078d",
   "metadata": {},
   "source": [
    "# Recurrent Neural Networks\n",
    "In this exercise, we will implement a simple one-layer recurrent neural network. We will use the formula for an [Elman RNN](https://en.wikipedia.org/wiki/Recurrent_neural_network#Elman_networks_and_Jordan_networks), one of the most basic and classical RNNs. The hidden state update and output at time $t$ are defined like this:\n",
    "\n",
    "$$\n",
    "\\begin{align}\n",
    "h_t &= \\tanh(W_h x_t + U_h h_{t-1} + b_h) \\\\\n",
    "y_t &= \\tanh(W_y h_t + b_y)\n",
    "\\end{align}\n",
    "$$"
   ]
  },
  {
   "cell_type": "code",
   "id": "cd53e848",
   "metadata": {
    "ExecuteTime": {
     "end_time": "2025-03-13T08:21:42.871598Z",
     "start_time": "2025-03-13T08:21:38.317180Z"
    }
   },
   "source": [
    "import torch\n",
    "import torch.nn as nn"
   ],
   "outputs": [],
   "execution_count": 1
  },
  {
   "cell_type": "markdown",
   "id": "96717180",
   "metadata": {},
   "source": [
    "We start by defining the RNN as a subclass of `nn.Module`. The network's parameters are created in the `__init__` method. Use `input_dim`, `hidden_dim` and `output_dim` as arguments that define the dimensionality of the input/hidden/output vectors. Define your parameters as `nn.Parameter` with the appropriate dimensions. The documentation of `torch.nn` can be found [here](https://pytorch.org/docs/stable/nn.html)."
   ]
  },
  {
   "cell_type": "code",
   "id": "3046a484",
   "metadata": {
    "ExecuteTime": {
     "end_time": "2025-03-13T08:21:42.892399Z",
     "start_time": "2025-03-13T08:21:42.871598Z"
    }
   },
   "source": [
    "class RNN(nn.Module):\n",
    "    def __init__(self, input_dim, hidden_dim, output_dim):\n",
    "        super().__init__()\n",
    "        self.Wh = nn.Parameter(torch.zeros(hidden_dim, input_dim))\n",
    "        self.Uh = nn.Parameter(torch.zeros(hidden_dim, hidden_dim))\n",
    "        self.Wy = nn.Parameter(torch.zeros(output_dim, hidden_dim))\n",
    "        self.bh = nn.Parameter(torch.zeros(hidden_dim))\n",
    "        self.by = nn.Parameter(torch.zeros(output_dim))    \n",
    "        "
   ],
   "outputs": [],
   "execution_count": 2
  },
  {
   "cell_type": "markdown",
   "id": "2f1d42c7",
   "metadata": {},
   "source": [
    "Add a function `reset_parameters` that initializes your parameters. Pick a suitable distribution from [nn.init](https://pytorch.org/docs/stable/nn.init.html)."
   ]
  },
  {
   "cell_type": "code",
   "id": "0f7f786e",
   "metadata": {
    "ExecuteTime": {
     "end_time": "2025-03-13T08:21:42.904730Z",
     "start_time": "2025-03-13T08:21:42.899264Z"
    }
   },
   "source": [
    "def reset_parameters(self):\n",
    "    for weight in self.parameters():\n",
    "        nn.init.uniform_(weight, -1, 1)\n",
    "\n",
    "RNN.reset_parameters = reset_parameters"
   ],
   "outputs": [],
   "execution_count": 3
  },
  {
   "cell_type": "markdown",
   "id": "b2f8081d",
   "metadata": {},
   "source": [
    "Add a `forward` function that takes an input and a starting hidden state $h_{t-1}$ and returns the updated hidden state $h_t$ and output $y$ as outputs. The initial hidden state $h_0$ can be initialized randomly/to all zeros."
   ]
  },
  {
   "cell_type": "code",
   "id": "be12dc16",
   "metadata": {
    "ExecuteTime": {
     "end_time": "2025-03-13T08:21:42.919664Z",
     "start_time": "2025-03-13T08:21:42.913088Z"
    }
   },
   "source": [
    "def forward(self, x, ht_1):\n",
    "    ht = torch.tanh(self.Wh @ x + self.Uh @ ht_1 + self.bh)\n",
    "    y = torch.tanh(self.Wy @ ht + self.by)\n",
    "    return ht, y\n",
    "    \n",
    "RNN.forward = forward"
   ],
   "outputs": [],
   "execution_count": 4
  },
  {
   "cell_type": "markdown",
   "id": "79bfa8a9",
   "metadata": {},
   "source": [
    "Test your RNN with a single input."
   ]
  },
  {
   "metadata": {
    "ExecuteTime": {
     "end_time": "2025-03-13T08:21:42.944790Z",
     "start_time": "2025-03-13T08:21:42.923686Z"
    }
   },
   "cell_type": "code",
   "source": [
    "dim_input, dim_hidden, dim_output = (10, 20, 15)\n",
    "h0 = torch.randn(dim_hidden)\n",
    "x0 = torch.randn(dim_input)"
   ],
   "id": "bd639c882041c949",
   "outputs": [],
   "execution_count": 5
  },
  {
   "cell_type": "code",
   "id": "8521f93b",
   "metadata": {
    "ExecuteTime": {
     "end_time": "2025-03-13T08:21:44.059340Z",
     "start_time": "2025-03-13T08:21:44.023344Z"
    }
   },
   "source": [
    "model = RNN(dim_input, dim_hidden, dim_output)\n",
    "model.reset_parameters()\n",
    "ht, y = model.forward(x0, h0)\n",
    "\n",
    "print(\"y shape: \", y.shape)\n",
    "print(\"y: \", y)\n",
    "print(\"ht shape: \", ht.shape)\n",
    "print(\"ht: \", ht)"
   ],
   "outputs": [
    {
     "name": "stdout",
     "output_type": "stream",
     "text": [
      "y shape:  torch.Size([15])\n",
      "y:  tensor([-0.8026,  0.9993, -0.4994, -0.6240,  0.9978, -0.9041, -0.3223,  0.9963,\n",
      "         0.9881, -0.9676,  0.9970,  0.9999, -0.9980, -0.4405,  0.9582],\n",
      "       grad_fn=<TanhBackward0>)\n",
      "ht shape:  torch.Size([20])\n",
      "ht:  tensor([ 0.9676, -0.5179,  0.6834,  0.4823,  0.9545, -0.9994,  0.3752,  0.9804,\n",
      "        -0.9777, -0.3434,  0.4345, -0.0618,  1.0000,  0.9723,  0.2229,  0.9930,\n",
      "        -0.9636,  0.9763,  0.5521,  0.9998], grad_fn=<TanhBackward0>)\n"
     ]
    }
   ],
   "execution_count": 6
  },
  {
   "cell_type": "markdown",
   "id": "bcbd792b",
   "metadata": {},
   "source": [
    "Now create an input sequence and run it through your RNN."
   ]
  },
  {
   "metadata": {
    "ExecuteTime": {
     "end_time": "2025-03-13T08:21:44.120317Z",
     "start_time": "2025-03-13T08:21:44.113995Z"
    }
   },
   "cell_type": "code",
   "source": [
    "seq_length = 5\n",
    "\n",
    "inputs = [torch.randn(dim_input) for _ in range(seq_length)]"
   ],
   "id": "1fc5a2469c80339d",
   "outputs": [],
   "execution_count": 7
  },
  {
   "cell_type": "code",
   "id": "f7570b70",
   "metadata": {
    "ExecuteTime": {
     "end_time": "2025-03-13T08:21:44.219293Z",
     "start_time": "2025-03-13T08:21:44.197868Z"
    }
   },
   "source": [
    "outputs = []\n",
    "ht = h0\n",
    "for xt in inputs:\n",
    "    ht, y = model.forward(xt, ht)\n",
    "    outputs.append(y)\n",
    "    \n",
    "print(\"ht\\n\", ht)\n",
    "print(\"\\noutputs\\n\", outputs)"
   ],
   "outputs": [
    {
     "name": "stdout",
     "output_type": "stream",
     "text": [
      "ht\n",
      " tensor([-0.9832,  0.6787,  0.7038, -0.9843, -0.9976, -0.5880, -0.8074, -0.9992,\n",
      "         0.1631,  0.7951, -0.1714,  0.6469,  0.9971,  0.9482, -0.4259, -0.4039,\n",
      "        -0.9999, -0.9874, -0.9555,  0.6234], grad_fn=<TanhBackward0>)\n",
      "\n",
      "outputs\n",
      " [tensor([-0.9997,  0.9996,  0.9565, -0.9927, -0.5232,  0.3257, -0.9490,  0.4157,\n",
      "        -0.7570, -0.9964,  0.7305,  0.9387, -0.8323,  0.9593,  0.1272],\n",
      "       grad_fn=<TanhBackward0>), tensor([-0.8643,  0.9448, -0.0737,  0.8463, -1.0000,  0.8029, -0.9273,  0.9604,\n",
      "        -0.9671,  0.8110, -0.9197,  0.8933, -0.9804,  1.0000,  0.9843],\n",
      "       grad_fn=<TanhBackward0>), tensor([-0.9861, -0.7645,  0.0919, -0.9332, -0.9997,  0.9621, -0.9634,  0.6877,\n",
      "        -0.9973, -0.5681, -0.9986, -0.9975, -0.0511,  0.9933,  0.5907],\n",
      "       grad_fn=<TanhBackward0>), tensor([-0.9699,  0.9604, -0.7648, -0.9739,  0.9631,  0.8086, -0.9645, -0.8132,\n",
      "         0.3085, -0.4652,  0.9772,  0.9975,  0.7106,  0.3331, -0.9957],\n",
      "       grad_fn=<TanhBackward0>), tensor([ 0.6681,  0.9965,  0.9949, -0.9993, -0.1716, -0.7681, -0.9926, -0.9289,\n",
      "        -0.1252,  0.9080, -0.9716,  0.9059,  0.9606,  0.9947,  0.5921],\n",
      "       grad_fn=<TanhBackward0>)]\n"
     ]
    }
   ],
   "execution_count": 8
  },
  {
   "cell_type": "markdown",
   "id": "9c258a2f",
   "metadata": {},
   "source": [
    "The final hidden state encodes all the information present in the input sequence. It can be used as a feature for classification, or to initialize a decoder RNN to do translation, for example.\n",
    "\n",
    "Now look at PyTorch's documentation for the [`nn.RNN`](https://pytorch.org/docs/stable/generated/torch.nn.RNN.html) and the [`nn.RNNCell`](https://pytorch.org/docs/stable/generated/torch.nn.RNNCell.html) classes. What is the difference between the two? What is the difference to the definition from Wikipedia we used above? Run your input sequence through both the `nn.RNN` and the `nn.RNNCell`."
   ]
  },
  {
   "metadata": {
    "ExecuteTime": {
     "end_time": "2025-03-13T08:21:44.306382Z",
     "start_time": "2025-03-13T08:21:44.299871Z"
    }
   },
   "cell_type": "code",
   "source": "seq_length = 5",
   "id": "dc0174f4ee7473b",
   "outputs": [],
   "execution_count": 9
  },
  {
   "cell_type": "code",
   "id": "7c5ce3f8",
   "metadata": {
    "ExecuteTime": {
     "end_time": "2025-03-13T08:21:44.411181Z",
     "start_time": "2025-03-13T08:21:44.382047Z"
    }
   },
   "source": [
    "rnn_cell = nn.RNNCell(dim_input, dim_hidden)\n",
    "x = torch.randn(seq_length, dim_input)\n",
    "hidden_state = torch.zeros(dim_hidden)\n",
    "output = []\n",
    "for i in range(seq_length):\n",
    "    hidden_state = rnn_cell(x[i], hidden_state)\n",
    "    output.append(hidden_state)\n",
    "print(len(output))\n",
    "print(output[0].shape)\n",
    "\n",
    "torch_rnn = nn.RNN(dim_input, dim_hidden, num_layers=1)\n",
    "x = torch.randn(seq_length, dim_input)\n",
    "h0 = torch.zeros(1, dim_hidden)\n",
    "output, hn = torch_rnn(x, h0)\n",
    "print(output.shape)"
   ],
   "outputs": [
    {
     "name": "stdout",
     "output_type": "stream",
     "text": [
      "5\n",
      "torch.Size([20])\n",
      "torch.Size([5, 20])\n"
     ]
    }
   ],
   "execution_count": 10
  },
  {
   "metadata": {},
   "cell_type": "markdown",
   "source": [
    "* They expect 2D or 3D input\n",
    "* RNN returns both y and ht\n",
    "* RNNCell only returns ht"
   ],
   "id": "48c9f98cd19410bd"
  }
 ],
 "metadata": {
  "kernelspec": {
   "display_name": "nlp-exercises",
   "language": "python",
   "name": "python3"
  },
  "language_info": {
   "codemirror_mode": {
    "name": "ipython",
    "version": 3
   },
   "file_extension": ".py",
   "mimetype": "text/x-python",
   "name": "python",
   "nbconvert_exporter": "python",
   "pygments_lexer": "ipython3",
   "version": "3.12.5"
  }
 },
 "nbformat": 4,
 "nbformat_minor": 5
}
