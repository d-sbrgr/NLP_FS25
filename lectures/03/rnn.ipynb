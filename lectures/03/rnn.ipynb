{
 "cells": [
  {
   "cell_type": "markdown",
   "id": "d3a1078d",
   "metadata": {},
   "source": [
    "# Recurrent Neural Networks\n",
    "In this exercise, we will implement a simple one-layer recurrent neural network. We will use the formula for an [Elman RNN](https://en.wikipedia.org/wiki/Recurrent_neural_network#Elman_networks_and_Jordan_networks), one of the most basic and classical RNNs. The hidden state update and output at time $t$ are defined like this:\n",
    "\n",
    "$$\n",
    "\\begin{align}\n",
    "h_t &= \\tanh(W_h x_t + U_h h_{t-1} + b_h) \\\\\n",
    "y_t &= \\tanh(W_y h_t + b_y)\n",
    "\\end{align}\n",
    "$$"
   ]
  },
  {
   "cell_type": "code",
   "id": "cd53e848",
   "metadata": {
    "ExecuteTime": {
     "end_time": "2025-03-07T09:37:11.960416Z",
     "start_time": "2025-03-07T09:37:06.225035Z"
    }
   },
   "source": [
    "import torch\n",
    "import torch.nn as nn"
   ],
   "outputs": [],
   "execution_count": 2
  },
  {
   "cell_type": "markdown",
   "id": "96717180",
   "metadata": {},
   "source": [
    "We start by defining the RNN as a subclass of `nn.Module`. The network's parameters are created in the `__init__` method. Use `input_dim`, `hidden_dim` and `output_dim` as arguments that define the dimensionality of the input/hidden/output vectors. Define your parameters as `nn.Parameter` with the appropriate dimensions. The documentation of `torch.nn` can be found [here](https://pytorch.org/docs/stable/nn.html)."
   ]
  },
  {
   "cell_type": "code",
   "id": "3046a484",
   "metadata": {
    "ExecuteTime": {
     "end_time": "2025-03-07T09:59:07.471529Z",
     "start_time": "2025-03-07T09:59:07.464688Z"
    }
   },
   "source": [
    "class RNN(nn.Module):\n",
    "    def __init__(self, input_dim, hidden_dim, output_dim):\n",
    "        super().__init__()\n",
    "        self.Wh = nn.Parameter(torch.zeros(hidden_dim, input_dim))\n",
    "        self.Uh = nn.Parameter(torch.zeros(hidden_dim, hidden_dim))\n",
    "        self.Wy = nn.Parameter(torch.zeros(output_dim, hidden_dim))\n",
    "        self.bh = nn.Parameter(torch.zeros(hidden_dim))\n",
    "        self.by = nn.Parameter(torch.zeros(output_dim))    \n",
    "        "
   ],
   "outputs": [],
   "execution_count": 5
  },
  {
   "cell_type": "markdown",
   "id": "2f1d42c7",
   "metadata": {},
   "source": [
    "Add a function `reset_parameters` that initializes your parameters. Pick a suitable distribution from [nn.init](https://pytorch.org/docs/stable/nn.init.html)."
   ]
  },
  {
   "cell_type": "code",
   "id": "0f7f786e",
   "metadata": {
    "ExecuteTime": {
     "end_time": "2025-03-07T10:06:43.928364Z",
     "start_time": "2025-03-07T10:06:43.915013Z"
    }
   },
   "source": [
    "def reset_parameters(self):\n",
    "    for weight in self.parameters():\n",
    "        nn.init.uniform_(weight, -1, 1)\n",
    "\n",
    "RNN.reset_parameters = reset_parameters"
   ],
   "outputs": [],
   "execution_count": 19
  },
  {
   "cell_type": "markdown",
   "id": "b2f8081d",
   "metadata": {},
   "source": [
    "Add a `forward` function that takes an input and a starting hidden state $h_{t-1}$ and returns the updated hidden state $h_t$ and output $y$ as outputs. The initial hidden state $h_0$ can be initialized randomly/to all zeros."
   ]
  },
  {
   "cell_type": "code",
   "id": "be12dc16",
   "metadata": {
    "ExecuteTime": {
     "end_time": "2025-03-07T10:07:10.860414Z",
     "start_time": "2025-03-07T10:07:10.852052Z"
    }
   },
   "source": [
    "def forward(self, x, ht_1):\n",
    "    ht = torch.tanh(self.Wh @ x + self.Uh @ ht_1 + self.bh)\n",
    "    y = torch.tanh(self.Wy @ ht + self.by)\n",
    "    return ht, y\n",
    "    \n",
    "RNN.forward = forward"
   ],
   "outputs": [],
   "execution_count": 20
  },
  {
   "cell_type": "markdown",
   "id": "79bfa8a9",
   "metadata": {},
   "source": [
    "Test your RNN with a single input."
   ]
  },
  {
   "metadata": {
    "ExecuteTime": {
     "end_time": "2025-03-07T10:07:16.512478Z",
     "start_time": "2025-03-07T10:07:16.499199Z"
    }
   },
   "cell_type": "code",
   "source": [
    "dim_input, dim_hidden, dim_output = (10, 20, 15)\n",
    "h0 = torch.randn(dim_hidden)\n",
    "x0 = torch.randn(dim_input)"
   ],
   "id": "bd639c882041c949",
   "outputs": [],
   "execution_count": 21
  },
  {
   "cell_type": "code",
   "id": "8521f93b",
   "metadata": {
    "ExecuteTime": {
     "end_time": "2025-03-07T10:18:05.345758Z",
     "start_time": "2025-03-07T10:18:05.324636Z"
    }
   },
   "source": [
    "model = RNN(dim_input, dim_hidden, dim_output)\n",
    "model.reset_parameters()\n",
    "ht, y = model.forward(x0, h0)\n",
    "\n",
    "print(\"y shape: \", y.shape)\n",
    "print(\"y: \", y)\n",
    "print(\"ht shape: \", ht.shape)\n",
    "print(\"ht: \", ht)"
   ],
   "outputs": [
    {
     "name": "stdout",
     "output_type": "stream",
     "text": [
      "y shape:  torch.Size([15])\n",
      "y:  tensor([ 0.8522, -0.4396,  0.9081,  0.7018,  0.6939, -0.2038, -0.7309, -0.3070,\n",
      "        -0.9993, -0.9968, -0.3899,  0.9506, -0.3034, -0.4268, -0.9063],\n",
      "       grad_fn=<TanhBackward0>)\n",
      "ht shape:  torch.Size([20])\n",
      "ht:  tensor([-0.9897, -0.8737, -0.9210,  0.7689,  0.9758, -1.0000,  0.9759,  0.9992,\n",
      "        -0.9356,  0.4071,  0.9147, -0.2621, -0.9999, -0.8910, -0.9722, -0.3043,\n",
      "        -0.7230,  0.6928, -0.8009, -0.9991], grad_fn=<TanhBackward0>)\n"
     ]
    }
   ],
   "execution_count": 36
  },
  {
   "cell_type": "markdown",
   "id": "bcbd792b",
   "metadata": {},
   "source": [
    "Now create an input sequence and run it through your RNN."
   ]
  },
  {
   "metadata": {
    "ExecuteTime": {
     "end_time": "2025-03-07T10:25:56.008530Z",
     "start_time": "2025-03-07T10:25:55.994035Z"
    }
   },
   "cell_type": "code",
   "source": [
    "seq_length = 5\n",
    "\n",
    "inputs = [torch.randn(dim_input) for _ in range(seq_length)]"
   ],
   "id": "1fc5a2469c80339d",
   "outputs": [],
   "execution_count": 37
  },
  {
   "cell_type": "code",
   "id": "f7570b70",
   "metadata": {
    "ExecuteTime": {
     "end_time": "2025-03-07T10:27:44.082455Z",
     "start_time": "2025-03-07T10:27:44.070549Z"
    }
   },
   "source": [
    "outputs = []\n",
    "ht = h0\n",
    "for xt in inputs:\n",
    "    ht, y = model.forward(xt, ht)\n",
    "    outputs.append(y)\n",
    "    \n",
    "print(\"ht\\n\", ht)\n",
    "print(\"\\noutputs\\n\", outputs)"
   ],
   "outputs": [
    {
     "name": "stdout",
     "output_type": "stream",
     "text": [
      "ht\n",
      " tensor([-9.8492e-01,  9.0891e-01,  6.6347e-01, -9.9267e-01, -9.8754e-01,\n",
      "        -9.9162e-01,  9.2085e-01,  9.9529e-01,  6.6217e-01,  8.1873e-01,\n",
      "         9.4253e-01, -9.8380e-01, -9.4849e-04,  9.5505e-01, -4.0467e-01,\n",
      "        -2.1099e-01, -9.9999e-01, -7.8392e-01, -9.9894e-01, -5.9547e-01],\n",
      "       grad_fn=<TanhBackward0>)\n",
      "\n",
      "y\n",
      " tensor([-0.2970,  0.4125,  0.9999, -0.1348,  0.4817,  0.9889, -0.9941, -0.8282,\n",
      "        -0.9976,  0.9502,  0.9996, -0.1354, -0.6858,  0.5237,  0.2370],\n",
      "       grad_fn=<TanhBackward0>)\n",
      "\n",
      "outputs\n",
      " [tensor([ 0.8530,  0.5062,  0.9869,  0.9053, -0.9133,  0.8298,  0.3715,  0.9877,\n",
      "        -0.8625, -0.2985,  0.3582,  0.7245,  0.4831, -0.5751,  0.2007],\n",
      "       grad_fn=<TanhBackward0>), tensor([-0.8989, -0.6206,  0.6532, -0.9993, -0.4434,  0.4054,  0.1613, -0.9830,\n",
      "         0.8664,  0.1243,  0.9999,  0.7757,  0.9802, -0.9999, -0.7440],\n",
      "       grad_fn=<TanhBackward0>), tensor([-0.4862,  0.4932, -0.0237,  0.9999,  0.1283,  0.5273,  0.8645, -0.3761,\n",
      "        -0.9958, -0.9917,  0.9800,  0.6827, -0.2817,  0.9940, -0.0802],\n",
      "       grad_fn=<TanhBackward0>), tensor([ 0.9758, -0.6732,  0.9999, -0.9969, -0.9846,  0.3429, -0.8523, -0.9975,\n",
      "        -0.4803, -0.6706,  0.8050,  0.9988, -0.9965, -1.0000,  0.9861],\n",
      "       grad_fn=<TanhBackward0>), tensor([-0.2970,  0.4125,  0.9999, -0.1348,  0.4817,  0.9889, -0.9941, -0.8282,\n",
      "        -0.9976,  0.9502,  0.9996, -0.1354, -0.6858,  0.5237,  0.2370],\n",
      "       grad_fn=<TanhBackward0>)]\n"
     ]
    }
   ],
   "execution_count": 38
  },
  {
   "cell_type": "markdown",
   "id": "9c258a2f",
   "metadata": {},
   "source": [
    "The final hidden state encodes all the information present in the input sequence. It can be used as a feature for classification, or to initialize a decoder RNN to do translation, for example.\n",
    "\n",
    "Now look at PyTorch's documentation for the [`nn.RNN`](https://pytorch.org/docs/stable/generated/torch.nn.RNN.html) and the [`nn.RNNCell`](https://pytorch.org/docs/stable/generated/torch.nn.RNNCell.html) classes. What is the difference between the two? What is the difference to the definition from Wikipedia we used above? Run your input sequence through both the `nn.RNN` and the `nn.RNNCell`."
   ]
  },
  {
   "metadata": {
    "ExecuteTime": {
     "end_time": "2025-03-07T11:14:49.754911Z",
     "start_time": "2025-03-07T11:14:49.749148Z"
    }
   },
   "cell_type": "code",
   "source": [
    "inputs = [torch.randn(3, dim_input) for _ in range(seq_length)]\n",
    "h0 = torch.randn(1, dim_hidden)"
   ],
   "id": "9d480b27ec63185f",
   "outputs": [],
   "execution_count": 46
  },
  {
   "cell_type": "code",
   "id": "7c5ce3f8",
   "metadata": {
    "ExecuteTime": {
     "end_time": "2025-03-07T11:14:50.182636Z",
     "start_time": "2025-03-07T11:14:50.146282Z"
    }
   },
   "source": [
    "rnn = nn.RNN(dim_input, dim_hidden)\n",
    "outputs = []\n",
    "ht = h0\n",
    "for xt in inputs:\n",
    "    y, ht = rnn(xt, ht)\n",
    "    outputs.append(y)\n",
    "print(f\"ht: {ht}\")\n",
    "print(f\"outputs: {outputs}\")"
   ],
   "outputs": [
    {
     "name": "stdout",
     "output_type": "stream",
     "text": [
      "ht: tensor([[-0.0430, -0.3999,  0.7057,  0.0993,  0.4361,  0.2949,  0.1291,  0.3364,\n",
      "         -0.5054, -0.3361,  0.0478, -0.3179,  0.7317, -0.4031, -0.2648,  0.5914,\n",
      "          0.7643,  0.8975,  0.1707, -0.1399]], grad_fn=<SqueezeBackward1>)\n",
      "outputs: [tensor([[-6.0285e-01, -2.8614e-01,  5.3733e-01, -7.8087e-01,  5.2004e-01,\n",
      "         -3.2069e-01,  1.2066e-01,  6.1704e-01, -5.5211e-01, -7.4117e-01,\n",
      "          1.0278e-01, -1.3716e-01, -4.6566e-01, -2.3822e-01, -2.7113e-01,\n",
      "         -4.5803e-02, -9.5241e-01,  9.6896e-02,  5.1198e-01,  2.0218e-01],\n",
      "        [-1.8356e-01, -7.2476e-01,  1.9645e-01, -1.8671e-01,  1.3356e-01,\n",
      "         -2.1152e-01,  2.5135e-04, -2.4796e-01, -6.9199e-01, -1.9434e-02,\n",
      "          4.3424e-01,  2.9606e-01, -3.8699e-01, -1.9173e-01, -2.1865e-01,\n",
      "          5.7227e-01, -5.6096e-01,  7.9680e-02, -5.8263e-01,  4.9860e-01],\n",
      "        [-2.1501e-02,  4.9646e-01,  4.6270e-01, -2.0059e-01,  6.5141e-01,\n",
      "         -5.0242e-01,  6.1219e-02, -3.1467e-01, -1.7780e-01, -6.0040e-01,\n",
      "          4.0980e-01, -3.1932e-01,  4.8748e-01, -2.1113e-01, -1.2780e-01,\n",
      "          1.9129e-02,  3.3761e-01, -6.2360e-01,  1.6560e-01,  3.3425e-01]],\n",
      "       grad_fn=<SqueezeBackward1>), tensor([[ 0.1407, -0.0011,  0.5698, -0.2308,  0.8590, -0.5205, -0.4374,  0.0167,\n",
      "         -0.3335,  0.0045,  0.7161,  0.1231, -0.0419, -0.5580, -0.1066,  0.2297,\n",
      "          0.5264, -0.0886, -0.3998,  0.1057],\n",
      "        [-0.3098, -0.1552,  0.7372, -0.3191,  0.7209, -0.4904,  0.2797,  0.7036,\n",
      "          0.1502, -0.7327, -0.3296, -0.4810, -0.5344,  0.5653, -0.0978,  0.4094,\n",
      "         -0.3434, -0.4384,  0.0094,  0.1844],\n",
      "        [-0.4691,  0.1315,  0.2042,  0.0455, -0.3698,  0.1037,  0.4344, -0.6809,\n",
      "         -0.6789,  0.5833, -0.1090, -0.3834, -0.1968, -0.1760,  0.3163,  0.5557,\n",
      "         -0.2145,  0.4327, -0.7162,  0.2663]], grad_fn=<SqueezeBackward1>), tensor([[ 0.4009, -0.3130,  0.5329, -0.6274,  0.7238, -0.1273, -0.2327,  0.3474,\n",
      "          0.4365, -0.6706,  0.5785, -0.2745,  0.4041, -0.1114, -0.0349, -0.1668,\n",
      "         -0.0901,  0.1247,  0.3544,  0.3839],\n",
      "        [-0.6289, -0.6393, -0.2893,  0.1920,  0.2987, -0.2465,  0.4088, -0.5703,\n",
      "         -0.8960, -0.4030,  0.3765,  0.5163, -0.0216,  0.3028, -0.2358,  0.3907,\n",
      "          0.1680, -0.1177, -0.1150, -0.4669],\n",
      "        [-0.1196, -0.1841,  0.2194, -0.3905,  0.8206, -0.5398, -0.4496, -0.1046,\n",
      "         -0.4191, -0.4800,  0.7674, -0.1288,  0.6185, -0.3482, -0.4829,  0.1304,\n",
      "          0.2596,  0.1938, -0.3392,  0.1948]], grad_fn=<SqueezeBackward1>), tensor([[-0.0991,  0.0253,  0.1060,  0.2406,  0.3906, -0.5665,  0.4500,  0.0910,\n",
      "         -0.3536,  0.3113,  0.0467, -0.1333,  0.0663, -0.3001, -0.2104,  0.7265,\n",
      "          0.4386, -0.1942, -0.4595,  0.4276],\n",
      "        [ 0.3277, -0.7238,  0.0252,  0.2521,  0.2611,  0.1907,  0.4373,  0.4731,\n",
      "          0.0032, -0.2566,  0.3351, -0.2023,  0.1383, -0.1200, -0.6142,  0.5750,\n",
      "          0.3236,  0.8611, -0.3755,  0.4702],\n",
      "        [-0.7773, -0.7134,  0.0414, -0.2285, -0.1033,  0.0304,  0.7593, -0.4154,\n",
      "         -0.6143,  0.2910, -0.1146, -0.0633,  0.4369, -0.0156, -0.2876,  0.1867,\n",
      "          0.4640,  0.5703, -0.2416, -0.1677]], grad_fn=<SqueezeBackward1>), tensor([[ 0.5900, -0.0562, -0.2690,  0.4197,  0.0901, -0.7307,  0.5654, -0.5410,\n",
      "         -0.7864, -0.4048,  0.7606,  0.4668,  0.3687,  0.1829, -0.7427,  0.5848,\n",
      "          0.4546,  0.2938,  0.1009,  0.6527],\n",
      "        [-0.7639, -0.4655,  0.6394,  0.0523,  0.5057, -0.1220,  0.6624,  0.3012,\n",
      "         -0.1829, -0.0487, -0.2190, -0.7017,  0.4048,  0.6723, -0.6408, -0.1447,\n",
      "          0.8089,  0.6058,  0.0998, -0.7750],\n",
      "        [-0.0430, -0.3999,  0.7057,  0.0993,  0.4361,  0.2949,  0.1291,  0.3364,\n",
      "         -0.5054, -0.3361,  0.0478, -0.3179,  0.7317, -0.4031, -0.2648,  0.5914,\n",
      "          0.7643,  0.8975,  0.1707, -0.1399]], grad_fn=<SqueezeBackward1>)]\n"
     ]
    }
   ],
   "execution_count": 47
  },
  {
   "metadata": {
    "ExecuteTime": {
     "end_time": "2025-03-07T11:15:45.271153Z",
     "start_time": "2025-03-07T11:15:45.257291Z"
    }
   },
   "cell_type": "code",
   "source": [
    "inputs = [torch.randn(1, dim_input) for _ in range(seq_length)]\n",
    "h0 = torch.randn(1, dim_hidden)"
   ],
   "id": "3e9ee6a6e090e34a",
   "outputs": [],
   "execution_count": 50
  },
  {
   "metadata": {
    "ExecuteTime": {
     "end_time": "2025-03-07T11:17:12.611853Z",
     "start_time": "2025-03-07T11:17:12.593480Z"
    }
   },
   "cell_type": "code",
   "source": [
    "rnn_cell = nn.RNNCell(dim_input, dim_hidden)\n",
    "outputs = []\n",
    "ht = h0\n",
    "for xt in inputs:\n",
    "    ht = rnn_cell(xt, ht)\n",
    "    outputs.append(ht)\n",
    "print(f\"ht: {ht}\")\n",
    "print(f\"outputs: {outputs}\")"
   ],
   "id": "e1be207b64b1ac0f",
   "outputs": [
    {
     "name": "stdout",
     "output_type": "stream",
     "text": [
      "ht: tensor([[-0.1609, -0.8767,  0.5361,  0.7498,  0.6496, -0.2613,  0.1532,  0.3059,\n",
      "         -0.2229,  0.1638,  0.2162, -0.0780, -0.4082, -0.2345,  0.8722,  0.8250,\n",
      "          0.2168, -0.2883, -0.1166, -0.4090]], grad_fn=<TanhBackward0>)\n",
      "outputs: [tensor([[-0.5295, -0.8824, -0.7406,  0.4397,  0.5853,  0.3036, -0.0722,  0.4906,\n",
      "         -0.0623, -0.1573, -0.2640, -0.6515,  0.3138, -0.3363,  0.7032, -0.0878,\n",
      "          0.3878, -0.6789,  0.2380, -0.2131]], grad_fn=<TanhBackward0>), tensor([[ 0.3916,  0.3860, -0.3469,  0.4278, -0.1420, -0.4090, -0.1812, -0.0861,\n",
      "         -0.0834,  0.1304,  0.8263,  0.6515, -0.5788,  0.4401,  0.7176, -0.3412,\n",
      "          0.6392,  0.6090,  0.9066,  0.2179]], grad_fn=<TanhBackward0>), tensor([[ 0.5560, -0.5114, -0.5537, -0.4875, -0.1530, -0.3376,  0.5337,  0.1427,\n",
      "          0.3770, -0.2538, -0.0417,  0.2511,  0.0606,  0.3374, -0.4288, -0.3789,\n",
      "          0.0821, -0.2113,  0.4594,  0.1079]], grad_fn=<TanhBackward0>), tensor([[-0.6775,  0.3101,  0.5419,  0.7885,  0.5572,  0.5457, -0.2843,  0.0915,\n",
      "         -0.4166, -0.3479, -0.6807,  0.0547,  0.2012, -0.4429,  0.2373,  0.1548,\n",
      "         -0.3972, -0.5012, -0.0205, -0.2910]], grad_fn=<TanhBackward0>), tensor([[-0.1609, -0.8767,  0.5361,  0.7498,  0.6496, -0.2613,  0.1532,  0.3059,\n",
      "         -0.2229,  0.1638,  0.2162, -0.0780, -0.4082, -0.2345,  0.8722,  0.8250,\n",
      "          0.2168, -0.2883, -0.1166, -0.4090]], grad_fn=<TanhBackward0>)]\n"
     ]
    }
   ],
   "execution_count": 52
  },
  {
   "metadata": {},
   "cell_type": "markdown",
   "source": [
    "* They expect 2D or 3D input\n",
    "* RNN returns both y and ht\n",
    "* RNNCell only returns ht"
   ],
   "id": "48c9f98cd19410bd"
  }
 ],
 "metadata": {
  "kernelspec": {
   "display_name": "nlp-exercises",
   "language": "python",
   "name": "python3"
  },
  "language_info": {
   "codemirror_mode": {
    "name": "ipython",
    "version": 3
   },
   "file_extension": ".py",
   "mimetype": "text/x-python",
   "name": "python",
   "nbconvert_exporter": "python",
   "pygments_lexer": "ipython3",
   "version": "3.12.5"
  }
 },
 "nbformat": 4,
 "nbformat_minor": 5
}
