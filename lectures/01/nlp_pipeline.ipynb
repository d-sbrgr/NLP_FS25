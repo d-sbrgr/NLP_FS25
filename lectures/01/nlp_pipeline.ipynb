{
 "cells": [
  {
   "cell_type": "markdown",
   "id": "40427979",
   "metadata": {},
   "source": [
    "# NLP Pipeline\n",
    "We will learn some basic operations of the NLP pipelines with the help of two libraries, NLTK and spaCy. These will prove useful in your project for tasks such as preprocessing."
   ]
  },
  {
   "cell_type": "code",
   "execution_count": null,
   "id": "144162dd",
   "metadata": {},
   "outputs": [],
   "source": "# %pip install -q nltk matplotlib"
  },
  {
   "cell_type": "markdown",
   "id": "8333d6fa",
   "metadata": {},
   "source": [
    "## NLTK\n",
    "We will use [Chapter 3 of the introductory manual of NLTK](https://www.nltk.org/book/ch03.html) to solve the following exercises.\n",
    "\n",
    "First, use the interactive downloader to get the *gutenberg* book corpus (in the *Corpora* tab). Take a moment to admire the amazing user interface."
   ]
  },
  {
   "cell_type": "code",
   "id": "d6d021c0",
   "metadata": {
    "ExecuteTime": {
     "end_time": "2025-02-21T09:36:14.016097Z",
     "start_time": "2025-02-21T09:36:03.773694Z"
    }
   },
   "source": [
    "import nltk\n",
    "nltk.download()"
   ],
   "outputs": [
    {
     "name": "stdout",
     "output_type": "stream",
     "text": [
      "showing info https://raw.githubusercontent.com/nltk/nltk_data/gh-pages/index.xml\n"
     ]
    },
    {
     "data": {
      "text/plain": [
       "True"
      ]
     },
     "execution_count": 3,
     "metadata": {},
     "output_type": "execute_result"
    }
   ],
   "execution_count": 3
  },
  {
   "cell_type": "markdown",
   "id": "3c9da622",
   "metadata": {},
   "source": [
    "NLTK automatically saves its files in the `nltk_data` folder in your home directory. (Windows users: Maybe it's in your `Documents`?)\n",
    "\n",
    "We load the raw text of the first book in the corpus."
   ]
  },
  {
   "cell_type": "code",
   "id": "977b230b",
   "metadata": {
    "ExecuteTime": {
     "end_time": "2025-02-21T09:36:20.097298Z",
     "start_time": "2025-02-21T09:36:20.079966Z"
    }
   },
   "source": [
    "from nltk.corpus import gutenberg\n",
    "raw_text = gutenberg.raw('austen-emma.txt')\n",
    "print(len(raw_text))"
   ],
   "outputs": [
    {
     "name": "stdout",
     "output_type": "stream",
     "text": [
      "887071\n"
     ]
    }
   ],
   "execution_count": 4
  },
  {
   "cell_type": "markdown",
   "id": "8fb99b02",
   "metadata": {},
   "source": [
    "To use nltk's tokenization, we need to download the `punkt_tab` resource."
   ]
  },
  {
   "cell_type": "code",
   "id": "779c157c",
   "metadata": {
    "ExecuteTime": {
     "end_time": "2025-02-21T09:36:21.658235Z",
     "start_time": "2025-02-21T09:36:21.647118Z"
    }
   },
   "source": [
    "nltk.download('punkt_tab')"
   ],
   "outputs": [
    {
     "name": "stderr",
     "output_type": "stream",
     "text": [
      "[nltk_data] Downloading package punkt_tab to\n",
      "[nltk_data]     C:\\Users\\dave_\\AppData\\Roaming\\nltk_data...\n",
      "[nltk_data]   Package punkt_tab is already up-to-date!\n"
     ]
    },
    {
     "data": {
      "text/plain": [
       "True"
      ]
     },
     "execution_count": 5,
     "metadata": {},
     "output_type": "execute_result"
    }
   ],
   "execution_count": 5
  },
  {
   "cell_type": "markdown",
   "id": "bcb59b1d",
   "metadata": {},
   "source": [
    "Count the number of words and sentences in the book."
   ]
  },
  {
   "cell_type": "code",
   "id": "015dbbf6",
   "metadata": {
    "ExecuteTime": {
     "end_time": "2025-02-21T09:36:24.843335Z",
     "start_time": "2025-02-21T09:36:23.450870Z"
    }
   },
   "source": [
    "tokens = nltk.word_tokenize(raw_text)\n",
    "print(len(tokens))\n",
    "sentences = nltk.sent_tokenize(raw_text)\n",
    "print(len(sentences))"
   ],
   "outputs": [
    {
     "name": "stdout",
     "output_type": "stream",
     "text": [
      "191855\n",
      "7493\n"
     ]
    }
   ],
   "execution_count": 6
  },
  {
   "cell_type": "markdown",
   "id": "ef55d386",
   "metadata": {},
   "source": [
    "- Lowercase all words. \n",
    "- Count the number of unique lower-cased words in the book."
   ]
  },
  {
   "cell_type": "code",
   "id": "e2028dd4",
   "metadata": {
    "ExecuteTime": {
     "end_time": "2025-02-21T09:36:25.076953Z",
     "start_time": "2025-02-21T09:36:25.032107Z"
    }
   },
   "source": [
    "lowercased = [token.lower() for token in tokens]\n",
    "len(set(lowercased))"
   ],
   "outputs": [
    {
     "data": {
      "text/plain": [
       "7914"
      ]
     },
     "execution_count": 7,
     "metadata": {},
     "output_type": "execute_result"
    }
   ],
   "execution_count": 7
  },
  {
   "cell_type": "markdown",
   "id": "9f5a45a3",
   "metadata": {},
   "source": [
    "The total number of words is also called *tokens*, and the unique words are the *types*. (This is the same distinction as instance vs. class in software engineering.)\n",
    "\n",
    "We now perform *stemming* on the first 50 words of the text. We use the PorterStemmer (example usage [here](https://www.nltk.org/howto/stem.html)). Plot only the pairs of words that have changed after stemming."
   ]
  },
  {
   "cell_type": "code",
   "id": "6ae02b60",
   "metadata": {
    "ExecuteTime": {
     "end_time": "2025-02-21T09:36:26.143159Z",
     "start_time": "2025-02-21T09:36:26.131986Z"
    }
   },
   "source": [
    "stemmer = nltk.stem.PorterStemmer()\n",
    "stemmed = [stemmer.stem(word) for word in lowercased[:50]]\n",
    "\n",
    "for original, changed in zip(lowercased[:50], stemmed):\n",
    "    if original != changed:\n",
    "        print(f\"{original:>20} -> {changed}\")\n"
   ],
   "outputs": [
    {
     "name": "stdout",
     "output_type": "stream",
     "text": [
      "              volume -> volum\n",
      "           woodhouse -> woodhous\n",
      "            handsome -> handsom\n",
      "         comfortable -> comfort\n",
      "               happy -> happi\n",
      "         disposition -> disposit\n",
      "              seemed -> seem\n",
      "               unite -> unit\n",
      "           blessings -> bless\n",
      "           existence -> exist\n",
      "               lived -> live\n",
      "              nearly -> nearli\n",
      "          twenty-one -> twenty-on\n",
      "               years -> year\n"
     ]
    }
   ],
   "execution_count": 8
  },
  {
   "cell_type": "markdown",
   "id": "522cf088",
   "metadata": {},
   "source": [
    "Find the 10 most frequent words, together with their counts, using the `FreqDist` object from NLTK. Save it to a variable named `fdist`."
   ]
  },
  {
   "cell_type": "code",
   "id": "425c26c7",
   "metadata": {
    "ExecuteTime": {
     "end_time": "2025-02-21T09:37:18.501747Z",
     "start_time": "2025-02-21T09:37:18.390906Z"
    }
   },
   "source": [
    "fdist = nltk.FreqDist(lowercased)\n",
    "for word, count in fdist.most_common(10):\n",
    "    print(word, count)"
   ],
   "outputs": [
    {
     "name": "stdout",
     "output_type": "stream",
     "text": [
      ", 12016\n",
      ". 6355\n",
      "the 5201\n",
      "to 5181\n",
      "and 4877\n",
      "of 4284\n",
      "i 3177\n",
      "a 3124\n",
      "-- 3100\n",
      "it 2503\n"
     ]
    }
   ],
   "execution_count": 12
  },
  {
   "cell_type": "markdown",
   "id": "abfc5cff",
   "metadata": {},
   "source": [
    "Run the below command to see the word counts vs. the words in the frequency distribution."
   ]
  },
  {
   "cell_type": "code",
   "id": "7fbdd446",
   "metadata": {
    "ExecuteTime": {
     "end_time": "2025-02-21T09:37:26.366302Z",
     "start_time": "2025-02-21T09:37:25.420833Z"
    }
   },
   "source": [
    "fdist.plot(50)"
   ],
   "outputs": [
    {
     "data": {
      "text/plain": [
       "<Axes: xlabel='Samples', ylabel='Counts'>"
      ]
     },
     "execution_count": 13,
     "metadata": {},
     "output_type": "execute_result"
    },
    {
     "data": {
      "text/plain": [
       "<Figure size 640x480 with 1 Axes>"
      ],
      "image/png": "[encoded data removed]"
     },
     "metadata": {},
     "output_type": "display_data"
    }
   ],
   "execution_count": 13
  },
  {
   "cell_type": "markdown",
   "id": "f776c7b9",
   "metadata": {},
   "source": [
    "This curve is characteristic of any natural (= human) language, and is known as [Zipf's law](https://en.wikipedia.org/wiki/Zipf%27s_law). It states that the frequency of a word is inversely proportional to its rank, i.e.:\n",
    "$$\\text{frequency}(x) \\propto \\frac{1}{\\text{rank}(x)}$$"
   ]
  },
  {
   "cell_type": "markdown",
   "id": "3444a5e9",
   "metadata": {},
   "source": [
    "## Hugging Face\n",
    "\n",
    "With Transformers (we will get to know them in more detail later in the course), tokenization has become part of the model itself. As opposed to `word_tokenize` in NLTK, Transformers use BPE tokenization.\n",
    "\n",
    "We first install Hugging Face's `transformers` library."
   ]
  },
  {
   "cell_type": "code",
   "id": "2ac74dd3",
   "metadata": {
    "ExecuteTime": {
     "end_time": "2025-02-21T09:37:33.988859Z",
     "start_time": "2025-02-21T09:37:33.978623Z"
    }
   },
   "source": "#%pip install -q transformers ipywidgets",
   "outputs": [],
   "execution_count": 14
  },
  {
   "cell_type": "markdown",
   "id": "54e8318c",
   "metadata": {},
   "source": [
    "Use the [model page of the base-uncased version of BERT](https://huggingface.co/google-bert/bert-base-uncased) to initialize a `BertTokenizer`."
   ]
  },
  {
   "cell_type": "code",
   "id": "545492bd",
   "metadata": {
    "ExecuteTime": {
     "end_time": "2025-02-21T09:46:10.120991Z",
     "start_time": "2025-02-21T09:46:08.118969Z"
    }
   },
   "source": [
    "from transformers import AutoTokenizer\n",
    "\n",
    "tokenizer = AutoTokenizer.from_pretrained(\"google-bert/bert-base-uncased\")"
   ],
   "outputs": [
    {
     "data": {
      "text/plain": [
       "tokenizer_config.json:   0%|          | 0.00/48.0 [00:00<?, ?B/s]"
      ],
      "application/vnd.jupyter.widget-view+json": {
       "version_major": 2,
       "version_minor": 0,
       "model_id": "53871b4303494dd9aea1c5aeb4a31a60"
      }
     },
     "metadata": {},
     "output_type": "display_data"
    },
    {
     "name": "stderr",
     "output_type": "stream",
     "text": [
      "C:\\git\\NLP_FS25\\.env3\\Lib\\site-packages\\huggingface_hub\\file_download.py:142: UserWarning: `huggingface_hub` cache-system uses symlinks by default to efficiently store duplicated files but your machine does not support them in C:\\Users\\dave_\\.cache\\huggingface\\hub\\models--google-bert--bert-base-uncased. Caching files will still work but in a degraded version that might require more space on your disk. This warning can be disabled by setting the `HF_HUB_DISABLE_SYMLINKS_WARNING` environment variable. For more details, see https://huggingface.co/docs/huggingface_hub/how-to-cache#limitations.\n",
      "To support symlinks on Windows, you either need to activate Developer Mode or to run Python as an administrator. In order to activate developer mode, see this article: https://docs.microsoft.com/en-us/windows/apps/get-started/enable-your-device-for-development\n",
      "  warnings.warn(message)\n"
     ]
    },
    {
     "data": {
      "text/plain": [
       "config.json:   0%|          | 0.00/570 [00:00<?, ?B/s]"
      ],
      "application/vnd.jupyter.widget-view+json": {
       "version_major": 2,
       "version_minor": 0,
       "model_id": "18518d7afcb24366a8733df3989f6438"
      }
     },
     "metadata": {},
     "output_type": "display_data"
    },
    {
     "data": {
      "text/plain": [
       "vocab.txt:   0%|          | 0.00/232k [00:00<?, ?B/s]"
      ],
      "application/vnd.jupyter.widget-view+json": {
       "version_major": 2,
       "version_minor": 0,
       "model_id": "8e35df11697041c5a29d42ff00afdfc4"
      }
     },
     "metadata": {},
     "output_type": "display_data"
    },
    {
     "data": {
      "text/plain": [
       "tokenizer.json:   0%|          | 0.00/466k [00:00<?, ?B/s]"
      ],
      "application/vnd.jupyter.widget-view+json": {
       "version_major": 2,
       "version_minor": 0,
       "model_id": "95bb1eb1abcd4c2e9e30a4b2e6444ae4"
      }
     },
     "metadata": {},
     "output_type": "display_data"
    }
   ],
   "execution_count": 21
  },
  {
   "cell_type": "markdown",
   "id": "b177d372",
   "metadata": {},
   "source": [
    "We look at the first sentence of Jane Austen's Emma."
   ]
  },
  {
   "cell_type": "code",
   "id": "e2eca187",
   "metadata": {
    "ExecuteTime": {
     "end_time": "2025-02-21T09:46:15.979988Z",
     "start_time": "2025-02-21T09:46:15.763676Z"
    }
   },
   "source": [
    "sentence = nltk.sent_tokenize(raw_text)[0].split('\\n\\n\\n')[-1].replace('\\n', ' ')\n",
    "print(sentence)"
   ],
   "outputs": [
    {
     "name": "stdout",
     "output_type": "stream",
     "text": [
      "Emma Woodhouse, handsome, clever, and rich, with a comfortable home and happy disposition, seemed to unite some of the best blessings of existence; and had lived nearly twenty-one years in the world with very little to distress or vex her.\n"
     ]
    }
   ],
   "execution_count": 22
  },
  {
   "cell_type": "markdown",
   "id": "711cc14b",
   "metadata": {},
   "source": [
    "Encode the sentence. Look at the outputs of the following functions:\n",
    "- `tokenizer(sentence)`\n",
    "- `tokenizer.encode(sentence)`\n",
    "- `tokenizer.tokenize(sentence)`\n",
    "- `tokenizer.convert_tokens_to_ids(tokenizer.tokenize(sentence))`"
   ]
  },
  {
   "cell_type": "code",
   "id": "b99ddc96",
   "metadata": {
    "ExecuteTime": {
     "end_time": "2025-02-21T09:53:06.206906Z",
     "start_time": "2025-02-21T09:53:06.186735Z"
    }
   },
   "source": [
    "print(\"Call: \\n\", tokenizer(sentence), \"\\n\")\n",
    "print(\"Encode: \\n\", tokenizer.encode(sentence), \"\\n\")\n",
    "print(\"Tokernize: \\n\", tokenizer.tokenize(sentence), \"\\n\")\n",
    "print(\"Convert: \\n\", tokenizer.convert_tokens_to_ids(tokenizer.tokenize(sentence)), \"\\n\")\n"
   ],
   "outputs": [
    {
     "name": "stdout",
     "output_type": "stream",
     "text": [
      "Call: \n",
      " {'input_ids': [101, 5616, 3536, 4580, 1010, 8502, 1010, 12266, 1010, 1998, 4138, 1010, 2007, 1037, 6625, 2188, 1998, 3407, 22137, 1010, 2790, 2000, 15908, 2070, 1997, 1996, 2190, 24618, 1997, 4598, 1025, 1998, 2018, 2973, 3053, 3174, 1011, 2028, 2086, 1999, 1996, 2088, 2007, 2200, 2210, 2000, 12893, 2030, 2310, 2595, 2014, 1012, 102], 'token_type_ids': [0, 0, 0, 0, 0, 0, 0, 0, 0, 0, 0, 0, 0, 0, 0, 0, 0, 0, 0, 0, 0, 0, 0, 0, 0, 0, 0, 0, 0, 0, 0, 0, 0, 0, 0, 0, 0, 0, 0, 0, 0, 0, 0, 0, 0, 0, 0, 0, 0, 0, 0, 0, 0], 'attention_mask': [1, 1, 1, 1, 1, 1, 1, 1, 1, 1, 1, 1, 1, 1, 1, 1, 1, 1, 1, 1, 1, 1, 1, 1, 1, 1, 1, 1, 1, 1, 1, 1, 1, 1, 1, 1, 1, 1, 1, 1, 1, 1, 1, 1, 1, 1, 1, 1, 1, 1, 1, 1, 1]} \n",
      "\n",
      "Encode: \n",
      " [101, 5616, 3536, 4580, 1010, 8502, 1010, 12266, 1010, 1998, 4138, 1010, 2007, 1037, 6625, 2188, 1998, 3407, 22137, 1010, 2790, 2000, 15908, 2070, 1997, 1996, 2190, 24618, 1997, 4598, 1025, 1998, 2018, 2973, 3053, 3174, 1011, 2028, 2086, 1999, 1996, 2088, 2007, 2200, 2210, 2000, 12893, 2030, 2310, 2595, 2014, 1012, 102] \n",
      "\n",
      "Tokernize: \n",
      " ['emma', 'wood', '##house', ',', 'handsome', ',', 'clever', ',', 'and', 'rich', ',', 'with', 'a', 'comfortable', 'home', 'and', 'happy', 'disposition', ',', 'seemed', 'to', 'unite', 'some', 'of', 'the', 'best', 'blessings', 'of', 'existence', ';', 'and', 'had', 'lived', 'nearly', 'twenty', '-', 'one', 'years', 'in', 'the', 'world', 'with', 'very', 'little', 'to', 'distress', 'or', 've', '##x', 'her', '.'] \n",
      "\n",
      "Convert: \n",
      " [5616, 3536, 4580, 1010, 8502, 1010, 12266, 1010, 1998, 4138, 1010, 2007, 1037, 6625, 2188, 1998, 3407, 22137, 1010, 2790, 2000, 15908, 2070, 1997, 1996, 2190, 24618, 1997, 4598, 1025, 1998, 2018, 2973, 3053, 3174, 1011, 2028, 2086, 1999, 1996, 2088, 2007, 2200, 2210, 2000, 12893, 2030, 2310, 2595, 2014, 1012] \n",
      "\n"
     ]
    }
   ],
   "execution_count": 23
  },
  {
   "cell_type": "markdown",
   "id": "9b7629a8",
   "metadata": {},
   "source": [
    "**Decoding.** Check out the various ways of decoding: `.decode`, `.convert_ids_to_tokens`, `.convert_tokens_to_string`."
   ]
  },
  {
   "cell_type": "code",
   "id": "9ad3b807",
   "metadata": {
    "ExecuteTime": {
     "end_time": "2025-02-21T09:55:15.677826Z",
     "start_time": "2025-02-21T09:55:15.658845Z"
    }
   },
   "source": [
    "input_ids = tokenizer.encode(sentence)\n",
    "print(tokenizer.decode(input_ids))\n",
    "print(tokenizer.decode(input_ids, skip_special_tokens=True))\n",
    "print(tokenizer.convert_tokens_to_string(tokenizer.convert_ids_to_tokens(input_ids)))"
   ],
   "outputs": [
    {
     "name": "stdout",
     "output_type": "stream",
     "text": [
      "[CLS] emma woodhouse, handsome, clever, and rich, with a comfortable home and happy disposition, seemed to unite some of the best blessings of existence ; and had lived nearly twenty - one years in the world with very little to distress or vex her. [SEP]\n",
      "emma woodhouse, handsome, clever, and rich, with a comfortable home and happy disposition, seemed to unite some of the best blessings of existence ; and had lived nearly twenty - one years in the world with very little to distress or vex her.\n",
      "[CLS] emma woodhouse, handsome, clever, and rich, with a comfortable home and happy disposition, seemed to unite some of the best blessings of existence ; and had lived nearly twenty - one years in the world with very little to distress or vex her. [SEP]\n"
     ]
    }
   ],
   "execution_count": 27
  },
  {
   "cell_type": "markdown",
   "id": "b8673fdd",
   "metadata": {},
   "source": [
    "**Tokenization differences.** Compare the tokenization of NLTK, bert-base-uncased and [t5-small](https://huggingface.co/google-t5/t5-small)."
   ]
  },
  {
   "cell_type": "code",
   "id": "efc8fb9f",
   "metadata": {
    "ExecuteTime": {
     "end_time": "2025-02-21T09:56:44.824348Z",
     "start_time": "2025-02-21T09:56:44.264346Z"
    }
   },
   "source": "t5_tokenizer = AutoTokenizer.from_pretrained(\"google-t5/t5-small\")",
   "outputs": [],
   "execution_count": 29
  },
  {
   "metadata": {
    "ExecuteTime": {
     "end_time": "2025-02-21T09:57:17.224789Z",
     "start_time": "2025-02-21T09:57:17.216746Z"
    }
   },
   "cell_type": "code",
   "source": [
    "print(nltk.word_tokenize(sentence))\n",
    "print(tokenizer.tokenize(sentence))\n",
    "print(t5_tokenizer.tokenize(sentence))"
   ],
   "id": "4125ef41439a8577",
   "outputs": [
    {
     "name": "stdout",
     "output_type": "stream",
     "text": [
      "['Emma', 'Woodhouse', ',', 'handsome', ',', 'clever', ',', 'and', 'rich', ',', 'with', 'a', 'comfortable', 'home', 'and', 'happy', 'disposition', ',', 'seemed', 'to', 'unite', 'some', 'of', 'the', 'best', 'blessings', 'of', 'existence', ';', 'and', 'had', 'lived', 'nearly', 'twenty-one', 'years', 'in', 'the', 'world', 'with', 'very', 'little', 'to', 'distress', 'or', 'vex', 'her', '.']\n",
      "['emma', 'wood', '##house', ',', 'handsome', ',', 'clever', ',', 'and', 'rich', ',', 'with', 'a', 'comfortable', 'home', 'and', 'happy', 'disposition', ',', 'seemed', 'to', 'unite', 'some', 'of', 'the', 'best', 'blessings', 'of', 'existence', ';', 'and', 'had', 'lived', 'nearly', 'twenty', '-', 'one', 'years', 'in', 'the', 'world', 'with', 'very', 'little', 'to', 'distress', 'or', 've', '##x', 'her', '.']\n",
      "['▁Emma', '▁Wood', 'house', ',', '▁handsome', ',', '▁clever', ',', '▁and', '▁rich', ',', '▁with', '▁', 'a', '▁comfortable', '▁home', '▁and', '▁happy', '▁disposition', ',', '▁seemed', '▁to', '▁unit', 'e', '▁some', '▁of', '▁the', '▁best', '▁blessing', 's', '▁of', '▁existence', ';', '▁and', '▁had', '▁lived', '▁nearly', '▁twenty', '-', 'one', '▁years', '▁in', '▁the', '▁world', '▁with', '▁very', '▁little', '▁to', '▁distress', '▁or', '▁', 've', 'x', '▁her', '.']\n"
     ]
    }
   ],
   "execution_count": 30
  },
  {
   "cell_type": "markdown",
   "id": "60559c74",
   "metadata": {},
   "source": [
    "Now `encode` and `decode` the sentence with all 3 tokenizers. Is the encoding/decoding lossless, i.e. do we recover the original sentence?"
   ]
  },
  {
   "cell_type": "code",
   "id": "851fe7bf",
   "metadata": {
    "ExecuteTime": {
     "end_time": "2025-02-21T10:03:57.495558Z",
     "start_time": "2025-02-21T10:03:57.478332Z"
    }
   },
   "source": [
    "print(' '.join(nltk.word_tokenize(sentence)))\n",
    "print(tokenizer.decode(tokenizer.encode(sentence), skip_special_tokens=True))\n",
    "print(t5_tokenizer.decode(t5_tokenizer.encode(sentence), skip_special_tokens=True))"
   ],
   "outputs": [
    {
     "name": "stdout",
     "output_type": "stream",
     "text": [
      "Emma Woodhouse , handsome , clever , and rich , with a comfortable home and happy disposition , seemed to unite some of the best blessings of existence ; and had lived nearly twenty-one years in the world with very little to distress or vex her .\n",
      "emma woodhouse, handsome, clever, and rich, with a comfortable home and happy disposition, seemed to unite some of the best blessings of existence ; and had lived nearly twenty - one years in the world with very little to distress or vex her.\n",
      "Emma Woodhouse, handsome, clever, and rich, with a comfortable home and happy disposition, seemed to unite some of the best blessings of existence; and had lived nearly twenty-one years in the world with very little to distress or vex her.\n"
     ]
    }
   ],
   "execution_count": 33
  },
  {
   "cell_type": "markdown",
   "id": "89ab450c",
   "metadata": {},
   "source": [
    "## spaCy\n",
    "We will use the [spaCy 101 guide](https://spacy.io/usage/spacy-101) to familiarize ourselves with its capabilities. First we install and download the small core model for English."
   ]
  },
  {
   "cell_type": "code",
   "id": "8500c142",
   "metadata": {
    "ExecuteTime": {
     "end_time": "2025-02-21T21:31:49.835328Z",
     "start_time": "2025-02-21T21:31:36.630913Z"
    }
   },
   "source": [
    "import os\n",
    "os.environ[\"TOKENIZERS_PARALLELISM\"] = \"false\"\n",
    "\n",
    "#%pip install setuptools wheel\n",
    "#%pip install spacy\n",
    "!python -m spacy download en_core_web_sm"
   ],
   "outputs": [
    {
     "name": "stdout",
     "output_type": "stream",
     "text": [
      "Collecting en-core-web-sm==3.8.0\n",
      "  Downloading https://github.com/explosion/spacy-models/releases/download/en_core_web_sm-3.8.0/en_core_web_sm-3.8.0-py3-none-any.whl (12.8 MB)\n",
      "     ---------------------------------------- 0.0/12.8 MB ? eta -:--:--\n",
      "     ------------------------------ -------- 10.0/12.8 MB 51.9 MB/s eta 0:00:01\n",
      "     --------------------------------------- 12.8/12.8 MB 47.3 MB/s eta 0:00:00\n",
      "\u001B[38;5;2m[+] Download and installation successful\u001B[0m\n",
      "You can now load the package via spacy.load('en_core_web_sm')\n"
     ]
    },
    {
     "name": "stderr",
     "output_type": "stream",
     "text": [
      "\n",
      "[notice] A new release of pip is available: 24.2 -> 25.0.1\n",
      "[notice] To update, run: python.exe -m pip install --upgrade pip\n"
     ]
    }
   ],
   "execution_count": 1
  },
  {
   "cell_type": "markdown",
   "id": "5ce37219",
   "metadata": {},
   "source": [
    "*(You may have to restart your kernel after installing spacy.)*\n",
    "\n",
    "We can now load the NLP pipeline from the small model."
   ]
  },
  {
   "cell_type": "code",
   "id": "ef7c3812",
   "metadata": {
    "ExecuteTime": {
     "end_time": "2025-02-21T21:31:59.575587Z",
     "start_time": "2025-02-21T21:31:54.167694Z"
    }
   },
   "source": [
    "import spacy\n",
    "pipeline = spacy.load('en_core_web_sm')\n",
    "doc = pipeline('Apple is looking at buying U.K. startup for $1 billion.')"
   ],
   "outputs": [],
   "execution_count": 2
  },
  {
   "attachments": {},
   "cell_type": "markdown",
   "id": "ebf94fec",
   "metadata": {},
   "source": [
    "The `doc` object has now tokenized our sentence and ran the NLP pipeline on it, as shown in this image:\n",
    "![spacy pipeline](https://spacy.io/images/pipeline.svg)\n",
    "\n",
    "Use the 101 guide to display the following information about each token.\n",
    "- Text: The original word text.\n",
    "- Lemma: The base form of the word.\n",
    "- POS: The simple [UPOS](https://universaldependencies.org/u/pos/) part-of-speech tag.\n",
    "- Tag: The detailed part-of-speech tag.\n",
    "- Dep: Syntactic dependency, i.e. the relation between tokens.\n",
    "- Shape: The word shape – capitalization, punctuation, digits.\n",
    "- is stopword: Is the token part of a stop list, i.e. the most common words of the language?"
   ]
  },
  {
   "cell_type": "code",
   "id": "cd87b5d5",
   "metadata": {
    "ExecuteTime": {
     "end_time": "2025-02-21T21:35:46.353642Z",
     "start_time": "2025-02-21T21:35:46.346267Z"
    }
   },
   "source": [
    "for token in doc:\n",
    "    print(f\"{token.text}, {token.lemma_}, {token.pos_}, {token.tag_}, {token.dep_}, {token.shape_}, {token.is_stop}\")"
   ],
   "outputs": [
    {
     "name": "stdout",
     "output_type": "stream",
     "text": [
      "Apple, Apple, PROPN, NNP, nsubj, Xxxxx, False\n",
      "is, be, AUX, VBZ, aux, xx, True\n",
      "looking, look, VERB, VBG, ROOT, xxxx, False\n",
      "at, at, ADP, IN, prep, xx, True\n",
      "buying, buy, VERB, VBG, pcomp, xxxx, False\n",
      "U.K., U.K., PROPN, NNP, nsubj, X.X., False\n",
      "startup, startup, VERB, VBD, ccomp, xxxx, False\n",
      "for, for, ADP, IN, prep, xxx, True\n",
      "$, $, SYM, $, quantmod, $, False\n",
      "1, 1, NUM, CD, compound, d, False\n",
      "billion, billion, NUM, CD, pobj, xxxx, False\n",
      "., ., PUNCT, ., punct, ., False\n"
     ]
    }
   ],
   "execution_count": 6
  },
  {
   "cell_type": "markdown",
   "id": "41f3326a",
   "metadata": {},
   "source": [
    "Looking at the named entities in `doc`, print the following information:\n",
    "- The token's text\n",
    "- The start index of the named entity\n",
    "- Its end index\n",
    "- The NER label"
   ]
  },
  {
   "cell_type": "code",
   "id": "40d7418a",
   "metadata": {
    "ExecuteTime": {
     "end_time": "2025-02-21T21:38:37.700326Z",
     "start_time": "2025-02-21T21:38:37.691748Z"
    }
   },
   "source": [
    "for entity in doc.ents:\n",
    "    print(f\"{entity.text}, {entity.start}, {entity.end}, {entity.label_}\")"
   ],
   "outputs": [
    {
     "name": "stdout",
     "output_type": "stream",
     "text": [
      "Apple, 0, 1, ORG\n",
      "U.K., 5, 6, GPE\n",
      "$1 billion, 8, 11, MONEY\n"
     ]
    }
   ],
   "execution_count": 8
  },
  {
   "cell_type": "markdown",
   "id": "decfbf10",
   "metadata": {},
   "source": [
    "**Question:** Search the internet for a description of the entity labels `FAC`, `ORG`, `GPE` and `LOC`."
   ]
  },
  {
   "cell_type": "markdown",
   "id": "672d6e3e",
   "metadata": {},
   "source": [
    "**Answer:**\n",
    "\n",
    "`FAC` = Buildings, airports, highways, bridges, etc.\n",
    "\n",
    "`ORG` = Companies, agencies, institutions, etc.\n",
    "\n",
    "`GPE` = Countries, cities, states.\n",
    "\n",
    "`LOC` = Non-GPE locations, mountain ranges, bodies of water."
   ]
  }
 ],
 "metadata": {
  "kernelspec": {
   "display_name": "nlp-exercises",
   "language": "python",
   "name": "python3"
  },
  "language_info": {
   "codemirror_mode": {
    "name": "ipython",
    "version": 3
   },
   "file_extension": ".py",
   "mimetype": "text/x-python",
   "name": "python",
   "nbconvert_exporter": "python",
   "pygments_lexer": "ipython3",
   "version": "3.12.5"
  }
 },
 "nbformat": 4,
 "nbformat_minor": 5
}
