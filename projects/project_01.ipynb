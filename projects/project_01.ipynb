{
 "cells": [
  {
   "cell_type": "markdown",
   "id": "d4cbec299a5d4f64",
   "metadata": {},
   "source": [
    "## Introduction\n",
    "\n",
    "* #TODO: INSERT LINK TO WANDB VIEW"
   ]
  },
  {
   "cell_type": "markdown",
   "id": "dd1fcc78251ae773",
   "metadata": {},
   "source": [
    "## Setup"
   ]
  },
  {
   "cell_type": "markdown",
   "id": "ae74b556f3aff49",
   "metadata": {},
   "source": [
    "#### Install dependencies\n",
    "\n",
    "* **torch**: PyTorch framework for the creation of neural networks\n",
    "* **lightning**: Lightning wrapper for pytorch for simple network training\n",
    "* **huggingface_hub**: HuggingFace hub for downloading word vectors\n",
    "* **datasets**: HuggingFace datasets to download and load the data set\n",
    "* **wandb**: Weights & Biases for experiment tracking\n",
    "* **fasttext**: Word embedding library\n",
    "* **nltk**: Natural Language Toolkit used for word tokenization\n",
    "* **torchmetrics**: Extension to lightning to compute model metrics"
   ]
  },
  {
   "cell_type": "code",
   "execution_count": 1,
   "id": "33f5c188a84c79a9",
   "metadata": {
    "ExecuteTime": {
     "end_time": "2025-03-21T06:36:18.325309Z",
     "start_time": "2025-03-21T06:36:09.929911Z"
    }
   },
   "outputs": [
    {
     "name": "stdout",
     "output_type": "stream",
     "text": [
      "Note: you may need to restart the kernel to use updated packages.\n",
      "Note: you may need to restart the kernel to use updated packages.\n"
     ]
    }
   ],
   "source": [
    "import sys\n",
    "\n",
    "import numpy as np\n",
    "\n",
    "%pip install -q torch lightning huggingface_hub datasets wandb nltk torchmetrics\n",
    "\n",
    "if sys.platform == 'win32': # Windows requires different fasttext implementation\n",
    "    %pip install -q fasttext-wheel\n",
    "else: \n",
    "    %pip install -q fasttext"
   ]
  },
  {
   "cell_type": "markdown",
   "id": "827b435e83550d40",
   "metadata": {},
   "source": [
    "Do all the imports needed in this project, but keep them separate depending on the part of the notebook that uses them. Reason: Makes reading easier in later sections if done subsequently, but don't users to import everything if they just want to run some specific cells"
   ]
  },
  {
   "cell_type": "markdown",
   "id": "ddf6c5769e426a79",
   "metadata": {},
   "source": [
    "##### pytorch & lightning"
   ]
  },
  {
   "cell_type": "code",
   "execution_count": 2,
   "id": "5e0c3ad68f73131c",
   "metadata": {
    "ExecuteTime": {
     "end_time": "2025-03-22T16:26:46.529313Z",
     "start_time": "2025-03-22T16:26:46.510663Z"
    }
   },
   "outputs": [],
   "source": [
    "import torch\n",
    "import torch.nn as nn\n",
    "import torch.nn.functional as F\n",
    "from torch.utils.data import Dataset\n",
    "import lightning as L\n",
    "from lightning.pytorch.loggers import WandbLogger\n",
    "import torchmetrics"
   ]
  },
  {
   "cell_type": "markdown",
   "id": "28a8be01f6acc709",
   "metadata": {},
   "source": [
    "##### Huggingface"
   ]
  },
  {
   "cell_type": "code",
   "execution_count": 3,
   "id": "ef6c55b396bb8a21",
   "metadata": {
    "ExecuteTime": {
     "end_time": "2025-03-22T16:26:50.161516Z",
     "start_time": "2025-03-22T16:26:50.140404Z"
    }
   },
   "outputs": [],
   "source": [
    "from huggingface_hub import hf_hub_download\n",
    "from datasets import Dataset as HFDataset\n",
    "from datasets import load_dataset"
   ]
  },
  {
   "cell_type": "markdown",
   "id": "57cbccf2e9344a44",
   "metadata": {},
   "source": [
    "##### Tokenization & Embeddings"
   ]
  },
  {
   "cell_type": "code",
   "execution_count": 4,
   "id": "abfecdc173a6fd4f",
   "metadata": {
    "ExecuteTime": {
     "end_time": "2025-03-22T16:26:52.078548Z",
     "start_time": "2025-03-22T16:26:52.054865Z"
    }
   },
   "outputs": [],
   "source": [
    "import nltk\n",
    "import fasttext"
   ]
  },
  {
   "cell_type": "markdown",
   "id": "36d523ec31804506",
   "metadata": {},
   "source": [
    "##### Python Builtins"
   ]
  },
  {
   "cell_type": "code",
   "execution_count": 5,
   "id": "2ccac58d97e06351",
   "metadata": {
    "ExecuteTime": {
     "end_time": "2025-03-22T16:26:52.856914Z",
     "start_time": "2025-03-22T16:26:52.847440Z"
    }
   },
   "outputs": [],
   "source": [
    "from typing import Callable\n",
    "import time"
   ]
  },
  {
   "cell_type": "markdown",
   "id": "bf90dec31f8030c9",
   "metadata": {},
   "source": [
    "##### Experiment Tracking"
   ]
  },
  {
   "cell_type": "code",
   "execution_count": 6,
   "id": "2c62074d7822dd2f",
   "metadata": {
    "ExecuteTime": {
     "end_time": "2025-03-22T16:26:53.857563Z",
     "start_time": "2025-03-22T16:26:53.840193Z"
    }
   },
   "outputs": [],
   "source": [
    "import wandb"
   ]
  },
  {
   "cell_type": "markdown",
   "id": "b696ef4250c380a0",
   "metadata": {},
   "source": [
    "#### Load dataset\n",
    "\n",
    "Use the pre-defined method to load the dataset and do the train and validation split"
   ]
  },
  {
   "cell_type": "code",
   "execution_count": 7,
   "id": "ad899724a20482d9",
   "metadata": {
    "ExecuteTime": {
     "end_time": "2025-03-22T16:27:15.986089Z",
     "start_time": "2025-03-22T16:26:54.676572Z"
    }
   },
   "outputs": [
    {
     "name": "stdout",
     "output_type": "stream",
     "text": [
      "8741 1000 1221\n"
     ]
    }
   ],
   "source": [
    "train: HFDataset = load_dataset(\"tau/commonsense_qa\", split=\"train[:-1000]\")\n",
    "valid: HFDataset = load_dataset(\"tau/commonsense_qa\", split=\"train[-1000:]\")\n",
    "test: HFDataset = load_dataset(\"tau/commonsense_qa\", split=\"validation\")\n",
    "\n",
    "print(len(train), len(valid), len(test))"
   ]
  },
  {
   "cell_type": "markdown",
   "id": "cdc78217c5ed1f84",
   "metadata": {},
   "source": [
    "#### Setup Weights & Biases\n",
    "\n",
    "Login to weights and biases to enable experiment tracking"
   ]
  },
  {
   "cell_type": "code",
   "execution_count": 8,
   "id": "b9bc41bae4172979",
   "metadata": {},
   "outputs": [
    {
     "name": "stderr",
     "output_type": "stream",
     "text": [
      "Failed to detect the name of this notebook, you can set it manually with the WANDB_NOTEBOOK_NAME environment variable to enable code saving.\n",
      "\u001b[34m\u001b[1mwandb\u001b[0m: Using wandb-core as the SDK backend.  Please refer to https://wandb.me/wandb-core for more information.\n",
      "\u001b[34m\u001b[1mwandb\u001b[0m: Currently logged in as: \u001b[33mschurtenberger-david\u001b[0m (\u001b[33mdavid-schurtenberger\u001b[0m) to \u001b[32mhttps://api.wandb.ai\u001b[0m. Use \u001b[1m`wandb login --relogin`\u001b[0m to force relogin\n"
     ]
    },
    {
     "data": {
      "text/plain": [
       "True"
      ]
     },
     "execution_count": 8,
     "metadata": {},
     "output_type": "execute_result"
    }
   ],
   "source": [
    "wandb.login()"
   ]
  },
  {
   "cell_type": "markdown",
   "id": "b635a3413d69a3fc",
   "metadata": {},
   "source": [
    "## Preprocessing\n",
    "\n",
    "#### Vocabulary/Embedding\n",
    "\n",
    "* I decided to use the **FastText** library for this project, since in class it was said that FastText is superior to the other embedding models and there is no problem with embedding unknown words, because it can create word vectors from their subwords. Furthermore, I will be working with the **facebook/fasttext-en-vectors** word vectors from the HuggingFace hub. They embed words from the English language, which is the only relevant language.\n",
    "\n",
    "* This choice influences decisions in the following pre-processing steps.\n",
    "\n",
    "#### Format cleaning (e.g. html-extracted text)\n",
    "\n",
    "* No format cleaning is performed, because we work with a carefully assembled and standardized dataset used in model benchmarking.\n",
    "\n",
    "#### Tokenization\n",
    "\n",
    "* *word_tokenizer* from the **nltk** library will be used. This tokenizer works well for the English language. It also splits punctuation from text, which matches the tokens the fasttext word vectors were trained on.\n",
    "\n",
    "#### Lowercasing, stemming, lemmatizing, stopword/punctuation removal\n",
    "\n",
    "* **Lowercasing**: Although the word vectors in use were trained on case-sensitive data, the tokenized words will be lowercased to reach a smaller vocabulary and minimize out-of-vocabulary words.\n",
    "* **Stemming**: The word embedding model was not trained on word stems and therefore no stemming is carried out.\n",
    "* **Lemmatizing**: The word tokens to be embedded will not be lemmatized, because the fasttext model was trained on un-lemmatized words and the n-gram encoding of the words used in fasttext preserves sub-word information.\n",
    "* **Stopword/Punctudation removal**: Since the task is to answer common-sense questions, stopwords and punctuation will not be removed. Most of the questions are quite short and the loss of information if either a critical stopword in the question or punctuation that changes the meaning of the question is removed could be significant.\n",
    "\n",
    "#### Removal of unknown/other words\n",
    "\n",
    "* Since I am working with a fasttext model, the removal of unknown words is not necessary, because vectors for them can implicitly be built from their n-gram vectors. Also, the encounter of unknown words is not expected.\n",
    "\n",
    "#### Truncation\n",
    "\n",
    "* Input will not be truncated. After some data review, the question yielding the most embedded word vectors yields a tensor of shape **300x67**. Depending on the input format, the RNN model will have to perform significantly less than 100 time steps for the longest input, which is deemed to be feasible. Also, if padding is implemented correctly, for every timestep only the necessary amount of time steps will be executed.\n",
    "\n",
    "#### Feature selection\n",
    "\n",
    "* Of the available features, the **question**, the **choices** and the **answerKey** were chosen. While the *questionConcept* seemed like an interesting feature at first, after some data review it was determined, that this feature often simply contains a word from the question. In the end this feature was left out in order not to give too much emphasis to a single word that does likely not help answering the question at all.\n",
    "\n",
    "#### Input format: how is data passed to the model?\n",
    "\n",
    "###### Classifier\n",
    "\n",
    "   * I chose the input for the *Classifier Model* to be a tensor of size **1800**. The first 300 elements are the averages of the embedded question tokens, next are 300 elements for every embedded and averaged answer vector from answer option 'A' to 'E'.\n",
    "      * The average of the question vectors was chosen, because it is a good tradeoff between information retention and input  dimension for the classifier.\n",
    "      * The question vector is before the answer vectors, because \"Q&A\" also has question first, then answers.\n",
    "      * The answers are arranged from 'A' to 'E' because of alphabetical order.\n",
    "      * The average of the answer embeddings has been chosen, since answers can consist of multiple words and therefore may yield multiple embedding vectors.\n",
    "\n",
    "###### RNN + Classifier\n",
    "\n",
    "   * I chose the input for the *RNN + Classifier Model* to be tensor of size **300 x (N + 10)**. The first *N* columns of the tensor are the word-embeddings of the question. The last *10* columns are the averages of the word embeddings for each answer choice, separated by a *SEP* token.\n",
    "      * As separation token the character **¦** was chosen, because it is known to the embeddings model, but does not appear in the data.\n",
    "      * The separation token was introduced to signal to the model, that after the input after this reserved token is an answer choice.\n",
    "      * All answer embeddings are concatenated to the question embeddings to only need one full pass through the RNN model to get a prediction.\n",
    "      * The answer embeddings are after the question embeddings, because \"Q&A\" also has question first, then answer.\n",
    "\n",
    "#### Label format: what should the model predict?\n",
    "\n",
    "* Both model architectures will predict a vector of length 5. Every answer choice ('A' through 'E') is encoded on an index in the vector (0 through 4). Since the classifier at the last stage of the model predicts the likelihood of each output, this output format seems the most reasonable. Also, with this kind of output, the model only needs to run once for every classification, which should increase compute performance.\n",
    "\n",
    "#### Train/valid/test splits\n",
    "\n",
    "* As seen in the *Introduction* section, the train/validation/test splits are performed as defined in the course\n",
    "\n",
    "#### Batching, padding\n",
    "\n",
    "* For each model, before training the batch size is determined at which 80% of GPU memory is being used. This threshold was chosen, because the GPU is well utilized, but there is still room for unforseen memory usage.\n",
    "    * Note: For the classifier model, the entire training data sit would fit on the GPU memory at once. The batch size for that model will be statically set at **512**. Reason: Still use stochastic gradient descent with around 16 batches in total.\n",
    "* Only the input of the **RNN + Classifier** model is of variable size, therefore padding is only necessary for that model. #TODO: specify padding for RNN model and check entire documentation of preprocessing, add documentation on batch size experiment"
   ]
  },
  {
   "cell_type": "markdown",
   "id": "8bf5eb8363eacb78",
   "metadata": {},
   "source": [
    "### Tokenize\n",
    "\n",
    "Create method to tokenize and lowercase a given text"
   ]
  },
  {
   "cell_type": "code",
   "execution_count": 9,
   "id": "5b71c0f47430aebe",
   "metadata": {
    "ExecuteTime": {
     "end_time": "2025-03-22T16:27:16.310179Z",
     "start_time": "2025-03-22T16:27:16.067380Z"
    }
   },
   "outputs": [
    {
     "name": "stderr",
     "output_type": "stream",
     "text": [
      "[nltk_data] Downloading package punkt_tab to /home/jovyan/nltk_data...\n",
      "[nltk_data]   Package punkt_tab is already up-to-date!\n"
     ]
    }
   ],
   "source": [
    "nltk.download(\"punkt_tab\")\n",
    "\n",
    "def tokenize(text: str) -> list[str]:\n",
    "    return [w.lower() for w in nltk.word_tokenize(text, language=\"english\")]"
   ]
  },
  {
   "cell_type": "markdown",
   "id": "226d42f6a99035f0",
   "metadata": {},
   "source": [
    "### Word embeddings\n",
    "\n",
    "Download the english fasttext word vectors and load their model into the variable *wv_model*\n",
    "\n",
    "Create a function to embed a list of tokenized words and return them as a list of pytorch tensors"
   ]
  },
  {
   "cell_type": "code",
   "execution_count": 10,
   "id": "1403d38e9ae55f30",
   "metadata": {
    "ExecuteTime": {
     "end_time": "2025-03-22T16:27:42.652832Z",
     "start_time": "2025-03-22T16:27:16.474625Z"
    }
   },
   "outputs": [],
   "source": [
    "model_path = hf_hub_download(\"facebook/fasttext-en-vectors\", \"model.bin\")\n",
    "wv_model = fasttext.load_model(model_path)\n",
    "\n",
    "def get_embeddings_for_tokens(tokens: list[str]):\n",
    "    return torch.stack([torch.tensor(wv_model[t]) for t in tokens])\n",
    "    "
   ]
  },
  {
   "cell_type": "markdown",
   "id": "762f05a64aba4571",
   "metadata": {},
   "source": [
    "### Data Loading and Formatting\n",
    "\n",
    "Create a **pytorch** *Dataset* class in which the HuggingFace dataset is loaded and preprocessed. This allows for an easy integration with a *DataLoader* afterward."
   ]
  },
  {
   "cell_type": "code",
   "execution_count": 11,
   "id": "e2dfba7d95d0678",
   "metadata": {
    "ExecuteTime": {
     "end_time": "2025-03-22T16:48:08.068361Z",
     "start_time": "2025-03-22T16:48:08.060793Z"
    }
   },
   "outputs": [],
   "source": [
    "TransformMethod = Callable[[torch.Tensor, list[torch.Tensor]], torch.Tensor]"
   ]
  },
  {
   "cell_type": "markdown",
   "id": "aa78299e9e366c1d",
   "metadata": {},
   "source": [
    "Create a separator token from a character that is known to the word vector model, but unused in the train, valid and test datasets "
   ]
  },
  {
   "cell_type": "code",
   "execution_count": 12,
   "id": "40a64f78521705ac",
   "metadata": {
    "ExecuteTime": {
     "end_time": "2025-03-22T16:27:42.899593Z",
     "start_time": "2025-03-22T16:27:42.873210Z"
    }
   },
   "outputs": [
    {
     "name": "stderr",
     "output_type": "stream",
     "text": [
      "/tmp/ipykernel_55379/4091998474.py:1: UserWarning: Creating a tensor from a list of numpy.ndarrays is extremely slow. Please consider converting the list to a single numpy.ndarray with numpy.array() before converting to a tensor. (Triggered internally at /pytorch/torch/csrc/utils/tensor_new.cpp:254.)\n",
      "  SEP_TOKENS = torch.tensor(list(wv_model[f\"<{i}>\"] for i in range(1, 6)))\n"
     ]
    },
    {
     "data": {
      "text/plain": [
       "torch.Size([5, 300])"
      ]
     },
     "execution_count": 12,
     "metadata": {},
     "output_type": "execute_result"
    }
   ],
   "source": [
    "SEP_TOKENS = torch.tensor(list(wv_model[f\"<{i}>\"] for i in range(1, 6)))\n",
    "SEP_TOKENS.shape"
   ]
  },
  {
   "cell_type": "code",
   "execution_count": 13,
   "id": "beff391944e99b90",
   "metadata": {
    "ExecuteTime": {
     "end_time": "2025-03-22T16:49:37.046015Z",
     "start_time": "2025-03-22T16:49:37.035039Z"
    }
   },
   "outputs": [],
   "source": [
    "KEY_INDEX_MAPPING = {\n",
    "    \"A\": 0,\n",
    "    \"B\": 1,\n",
    "    \"C\": 2,\n",
    "    \"D\": 3,\n",
    "    \"E\": 4,\n",
    "}\n",
    "\n",
    "class CommonsenseQADataset(Dataset):    \n",
    "    def __init__(self, dataset: HFDataset, transform: TransformMethod):\n",
    "        self.dataset: list[dict[str, torch.tensor | list[torch.tensor]]] = []\n",
    "        self._target_transform = transform\n",
    "        self._transform_hugging_face_dataset(dataset)\n",
    "    \n",
    "    def _transform_hugging_face_dataset(self, dataset: HFDataset):\n",
    "        self.dataset.extend([{\n",
    "            \"feature\": self._target_transform(\n",
    "                get_embeddings_for_tokens(tokenize(entry[\"question\"])),\n",
    "                [get_embeddings_for_tokens(tokenize(choice)) for choice in entry[\"choices\"][\"text\"]],\n",
    "            ),\n",
    "            \"label\": torch.eye(5)[KEY_INDEX_MAPPING[entry[\"answerKey\"]]],\n",
    "        } for entry in dataset])\n",
    "        if len(self.dataset) != len(dataset):\n",
    "            raise RuntimeError(\"Converted dataset is not full reflection of source data\")\n",
    "    \n",
    "    def __len__(self):\n",
    "        return len(self.dataset)\n",
    "    \n",
    "    def __getitem__(self, idx):\n",
    "        data_point = self.dataset[idx]\n",
    "        return data_point[\"feature\"], data_point[\"label\"]"
   ]
  },
  {
   "cell_type": "markdown",
   "id": "31cc3469965c8b86",
   "metadata": {},
   "source": [
    "Interchangeable transform function for **Classifier** network\n",
    "\n",
    "* Function input: Question-tensor (300 x N) and answer-tensor (300 x 5)\n",
    "* Function output: Classifier vector (1800)\n",
    "    * Average of question vectors yields vector of size 300\n",
    "    * Question vector and answer vectors are concatenated (5 * 300 = 1800)"
   ]
  },
  {
   "cell_type": "code",
   "execution_count": 14,
   "id": "d1384f3a7738a244",
   "metadata": {
    "ExecuteTime": {
     "end_time": "2025-03-22T16:49:37.814218Z",
     "start_time": "2025-03-22T16:49:37.805510Z"
    }
   },
   "outputs": [],
   "source": [
    "def classifier_target_transform(question: torch.Tensor, answers: list[torch.Tensor]) -> torch.Tensor:\n",
    "    return torch.cat((question.mean(dim=0), *(a.mean(dim=0) for a in answers)))"
   ]
  },
  {
   "cell_type": "markdown",
   "id": "8b65a982633864dd",
   "metadata": {},
   "source": [
    "Interchangeable transform function for **RNN + Classifier** network\n",
    "\n",
    "* Function input: Question-tensor (300 x N) and answer-tensor (300 x 5)\n",
    "* Function output: RNN-tensor (300 x (N + 10)) with N question vectors, 5 answer vectors and 5 SEP_TOKEN vectors separating the question from the answer and the answers from each other."
   ]
  },
  {
   "cell_type": "code",
   "execution_count": 127,
   "id": "7278eaffa9f7bae1",
   "metadata": {
    "ExecuteTime": {
     "end_time": "2025-03-22T16:49:38.673109Z",
     "start_time": "2025-03-22T16:49:38.662427Z"
    }
   },
   "outputs": [],
   "source": [
    "def rnn_target_transform(question: torch.Tensor, answers: list[torch.Tensor]) -> torch.Tensor:\n",
    "    separated_answers = [torch.cat((SEP_TOKENS[i].unsqueeze(0), a.mean(dim=0).unsqueeze(0)), dim=0) for i, a in enumerate(answers)]\n",
    "    \n",
    "    return torch.cat([question, *separated_answers])"
   ]
  },
  {
   "cell_type": "markdown",
   "id": "6844adea2617f1eb",
   "metadata": {},
   "source": [
    "Define collate function that implements the padding for the RNN+Classifier network"
   ]
  },
  {
   "cell_type": "code",
   "execution_count": 128,
   "id": "57768745de06f997",
   "metadata": {
    "ExecuteTime": {
     "end_time": "2025-03-22T16:49:39.223264Z",
     "start_time": "2025-03-22T16:49:39.212993Z"
    }
   },
   "outputs": [],
   "source": [
    "def rnn_collate_fn(batch: list[tuple[torch.Tensor, torch.Tensor]]):\n",
    "    sequences, labels = zip(*batch)\n",
    "    return nn.utils.rnn.pack_sequence(sequences, enforce_sorted=False), torch.stack(labels)"
   ]
  },
  {
   "cell_type": "markdown",
   "id": "1e4941497bdf4f65",
   "metadata": {},
   "source": [
    "Transform HuggingFace datasets to pytorch Datasets for both Classifier and RNN+Classifier models"
   ]
  },
  {
   "cell_type": "code",
   "execution_count": 129,
   "id": "16ae26b8c01da94b",
   "metadata": {
    "ExecuteTime": {
     "end_time": "2025-03-22T16:50:08.342562Z",
     "start_time": "2025-03-22T16:49:40.162957Z"
    }
   },
   "outputs": [],
   "source": [
    "train_classifier = CommonsenseQADataset(train, classifier_target_transform)\n",
    "valid_classifier = CommonsenseQADataset(valid, classifier_target_transform)\n",
    "test_classifier = CommonsenseQADataset(test, classifier_target_transform)\n",
    "\n",
    "\n",
    "train_rnn = CommonsenseQADataset(train, rnn_target_transform)\n",
    "valid_rnn = CommonsenseQADataset(valid, rnn_target_transform)\n",
    "test_rnn = CommonsenseQADataset(test, rnn_target_transform)"
   ]
  },
  {
   "cell_type": "markdown",
   "id": "fc5a1ae791e74c08",
   "metadata": {},
   "source": [
    "The following routine is used to determine the best batch size. The model is loaded"
   ]
  },
  {
   "cell_type": "code",
   "execution_count": 18,
   "id": "b41bb4779fb9290e",
   "metadata": {},
   "outputs": [],
   "source": [
    "def batch_size_finder(data: Dataset, model: nn.Module, collate_fn = None, max_memory_usage=0.8) -> tuple[int, float]:\n",
    "    device = \"cuda\" if torch.cuda.is_available() else \"cpu\"\n",
    "    if not device == \"cuda\":\n",
    "        raise RuntimeError(\"Can only be run on gpu\")\n",
    "    batch_size, memory_usage = 16, 0\n",
    "    model.to(device)\n",
    "    \n",
    "    while True:\n",
    "        loader = torch.utils.data.DataLoader(data, batch_size=batch_size, collate_fn=collate_fn, num_workers=4)\n",
    "        inputs = nn.utils.rnn.PackedSequence(torch.tensor(()), torch.tensor(())) if collate_fn else torch.tensor([])\n",
    "        labels = torch.tensor([])\n",
    "        for i, l in loader:\n",
    "            if isinstance(i, nn.utils.rnn.PackedSequence):\n",
    "                if i.batch_sizes.shape > inputs.batch_sizes.shape:\n",
    "                    inputs, labels = i, l                  \n",
    "            elif i.shape > inputs.shape:\n",
    "                inputs, labels = i, l\n",
    "        try:\n",
    "            inputs, labels = inputs.to(device), labels.to(device)\n",
    "            _ = model(inputs)\n",
    "            \n",
    "            # Check memory usage\n",
    "            mem_allocated = torch.cuda.memory_allocated(device)\n",
    "            mem_reserved = torch.cuda.memory_reserved(device)\n",
    "            mem_usage = mem_allocated / mem_reserved\n",
    "\n",
    "            print(f\"Batch Size: {batch_size}, Memory Usage: {mem_usage:%}\")\n",
    "\n",
    "            if mem_usage <= memory_usage:\n",
    "                return batch_size // 2, memory_usage\n",
    "            \n",
    "            if mem_usage >= max_memory_usage:\n",
    "                return batch_size, mem_usage\n",
    "           \n",
    "            batch_size *= 2\n",
    "            memory_usage = mem_usage\n",
    "        \n",
    "        except RuntimeError as e:\n",
    "            if 'out of memory' in str(e):\n",
    "                return batch_size // 2, memory_usage\n",
    "            raise e\n",
    "    "
   ]
  },
  {
   "cell_type": "markdown",
   "id": "3c78934ccac35531",
   "metadata": {},
   "source": [
    "Determine the optimal batch size for both Classifier and RNN+Classifier models. Optimal batch size was chosen to be when 80% of memory is used."
   ]
  },
  {
   "cell_type": "code",
   "execution_count": 19,
   "id": "28c51ae13142290f",
   "metadata": {},
   "outputs": [],
   "source": [
    "HIDDEN_DIM_CLASSIFIER = 4096"
   ]
  },
  {
   "cell_type": "code",
   "execution_count": 20,
   "id": "f965e29192a6149",
   "metadata": {},
   "outputs": [],
   "source": [
    "# BATCH_SIZE_CLASSIFIER, memory_usage = batch_size_finder(train_classifier, Classifier(hidden_dim=HIDDEN_DIM_CLASSIFIER))\n",
    "# print(f\"Batch Size: {BATCH_SIZE_CLASSIFIER} @ {memory_usage:%} memory usage\")\n",
    "BATCH_SIZE_CLASSIFIER = 512"
   ]
  },
  {
   "cell_type": "code",
   "execution_count": 21,
   "id": "a23bf6061470b927",
   "metadata": {},
   "outputs": [],
   "source": [
    "HIDDEN_DIM_RNN_LINEAR, HIDDEN_DIM_RNN_GRU, BIDIRECTIONAL = 2048, 256, True"
   ]
  },
  {
   "cell_type": "code",
   "execution_count": 22,
   "id": "4abd0c35b8861437",
   "metadata": {},
   "outputs": [],
   "source": [
    "# BATCH_SIZE_RNN, memory_usage = batch_size_finder(train_rnn, RNNClassifier(hidden_dim_linear=HIDDEN_DIM_RNN_LINEAR, hidden_dim_gru=HIDDEN_DIM_RNN_GRU, bidirectional=BIDIRECTIONAL), rnn_collate_fn)\n",
    "# print(f\"Batch Size: {BATCH_SIZE_RNN} @ {memory_usage:%} memory usage\")\n",
    "BATCH_SIZE_RNN = 512"
   ]
  },
  {
   "cell_type": "markdown",
   "id": "6d659013d41df134",
   "metadata": {},
   "source": [
    "Instantiate data loaders for both model types"
   ]
  },
  {
   "cell_type": "code",
   "execution_count": 23,
   "id": "9eca8e459cf146cc",
   "metadata": {},
   "outputs": [],
   "source": [
    "train_loader_classifier = torch.utils.data.DataLoader(train_classifier, batch_size=BATCH_SIZE_CLASSIFIER, shuffle=True, num_workers=4)\n",
    "valid_loader_classifier = torch.utils.data.DataLoader(valid_classifier, batch_size=BATCH_SIZE_CLASSIFIER, num_workers=4)\n",
    "test_loader_classifier = torch.utils.data.DataLoader(test_classifier, batch_size=BATCH_SIZE_CLASSIFIER, num_workers=4)\n",
    "\n",
    "train_loader_rnn = torch.utils.data.DataLoader(train_rnn, batch_size=BATCH_SIZE_RNN, collate_fn=rnn_collate_fn, shuffle=True, num_workers=4)\n",
    "valid_loader_rnn = torch.utils.data.DataLoader(valid_rnn, batch_size=BATCH_SIZE_RNN, collate_fn=rnn_collate_fn, num_workers=4)\n",
    "test_loader_rnn = torch.utils.data.DataLoader(train_rnn, batch_size=BATCH_SIZE_RNN, collate_fn=rnn_collate_fn, num_workers=4)"
   ]
  },
  {
   "cell_type": "markdown",
   "id": "554586163be5eb6b",
   "metadata": {},
   "source": [
    "# 1. Architecture: WordEmbeddings &rarr; Classifier"
   ]
  },
  {
   "cell_type": "markdown",
   "id": "1a26a4c41b4d0171",
   "metadata": {},
   "source": [
    "## Model\n",
    "\n",
    "I chose to use **lightning** to create a streamlined model training process. The *LightningModule* subclass was created with the help of the [API doc](https://lightning.ai/docs/pytorch/LTS/common/lightning_module.html#lightningmodule-api) and the \"experiment_tracking\" notebook that we looked at in the Project Discussion lecture\n",
    "\n",
    "The model architecture complies with the required architecture in the project description.\n",
    "* Between input and hidden layer there is RELU-non-linearity as activation function. Reason: required\n",
    "* The output of the second layer is activated using SoftMax. Reason: meaningful output activation for multiclass classification\n",
    "* The metrics \"val_loss\", \"val_acc\", \"train_loss\", \"train_acc\" are logged after every epoch. Reason: Meaningful metrics, not overwhelming experiment tracking view #TODO: lightning part has moved"
   ]
  },
  {
   "cell_type": "code",
   "execution_count": 25,
   "id": "40c1e0798eb9f7f4",
   "metadata": {
    "ExecuteTime": {
     "end_time": "2025-03-21T13:42:34.335991Z",
     "start_time": "2025-03-21T13:42:34.326078Z"
    }
   },
   "outputs": [],
   "source": [
    "class Classifier(nn.Module):\n",
    "    def __init__(self, input_dim: int = 1800, hidden_dim: int = 4096, output_dim: int = 5):\n",
    "        super().__init__()\n",
    "        self.fc1 = nn.Linear(input_dim, hidden_dim)\n",
    "        self.fc2 = nn.Linear(hidden_dim, output_dim)\n",
    "        \n",
    "    def forward(self, x: torch.Tensor) -> torch.Tensor:\n",
    "        fc1 = F.relu(self.fc1(x))\n",
    "        return F.softmax(self.fc2(fc1), dim=-1)\n",
    "    \n",
    "    def reset_parameters(self):\n",
    "        self.fc1.reset_parameters()\n",
    "        self.fc2.reset_parameters()"
   ]
  },
  {
   "cell_type": "markdown",
   "id": "4c1d04ba2f9898ed",
   "metadata": {},
   "source": [
    "## Training\n",
    "\n",
    "#TODO: training documentation head"
   ]
  },
  {
   "cell_type": "markdown",
   "id": "f3ad86e7de95bd58",
   "metadata": {},
   "source": [
    "#### Utilities\n",
    "\n",
    "> These functions will be reused for the RNN+Classifier model, but not explicitly introduced again in that notebook section.\n",
    "\n",
    "Create a Utility class for run parameters, that automatically creates a meaningful run-name and returns the config for wandb\n",
    "\n",
    "* Require a model_name.\n",
    "* Optional hyperparameter *kwargs* that are passed to the wandb initialization as config. Reason: Track all hyperparameters for reproducibility\n",
    "* The run name for wandb will be created from the model name and some key hyperparameters as well as a timestamp. Reason: concise run name with most important information and include timestep for unique run names even with matching hyperparameters\n"
   ]
  },
  {
   "cell_type": "code",
   "execution_count": 29,
   "id": "8f80f88f66034749",
   "metadata": {
    "ExecuteTime": {
     "end_time": "2025-03-20T18:37:31.636047Z",
     "start_time": "2025-03-20T18:37:31.626422Z"
    }
   },
   "outputs": [],
   "source": [
    "class RunParameters:\n",
    "    def __init__(self, model_name: str, **kwargs):\n",
    "        self._name = model_name\n",
    "        self._params = dict(kwargs)\n",
    "    \n",
    "    def __call__(self) -> dict:\n",
    "        return self._params\n",
    "    \n",
    "    def __str__(self):\n",
    "        timestamp = time.strftime(\"%Y%m%d-%H%M%S\")\n",
    "        return f\"{self._name}_lr{self._params['learning_rate']}_bs{self._params['batch_size']}_ep{self._params['epochs']}_{timestamp}\""
   ]
  },
  {
   "cell_type": "markdown",
   "id": "718e0f3dff45f259",
   "metadata": {},
   "source": [
    "Crete a LightningModule subclass that takes the model and all hyperparameters as arguments. With this class training can be simplified using the pytorch lightning framework. This class will also be reused for the RNN+Classifier model.\n"
   ]
  },
  {
   "cell_type": "code",
   "execution_count": 30,
   "id": "130d3b7479e8a8eb",
   "metadata": {},
   "outputs": [],
   "source": [
    "class CqaModule(L.LightningModule):\n",
    "    def __init__(\n",
    "            self, \n",
    "            model: Classifier,\n",
    "            loss_function,\n",
    "            **kwargs        \n",
    "    ):\n",
    "        super().__init__()\n",
    "        self.save_hyperparameters(kwargs)\n",
    "        self.model = model\n",
    "        self.model.reset_parameters()\n",
    "        \n",
    "        self.loss_fn = loss_function()\n",
    "        \n",
    "        self._train_acc = torchmetrics.Accuracy(\"multiclass\", num_classes=self.hparams.output_dim)\n",
    "        self._train_loss = []\n",
    "        self._valid_acc = torchmetrics.Accuracy(\"multiclass\", num_classes=self.hparams.output_dim)\n",
    "        self._valid_loss = []\n",
    "        \n",
    "    def forward(self, x: torch.Tensor) -> torch.Tensor:\n",
    "        return self.model(x)\n",
    "    \n",
    "    def training_step(self, batch, batch_idx):\n",
    "        x, y = batch\n",
    "        y_hat = self(x)\n",
    "        loss = self.loss_fn(y_hat, y.argmax(-1))\n",
    "        self._train_loss.append(loss)\n",
    "        self._train_acc(y_hat, y.argmax(-1))\n",
    "        return loss\n",
    "\n",
    "    def validation_step(self, batch, batch_idx):\n",
    "        x, y = batch\n",
    "        y_hat = self(x)\n",
    "        loss = self.loss_fn(y_hat, y.argmax(-1))\n",
    "        self._valid_loss.append(loss)\n",
    "        self._valid_acc(y_hat, y.argmax(-1))\n",
    "\n",
    "    def test_step(self, batch, batch_idx):\n",
    "        x, y = batch\n",
    "        y_hat = self(x)\n",
    "        loss = self.loss_fn(y_hat, y.argmax(-1))\n",
    "        self.log('test_loss', loss)\n",
    "\n",
    "    def on_train_epoch_end(self):\n",
    "        loss = torch.stack(self._train_loss).mean()\n",
    "        self.log_dict({'train_loss': loss, 'train_acc': self._train_acc.compute()}, prog_bar=True)\n",
    "        self._train_loss.clear()\n",
    "        self._train_acc.reset()\n",
    "\n",
    "    def on_validation_epoch_end(self):\n",
    "        loss = torch.stack(self._valid_loss).mean()\n",
    "        self.log_dict({'valid_loss': loss, 'valid_acc': self._valid_acc.compute()}, prog_bar=True)\n",
    "        self._valid_loss.clear()\n",
    "        self._valid_acc.reset()\n",
    "\n",
    "    def configure_optimizers(self):\n",
    "        optim = torch.optim.AdamW(\n",
    "            self.parameters(), \n",
    "            lr=self.hparams.learning_rate / 100, \n",
    "            eps=self.hparams.adam_epsilon, \n",
    "            weight_decay=self.hparams.weight_decay\n",
    "        )\n",
    "        scheduler = torch.optim.lr_scheduler.OneCycleLR(optim, self.hparams.learning_rate, epochs=self.hparams.epochs, steps_per_epoch=self.hparams.steps_per_epoch)\n",
    "        return {\"optimizer\": optim, \"lr_scheduler\": scheduler}\n",
    "        "
   ]
  },
  {
   "cell_type": "markdown",
   "id": "96fee839789148a2",
   "metadata": {},
   "source": [
    "#### Training routine\n",
    "\n",
    "Define the function **train_classifier** which describes the training routine for the classifier model using the **Trainer** class of *lightning* "
   ]
  },
  {
   "cell_type": "code",
   "execution_count": 157,
   "id": "50dc9afa3b8d2e16",
   "metadata": {},
   "outputs": [],
   "source": [
    "def lightning_train_classifier(config, logger, train_loader, valid_loader, *callbacks):\n",
    "    L.seed_everything(42)\n",
    "    model = CqaModule(\n",
    "        Classifier(hidden_dim=config.get(\"hidden_dim_classifier\")),\n",
    "        nn.CrossEntropyLoss,\n",
    "        **config\n",
    "    )\n",
    "    trainer = L.Trainer(\n",
    "        max_epochs=config.get(\"epochs\"),\n",
    "        accelerator=\"auto\",\n",
    "        devices=1,\n",
    "        callbacks=list(callbacks),\n",
    "        logger=logger,\n",
    "    )\n",
    "    trainer.fit(model, train_loader, valid_loader)"
   ]
  },
  {
   "cell_type": "markdown",
   "id": "302e5be5719640b0",
   "metadata": {},
   "source": [
    "#### Run parameters"
   ]
  },
  {
   "cell_type": "markdown",
   "id": "f6cae337d032af7a",
   "metadata": {},
   "source": [
    "Define Hyperparameters for the run"
   ]
  },
  {
   "cell_type": "code",
   "execution_count": 243,
   "id": "20fced576b1c3b20",
   "metadata": {
    "ExecuteTime": {
     "end_time": "2025-03-19T13:35:13.115411Z",
     "start_time": "2025-03-19T13:35:13.110073Z"
    }
   },
   "outputs": [],
   "source": [
    "parameters = RunParameters(\n",
    "    \"Classifier\",\n",
    "    learning_rate=1e-3,\n",
    "    epochs=100,\n",
    "    input_dim=1800,\n",
    "    hidden_dim_classifier=4096,\n",
    "    output_dim=5,\n",
    "    adam_epsilon=1e-8,\n",
    "    weight_decay=1e-8,\n",
    "    batch_size=BATCH_SIZE_CLASSIFIER,\n",
    "    steps_per_epoch=len(train_loader_classifier),\n",
    ")"
   ]
  },
  {
   "cell_type": "markdown",
   "id": "802f350873e1806d",
   "metadata": {},
   "source": [
    "#### Checkpointing\n",
    "\n",
    "#TODO: add documentation"
   ]
  },
  {
   "cell_type": "code",
   "execution_count": 244,
   "id": "b123befecb9a8b47",
   "metadata": {},
   "outputs": [],
   "source": [
    "checkpoint_callback = L.pytorch.callbacks.ModelCheckpoint(\n",
    "    dirpath=\"./lightning_checkpoints\",\n",
    "    filename=str(parameters) + \"-{epoch:02d}-{val_acc:.2f}\",\n",
    "    monitor=\"valid_acc\",\n",
    "    save_last=True,\n",
    "    mode=\"max\"\n",
    ")"
   ]
  },
  {
   "cell_type": "markdown",
   "id": "9a112c21ae9f586",
   "metadata": {},
   "source": [
    "#### Early Stopping\n",
    "\n",
    "#TODO: add documentation"
   ]
  },
  {
   "cell_type": "code",
   "execution_count": 245,
   "id": "75151dc056ffb566",
   "metadata": {},
   "outputs": [],
   "source": [
    "early_stopping_callback = L.pytorch.callbacks.EarlyStopping(\n",
    "    monitor=\"valid_acc\",\n",
    "    patience=15, # Lower once model behaviour is known\n",
    "    mode=\"max\"\n",
    ")"
   ]
  },
  {
   "cell_type": "markdown",
   "id": "8c4911a7dab1bb10",
   "metadata": {},
   "source": [
    "Initialize wandb experiment tracking for run"
   ]
  },
  {
   "cell_type": "code",
   "execution_count": 246,
   "id": "7575c2ac5ad19d59",
   "metadata": {},
   "outputs": [
    {
     "data": {
      "text/html": [
       "Tracking run with wandb version 0.19.8"
      ],
      "text/plain": [
       "<IPython.core.display.HTML object>"
      ]
     },
     "metadata": {},
     "output_type": "display_data"
    },
    {
     "data": {
      "text/html": [
       "Run data is saved locally in <code>/home/jovyan/NLP_FS25/projects/wandb/run-20250322_131111-165b5xif</code>"
      ],
      "text/plain": [
       "<IPython.core.display.HTML object>"
      ]
     },
     "metadata": {},
     "output_type": "display_data"
    },
    {
     "data": {
      "text/html": [
       "Syncing run <strong><a href='https://wandb.ai/david-schurtenberger/NLP_Project_1/runs/165b5xif' target=\"_blank\">Classifier_lr0.001_bs512_ep100_20250322-131111</a></strong> to <a href='https://wandb.ai/david-schurtenberger/NLP_Project_1' target=\"_blank\">Weights & Biases</a> (<a href='https://wandb.me/developer-guide' target=\"_blank\">docs</a>)<br>"
      ],
      "text/plain": [
       "<IPython.core.display.HTML object>"
      ]
     },
     "metadata": {},
     "output_type": "display_data"
    },
    {
     "data": {
      "text/html": [
       " View project at <a href='https://wandb.ai/david-schurtenberger/NLP_Project_1' target=\"_blank\">https://wandb.ai/david-schurtenberger/NLP_Project_1</a>"
      ],
      "text/plain": [
       "<IPython.core.display.HTML object>"
      ]
     },
     "metadata": {},
     "output_type": "display_data"
    },
    {
     "data": {
      "text/html": [
       " View run at <a href='https://wandb.ai/david-schurtenberger/NLP_Project_1/runs/165b5xif' target=\"_blank\">https://wandb.ai/david-schurtenberger/NLP_Project_1/runs/165b5xif</a>"
      ],
      "text/plain": [
       "<IPython.core.display.HTML object>"
      ]
     },
     "metadata": {},
     "output_type": "display_data"
    }
   ],
   "source": [
    "wandb.init(\n",
    "    entity=\"david-schurtenberger\",\n",
    "    project=\"NLP_Project_1\",\n",
    "    name=str(parameters),\n",
    "    config=parameters(),\n",
    ")\n",
    "wandb_logger = WandbLogger(project=\"NLP_Project_1\")"
   ]
  },
  {
   "cell_type": "markdown",
   "id": "eeea74002f402df7",
   "metadata": {},
   "source": [
    "Set the data target transformer to the Classifier model function and instantiate data loaders"
   ]
  },
  {
   "cell_type": "markdown",
   "id": "5f5710a3c3640df3",
   "metadata": {},
   "source": [
    "Execute training run"
   ]
  },
  {
   "cell_type": "code",
   "execution_count": 247,
   "id": "c0b043c76c9360d8",
   "metadata": {},
   "outputs": [
    {
     "name": "stderr",
     "output_type": "stream",
     "text": [
      "Seed set to 42\n",
      "GPU available: True (cuda), used: True\n",
      "TPU available: False, using: 0 TPU cores\n",
      "HPU available: False, using: 0 HPUs\n",
      "/opt/conda/lib/python3.12/site-packages/lightning/pytorch/loggers/wandb.py:397: There is a wandb run already in progress and newly created instances of `WandbLogger` will reuse this run. If this is not desired, call `wandb.finish()` before instantiating `WandbLogger`.\n",
      "/opt/conda/lib/python3.12/site-packages/lightning/pytorch/callbacks/model_checkpoint.py:654: Checkpoint directory /home/jovyan/NLP_FS25/projects/lightning_checkpoints exists and is not empty.\n",
      "LOCAL_RANK: 0 - CUDA_VISIBLE_DEVICES: [0]\n",
      "\n",
      "  | Name       | Type               | Params | Mode \n",
      "----------------------------------------------------------\n",
      "0 | model      | Classifier         | 7.4 M  | train\n",
      "1 | loss_fn    | CrossEntropyLoss   | 0      | train\n",
      "2 | _train_acc | MulticlassAccuracy | 0      | train\n",
      "3 | _valid_acc | MulticlassAccuracy | 0      | train\n",
      "----------------------------------------------------------\n",
      "7.4 M     Trainable params\n",
      "0         Non-trainable params\n",
      "7.4 M     Total params\n",
      "29.590    Total estimated model params size (MB)\n",
      "6         Modules in train mode\n",
      "0         Modules in eval mode\n"
     ]
    },
    {
     "data": {
      "application/vnd.jupyter.widget-view+json": {
       "model_id": "7ed00f2fcb50437baa6b0bad9dcd5957",
       "version_major": 2,
       "version_minor": 0
      },
      "text/plain": [
       "Sanity Checking: |          | 0/? [00:00<?, ?it/s]"
      ]
     },
     "metadata": {},
     "output_type": "display_data"
    },
    {
     "name": "stderr",
     "output_type": "stream",
     "text": [
      "/opt/conda/lib/python3.12/site-packages/lightning/pytorch/loops/fit_loop.py:310: The number of training batches (18) is smaller than the logging interval Trainer(log_every_n_steps=50). Set a lower value for log_every_n_steps if you want to see logs for the training epoch.\n"
     ]
    },
    {
     "data": {
      "application/vnd.jupyter.widget-view+json": {
       "model_id": "a0fd3d453cdf434698d414f831611548",
       "version_major": 2,
       "version_minor": 0
      },
      "text/plain": [
       "Training: |          | 0/? [00:00<?, ?it/s]"
      ]
     },
     "metadata": {},
     "output_type": "display_data"
    },
    {
     "data": {
      "application/vnd.jupyter.widget-view+json": {
       "model_id": "f82952fdd3534073ad10bdd330ab1ad2",
       "version_major": 2,
       "version_minor": 0
      },
      "text/plain": [
       "Validation: |          | 0/? [00:00<?, ?it/s]"
      ]
     },
     "metadata": {},
     "output_type": "display_data"
    },
    {
     "data": {
      "application/vnd.jupyter.widget-view+json": {
       "model_id": "c51acf66725b42a5bc7d8cc2798832d0",
       "version_major": 2,
       "version_minor": 0
      },
      "text/plain": [
       "Validation: |          | 0/? [00:00<?, ?it/s]"
      ]
     },
     "metadata": {},
     "output_type": "display_data"
    },
    {
     "data": {
      "application/vnd.jupyter.widget-view+json": {
       "model_id": "fcbf79e1dd024c94b12926378ea7d064",
       "version_major": 2,
       "version_minor": 0
      },
      "text/plain": [
       "Validation: |          | 0/? [00:00<?, ?it/s]"
      ]
     },
     "metadata": {},
     "output_type": "display_data"
    },
    {
     "data": {
      "application/vnd.jupyter.widget-view+json": {
       "model_id": "b18910c04fdd42cb8ae1659825b67f87",
       "version_major": 2,
       "version_minor": 0
      },
      "text/plain": [
       "Validation: |          | 0/? [00:00<?, ?it/s]"
      ]
     },
     "metadata": {},
     "output_type": "display_data"
    },
    {
     "data": {
      "application/vnd.jupyter.widget-view+json": {
       "model_id": "46ad400e5edc485c83c958d64887a65c",
       "version_major": 2,
       "version_minor": 0
      },
      "text/plain": [
       "Validation: |          | 0/? [00:00<?, ?it/s]"
      ]
     },
     "metadata": {},
     "output_type": "display_data"
    },
    {
     "data": {
      "application/vnd.jupyter.widget-view+json": {
       "model_id": "d728f46655d94cce9040abc333e07a53",
       "version_major": 2,
       "version_minor": 0
      },
      "text/plain": [
       "Validation: |          | 0/? [00:00<?, ?it/s]"
      ]
     },
     "metadata": {},
     "output_type": "display_data"
    },
    {
     "data": {
      "application/vnd.jupyter.widget-view+json": {
       "model_id": "1a42f9257c3c4b15b811ada7c5028606",
       "version_major": 2,
       "version_minor": 0
      },
      "text/plain": [
       "Validation: |          | 0/? [00:00<?, ?it/s]"
      ]
     },
     "metadata": {},
     "output_type": "display_data"
    },
    {
     "data": {
      "application/vnd.jupyter.widget-view+json": {
       "model_id": "94223b0a9a594b40aba77877d445eaaa",
       "version_major": 2,
       "version_minor": 0
      },
      "text/plain": [
       "Validation: |          | 0/? [00:00<?, ?it/s]"
      ]
     },
     "metadata": {},
     "output_type": "display_data"
    },
    {
     "data": {
      "application/vnd.jupyter.widget-view+json": {
       "model_id": "d141a8572ebb45bfb790fa0c10e9c83c",
       "version_major": 2,
       "version_minor": 0
      },
      "text/plain": [
       "Validation: |          | 0/? [00:00<?, ?it/s]"
      ]
     },
     "metadata": {},
     "output_type": "display_data"
    },
    {
     "data": {
      "application/vnd.jupyter.widget-view+json": {
       "model_id": "6c693493eb464b1d98cf35f1c44e40e4",
       "version_major": 2,
       "version_minor": 0
      },
      "text/plain": [
       "Validation: |          | 0/? [00:00<?, ?it/s]"
      ]
     },
     "metadata": {},
     "output_type": "display_data"
    },
    {
     "data": {
      "application/vnd.jupyter.widget-view+json": {
       "model_id": "fd92f2c3c6df422b809b9e04fa93ff13",
       "version_major": 2,
       "version_minor": 0
      },
      "text/plain": [
       "Validation: |          | 0/? [00:00<?, ?it/s]"
      ]
     },
     "metadata": {},
     "output_type": "display_data"
    },
    {
     "data": {
      "application/vnd.jupyter.widget-view+json": {
       "model_id": "7b5a10e54e6047289594c77459eb5706",
       "version_major": 2,
       "version_minor": 0
      },
      "text/plain": [
       "Validation: |          | 0/? [00:00<?, ?it/s]"
      ]
     },
     "metadata": {},
     "output_type": "display_data"
    },
    {
     "data": {
      "application/vnd.jupyter.widget-view+json": {
       "model_id": "05ba47dfab444ffeb80aebfd3e28b3ce",
       "version_major": 2,
       "version_minor": 0
      },
      "text/plain": [
       "Validation: |          | 0/? [00:00<?, ?it/s]"
      ]
     },
     "metadata": {},
     "output_type": "display_data"
    },
    {
     "data": {
      "application/vnd.jupyter.widget-view+json": {
       "model_id": "df0cd05dc04c4e5db78a19f5a5641147",
       "version_major": 2,
       "version_minor": 0
      },
      "text/plain": [
       "Validation: |          | 0/? [00:00<?, ?it/s]"
      ]
     },
     "metadata": {},
     "output_type": "display_data"
    },
    {
     "data": {
      "application/vnd.jupyter.widget-view+json": {
       "model_id": "afbde0f4417549c8b4e7066756a3992d",
       "version_major": 2,
       "version_minor": 0
      },
      "text/plain": [
       "Validation: |          | 0/? [00:00<?, ?it/s]"
      ]
     },
     "metadata": {},
     "output_type": "display_data"
    },
    {
     "data": {
      "application/vnd.jupyter.widget-view+json": {
       "model_id": "bc1f529b6d164aef8e186009b1a4264b",
       "version_major": 2,
       "version_minor": 0
      },
      "text/plain": [
       "Validation: |          | 0/? [00:00<?, ?it/s]"
      ]
     },
     "metadata": {},
     "output_type": "display_data"
    },
    {
     "data": {
      "application/vnd.jupyter.widget-view+json": {
       "model_id": "796d3422c19f475fa5584032131599aa",
       "version_major": 2,
       "version_minor": 0
      },
      "text/plain": [
       "Validation: |          | 0/? [00:00<?, ?it/s]"
      ]
     },
     "metadata": {},
     "output_type": "display_data"
    },
    {
     "data": {
      "application/vnd.jupyter.widget-view+json": {
       "model_id": "07beab6c56fd4ca793dc3b2ce8ef571e",
       "version_major": 2,
       "version_minor": 0
      },
      "text/plain": [
       "Validation: |          | 0/? [00:00<?, ?it/s]"
      ]
     },
     "metadata": {},
     "output_type": "display_data"
    },
    {
     "data": {
      "application/vnd.jupyter.widget-view+json": {
       "model_id": "a4fe1ba804884ce594a07e2f6e5a2965",
       "version_major": 2,
       "version_minor": 0
      },
      "text/plain": [
       "Validation: |          | 0/? [00:00<?, ?it/s]"
      ]
     },
     "metadata": {},
     "output_type": "display_data"
    },
    {
     "data": {
      "application/vnd.jupyter.widget-view+json": {
       "model_id": "555374359ac0481db03b992a86721769",
       "version_major": 2,
       "version_minor": 0
      },
      "text/plain": [
       "Validation: |          | 0/? [00:00<?, ?it/s]"
      ]
     },
     "metadata": {},
     "output_type": "display_data"
    },
    {
     "data": {
      "application/vnd.jupyter.widget-view+json": {
       "model_id": "1791b3050ad04e59905a56115bdb43c5",
       "version_major": 2,
       "version_minor": 0
      },
      "text/plain": [
       "Validation: |          | 0/? [00:00<?, ?it/s]"
      ]
     },
     "metadata": {},
     "output_type": "display_data"
    },
    {
     "data": {
      "application/vnd.jupyter.widget-view+json": {
       "model_id": "be914be115934a0aac22f4825fa17fa9",
       "version_major": 2,
       "version_minor": 0
      },
      "text/plain": [
       "Validation: |          | 0/? [00:00<?, ?it/s]"
      ]
     },
     "metadata": {},
     "output_type": "display_data"
    },
    {
     "data": {
      "application/vnd.jupyter.widget-view+json": {
       "model_id": "db7ba93f29e04097ad8f8bb8f1af3099",
       "version_major": 2,
       "version_minor": 0
      },
      "text/plain": [
       "Validation: |          | 0/? [00:00<?, ?it/s]"
      ]
     },
     "metadata": {},
     "output_type": "display_data"
    },
    {
     "data": {
      "application/vnd.jupyter.widget-view+json": {
       "model_id": "f70ad61b801a4bb990fd94871ecf3ddd",
       "version_major": 2,
       "version_minor": 0
      },
      "text/plain": [
       "Validation: |          | 0/? [00:00<?, ?it/s]"
      ]
     },
     "metadata": {},
     "output_type": "display_data"
    },
    {
     "data": {
      "application/vnd.jupyter.widget-view+json": {
       "model_id": "1b6b3e2512794791afe4aac4c1200909",
       "version_major": 2,
       "version_minor": 0
      },
      "text/plain": [
       "Validation: |          | 0/? [00:00<?, ?it/s]"
      ]
     },
     "metadata": {},
     "output_type": "display_data"
    },
    {
     "data": {
      "application/vnd.jupyter.widget-view+json": {
       "model_id": "2b661adaaa4b4162be451fcffc83cf48",
       "version_major": 2,
       "version_minor": 0
      },
      "text/plain": [
       "Validation: |          | 0/? [00:00<?, ?it/s]"
      ]
     },
     "metadata": {},
     "output_type": "display_data"
    },
    {
     "data": {
      "application/vnd.jupyter.widget-view+json": {
       "model_id": "512654ad7f704c9398f36414c8060fe8",
       "version_major": 2,
       "version_minor": 0
      },
      "text/plain": [
       "Validation: |          | 0/? [00:00<?, ?it/s]"
      ]
     },
     "metadata": {},
     "output_type": "display_data"
    },
    {
     "data": {
      "application/vnd.jupyter.widget-view+json": {
       "model_id": "a1fb73ae91a04c43bfe7fd46b1554bff",
       "version_major": 2,
       "version_minor": 0
      },
      "text/plain": [
       "Validation: |          | 0/? [00:00<?, ?it/s]"
      ]
     },
     "metadata": {},
     "output_type": "display_data"
    },
    {
     "data": {
      "application/vnd.jupyter.widget-view+json": {
       "model_id": "ffc6695f1ebd427098c39159ec2a33ab",
       "version_major": 2,
       "version_minor": 0
      },
      "text/plain": [
       "Validation: |          | 0/? [00:00<?, ?it/s]"
      ]
     },
     "metadata": {},
     "output_type": "display_data"
    },
    {
     "data": {
      "application/vnd.jupyter.widget-view+json": {
       "model_id": "62254c372bdc45159006b3952249153a",
       "version_major": 2,
       "version_minor": 0
      },
      "text/plain": [
       "Validation: |          | 0/? [00:00<?, ?it/s]"
      ]
     },
     "metadata": {},
     "output_type": "display_data"
    },
    {
     "data": {
      "application/vnd.jupyter.widget-view+json": {
       "model_id": "5bae64edf9754fbfbda21141478deafa",
       "version_major": 2,
       "version_minor": 0
      },
      "text/plain": [
       "Validation: |          | 0/? [00:00<?, ?it/s]"
      ]
     },
     "metadata": {},
     "output_type": "display_data"
    },
    {
     "data": {
      "application/vnd.jupyter.widget-view+json": {
       "model_id": "ffdeb6b02360418888f748e74511b268",
       "version_major": 2,
       "version_minor": 0
      },
      "text/plain": [
       "Validation: |          | 0/? [00:00<?, ?it/s]"
      ]
     },
     "metadata": {},
     "output_type": "display_data"
    },
    {
     "data": {
      "application/vnd.jupyter.widget-view+json": {
       "model_id": "42d89935e6f34a769273acf401fa191a",
       "version_major": 2,
       "version_minor": 0
      },
      "text/plain": [
       "Validation: |          | 0/? [00:00<?, ?it/s]"
      ]
     },
     "metadata": {},
     "output_type": "display_data"
    },
    {
     "data": {
      "application/vnd.jupyter.widget-view+json": {
       "model_id": "5efaf446d0d74f08bc93ef2678b32101",
       "version_major": 2,
       "version_minor": 0
      },
      "text/plain": [
       "Validation: |          | 0/? [00:00<?, ?it/s]"
      ]
     },
     "metadata": {},
     "output_type": "display_data"
    },
    {
     "data": {
      "application/vnd.jupyter.widget-view+json": {
       "model_id": "0dd1b07f65fb416b8f6be7bb499ab851",
       "version_major": 2,
       "version_minor": 0
      },
      "text/plain": [
       "Validation: |          | 0/? [00:00<?, ?it/s]"
      ]
     },
     "metadata": {},
     "output_type": "display_data"
    }
   ],
   "source": [
    "lightning_train_classifier(wandb.config, wandb_logger, train_loader_classifier, valid_loader_classifier, checkpoint_callback, early_stopping_callback)"
   ]
  },
  {
   "cell_type": "markdown",
   "id": "3313074f11e44e07",
   "metadata": {},
   "source": [
    "Finish the run on wandb"
   ]
  },
  {
   "cell_type": "code",
   "execution_count": 248,
   "id": "80455405-b423-486a-8b99-8ec36f515f09",
   "metadata": {},
   "outputs": [
    {
     "data": {
      "text/html": [],
      "text/plain": [
       "<IPython.core.display.HTML object>"
      ]
     },
     "metadata": {},
     "output_type": "display_data"
    },
    {
     "data": {
      "text/html": [
       "<br>    <style><br>        .wandb-row {<br>            display: flex;<br>            flex-direction: row;<br>            flex-wrap: wrap;<br>            justify-content: flex-start;<br>            width: 100%;<br>        }<br>        .wandb-col {<br>            display: flex;<br>            flex-direction: column;<br>            flex-basis: 100%;<br>            flex: 1;<br>            padding: 10px;<br>        }<br>    </style><br><div class=\"wandb-row\"><div class=\"wandb-col\"><h3>Run history:</h3><br/><table class=\"wandb\"><tr><td>epoch</td><td>▁▁▁▁▂▂▂▂▂▂▃▃▃▃▃▃▄▄▄▄▄▅▅▅▅▅▅▆▆▆▆▆▆▆▇▇▇▇██</td></tr><tr><td>train_acc</td><td>▁▂▂▂▂▂▃▃▃▄▄▅▆▆▆▆▆▆▆▆▇▇▇▇▇▇▇▇▇▇█████</td></tr><tr><td>train_loss</td><td>███████▇▇▇▇▇▇▇▇▆▆▆▆▆▅▅▅▅▄▄▄▃▃▃▂▂▁▁▁</td></tr><tr><td>trainer/global_step</td><td>▁▁▁▁▁▂▂▂▂▂▃▃▃▃▄▄▄▄▄▄▅▅▅▅▅▆▆▆▆▆▇▇▇▇▇▇████</td></tr><tr><td>valid_acc</td><td>▂▃▃▂▂▂▁▁▁▂▂▄▆▄▄▅▆█▇█▇▆▆▇▅▅▆▅▆▅▅▄▄▆▅</td></tr><tr><td>valid_loss</td><td>▄▄▄▄▄▅▅▅▄▄▄▄▃▃▃▃▃▂▂▂▁▁▂▂▂▂▂▂▂▄▅▆▅▇█</td></tr></table><br/></div><div class=\"wandb-col\"><h3>Run summary:</h3><br/><table class=\"wandb\"><tr><td>epoch</td><td>34</td></tr><tr><td>train_acc</td><td>0.4186</td></tr><tr><td>train_loss</td><td>1.53841</td></tr><tr><td>trainer/global_step</td><td>629</td></tr><tr><td>valid_acc</td><td>0.221</td></tr><tr><td>valid_loss</td><td>1.61129</td></tr></table><br/></div></div>"
      ],
      "text/plain": [
       "<IPython.core.display.HTML object>"
      ]
     },
     "metadata": {},
     "output_type": "display_data"
    },
    {
     "data": {
      "text/html": [
       " View run <strong style=\"color:#cdcd00\">Classifier_lr0.001_bs512_ep100_20250322-131111</strong> at: <a href='https://wandb.ai/david-schurtenberger/NLP_Project_1/runs/165b5xif' target=\"_blank\">https://wandb.ai/david-schurtenberger/NLP_Project_1/runs/165b5xif</a><br> View project at: <a href='https://wandb.ai/david-schurtenberger/NLP_Project_1' target=\"_blank\">https://wandb.ai/david-schurtenberger/NLP_Project_1</a><br>Synced 5 W&B file(s), 0 media file(s), 0 artifact file(s) and 0 other file(s)"
      ],
      "text/plain": [
       "<IPython.core.display.HTML object>"
      ]
     },
     "metadata": {},
     "output_type": "display_data"
    },
    {
     "data": {
      "text/html": [
       "Find logs at: <code>./wandb/run-20250322_131111-165b5xif/logs</code>"
      ],
      "text/plain": [
       "<IPython.core.display.HTML object>"
      ]
     },
     "metadata": {},
     "output_type": "display_data"
    }
   ],
   "source": [
    "wandb.finish()"
   ]
  },
  {
   "cell_type": "markdown",
   "id": "78a92ceca9fa4119",
   "metadata": {},
   "source": [
    "## Evaluation"
   ]
  },
  {
   "cell_type": "code",
   "execution_count": null,
   "id": "24831257099358aa",
   "metadata": {},
   "outputs": [],
   "source": []
  },
  {
   "cell_type": "markdown",
   "id": "3bb349b7a3afb091",
   "metadata": {},
   "source": [
    "## Interpretation"
   ]
  },
  {
   "cell_type": "code",
   "execution_count": null,
   "id": "c163ba3cc6c0116d",
   "metadata": {},
   "outputs": [],
   "source": []
  },
  {
   "cell_type": "markdown",
   "id": "670529384ff1a832",
   "metadata": {},
   "source": [
    "# WordEmbeddings &rarr; RNN &rarr; Classifier"
   ]
  },
  {
   "cell_type": "markdown",
   "id": "1cdcb2c089c31f7d",
   "metadata": {},
   "source": [
    "## Model\n",
    "\n",
    "#TODO: add documentation and checkpointing/early stopping"
   ]
  },
  {
   "cell_type": "code",
   "execution_count": 26,
   "id": "c2bae4a45e8fc91c",
   "metadata": {},
   "outputs": [],
   "source": [
    "class RNNClassifier(Classifier):\n",
    "    def __init__(\n",
    "            self, \n",
    "            input_dim: int = 300, \n",
    "            hidden_dim_gru: int = 512,\n",
    "            hidden_dim_linear: int = 4096, \n",
    "            output_dim: int = 5, \n",
    "            bidirectional: bool = False,\n",
    "            num_gru_layers: int = 2,\n",
    "    ):\n",
    "        self.num_directions = 2 if bidirectional else 1\n",
    "        self.num_gru_layers = num_gru_layers\n",
    "        super().__init__(\n",
    "            input_dim=hidden_dim_gru * self.num_directions, \n",
    "            hidden_dim=hidden_dim_linear, \n",
    "            output_dim=output_dim\n",
    "        )\n",
    "        self.gru = nn.GRU(input_dim, hidden_dim_gru, num_layers=2, batch_first=True, bidirectional=bidirectional)        \n",
    "        \n",
    "    def forward(self, x: nn.utils.rnn.PackedSequence) -> torch.Tensor:\n",
    "        h0 = x.data.new_zeros(self.num_gru_layers * self.num_directions, x.batch_sizes[0], self.gru.hidden_size)\n",
    "        _, hn = self.gru(x, h0)\n",
    "        return super().forward(hn[-self.num_directions:, :, :].transpose(0, 1).flatten(1))\n",
    "    \n",
    "    def reset_parameters(self):\n",
    "        super().reset_parameters()\n",
    "        self.gru.reset_parameters()\n",
    "        "
   ]
  },
  {
   "cell_type": "markdown",
   "id": "c23810130acebbab",
   "metadata": {},
   "source": [
    "## Training\n",
    "\n",
    "#TODO: add documentation\n",
    "\n",
    "#### Training routine\n",
    "\n",
    "Define the function **train_rnn_plus_classifier** which describes the training routine for the classifier model using the **Trainer** class of *lightning* "
   ]
  },
  {
   "cell_type": "code",
   "execution_count": 31,
   "id": "a870444a893c16ff",
   "metadata": {},
   "outputs": [],
   "source": [
    "def train_rnn_plus_classifier(config, logger, train_loader, valid_loader, *callbacks):\n",
    "    L.seed_everything(42)\n",
    "    model = CqaModule(\n",
    "        RNNClassifier(\n",
    "            hidden_dim_gru=config.get(\"hidden_dim_gru\"),\n",
    "            hidden_dim_linear=config.get(\"hidden_dim_linear\"),\n",
    "            bidirectional=config.get(\"bidirectional\"),\n",
    "        ),\n",
    "        nn.CrossEntropyLoss,\n",
    "        **config\n",
    "    )\n",
    "    trainer = L.Trainer(\n",
    "        max_epochs=config.get(\"epochs\"),\n",
    "        accelerator=\"auto\",\n",
    "        devices=1,\n",
    "        callbacks=list(callbacks),\n",
    "        logger=logger,\n",
    "    )\n",
    "    trainer.fit(model, train_loader, valid_loader)"
   ]
  },
  {
   "cell_type": "markdown",
   "id": "441eee485b252e03",
   "metadata": {},
   "source": [
    "Define run parameters"
   ]
  },
  {
   "cell_type": "code",
   "execution_count": 136,
   "id": "41e467b32185e949",
   "metadata": {},
   "outputs": [],
   "source": [
    "parameters = RunParameters(\n",
    "    \"RNN+Classifier\",\n",
    "    learning_rate=3e-3,\n",
    "    epochs=200,\n",
    "    input_dim=300,\n",
    "    hidden_dim_gru=64,\n",
    "    hidden_dim_linear=256,\n",
    "    output_dim=5,\n",
    "    bidirectional=True,\n",
    "    adam_epsilon=1e-8,\n",
    "    weight_decay=5e-8,\n",
    "    batch_size=BATCH_SIZE_RNN,\n",
    "    steps_per_epoch=len(train_loader_rnn),\n",
    ")"
   ]
  },
  {
   "cell_type": "markdown",
   "id": "75ce958849464f1f",
   "metadata": {},
   "source": [
    "#### Checkpointing\n",
    "\n",
    "#TODO: add documentation"
   ]
  },
  {
   "cell_type": "code",
   "execution_count": 137,
   "id": "30798af57774703e",
   "metadata": {},
   "outputs": [],
   "source": [
    "checkpoint_callback = L.pytorch.callbacks.ModelCheckpoint(\n",
    "    dirpath=\"./lightning_checkpoints\",\n",
    "    filename=str(parameters) + \"-{epoch:02d}-{val_acc:.2f}\",\n",
    "    monitor=\"valid_acc\",\n",
    "    save_last=True,\n",
    "    mode=\"max\"\n",
    ")"
   ]
  },
  {
   "cell_type": "markdown",
   "id": "bdd0e84624145fb1",
   "metadata": {},
   "source": [
    "#### Early stopping\n",
    "\n",
    "#TODO: add documentation"
   ]
  },
  {
   "cell_type": "code",
   "execution_count": 138,
   "id": "34553d9464e6aaf4",
   "metadata": {},
   "outputs": [],
   "source": [
    "early_stopping_callback = L.pytorch.callbacks.EarlyStopping(\n",
    "    monitor=\"valid_acc\",\n",
    "    patience=50, # Lower once model behaviour is known\n",
    "    mode=\"max\"\n",
    ")"
   ]
  },
  {
   "cell_type": "markdown",
   "id": "518191c47d06b261",
   "metadata": {},
   "source": [
    "Initialize wandb experiment tracking for run\n"
   ]
  },
  {
   "cell_type": "code",
   "execution_count": 139,
   "id": "16a5b6b2753f3502",
   "metadata": {},
   "outputs": [
    {
     "data": {
      "text/html": [
       "Tracking run with wandb version 0.19.8"
      ],
      "text/plain": [
       "<IPython.core.display.HTML object>"
      ]
     },
     "metadata": {},
     "output_type": "display_data"
    },
    {
     "data": {
      "text/html": [
       "Run data is saved locally in <code>/home/jovyan/NLP_FS25/projects/wandb/run-20250322_174245-4vm02kpv</code>"
      ],
      "text/plain": [
       "<IPython.core.display.HTML object>"
      ]
     },
     "metadata": {},
     "output_type": "display_data"
    },
    {
     "data": {
      "text/html": [
       "Syncing run <strong><a href='https://wandb.ai/david-schurtenberger/NLP_Project_1/runs/4vm02kpv' target=\"_blank\">RNN+Classifier_lr0.003_bs512_ep200_20250322-174245</a></strong> to <a href='https://wandb.ai/david-schurtenberger/NLP_Project_1' target=\"_blank\">Weights & Biases</a> (<a href='https://wandb.me/developer-guide' target=\"_blank\">docs</a>)<br>"
      ],
      "text/plain": [
       "<IPython.core.display.HTML object>"
      ]
     },
     "metadata": {},
     "output_type": "display_data"
    },
    {
     "data": {
      "text/html": [
       " View project at <a href='https://wandb.ai/david-schurtenberger/NLP_Project_1' target=\"_blank\">https://wandb.ai/david-schurtenberger/NLP_Project_1</a>"
      ],
      "text/plain": [
       "<IPython.core.display.HTML object>"
      ]
     },
     "metadata": {},
     "output_type": "display_data"
    },
    {
     "data": {
      "text/html": [
       " View run at <a href='https://wandb.ai/david-schurtenberger/NLP_Project_1/runs/4vm02kpv' target=\"_blank\">https://wandb.ai/david-schurtenberger/NLP_Project_1/runs/4vm02kpv</a>"
      ],
      "text/plain": [
       "<IPython.core.display.HTML object>"
      ]
     },
     "metadata": {},
     "output_type": "display_data"
    }
   ],
   "source": [
    "wandb.init(\n",
    "    entity=\"david-schurtenberger\",\n",
    "    project=\"NLP_Project_1\",\n",
    "    name=str(parameters),\n",
    "    config=parameters(),\n",
    ")\n",
    "wandb_logger = WandbLogger(project=\"NLP_Project_1\")"
   ]
  },
  {
   "cell_type": "markdown",
   "id": "dca962d84d48f509",
   "metadata": {},
   "source": [
    "Execute training run"
   ]
  },
  {
   "cell_type": "code",
   "execution_count": 140,
   "id": "12d4fb483b7a6f82",
   "metadata": {},
   "outputs": [
    {
     "name": "stderr",
     "output_type": "stream",
     "text": [
      "Seed set to 42\n",
      "GPU available: True (cuda), used: True\n",
      "TPU available: False, using: 0 TPU cores\n",
      "HPU available: False, using: 0 HPUs\n",
      "/opt/conda/lib/python3.12/site-packages/lightning/pytorch/loggers/wandb.py:397: There is a wandb run already in progress and newly created instances of `WandbLogger` will reuse this run. If this is not desired, call `wandb.finish()` before instantiating `WandbLogger`.\n",
      "/opt/conda/lib/python3.12/site-packages/lightning/pytorch/callbacks/model_checkpoint.py:654: Checkpoint directory /home/jovyan/NLP_FS25/projects/lightning_checkpoints exists and is not empty.\n",
      "LOCAL_RANK: 0 - CUDA_VISIBLE_DEVICES: [0]\n",
      "\n",
      "  | Name       | Type               | Params | Mode \n",
      "----------------------------------------------------------\n",
      "0 | model      | RNNClassifier      | 249 K  | train\n",
      "1 | loss_fn    | CrossEntropyLoss   | 0      | train\n",
      "2 | _train_acc | MulticlassAccuracy | 0      | train\n",
      "3 | _valid_acc | MulticlassAccuracy | 0      | train\n",
      "----------------------------------------------------------\n",
      "249 K     Trainable params\n",
      "0         Non-trainable params\n",
      "249 K     Total params\n",
      "0.997     Total estimated model params size (MB)\n",
      "7         Modules in train mode\n",
      "0         Modules in eval mode\n"
     ]
    },
    {
     "data": {
      "application/vnd.jupyter.widget-view+json": {
       "model_id": "a6a1b8b1ad894eec8f8288b63adaf323",
       "version_major": 2,
       "version_minor": 0
      },
      "text/plain": [
       "Sanity Checking: |          | 0/? [00:00<?, ?it/s]"
      ]
     },
     "metadata": {},
     "output_type": "display_data"
    },
    {
     "name": "stderr",
     "output_type": "stream",
     "text": [
      "/opt/conda/lib/python3.12/site-packages/lightning/pytorch/loops/fit_loop.py:310: The number of training batches (18) is smaller than the logging interval Trainer(log_every_n_steps=50). Set a lower value for log_every_n_steps if you want to see logs for the training epoch.\n"
     ]
    },
    {
     "data": {
      "application/vnd.jupyter.widget-view+json": {
       "model_id": "dd1fccbc70f14b7d9fdf3030c587da01",
       "version_major": 2,
       "version_minor": 0
      },
      "text/plain": [
       "Training: |          | 0/? [00:00<?, ?it/s]"
      ]
     },
     "metadata": {},
     "output_type": "display_data"
    },
    {
     "data": {
      "application/vnd.jupyter.widget-view+json": {
       "model_id": "d5ff98d671684db09060806a6b4ae190",
       "version_major": 2,
       "version_minor": 0
      },
      "text/plain": [
       "Validation: |          | 0/? [00:00<?, ?it/s]"
      ]
     },
     "metadata": {},
     "output_type": "display_data"
    },
    {
     "data": {
      "application/vnd.jupyter.widget-view+json": {
       "model_id": "88bfc1017e8c43ffbfde4c18170f765b",
       "version_major": 2,
       "version_minor": 0
      },
      "text/plain": [
       "Validation: |          | 0/? [00:00<?, ?it/s]"
      ]
     },
     "metadata": {},
     "output_type": "display_data"
    },
    {
     "data": {
      "application/vnd.jupyter.widget-view+json": {
       "model_id": "81a58fdb81d64ac490672bae880c7cb2",
       "version_major": 2,
       "version_minor": 0
      },
      "text/plain": [
       "Validation: |          | 0/? [00:00<?, ?it/s]"
      ]
     },
     "metadata": {},
     "output_type": "display_data"
    },
    {
     "data": {
      "application/vnd.jupyter.widget-view+json": {
       "model_id": "2bd1e3d39d794ae3aeaa94c39373befe",
       "version_major": 2,
       "version_minor": 0
      },
      "text/plain": [
       "Validation: |          | 0/? [00:00<?, ?it/s]"
      ]
     },
     "metadata": {},
     "output_type": "display_data"
    },
    {
     "data": {
      "application/vnd.jupyter.widget-view+json": {
       "model_id": "34c9211109944d85b356d0dbf8c41b65",
       "version_major": 2,
       "version_minor": 0
      },
      "text/plain": [
       "Validation: |          | 0/? [00:00<?, ?it/s]"
      ]
     },
     "metadata": {},
     "output_type": "display_data"
    },
    {
     "data": {
      "application/vnd.jupyter.widget-view+json": {
       "model_id": "b4d978249beb4e06888037328c7bcc6b",
       "version_major": 2,
       "version_minor": 0
      },
      "text/plain": [
       "Validation: |          | 0/? [00:00<?, ?it/s]"
      ]
     },
     "metadata": {},
     "output_type": "display_data"
    },
    {
     "data": {
      "application/vnd.jupyter.widget-view+json": {
       "model_id": "8ae562872c1c4bf7a0334b2f56f3e68b",
       "version_major": 2,
       "version_minor": 0
      },
      "text/plain": [
       "Validation: |          | 0/? [00:00<?, ?it/s]"
      ]
     },
     "metadata": {},
     "output_type": "display_data"
    },
    {
     "data": {
      "application/vnd.jupyter.widget-view+json": {
       "model_id": "7d349a0916dd47418567c7093ce9e5a0",
       "version_major": 2,
       "version_minor": 0
      },
      "text/plain": [
       "Validation: |          | 0/? [00:00<?, ?it/s]"
      ]
     },
     "metadata": {},
     "output_type": "display_data"
    },
    {
     "data": {
      "application/vnd.jupyter.widget-view+json": {
       "model_id": "fcae3d30148c4b5891d46b88859f70ca",
       "version_major": 2,
       "version_minor": 0
      },
      "text/plain": [
       "Validation: |          | 0/? [00:00<?, ?it/s]"
      ]
     },
     "metadata": {},
     "output_type": "display_data"
    },
    {
     "data": {
      "application/vnd.jupyter.widget-view+json": {
       "model_id": "6b6aa55587c944ff94b33d75593b08a2",
       "version_major": 2,
       "version_minor": 0
      },
      "text/plain": [
       "Validation: |          | 0/? [00:00<?, ?it/s]"
      ]
     },
     "metadata": {},
     "output_type": "display_data"
    },
    {
     "data": {
      "application/vnd.jupyter.widget-view+json": {
       "model_id": "ae05b479a2184bd4a817d003fdb0bf84",
       "version_major": 2,
       "version_minor": 0
      },
      "text/plain": [
       "Validation: |          | 0/? [00:00<?, ?it/s]"
      ]
     },
     "metadata": {},
     "output_type": "display_data"
    },
    {
     "data": {
      "application/vnd.jupyter.widget-view+json": {
       "model_id": "b4ecdc70254a48fea048527186d7aede",
       "version_major": 2,
       "version_minor": 0
      },
      "text/plain": [
       "Validation: |          | 0/? [00:00<?, ?it/s]"
      ]
     },
     "metadata": {},
     "output_type": "display_data"
    },
    {
     "data": {
      "application/vnd.jupyter.widget-view+json": {
       "model_id": "9bb4dcf974fa4945a67a3ada5e3fe5a2",
       "version_major": 2,
       "version_minor": 0
      },
      "text/plain": [
       "Validation: |          | 0/? [00:00<?, ?it/s]"
      ]
     },
     "metadata": {},
     "output_type": "display_data"
    },
    {
     "data": {
      "application/vnd.jupyter.widget-view+json": {
       "model_id": "e692de5322054d1993e3c12427d8edc2",
       "version_major": 2,
       "version_minor": 0
      },
      "text/plain": [
       "Validation: |          | 0/? [00:00<?, ?it/s]"
      ]
     },
     "metadata": {},
     "output_type": "display_data"
    },
    {
     "data": {
      "application/vnd.jupyter.widget-view+json": {
       "model_id": "cae7d649426f49be9ad00265fc10b113",
       "version_major": 2,
       "version_minor": 0
      },
      "text/plain": [
       "Validation: |          | 0/? [00:00<?, ?it/s]"
      ]
     },
     "metadata": {},
     "output_type": "display_data"
    },
    {
     "data": {
      "application/vnd.jupyter.widget-view+json": {
       "model_id": "3309310c18904cd7ab3dbaa97bf9760b",
       "version_major": 2,
       "version_minor": 0
      },
      "text/plain": [
       "Validation: |          | 0/? [00:00<?, ?it/s]"
      ]
     },
     "metadata": {},
     "output_type": "display_data"
    },
    {
     "data": {
      "application/vnd.jupyter.widget-view+json": {
       "model_id": "fd85aa8685a1479b849f1365cf81e606",
       "version_major": 2,
       "version_minor": 0
      },
      "text/plain": [
       "Validation: |          | 0/? [00:00<?, ?it/s]"
      ]
     },
     "metadata": {},
     "output_type": "display_data"
    },
    {
     "data": {
      "application/vnd.jupyter.widget-view+json": {
       "model_id": "4dbc3073c77d44b480581fb53a55ff0b",
       "version_major": 2,
       "version_minor": 0
      },
      "text/plain": [
       "Validation: |          | 0/? [00:00<?, ?it/s]"
      ]
     },
     "metadata": {},
     "output_type": "display_data"
    },
    {
     "data": {
      "application/vnd.jupyter.widget-view+json": {
       "model_id": "5cc4c291e267455a81114ab3f564b8b3",
       "version_major": 2,
       "version_minor": 0
      },
      "text/plain": [
       "Validation: |          | 0/? [00:00<?, ?it/s]"
      ]
     },
     "metadata": {},
     "output_type": "display_data"
    },
    {
     "data": {
      "application/vnd.jupyter.widget-view+json": {
       "model_id": "795679610045416eb7e2349c59744ce9",
       "version_major": 2,
       "version_minor": 0
      },
      "text/plain": [
       "Validation: |          | 0/? [00:00<?, ?it/s]"
      ]
     },
     "metadata": {},
     "output_type": "display_data"
    },
    {
     "data": {
      "application/vnd.jupyter.widget-view+json": {
       "model_id": "1a19811786284b18bc9b030d16f385ba",
       "version_major": 2,
       "version_minor": 0
      },
      "text/plain": [
       "Validation: |          | 0/? [00:00<?, ?it/s]"
      ]
     },
     "metadata": {},
     "output_type": "display_data"
    },
    {
     "data": {
      "application/vnd.jupyter.widget-view+json": {
       "model_id": "455c5dbf26ad47efb2a4fbae5df6ac93",
       "version_major": 2,
       "version_minor": 0
      },
      "text/plain": [
       "Validation: |          | 0/? [00:00<?, ?it/s]"
      ]
     },
     "metadata": {},
     "output_type": "display_data"
    },
    {
     "data": {
      "application/vnd.jupyter.widget-view+json": {
       "model_id": "08e2ff7985254a57a5f23651b6248e79",
       "version_major": 2,
       "version_minor": 0
      },
      "text/plain": [
       "Validation: |          | 0/? [00:00<?, ?it/s]"
      ]
     },
     "metadata": {},
     "output_type": "display_data"
    },
    {
     "data": {
      "application/vnd.jupyter.widget-view+json": {
       "model_id": "fcc1197e5dd248bd90d5e3d573eed2ae",
       "version_major": 2,
       "version_minor": 0
      },
      "text/plain": [
       "Validation: |          | 0/? [00:00<?, ?it/s]"
      ]
     },
     "metadata": {},
     "output_type": "display_data"
    },
    {
     "data": {
      "application/vnd.jupyter.widget-view+json": {
       "model_id": "7009a04fb1a54b7d889f32b215b9abb8",
       "version_major": 2,
       "version_minor": 0
      },
      "text/plain": [
       "Validation: |          | 0/? [00:00<?, ?it/s]"
      ]
     },
     "metadata": {},
     "output_type": "display_data"
    },
    {
     "data": {
      "application/vnd.jupyter.widget-view+json": {
       "model_id": "369c5435dd3d4d85a31739640dcde059",
       "version_major": 2,
       "version_minor": 0
      },
      "text/plain": [
       "Validation: |          | 0/? [00:00<?, ?it/s]"
      ]
     },
     "metadata": {},
     "output_type": "display_data"
    },
    {
     "data": {
      "application/vnd.jupyter.widget-view+json": {
       "model_id": "920f316c3d4d4a44964b414e7f114a35",
       "version_major": 2,
       "version_minor": 0
      },
      "text/plain": [
       "Validation: |          | 0/? [00:00<?, ?it/s]"
      ]
     },
     "metadata": {},
     "output_type": "display_data"
    },
    {
     "data": {
      "application/vnd.jupyter.widget-view+json": {
       "model_id": "178d9ee37f3d439f851b2ffc4e3956e8",
       "version_major": 2,
       "version_minor": 0
      },
      "text/plain": [
       "Validation: |          | 0/? [00:00<?, ?it/s]"
      ]
     },
     "metadata": {},
     "output_type": "display_data"
    },
    {
     "data": {
      "application/vnd.jupyter.widget-view+json": {
       "model_id": "ddc83e6631a9491ba92489cd7f603beb",
       "version_major": 2,
       "version_minor": 0
      },
      "text/plain": [
       "Validation: |          | 0/? [00:00<?, ?it/s]"
      ]
     },
     "metadata": {},
     "output_type": "display_data"
    },
    {
     "data": {
      "application/vnd.jupyter.widget-view+json": {
       "model_id": "6ebf25019eb349b1b93516e5965a7995",
       "version_major": 2,
       "version_minor": 0
      },
      "text/plain": [
       "Validation: |          | 0/? [00:00<?, ?it/s]"
      ]
     },
     "metadata": {},
     "output_type": "display_data"
    },
    {
     "data": {
      "application/vnd.jupyter.widget-view+json": {
       "model_id": "03b461af54a54e239ae04c64f5c9be6f",
       "version_major": 2,
       "version_minor": 0
      },
      "text/plain": [
       "Validation: |          | 0/? [00:00<?, ?it/s]"
      ]
     },
     "metadata": {},
     "output_type": "display_data"
    },
    {
     "data": {
      "application/vnd.jupyter.widget-view+json": {
       "model_id": "7a627e2cf430448db640f69d48dabfd9",
       "version_major": 2,
       "version_minor": 0
      },
      "text/plain": [
       "Validation: |          | 0/? [00:00<?, ?it/s]"
      ]
     },
     "metadata": {},
     "output_type": "display_data"
    },
    {
     "data": {
      "application/vnd.jupyter.widget-view+json": {
       "model_id": "ee618f582d2e4d3d949e2096db645589",
       "version_major": 2,
       "version_minor": 0
      },
      "text/plain": [
       "Validation: |          | 0/? [00:00<?, ?it/s]"
      ]
     },
     "metadata": {},
     "output_type": "display_data"
    },
    {
     "data": {
      "application/vnd.jupyter.widget-view+json": {
       "model_id": "ffe1a0b504a84e32baa45c7ebbca2833",
       "version_major": 2,
       "version_minor": 0
      },
      "text/plain": [
       "Validation: |          | 0/? [00:00<?, ?it/s]"
      ]
     },
     "metadata": {},
     "output_type": "display_data"
    },
    {
     "data": {
      "application/vnd.jupyter.widget-view+json": {
       "model_id": "6a1cfa0398294dd3b8d740672baa356d",
       "version_major": 2,
       "version_minor": 0
      },
      "text/plain": [
       "Validation: |          | 0/? [00:00<?, ?it/s]"
      ]
     },
     "metadata": {},
     "output_type": "display_data"
    },
    {
     "data": {
      "application/vnd.jupyter.widget-view+json": {
       "model_id": "bccc34262d114f1c92cb183e1fa848c7",
       "version_major": 2,
       "version_minor": 0
      },
      "text/plain": [
       "Validation: |          | 0/? [00:00<?, ?it/s]"
      ]
     },
     "metadata": {},
     "output_type": "display_data"
    },
    {
     "data": {
      "application/vnd.jupyter.widget-view+json": {
       "model_id": "249b155778f74d1297f6d539e52b7d53",
       "version_major": 2,
       "version_minor": 0
      },
      "text/plain": [
       "Validation: |          | 0/? [00:00<?, ?it/s]"
      ]
     },
     "metadata": {},
     "output_type": "display_data"
    },
    {
     "data": {
      "application/vnd.jupyter.widget-view+json": {
       "model_id": "d2f099bc7cfa446c92c1c5adf004429b",
       "version_major": 2,
       "version_minor": 0
      },
      "text/plain": [
       "Validation: |          | 0/? [00:00<?, ?it/s]"
      ]
     },
     "metadata": {},
     "output_type": "display_data"
    },
    {
     "data": {
      "application/vnd.jupyter.widget-view+json": {
       "model_id": "369ef6bc9f49491badfed4e7105ba8f7",
       "version_major": 2,
       "version_minor": 0
      },
      "text/plain": [
       "Validation: |          | 0/? [00:00<?, ?it/s]"
      ]
     },
     "metadata": {},
     "output_type": "display_data"
    },
    {
     "data": {
      "application/vnd.jupyter.widget-view+json": {
       "model_id": "6f75d6cb617c425f9423f630593ae2e1",
       "version_major": 2,
       "version_minor": 0
      },
      "text/plain": [
       "Validation: |          | 0/? [00:00<?, ?it/s]"
      ]
     },
     "metadata": {},
     "output_type": "display_data"
    },
    {
     "data": {
      "application/vnd.jupyter.widget-view+json": {
       "model_id": "0043565357f44362be72e1bbdcdbf6bf",
       "version_major": 2,
       "version_minor": 0
      },
      "text/plain": [
       "Validation: |          | 0/? [00:00<?, ?it/s]"
      ]
     },
     "metadata": {},
     "output_type": "display_data"
    },
    {
     "data": {
      "application/vnd.jupyter.widget-view+json": {
       "model_id": "9a0c6b62438f47089fce0ea2f07fa7a9",
       "version_major": 2,
       "version_minor": 0
      },
      "text/plain": [
       "Validation: |          | 0/? [00:00<?, ?it/s]"
      ]
     },
     "metadata": {},
     "output_type": "display_data"
    },
    {
     "data": {
      "application/vnd.jupyter.widget-view+json": {
       "model_id": "1b23512703854bd7a054671fdd65697f",
       "version_major": 2,
       "version_minor": 0
      },
      "text/plain": [
       "Validation: |          | 0/? [00:00<?, ?it/s]"
      ]
     },
     "metadata": {},
     "output_type": "display_data"
    },
    {
     "data": {
      "application/vnd.jupyter.widget-view+json": {
       "model_id": "0b4acd063a3c43daa6342bff34fa114b",
       "version_major": 2,
       "version_minor": 0
      },
      "text/plain": [
       "Validation: |          | 0/? [00:00<?, ?it/s]"
      ]
     },
     "metadata": {},
     "output_type": "display_data"
    },
    {
     "data": {
      "application/vnd.jupyter.widget-view+json": {
       "model_id": "99f28a10b508463599cf9170fcf497d8",
       "version_major": 2,
       "version_minor": 0
      },
      "text/plain": [
       "Validation: |          | 0/? [00:00<?, ?it/s]"
      ]
     },
     "metadata": {},
     "output_type": "display_data"
    },
    {
     "data": {
      "application/vnd.jupyter.widget-view+json": {
       "model_id": "ab1e7b19ff7442479f061c53e6e0e0da",
       "version_major": 2,
       "version_minor": 0
      },
      "text/plain": [
       "Validation: |          | 0/? [00:00<?, ?it/s]"
      ]
     },
     "metadata": {},
     "output_type": "display_data"
    },
    {
     "data": {
      "application/vnd.jupyter.widget-view+json": {
       "model_id": "58a563d1565e4b199d1f14b58231a7d6",
       "version_major": 2,
       "version_minor": 0
      },
      "text/plain": [
       "Validation: |          | 0/? [00:00<?, ?it/s]"
      ]
     },
     "metadata": {},
     "output_type": "display_data"
    },
    {
     "data": {
      "application/vnd.jupyter.widget-view+json": {
       "model_id": "5e74a447a44f4b13bd61057c01c8a5c1",
       "version_major": 2,
       "version_minor": 0
      },
      "text/plain": [
       "Validation: |          | 0/? [00:00<?, ?it/s]"
      ]
     },
     "metadata": {},
     "output_type": "display_data"
    },
    {
     "data": {
      "application/vnd.jupyter.widget-view+json": {
       "model_id": "ba15abf9c2604ac382d74b2a6d4d8db3",
       "version_major": 2,
       "version_minor": 0
      },
      "text/plain": [
       "Validation: |          | 0/? [00:00<?, ?it/s]"
      ]
     },
     "metadata": {},
     "output_type": "display_data"
    },
    {
     "data": {
      "application/vnd.jupyter.widget-view+json": {
       "model_id": "b48d1336a8934cbea96fde14471ccb78",
       "version_major": 2,
       "version_minor": 0
      },
      "text/plain": [
       "Validation: |          | 0/? [00:00<?, ?it/s]"
      ]
     },
     "metadata": {},
     "output_type": "display_data"
    },
    {
     "data": {
      "application/vnd.jupyter.widget-view+json": {
       "model_id": "c8bda95fd4d24831a464ead5f83cd008",
       "version_major": 2,
       "version_minor": 0
      },
      "text/plain": [
       "Validation: |          | 0/? [00:00<?, ?it/s]"
      ]
     },
     "metadata": {},
     "output_type": "display_data"
    },
    {
     "data": {
      "application/vnd.jupyter.widget-view+json": {
       "model_id": "982b27145c6c4fd6989d517c9f8a23cf",
       "version_major": 2,
       "version_minor": 0
      },
      "text/plain": [
       "Validation: |          | 0/? [00:00<?, ?it/s]"
      ]
     },
     "metadata": {},
     "output_type": "display_data"
    },
    {
     "data": {
      "application/vnd.jupyter.widget-view+json": {
       "model_id": "d590b8ae2d9446c68137a83338d02438",
       "version_major": 2,
       "version_minor": 0
      },
      "text/plain": [
       "Validation: |          | 0/? [00:00<?, ?it/s]"
      ]
     },
     "metadata": {},
     "output_type": "display_data"
    },
    {
     "data": {
      "application/vnd.jupyter.widget-view+json": {
       "model_id": "353a8cd4ad4047438fa4263dbc19e082",
       "version_major": 2,
       "version_minor": 0
      },
      "text/plain": [
       "Validation: |          | 0/? [00:00<?, ?it/s]"
      ]
     },
     "metadata": {},
     "output_type": "display_data"
    },
    {
     "data": {
      "application/vnd.jupyter.widget-view+json": {
       "model_id": "85588b549b444c24a7e02ac4e16544ca",
       "version_major": 2,
       "version_minor": 0
      },
      "text/plain": [
       "Validation: |          | 0/? [00:00<?, ?it/s]"
      ]
     },
     "metadata": {},
     "output_type": "display_data"
    },
    {
     "data": {
      "application/vnd.jupyter.widget-view+json": {
       "model_id": "08c0d4731a784c4da076707a8f92320a",
       "version_major": 2,
       "version_minor": 0
      },
      "text/plain": [
       "Validation: |          | 0/? [00:00<?, ?it/s]"
      ]
     },
     "metadata": {},
     "output_type": "display_data"
    },
    {
     "data": {
      "application/vnd.jupyter.widget-view+json": {
       "model_id": "09d2374980f2456f9bd3aa2ad1a57fb2",
       "version_major": 2,
       "version_minor": 0
      },
      "text/plain": [
       "Validation: |          | 0/? [00:00<?, ?it/s]"
      ]
     },
     "metadata": {},
     "output_type": "display_data"
    },
    {
     "data": {
      "application/vnd.jupyter.widget-view+json": {
       "model_id": "9f70eb75af364a9998e367cef7d56ec2",
       "version_major": 2,
       "version_minor": 0
      },
      "text/plain": [
       "Validation: |          | 0/? [00:00<?, ?it/s]"
      ]
     },
     "metadata": {},
     "output_type": "display_data"
    },
    {
     "data": {
      "application/vnd.jupyter.widget-view+json": {
       "model_id": "9b95694cb4bc43e9835b9de99e11c2c7",
       "version_major": 2,
       "version_minor": 0
      },
      "text/plain": [
       "Validation: |          | 0/? [00:00<?, ?it/s]"
      ]
     },
     "metadata": {},
     "output_type": "display_data"
    },
    {
     "data": {
      "application/vnd.jupyter.widget-view+json": {
       "model_id": "896ee362cf274ebb82a7a12e05500425",
       "version_major": 2,
       "version_minor": 0
      },
      "text/plain": [
       "Validation: |          | 0/? [00:00<?, ?it/s]"
      ]
     },
     "metadata": {},
     "output_type": "display_data"
    },
    {
     "data": {
      "application/vnd.jupyter.widget-view+json": {
       "model_id": "f6efddf3ebc44170bd9fb6862c60345e",
       "version_major": 2,
       "version_minor": 0
      },
      "text/plain": [
       "Validation: |          | 0/? [00:00<?, ?it/s]"
      ]
     },
     "metadata": {},
     "output_type": "display_data"
    },
    {
     "data": {
      "application/vnd.jupyter.widget-view+json": {
       "model_id": "f14b5eb5f4b546b5aeebd2bb26861d31",
       "version_major": 2,
       "version_minor": 0
      },
      "text/plain": [
       "Validation: |          | 0/? [00:00<?, ?it/s]"
      ]
     },
     "metadata": {},
     "output_type": "display_data"
    },
    {
     "data": {
      "application/vnd.jupyter.widget-view+json": {
       "model_id": "2e4641c6eff04cb6b99c50fb92b17e17",
       "version_major": 2,
       "version_minor": 0
      },
      "text/plain": [
       "Validation: |          | 0/? [00:00<?, ?it/s]"
      ]
     },
     "metadata": {},
     "output_type": "display_data"
    },
    {
     "data": {
      "application/vnd.jupyter.widget-view+json": {
       "model_id": "56e327de717840f7a5cf5111ddd32b0f",
       "version_major": 2,
       "version_minor": 0
      },
      "text/plain": [
       "Validation: |          | 0/? [00:00<?, ?it/s]"
      ]
     },
     "metadata": {},
     "output_type": "display_data"
    },
    {
     "data": {
      "application/vnd.jupyter.widget-view+json": {
       "model_id": "93159b6e5fec44018628f47b97d85c39",
       "version_major": 2,
       "version_minor": 0
      },
      "text/plain": [
       "Validation: |          | 0/? [00:00<?, ?it/s]"
      ]
     },
     "metadata": {},
     "output_type": "display_data"
    },
    {
     "data": {
      "application/vnd.jupyter.widget-view+json": {
       "model_id": "ef5a53b1004d4e84a459711d467b4946",
       "version_major": 2,
       "version_minor": 0
      },
      "text/plain": [
       "Validation: |          | 0/? [00:00<?, ?it/s]"
      ]
     },
     "metadata": {},
     "output_type": "display_data"
    },
    {
     "data": {
      "application/vnd.jupyter.widget-view+json": {
       "model_id": "dd091158a7ab43d9b64fec3ca4ac94e2",
       "version_major": 2,
       "version_minor": 0
      },
      "text/plain": [
       "Validation: |          | 0/? [00:00<?, ?it/s]"
      ]
     },
     "metadata": {},
     "output_type": "display_data"
    },
    {
     "data": {
      "application/vnd.jupyter.widget-view+json": {
       "model_id": "224dd32ee82f4147be8b2aa7f5c62153",
       "version_major": 2,
       "version_minor": 0
      },
      "text/plain": [
       "Validation: |          | 0/? [00:00<?, ?it/s]"
      ]
     },
     "metadata": {},
     "output_type": "display_data"
    },
    {
     "data": {
      "application/vnd.jupyter.widget-view+json": {
       "model_id": "ae09f5343dfa4a66ac8aa733d6ed01a8",
       "version_major": 2,
       "version_minor": 0
      },
      "text/plain": [
       "Validation: |          | 0/? [00:00<?, ?it/s]"
      ]
     },
     "metadata": {},
     "output_type": "display_data"
    },
    {
     "data": {
      "application/vnd.jupyter.widget-view+json": {
       "model_id": "3b5021206d3b40759d7d5c7ffa34effd",
       "version_major": 2,
       "version_minor": 0
      },
      "text/plain": [
       "Validation: |          | 0/? [00:00<?, ?it/s]"
      ]
     },
     "metadata": {},
     "output_type": "display_data"
    },
    {
     "data": {
      "application/vnd.jupyter.widget-view+json": {
       "model_id": "7b0619f4588f4b839b7c1195ce2cc1e3",
       "version_major": 2,
       "version_minor": 0
      },
      "text/plain": [
       "Validation: |          | 0/? [00:00<?, ?it/s]"
      ]
     },
     "metadata": {},
     "output_type": "display_data"
    },
    {
     "data": {
      "application/vnd.jupyter.widget-view+json": {
       "model_id": "0ebf022fbd324800b5ec69c42888070f",
       "version_major": 2,
       "version_minor": 0
      },
      "text/plain": [
       "Validation: |          | 0/? [00:00<?, ?it/s]"
      ]
     },
     "metadata": {},
     "output_type": "display_data"
    },
    {
     "data": {
      "application/vnd.jupyter.widget-view+json": {
       "model_id": "a9085a41da3944369a94d9e5b2c88c93",
       "version_major": 2,
       "version_minor": 0
      },
      "text/plain": [
       "Validation: |          | 0/? [00:00<?, ?it/s]"
      ]
     },
     "metadata": {},
     "output_type": "display_data"
    },
    {
     "data": {
      "application/vnd.jupyter.widget-view+json": {
       "model_id": "c783d32afc5b458f9267ec690f4e9a28",
       "version_major": 2,
       "version_minor": 0
      },
      "text/plain": [
       "Validation: |          | 0/? [00:00<?, ?it/s]"
      ]
     },
     "metadata": {},
     "output_type": "display_data"
    },
    {
     "data": {
      "application/vnd.jupyter.widget-view+json": {
       "model_id": "bcda38572e6c4015bddcc36f2a545a54",
       "version_major": 2,
       "version_minor": 0
      },
      "text/plain": [
       "Validation: |          | 0/? [00:00<?, ?it/s]"
      ]
     },
     "metadata": {},
     "output_type": "display_data"
    },
    {
     "data": {
      "application/vnd.jupyter.widget-view+json": {
       "model_id": "1bef012328e4461889d961e9c0446d8f",
       "version_major": 2,
       "version_minor": 0
      },
      "text/plain": [
       "Validation: |          | 0/? [00:00<?, ?it/s]"
      ]
     },
     "metadata": {},
     "output_type": "display_data"
    },
    {
     "data": {
      "application/vnd.jupyter.widget-view+json": {
       "model_id": "64fff836c7d94ff9a3fa203221013ebd",
       "version_major": 2,
       "version_minor": 0
      },
      "text/plain": [
       "Validation: |          | 0/? [00:00<?, ?it/s]"
      ]
     },
     "metadata": {},
     "output_type": "display_data"
    },
    {
     "data": {
      "application/vnd.jupyter.widget-view+json": {
       "model_id": "0eb57949f3bd4bf985b21b47db0598c2",
       "version_major": 2,
       "version_minor": 0
      },
      "text/plain": [
       "Validation: |          | 0/? [00:00<?, ?it/s]"
      ]
     },
     "metadata": {},
     "output_type": "display_data"
    },
    {
     "data": {
      "application/vnd.jupyter.widget-view+json": {
       "model_id": "fbb1fc6ed93e4b0499ee4169c7e282b9",
       "version_major": 2,
       "version_minor": 0
      },
      "text/plain": [
       "Validation: |          | 0/? [00:00<?, ?it/s]"
      ]
     },
     "metadata": {},
     "output_type": "display_data"
    },
    {
     "data": {
      "application/vnd.jupyter.widget-view+json": {
       "model_id": "71cf2dc76b30446396590a1e1cafb184",
       "version_major": 2,
       "version_minor": 0
      },
      "text/plain": [
       "Validation: |          | 0/? [00:00<?, ?it/s]"
      ]
     },
     "metadata": {},
     "output_type": "display_data"
    },
    {
     "data": {
      "application/vnd.jupyter.widget-view+json": {
       "model_id": "9fd1725901e342bb8420728f8a59da47",
       "version_major": 2,
       "version_minor": 0
      },
      "text/plain": [
       "Validation: |          | 0/? [00:00<?, ?it/s]"
      ]
     },
     "metadata": {},
     "output_type": "display_data"
    },
    {
     "data": {
      "application/vnd.jupyter.widget-view+json": {
       "model_id": "606eb38874954c5d8aeddbf1e5ed8079",
       "version_major": 2,
       "version_minor": 0
      },
      "text/plain": [
       "Validation: |          | 0/? [00:00<?, ?it/s]"
      ]
     },
     "metadata": {},
     "output_type": "display_data"
    },
    {
     "data": {
      "application/vnd.jupyter.widget-view+json": {
       "model_id": "131a1952dd27416bb622863206f1eaa5",
       "version_major": 2,
       "version_minor": 0
      },
      "text/plain": [
       "Validation: |          | 0/? [00:00<?, ?it/s]"
      ]
     },
     "metadata": {},
     "output_type": "display_data"
    },
    {
     "data": {
      "application/vnd.jupyter.widget-view+json": {
       "model_id": "9bb07f8e51274b2594799345d21ea150",
       "version_major": 2,
       "version_minor": 0
      },
      "text/plain": [
       "Validation: |          | 0/? [00:00<?, ?it/s]"
      ]
     },
     "metadata": {},
     "output_type": "display_data"
    },
    {
     "data": {
      "application/vnd.jupyter.widget-view+json": {
       "model_id": "f5a977bfb1d140e090bdf31cb9c20423",
       "version_major": 2,
       "version_minor": 0
      },
      "text/plain": [
       "Validation: |          | 0/? [00:00<?, ?it/s]"
      ]
     },
     "metadata": {},
     "output_type": "display_data"
    },
    {
     "data": {
      "application/vnd.jupyter.widget-view+json": {
       "model_id": "0cd5b3d3296347499c203a3dd64edead",
       "version_major": 2,
       "version_minor": 0
      },
      "text/plain": [
       "Validation: |          | 0/? [00:00<?, ?it/s]"
      ]
     },
     "metadata": {},
     "output_type": "display_data"
    },
    {
     "data": {
      "application/vnd.jupyter.widget-view+json": {
       "model_id": "75fe05b77d724b89ae7af2b32e43691f",
       "version_major": 2,
       "version_minor": 0
      },
      "text/plain": [
       "Validation: |          | 0/? [00:00<?, ?it/s]"
      ]
     },
     "metadata": {},
     "output_type": "display_data"
    },
    {
     "data": {
      "application/vnd.jupyter.widget-view+json": {
       "model_id": "0ca6ae2d5dd94153b1145051f86d82f7",
       "version_major": 2,
       "version_minor": 0
      },
      "text/plain": [
       "Validation: |          | 0/? [00:00<?, ?it/s]"
      ]
     },
     "metadata": {},
     "output_type": "display_data"
    },
    {
     "data": {
      "application/vnd.jupyter.widget-view+json": {
       "model_id": "ac957c736aff42a7b493c44cc8ffafa1",
       "version_major": 2,
       "version_minor": 0
      },
      "text/plain": [
       "Validation: |          | 0/? [00:00<?, ?it/s]"
      ]
     },
     "metadata": {},
     "output_type": "display_data"
    },
    {
     "data": {
      "application/vnd.jupyter.widget-view+json": {
       "model_id": "049e80cee6764c24a5072f8d3693e184",
       "version_major": 2,
       "version_minor": 0
      },
      "text/plain": [
       "Validation: |          | 0/? [00:00<?, ?it/s]"
      ]
     },
     "metadata": {},
     "output_type": "display_data"
    },
    {
     "data": {
      "application/vnd.jupyter.widget-view+json": {
       "model_id": "a40dea306aba471981704296a03047c3",
       "version_major": 2,
       "version_minor": 0
      },
      "text/plain": [
       "Validation: |          | 0/? [00:00<?, ?it/s]"
      ]
     },
     "metadata": {},
     "output_type": "display_data"
    },
    {
     "data": {
      "application/vnd.jupyter.widget-view+json": {
       "model_id": "42c043a2584645adadcdd306f2624dc9",
       "version_major": 2,
       "version_minor": 0
      },
      "text/plain": [
       "Validation: |          | 0/? [00:00<?, ?it/s]"
      ]
     },
     "metadata": {},
     "output_type": "display_data"
    },
    {
     "data": {
      "application/vnd.jupyter.widget-view+json": {
       "model_id": "49eb45dd85ee4202949bc0202e315c17",
       "version_major": 2,
       "version_minor": 0
      },
      "text/plain": [
       "Validation: |          | 0/? [00:00<?, ?it/s]"
      ]
     },
     "metadata": {},
     "output_type": "display_data"
    },
    {
     "data": {
      "application/vnd.jupyter.widget-view+json": {
       "model_id": "cf465ff5ec6044d2a1f1ee06c3a48075",
       "version_major": 2,
       "version_minor": 0
      },
      "text/plain": [
       "Validation: |          | 0/? [00:00<?, ?it/s]"
      ]
     },
     "metadata": {},
     "output_type": "display_data"
    },
    {
     "data": {
      "application/vnd.jupyter.widget-view+json": {
       "model_id": "dbfc30ce94e94e9caef97c380a7e55d4",
       "version_major": 2,
       "version_minor": 0
      },
      "text/plain": [
       "Validation: |          | 0/? [00:00<?, ?it/s]"
      ]
     },
     "metadata": {},
     "output_type": "display_data"
    },
    {
     "data": {
      "application/vnd.jupyter.widget-view+json": {
       "model_id": "0535c434ae0c43e1bdb2f85e9787b9b3",
       "version_major": 2,
       "version_minor": 0
      },
      "text/plain": [
       "Validation: |          | 0/? [00:00<?, ?it/s]"
      ]
     },
     "metadata": {},
     "output_type": "display_data"
    },
    {
     "data": {
      "application/vnd.jupyter.widget-view+json": {
       "model_id": "08c08f2482d446ab948f72782b07190c",
       "version_major": 2,
       "version_minor": 0
      },
      "text/plain": [
       "Validation: |          | 0/? [00:00<?, ?it/s]"
      ]
     },
     "metadata": {},
     "output_type": "display_data"
    },
    {
     "data": {
      "application/vnd.jupyter.widget-view+json": {
       "model_id": "2a12d0631c084754a6b93815e130f9cd",
       "version_major": 2,
       "version_minor": 0
      },
      "text/plain": [
       "Validation: |          | 0/? [00:00<?, ?it/s]"
      ]
     },
     "metadata": {},
     "output_type": "display_data"
    },
    {
     "data": {
      "application/vnd.jupyter.widget-view+json": {
       "model_id": "cb11bf4617524f849aee941ea4031cc3",
       "version_major": 2,
       "version_minor": 0
      },
      "text/plain": [
       "Validation: |          | 0/? [00:00<?, ?it/s]"
      ]
     },
     "metadata": {},
     "output_type": "display_data"
    },
    {
     "data": {
      "application/vnd.jupyter.widget-view+json": {
       "model_id": "da43b0b8942e4f229750eb1ec1c1c9e5",
       "version_major": 2,
       "version_minor": 0
      },
      "text/plain": [
       "Validation: |          | 0/? [00:00<?, ?it/s]"
      ]
     },
     "metadata": {},
     "output_type": "display_data"
    }
   ],
   "source": [
    "train_rnn_plus_classifier(wandb.config, wandb_logger, train_loader_rnn, valid_loader_rnn, checkpoint_callback, early_stopping_callback)"
   ]
  },
  {
   "cell_type": "markdown",
   "id": "679c817068ae7c31",
   "metadata": {},
   "source": [
    "Finish the run on wandb"
   ]
  },
  {
   "cell_type": "code",
   "execution_count": 141,
   "id": "cc45b5045eb9f75e",
   "metadata": {},
   "outputs": [
    {
     "data": {
      "text/html": [],
      "text/plain": [
       "<IPython.core.display.HTML object>"
      ]
     },
     "metadata": {},
     "output_type": "display_data"
    },
    {
     "data": {
      "text/html": [
       "<br>    <style><br>        .wandb-row {<br>            display: flex;<br>            flex-direction: row;<br>            flex-wrap: wrap;<br>            justify-content: flex-start;<br>            width: 100%;<br>        }<br>        .wandb-col {<br>            display: flex;<br>            flex-direction: column;<br>            flex-basis: 100%;<br>            flex: 1;<br>            padding: 10px;<br>        }<br>    </style><br><div class=\"wandb-row\"><div class=\"wandb-col\"><h3>Run history:</h3><br/><table class=\"wandb\"><tr><td>epoch</td><td>▁▁▁▁▁▂▂▂▂▃▃▃▃▃▃▄▄▄▄▄▅▅▅▅▅▆▆▆▆▆▇▇▇▇▇▇████</td></tr><tr><td>train_acc</td><td>▁▁▁▁▁▁▂▂▂▂▂▂▂▂▃▃▃▃▃▃▄▄▄▄▅▅▅▅▅▆▆▆▆▇▇▇█▇██</td></tr><tr><td>train_loss</td><td>██████████▇▇█▇▇▇▇▇▇▇▆▅▅▅▅▄▄▄▄▃▃▂▂▂▂▁▁▂▂▁</td></tr><tr><td>trainer/global_step</td><td>▁▁▂▂▂▃▃▃▃▃▃▃▃▄▄▄▄▅▅▅▅▅▅▅▅▆▆▆▆▆▆▇▇▇▇█████</td></tr><tr><td>valid_acc</td><td>▅▅▅▅▅▅▅▅▅▅▅▃▁▄▃▄▅▅▅▅█▄▇█▆▅▆▇▆▇▆▅▅▇▆▅▇▇▆▅</td></tr><tr><td>valid_loss</td><td>▁▁▁▁▁▁▁▁▁▁▁▂▂▂▂▂▂▂▃▂▃▃▃▃▃▄▄▅▅▅▅▆▆▆▆▇▇▇▇█</td></tr></table><br/></div><div class=\"wandb-col\"><h3>Run summary:</h3><br/><table class=\"wandb\"><tr><td>epoch</td><td>99</td></tr><tr><td>train_acc</td><td>0.40156</td></tr><tr><td>train_loss</td><td>1.49954</td></tr><tr><td>trainer/global_step</td><td>1799</td></tr><tr><td>valid_acc</td><td>0.196</td></tr><tr><td>valid_loss</td><td>1.6575</td></tr></table><br/></div></div>"
      ],
      "text/plain": [
       "<IPython.core.display.HTML object>"
      ]
     },
     "metadata": {},
     "output_type": "display_data"
    },
    {
     "data": {
      "text/html": [
       " View run <strong style=\"color:#cdcd00\">RNN+Classifier_lr0.003_bs512_ep200_20250322-174245</strong> at: <a href='https://wandb.ai/david-schurtenberger/NLP_Project_1/runs/4vm02kpv' target=\"_blank\">https://wandb.ai/david-schurtenberger/NLP_Project_1/runs/4vm02kpv</a><br> View project at: <a href='https://wandb.ai/david-schurtenberger/NLP_Project_1' target=\"_blank\">https://wandb.ai/david-schurtenberger/NLP_Project_1</a><br>Synced 5 W&B file(s), 0 media file(s), 0 artifact file(s) and 0 other file(s)"
      ],
      "text/plain": [
       "<IPython.core.display.HTML object>"
      ]
     },
     "metadata": {},
     "output_type": "display_data"
    },
    {
     "data": {
      "text/html": [
       "Find logs at: <code>./wandb/run-20250322_174245-4vm02kpv/logs</code>"
      ],
      "text/plain": [
       "<IPython.core.display.HTML object>"
      ]
     },
     "metadata": {},
     "output_type": "display_data"
    }
   ],
   "source": [
    "wandb.finish()"
   ]
  },
  {
   "cell_type": "markdown",
   "id": "ce68cd63697752b0",
   "metadata": {},
   "source": [
    "## Evaluation"
   ]
  },
  {
   "cell_type": "code",
   "execution_count": null,
   "id": "3008186ea326c4e",
   "metadata": {},
   "outputs": [],
   "source": []
  },
  {
   "cell_type": "markdown",
   "id": "f241fe1cf1168f92",
   "metadata": {},
   "source": [
    "## Interpretation"
   ]
  },
  {
   "cell_type": "code",
   "execution_count": null,
   "id": "62fd1ce96fabd34a",
   "metadata": {},
   "outputs": [],
   "source": []
  }
 ],
 "metadata": {
  "kernelspec": {
   "display_name": "Python 3 (ipykernel)",
   "language": "python",
   "name": "python3"
  },
  "language_info": {
   "codemirror_mode": {
    "name": "ipython",
    "version": 3
   },
   "file_extension": ".py",
   "mimetype": "text/x-python",
   "name": "python",
   "nbconvert_exporter": "python",
   "pygments_lexer": "ipython3",
   "version": "3.12.9"
  }
 },
 "nbformat": 4,
 "nbformat_minor": 5
}
