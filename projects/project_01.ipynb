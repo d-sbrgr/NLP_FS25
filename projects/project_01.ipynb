{
 "cells": [
  {
   "cell_type": "markdown",
   "id": "d4cbec299a5d4f64",
   "metadata": {},
   "source": [
    "## Introduction\n",
    "\n",
    "* #TODO: INSERT LINK TO WANDB VIEW"
   ]
  },
  {
   "cell_type": "markdown",
   "id": "dd1fcc78251ae773",
   "metadata": {},
   "source": [
    "## Setup"
   ]
  },
  {
   "cell_type": "markdown",
   "id": "ae74b556f3aff49",
   "metadata": {},
   "source": [
    "#### Install dependencies\n",
    "\n",
    "* **torch**: PyTorch framework for the creation of neural networks\n",
    "* **lightning**: Lightning wrapper for pytorch for simple network training\n",
    "* **huggingface_hub**: HuggingFace hub for downloading word vectors\n",
    "* **datasets**: HuggingFace datasets to download and load the data set\n",
    "* **wandb**: Weights & Biases for experiment tracking\n",
    "* **fasttext**: Word embedding library\n",
    "* **nltk**: Natural Language Toolkit used for word tokenization\n",
    "* **torchmetrics**: Extension to lightning to compute model metrics"
   ]
  },
  {
   "cell_type": "code",
   "id": "33f5c188a84c79a9",
   "metadata": {},
   "source": [
    "import sys\n",
    "\n",
    "import numpy as np\n",
    "from unicodedata import bidirectional\n",
    "\n",
    "%pip install -q torch lightning huggingface_hub datasets wandb nltk torchmetrics\n",
    "\n",
    "if sys.platform == 'win32': # Windows requires different fasttext implementation\n",
    "    %pip install -q fasttext-wheel\n",
    "else: \n",
    "    %pip install -q fasttext"
   ],
   "outputs": [],
   "execution_count": null
  },
  {
   "cell_type": "markdown",
   "id": "827b435e83550d40",
   "metadata": {},
   "source": [
    "Do all the imports needed in this project, but keep them separate depending on the part of the notebook that uses them. Reason: Makes reading easier in later sections if done subsequently, but don't users to import everything if they just want to run some specific cells"
   ]
  },
  {
   "cell_type": "markdown",
   "id": "ddf6c5769e426a79",
   "metadata": {},
   "source": [
    "##### pytorch & lightning"
   ]
  },
  {
   "cell_type": "code",
   "id": "5e0c3ad68f73131c",
   "metadata": {
    "ExecuteTime": {
     "end_time": "2025-03-28T15:25:51.962919Z",
     "start_time": "2025-03-28T15:25:09.775303Z"
    }
   },
   "source": [
    "import torch\n",
    "import torch.nn as nn\n",
    "import torch.nn.functional as F\n",
    "from torch.utils.data import Dataset\n",
    "import lightning as L\n",
    "from lightning.pytorch.loggers import WandbLogger\n",
    "import torchmetrics"
   ],
   "outputs": [
    {
     "name": "stderr",
     "output_type": "stream",
     "text": [
      "C:\\git\\NLP_FS25\\.env3\\Lib\\site-packages\\requests\\__init__.py:86: RequestsDependencyWarning: Unable to find acceptable character detection dependency (chardet or charset_normalizer).\n",
      "  warnings.warn(\n"
     ]
    }
   ],
   "execution_count": 2
  },
  {
   "cell_type": "markdown",
   "id": "28a8be01f6acc709",
   "metadata": {},
   "source": [
    "##### Huggingface"
   ]
  },
  {
   "cell_type": "code",
   "id": "ef6c55b396bb8a21",
   "metadata": {
    "ExecuteTime": {
     "end_time": "2025-03-28T15:25:54.454973Z",
     "start_time": "2025-03-28T15:25:51.972022Z"
    }
   },
   "source": [
    "from huggingface_hub import hf_hub_download\n",
    "from datasets import Dataset as HFDataset\n",
    "from datasets import load_dataset"
   ],
   "outputs": [],
   "execution_count": 3
  },
  {
   "cell_type": "markdown",
   "id": "57cbccf2e9344a44",
   "metadata": {},
   "source": [
    "##### Tokenization & Embeddings"
   ]
  },
  {
   "cell_type": "code",
   "id": "abfecdc173a6fd4f",
   "metadata": {
    "ExecuteTime": {
     "end_time": "2025-03-28T15:25:56.389602Z",
     "start_time": "2025-03-28T15:25:54.490041Z"
    }
   },
   "source": [
    "import nltk\n",
    "import fasttext"
   ],
   "outputs": [],
   "execution_count": 4
  },
  {
   "cell_type": "markdown",
   "id": "36d523ec31804506",
   "metadata": {},
   "source": [
    "##### Python Builtins"
   ]
  },
  {
   "cell_type": "code",
   "id": "2ccac58d97e06351",
   "metadata": {},
   "source": [
    "from typing import Callable\n",
    "import time"
   ],
   "outputs": [],
   "execution_count": null
  },
  {
   "cell_type": "markdown",
   "id": "bf90dec31f8030c9",
   "metadata": {},
   "source": [
    "##### Experiment Tracking"
   ]
  },
  {
   "cell_type": "code",
   "id": "2c62074d7822dd2f",
   "metadata": {},
   "source": [
    "import wandb"
   ],
   "outputs": [],
   "execution_count": null
  },
  {
   "cell_type": "markdown",
   "id": "b696ef4250c380a0",
   "metadata": {},
   "source": [
    "#### Load dataset\n",
    "\n",
    "Use the pre-defined method to load the dataset and do the train and validation split"
   ]
  },
  {
   "cell_type": "code",
   "id": "ad899724a20482d9",
   "metadata": {},
   "source": [
    "train: HFDataset = load_dataset(\"tau/commonsense_qa\", split=\"train[:-1000]\")\n",
    "valid: HFDataset = load_dataset(\"tau/commonsense_qa\", split=\"train[-1000:]\")\n",
    "test: HFDataset = load_dataset(\"tau/commonsense_qa\", split=\"validation\")\n",
    "\n",
    "print(len(train), len(valid), len(test))"
   ],
   "outputs": [],
   "execution_count": null
  },
  {
   "cell_type": "markdown",
   "id": "cdc78217c5ed1f84",
   "metadata": {},
   "source": [
    "#### Setup Weights & Biases\n",
    "\n",
    "Login to weights and biases to enable experiment tracking"
   ]
  },
  {
   "cell_type": "code",
   "id": "b9bc41bae4172979",
   "metadata": {},
   "source": [
    "wandb.login()"
   ],
   "outputs": [],
   "execution_count": null
  },
  {
   "cell_type": "markdown",
   "id": "b635a3413d69a3fc",
   "metadata": {},
   "source": [
    "## Preprocessing\n",
    "\n",
    "#### Vocabulary/Embedding\n",
    "\n",
    "* I decided to use the **FastText** library for this project, since in class it was said that FastText is superior to the other embedding models and there is no problem with embedding unknown words, because it can create word vectors from their subwords. Furthermore, I will be working with the **facebook/fasttext-en-vectors** word vectors from the HuggingFace hub. They embed words from the English language, which is the only relevant language.\n",
    "\n",
    "* This choice influences decisions in the following pre-processing steps.\n",
    "\n",
    "#### Format cleaning (e.g. html-extracted text)\n",
    "\n",
    "* No format cleaning is performed, because we work with a carefully assembled and standardized dataset used in model benchmarking.\n",
    "\n",
    "#### Tokenization\n",
    "\n",
    "* *word_tokenizer* from the **nltk** library will be used. This tokenizer works well for the English language. It also splits punctuation from text, which matches the tokens the fasttext word vectors were trained on.\n",
    "\n",
    "#### Lowercasing, stemming, lemmatizing, stopword/punctuation removal\n",
    "\n",
    "* **Lowercasing**: Although the word vectors in use were trained on case-sensitive data, the tokenized words will be lowercased to reach a smaller vocabulary and minimize out-of-vocabulary words.\n",
    "* **Stemming**: The word embedding model was not trained on word stems and therefore no stemming is carried out.\n",
    "* **Lemmatizing**: The word tokens to be embedded will not be lemmatized, because the fasttext model was trained on un-lemmatized words and the n-gram encoding of the words used in fasttext preserves sub-word information.\n",
    "* **Stopword/Punctudation removal**: Since the task is to answer common-sense questions, stopwords and punctuation will not be removed. Most of the questions are quite short and the loss of information if either a critical stopword in the question or punctuation that changes the meaning of the question is removed could be significant.\n",
    "\n",
    "#### Removal of unknown/other words\n",
    "\n",
    "* Since I am working with a fasttext model, the removal of unknown words is not necessary, because vectors for them can implicitly be built from their n-gram vectors. Also, the encounter of unknown words is not expected.\n",
    "\n",
    "#### Truncation\n",
    "\n",
    "* Input will not be truncated. After some data review, the question yielding the most embedded word vectors yields a tensor of shape **300x67**. Depending on the input format, the RNN model will have to perform significantly less than 100 time steps for the longest input, which is deemed to be feasible. Also, if padding is implemented correctly, for every timestep only the necessary amount of time steps will be executed.\n",
    "\n",
    "#### Feature selection\n",
    "\n",
    "* Of the available features, the **question**, the **choices** and the **answerKey** were chosen. While the *questionConcept* seemed like an interesting feature at first, after some data review it was determined, that this feature often simply contains a word from the question. In the end this feature was left out in order not to give too much emphasis to a single word that does likely not help answering the question at all.\n",
    "\n",
    "#### Input format: how is data passed to the model?\n",
    "\n",
    "###### Classifier\n",
    "\n",
    "   * I chose the input for the *Classifier Model* to be a tensor of size **1800**. The first 300 elements are the averages of the embedded question tokens, next are 300 elements for every embedded and averaged answer vector from answer option 'A' to 'E'.\n",
    "      * The average of the question vectors was chosen, because it is a good tradeoff between information retention and input  dimension for the classifier.\n",
    "      * The question vector is before the answer vectors, because \"Q&A\" also has question first, then answers.\n",
    "      * The answers are arranged from 'A' to 'E' because of alphabetical order.\n",
    "      * The average of the answer embeddings has been chosen, since answers can consist of multiple words and therefore may yield multiple embedding vectors.\n",
    "\n",
    "###### RNN + Classifier\n",
    "\n",
    "   * I chose the input for the *RNN + Classifier Model* to be tensor of size **300 x (N + 10)**. The first *N* columns of the tensor are the word-embeddings of the question. The last *10* columns are the averages of the word embeddings for each answer choice, separated by a *SEP* token.\n",
    "      * As separation token the character **¦** was chosen, because it is known to the embeddings model, but does not appear in the data.\n",
    "      * The separation token was introduced to signal to the model, that after the input after this reserved token is an answer choice.\n",
    "      * All answer embeddings are concatenated to the question embeddings to only need one full pass through the RNN model to get a prediction.\n",
    "      * The answer embeddings are after the question embeddings, because \"Q&A\" also has question first, then answer.\n",
    "\n",
    "#### Label format: what should the model predict?\n",
    "\n",
    "* Both model architectures will predict a vector of length 5. Every answer choice ('A' through 'E') is encoded on an index in the vector (0 through 4). Since the classifier at the last stage of the model predicts the likelihood of each output, this output format seems the most reasonable. Also, with this kind of output, the model only needs to run once for every classification, which should increase compute performance.\n",
    "\n",
    "#### Train/valid/test splits\n",
    "\n",
    "* As seen in the *Introduction* section, the train/validation/test splits are performed as defined in the course\n",
    "\n",
    "#### Batching, padding\n",
    "\n",
    "* For each model, before training the batch size is determined at which 80% of GPU memory is being used. This threshold was chosen, because the GPU is well utilized, but there is still room for unforseen memory usage.\n",
    "    * Note: For the classifier model, the entire training data sit would fit on the GPU memory at once. The batch size for that model will be statically set at **512**. Reason: Still use stochastic gradient descent with around 16 batches in total.\n",
    "* Only the input of the **RNN + Classifier** model is of variable size, therefore padding is only necessary for that model. #TODO: specify padding for RNN model and check entire documentation of preprocessing, add documentation on batch size experiment"
   ]
  },
  {
   "cell_type": "markdown",
   "id": "8bf5eb8363eacb78",
   "metadata": {},
   "source": [
    "### Tokenize\n",
    "\n",
    "Create method to tokenize and lowercase a given text"
   ]
  },
  {
   "cell_type": "code",
   "id": "5b71c0f47430aebe",
   "metadata": {},
   "source": [
    "nltk.download(\"punkt_tab\")\n",
    "\n",
    "def tokenize(text: str) -> list[str]:\n",
    "    return [w.lower() for w in nltk.word_tokenize(text, language=\"english\")]"
   ],
   "outputs": [],
   "execution_count": null
  },
  {
   "cell_type": "markdown",
   "id": "226d42f6a99035f0",
   "metadata": {},
   "source": [
    "### Word embeddings\n",
    "\n",
    "Download the english fasttext word vectors and load their model into the variable *wv_model*\n",
    "\n",
    "Create a function to embed a list of tokenized words and return them as a list of pytorch tensors"
   ]
  },
  {
   "cell_type": "code",
   "id": "1403d38e9ae55f30",
   "metadata": {},
   "source": [
    "model_path = hf_hub_download(\"facebook/fasttext-en-vectors\", \"model.bin\")\n",
    "wv_model = fasttext.load_model(model_path)\n",
    "\n",
    "def get_embeddings_for_tokens(tokens: list[str]):\n",
    "    return torch.stack([torch.tensor(wv_model[t]) for t in tokens])\n",
    "    "
   ],
   "outputs": [],
   "execution_count": null
  },
  {
   "cell_type": "markdown",
   "id": "762f05a64aba4571",
   "metadata": {},
   "source": [
    "### Data Loading and Formatting\n",
    "\n",
    "Create a **pytorch** *Dataset* class in which the HuggingFace dataset is loaded and preprocessed. This allows for an easy integration with a *DataLoader* afterward."
   ]
  },
  {
   "cell_type": "code",
   "id": "e2dfba7d95d0678",
   "metadata": {},
   "source": "TransformMethod = Callable[[torch.Tensor, list[torch.Tensor]], torch.Tensor | nn.utils.rnn.PackedSequence]",
   "outputs": [],
   "execution_count": null
  },
  {
   "cell_type": "markdown",
   "id": "aa78299e9e366c1d",
   "metadata": {},
   "source": [
    "Create a separator token from a character that is known to the word vector model, but unused in the train, valid and test datasets "
   ]
  },
  {
   "cell_type": "code",
   "id": "40a64f78521705ac",
   "metadata": {},
   "source": [
    "def char_not_in_huggingface_dataset(char: str, dataset: HFDataset) -> bool:\n",
    "    for datapoint in dataset:\n",
    "        if char in datapoint[\"question\"] or any(char in c for c in datapoint[\"choices\"][\"text\"]):\n",
    "            return False\n",
    "    return True\n",
    "    \n",
    "\n",
    "separator = \"¦\"\n",
    "assert separator in wv_model # Check if placeholder is a known token in the model\n",
    "assert char_not_in_huggingface_dataset(separator, train)\n",
    "assert char_not_in_huggingface_dataset(separator, valid)\n",
    "assert char_not_in_huggingface_dataset(separator, test)\n",
    "\n",
    "SEP_TOKEN = torch.tensor(wv_model[separator])\n",
    "SEP_TOKEN.shape"
   ],
   "outputs": [],
   "execution_count": null
  },
  {
   "cell_type": "code",
   "id": "beff391944e99b90",
   "metadata": {},
   "source": [
    "KEY_INDEX_MAPPING = {\n",
    "    \"A\": 0,\n",
    "    \"B\": 1,\n",
    "    \"C\": 2,\n",
    "    \"D\": 3,\n",
    "    \"E\": 4,\n",
    "}\n",
    "\n",
    "class CommonsenseQADataset(Dataset):    \n",
    "    def __init__(self, dataset: HFDataset, transform: TransformMethod):\n",
    "        self.dataset: list[dict[str, torch.tensor | list[torch.tensor]]] = []\n",
    "        self._target_transform = transform\n",
    "        self._transform_hugging_face_dataset(dataset)\n",
    "    \n",
    "    def _transform_hugging_face_dataset(self, dataset: HFDataset):\n",
    "        self.dataset.extend([{\n",
    "            \"feature\": self._target_transform(\n",
    "                get_embeddings_for_tokens(tokenize(entry[\"question\"])),\n",
    "                [get_embeddings_for_tokens(tokenize(choice)) for choice in entry[\"choices\"][\"text\"]],\n",
    "            ),\n",
    "            \"label\": torch.eye(5)[KEY_INDEX_MAPPING[entry[\"answerKey\"]]],\n",
    "        } for entry in dataset])\n",
    "        if len(self.dataset) != len(dataset):\n",
    "            raise RuntimeError(\"Converted dataset is not full reflection of source data\")\n",
    "    \n",
    "    def __len__(self):\n",
    "        return len(self.dataset)\n",
    "    \n",
    "    def __getitem__(self, idx):\n",
    "        data_point = self.dataset[idx]\n",
    "        return data_point[\"feature\"], data_point[\"label\"]"
   ],
   "outputs": [],
   "execution_count": null
  },
  {
   "cell_type": "markdown",
   "id": "31cc3469965c8b86",
   "metadata": {},
   "source": [
    "Transform function for **Classifier** network\n",
    "\n",
    "* Function input: Question-tensor (300 x N) and answer-tensor (300 x 5)\n",
    "* Function output: Classifier vector (1800)\n",
    "    * Average of question vectors yields vector of size 300\n",
    "    * Question vector and answer vectors are concatenated (5 * 300 = 1800)"
   ]
  },
  {
   "cell_type": "code",
   "id": "d1384f3a7738a244",
   "metadata": {},
   "source": [
    "def classifier_target_transform(question: torch.Tensor, answers: list[torch.Tensor]) -> torch.Tensor:\n",
    "    return torch.cat((question.mean(dim=0), *(a.mean(dim=0) for a in answers)))"
   ],
   "outputs": [],
   "execution_count": null
  },
  {
   "cell_type": "markdown",
   "id": "8b65a982633864dd",
   "metadata": {},
   "source": [
    "Transform function for **RNN + Classifier** network #TODO: update doc\n",
    "\n",
    "* Function input: Question-tensor (300 x N) and answer-tensor (300 x 5)\n",
    "* Function output: RNN-tensor (300 x (N + 10)) with N question vectors, 5 answer vectors and 5 SEP_TOKEN vectors separating the question from the answer and the answers from each other."
   ]
  },
  {
   "cell_type": "code",
   "id": "7278eaffa9f7bae1",
   "metadata": {},
   "source": [
    "def rnn_target_transform(question: torch.Tensor, answers: list[torch.Tensor]) -> torch.Tensor:\n",
    "    concatenated = [torch.cat((question, SEP_TOKEN, answer.mean(dim=0).unsqueeze(0))) for answer in answers]\n",
    "    return torch.stack(concatenated, dim=0)"
   ],
   "outputs": [],
   "execution_count": null
  },
  {
   "cell_type": "markdown",
   "id": "6844adea2617f1eb",
   "metadata": {},
   "source": [
    "Define collate function that implements the padding for the RNN+Classifier network"
   ]
  },
  {
   "cell_type": "code",
   "id": "57768745de06f997",
   "metadata": {
    "ExecuteTime": {
     "end_time": "2025-03-28T15:25:56.454784Z",
     "start_time": "2025-03-28T15:25:56.446878Z"
    }
   },
   "source": [
    "def rnn_collate_fn(batch: list[tuple[torch.Tensor, torch.Tensor]]):\n",
    "    questions, labels = zip(*batch)  # Separate questions and labels\n",
    "    \n",
    "    # Find max sequence length in batch\n",
    "    max_len = max(q.shape[1] for q in questions)\n",
    "\n",
    "    # Pad all sequences to max_len\n",
    "    padded_questions = []\n",
    "    lengths = []\n",
    "    \n",
    "    for q in questions:\n",
    "        seq_len = q.shape[1]  # Original sequence length\n",
    "        lengths.append(seq_len)\n",
    "        \n",
    "        # Pad sequence to (5, max_len, 300)\n",
    "        pad_size = (0, 0, 0, max_len - seq_len)  # (left_pad, right_pad) per dimension\n",
    "        padded_q = torch.nn.functional.pad(q, pad_size)  # Pad along sequence_length\n",
    "        padded_questions.append(padded_q)\n",
    "    \n",
    "    # Convert to tensor (batch_size, 5, max_len, 300)\n",
    "    padded_questions = torch.stack(padded_questions)\n",
    "    \n",
    "    # Sort by sequence length (required for pack_padded_sequence)\n",
    "    lengths, perm_idx = torch.tensor(lengths).sort(descending=True)\n",
    "    padded_questions = padded_questions[perm_idx]\n",
    "    labels = torch.tensor(labels)[perm_idx]\n",
    "    \n",
    "    return padded_questions, lengths, labels"
   ],
   "outputs": [],
   "execution_count": 5
  },
  {
   "cell_type": "markdown",
   "id": "1e4941497bdf4f65",
   "metadata": {},
   "source": "Transform HuggingFace datasets to pytorch Datasets for both Classifier and RNN+Classifier models"
  },
  {
   "cell_type": "code",
   "id": "16ae26b8c01da94b",
   "metadata": {},
   "source": [
    "train_classifier = CommonsenseQADataset(train, classifier_target_transform)\n",
    "valid_classifier = CommonsenseQADataset(valid, classifier_target_transform)\n",
    "test_classifier = CommonsenseQADataset(test, classifier_target_transform)\n",
    "\n",
    "\n",
    "train_rnn = CommonsenseQADataset(train, rnn_target_transform)\n",
    "valid_rnn = CommonsenseQADataset(valid, rnn_target_transform)\n",
    "test_rnn = CommonsenseQADataset(test, rnn_target_transform)"
   ],
   "outputs": [],
   "execution_count": null
  },
  {
   "cell_type": "markdown",
   "id": "fc5a1ae791e74c08",
   "metadata": {},
   "source": [
    "The following routine is used to determine the best batch size. The model is loaded"
   ]
  },
  {
   "cell_type": "code",
   "id": "b41bb4779fb9290e",
   "metadata": {},
   "source": [
    "def batch_size_finder(data: Dataset, model: nn.Module, collate_fn = None, max_memory_usage=0.8) -> tuple[int, float]:\n",
    "    device = \"cuda\" if torch.cuda.is_available() else \"cpu\"\n",
    "    if not device == \"cuda\":\n",
    "        raise RuntimeError(\"Can only be run on gpu\")\n",
    "    batch_size, memory_usage = 16, 0\n",
    "    model.to(device)\n",
    "    \n",
    "    while True:\n",
    "        loader = torch.utils.data.DataLoader(data, batch_size=batch_size, collate_fn=collate_fn, num_workers=4)\n",
    "        inputs = nn.utils.rnn.PackedSequence(torch.tensor(()), torch.tensor(())) if collate_fn else torch.tensor([])\n",
    "        labels = torch.tensor([])\n",
    "        for i, l in loader:\n",
    "            if isinstance(i, nn.utils.rnn.PackedSequence):\n",
    "                if i.batch_sizes.shape > inputs.batch_sizes.shape:\n",
    "                    inputs, labels = i, l                  \n",
    "            elif i.shape > inputs.shape:\n",
    "                inputs, labels = i, l\n",
    "        try:\n",
    "            inputs, labels = inputs.to(device), labels.to(device)\n",
    "            _ = model(inputs)\n",
    "            \n",
    "            # Check memory usage\n",
    "            mem_allocated = torch.cuda.memory_allocated(device)\n",
    "            mem_reserved = torch.cuda.memory_reserved(device)\n",
    "            mem_usage = mem_allocated / mem_reserved\n",
    "\n",
    "            print(f\"Batch Size: {batch_size}, Memory Usage: {mem_usage:%}\")\n",
    "\n",
    "            if mem_usage <= memory_usage:\n",
    "                return batch_size // 2, memory_usage\n",
    "            \n",
    "            if mem_usage >= max_memory_usage:\n",
    "                return batch_size, mem_usage\n",
    "           \n",
    "            batch_size *= 2\n",
    "            memory_usage = mem_usage\n",
    "        \n",
    "        except RuntimeError as e:\n",
    "            if 'out of memory' in str(e):\n",
    "                return batch_size // 2, memory_usage\n",
    "            raise e\n",
    "    "
   ],
   "outputs": [],
   "execution_count": null
  },
  {
   "cell_type": "markdown",
   "id": "3c78934ccac35531",
   "metadata": {},
   "source": [
    "Determine the optimal batch size for both Classifier and RNN+Classifier models. Optimal batch size was chosen to be when 80% of memory is used."
   ]
  },
  {
   "cell_type": "code",
   "id": "f965e29192a6149",
   "metadata": {},
   "source": [
    "# HIDDEN_DIM_CLASSIFIER = 4096\n",
    "# BATCH_SIZE_CLASSIFIER, memory_usage = batch_size_finder(train_classifier, Classifier(hidden_dim=HIDDEN_DIM_CLASSIFIER))\n",
    "# print(f\"Batch Size: {BATCH_SIZE_CLASSIFIER} @ {memory_usage:%} memory usage\")\n",
    "BATCH_SIZE_CLASSIFIER = 512"
   ],
   "outputs": [],
   "execution_count": null
  },
  {
   "cell_type": "code",
   "id": "4abd0c35b8861437",
   "metadata": {},
   "source": [
    "#HIDDEN_DIM_RNN_LINEAR, HIDDEN_DIM_RNN_GRU, BIDIRECTIONAL = 2048, 256, True\n",
    "# BATCH_SIZE_RNN, memory_usage = batch_size_finder(train_rnn, RNNClassifier(hidden_dim_linear=HIDDEN_DIM_RNN_LINEAR, hidden_dim_gru=HIDDEN_DIM_RNN_GRU, bidirectional=BIDIRECTIONAL), rnn_collate_fn)\n",
    "# print(f\"Batch Size: {BATCH_SIZE_RNN} @ {memory_usage:%} memory usage\")\n",
    "BATCH_SIZE_RNN = 512"
   ],
   "outputs": [],
   "execution_count": null
  },
  {
   "cell_type": "markdown",
   "id": "6d659013d41df134",
   "metadata": {},
   "source": [
    "Instantiate data loaders for both model types"
   ]
  },
  {
   "cell_type": "code",
   "id": "9eca8e459cf146cc",
   "metadata": {},
   "source": [
    "train_loader_classifier = torch.utils.data.DataLoader(train_classifier, batch_size=BATCH_SIZE_CLASSIFIER, shuffle=True, num_workers=4)\n",
    "valid_loader_classifier = torch.utils.data.DataLoader(valid_classifier, batch_size=BATCH_SIZE_CLASSIFIER, num_workers=4)\n",
    "test_loader_classifier = torch.utils.data.DataLoader(test_classifier, batch_size=BATCH_SIZE_CLASSIFIER, num_workers=4)\n",
    "\n",
    "train_loader_rnn = torch.utils.data.DataLoader(train_rnn, batch_size=BATCH_SIZE_RNN, collate_fn=rnn_collate_fn, shuffle=True, num_workers=4)\n",
    "valid_loader_rnn = torch.utils.data.DataLoader(valid_rnn, batch_size=BATCH_SIZE_RNN, collate_fn=rnn_collate_fn, num_workers=4)\n",
    "test_loader_rnn = torch.utils.data.DataLoader(train_rnn, batch_size=BATCH_SIZE_RNN, collate_fn=rnn_collate_fn, num_workers=4)"
   ],
   "outputs": [],
   "execution_count": null
  },
  {
   "cell_type": "markdown",
   "id": "554586163be5eb6b",
   "metadata": {},
   "source": [
    "# 1. Architecture: WordEmbeddings &rarr; Classifier"
   ]
  },
  {
   "cell_type": "markdown",
   "id": "1a26a4c41b4d0171",
   "metadata": {},
   "source": [
    "## Model\n",
    "\n",
    "I chose to use **lightning** to create a streamlined model training process. The *LightningModule* subclass was created with the help of the [API doc](https://lightning.ai/docs/pytorch/LTS/common/lightning_module.html#lightningmodule-api) and the \"experiment_tracking\" notebook that we looked at in the Project Discussion lecture\n",
    "\n",
    "The model architecture complies with the required architecture in the project description.\n",
    "* Between input and hidden layer there is RELU-non-linearity as activation function. Reason: required\n",
    "* The output of the second layer is activated using SoftMax. Reason: meaningful output activation for multiclass classification\n",
    "* The metrics \"val_loss\", \"val_acc\", \"train_loss\", \"train_acc\" are logged after every epoch. Reason: Meaningful metrics, not overwhelming experiment tracking view #TODO: lightning part has moved"
   ]
  },
  {
   "cell_type": "code",
   "id": "40c1e0798eb9f7f4",
   "metadata": {},
   "source": [
    "class Classifier(nn.Module):\n",
    "    def __init__(\n",
    "            self, \n",
    "            input_dim: int = 1800, \n",
    "            hidden_dim: int = 2048, \n",
    "            output_dim: int = 5, \n",
    "            dropout: float = 0.0\n",
    "    ):\n",
    "        super().__init__()\n",
    "        self.fc1 = nn.Linear(input_dim, hidden_dim)\n",
    "        self.fc2 = nn.Linear(hidden_dim, output_dim)\n",
    "        self.dropout = nn.Dropout(dropout)\n",
    "        \n",
    "    def forward(self, x: torch.Tensor, _) -> torch.Tensor:\n",
    "        out = F.relu(self.fc1(x))\n",
    "        out = self.dropout(out)\n",
    "        return self.fc2(out)\n",
    "    \n",
    "    def reset_parameters(self):\n",
    "        self.fc1.reset_parameters()\n",
    "        self.fc2.reset_parameters()"
   ],
   "outputs": [],
   "execution_count": null
  },
  {
   "cell_type": "markdown",
   "id": "4c1d04ba2f9898ed",
   "metadata": {},
   "source": [
    "## Training\n",
    "\n",
    "#TODO: training documentation head"
   ]
  },
  {
   "cell_type": "markdown",
   "id": "718e0f3dff45f259",
   "metadata": {},
   "source": [
    "Crete a LightningModule subclass that takes the model and all hyperparameters as arguments. With this class training can be simplified using the pytorch lightning framework. This class will also be reused for the RNN+Classifier model.\n"
   ]
  },
  {
   "cell_type": "code",
   "id": "130d3b7479e8a8eb",
   "metadata": {},
   "source": [
    "class CqaModule(L.LightningModule):\n",
    "    def __init__(\n",
    "            self, \n",
    "            model: Classifier,\n",
    "            loss_function,\n",
    "            **kwargs        \n",
    "    ):\n",
    "        super().__init__()\n",
    "        self.save_hyperparameters(kwargs)\n",
    "        self.model = model\n",
    "        self.model.reset_parameters()\n",
    "        \n",
    "        self.loss_fn = loss_function()\n",
    "        \n",
    "        self._train_acc = torchmetrics.Accuracy(\"multiclass\", num_classes=self.hparams.output_dim)\n",
    "        self._train_loss = []\n",
    "        self._valid_acc = torchmetrics.Accuracy(\"multiclass\", num_classes=self.hparams.output_dim)\n",
    "        self._valid_loss = []\n",
    "        \n",
    "    def forward(self, x: torch.Tensor, lengths: torch.Tensor = None) -> torch.Tensor:\n",
    "        return self.model(x, lengths)\n",
    "    \n",
    "    def training_step(self, batch, batch_idx):\n",
    "        y = batch[-1]\n",
    "        y_hat = self(*batch[:-1])\n",
    "        loss = self.loss_fn(y_hat, y.argmax(-1))\n",
    "        self._train_loss.append(loss)\n",
    "        self._train_acc(y_hat.argmax(-1), y.argmax(-1))\n",
    "        return loss\n",
    "\n",
    "    def validation_step(self, batch, batch_idx):\n",
    "        y = batch[-1]\n",
    "        y_hat = self(*batch[:-1])\n",
    "        loss = self.loss_fn(y_hat, y.argmax(-1))\n",
    "        self._valid_loss.append(loss)\n",
    "        self._valid_acc(y_hat.argmax(-1), y.argmax(-1))\n",
    "\n",
    "    def test_step(self, batch, batch_idx):\n",
    "        y = batch[-1]\n",
    "        y_hat = self(*batch[:-1])\n",
    "        loss = self.loss_fn(y_hat, y.argmax(-1))\n",
    "        self.log('test_loss', loss)\n",
    "\n",
    "    def on_train_epoch_end(self):\n",
    "        loss = torch.stack(self._train_loss).mean()\n",
    "        self.log_dict({'train_loss': loss, 'train_acc': self._train_acc.compute()}, prog_bar=True)\n",
    "        self._train_loss.clear()\n",
    "        self._train_acc.reset()\n",
    "\n",
    "    def on_validation_epoch_end(self):\n",
    "        loss = torch.stack(self._valid_loss).mean()\n",
    "        self.log_dict({'valid_loss': loss, 'valid_acc': self._valid_acc.compute()}, prog_bar=True)\n",
    "        self._valid_loss.clear()\n",
    "        self._valid_acc.reset()\n",
    "\n",
    "    def configure_optimizers(self):\n",
    "        optim = torch.optim.AdamW(\n",
    "            self.parameters(), \n",
    "            lr=self.hparams.learning_rate, \n",
    "            eps=self.hparams.adam_epsilon, \n",
    "            weight_decay=self.hparams.weight_decay\n",
    "        )\n",
    "        scheduler = torch.optim.lr_scheduler.OneCycleLR(optim, self.hparams.learning_rate, epochs=self.hparams.epochs, steps_per_epoch=self.hparams.steps_per_epoch, pct_start=self.hparams.pct_start, div_factor=1000, final_div_factor=10000)\n",
    "        return {\"optimizer\": optim, \"lr_scheduler\": scheduler}\n",
    "        "
   ],
   "outputs": [],
   "execution_count": null
  },
  {
   "cell_type": "markdown",
   "id": "96fee839789148a2",
   "metadata": {},
   "source": [
    "#### Training routine\n",
    "\n",
    "Define the function **train_classifier** which describes the training routine for the classifier model using the **Trainer** class of *lightning* "
   ]
  },
  {
   "cell_type": "code",
   "id": "50dc9afa3b8d2e16",
   "metadata": {},
   "source": [
    "def lightning_train_classifier(config, logger, *callbacks):\n",
    "    L.seed_everything(42)\n",
    "    model = CqaModule(\n",
    "        Classifier(hidden_dim=config.get(\"hd_cls\"), dropout=config.get(\"drp\")),\n",
    "        nn.CrossEntropyLoss,\n",
    "        **config\n",
    "    )\n",
    "    trainer = L.Trainer(\n",
    "        max_epochs=config.get(\"epochs\"),\n",
    "        accelerator=\"auto\",\n",
    "        devices=1,\n",
    "        callbacks=list(callbacks),\n",
    "        logger=logger,\n",
    "    )\n",
    "    trainer.fit(model, train_loader_classifier, valid_loader_classifier)"
   ],
   "outputs": [],
   "execution_count": null
  },
  {
   "cell_type": "markdown",
   "id": "302e5be5719640b0",
   "metadata": {},
   "source": [
    "#### Run parameters"
   ]
  },
  {
   "metadata": {},
   "cell_type": "code",
   "outputs": [],
   "execution_count": null,
   "source": [
    "def get_run_name(model_name: str, config: dict):\n",
    "    return f\"{model_name}_{'_'.join(f'{k}={v}' for k, v in config.items())}\""
   ],
   "id": "4023fb40f5bec5c1"
  },
  {
   "cell_type": "markdown",
   "id": "f6cae337d032af7a",
   "metadata": {},
   "source": [
    "Define Hyperparameters for the run"
   ]
  },
  {
   "cell_type": "code",
   "id": "20fced576b1c3b20",
   "metadata": {},
   "source": [
    "MODEL_NAME = \"Classifier\"\n",
    "config = dict(\n",
    "    lr=1e-4,\n",
    "    hd_cls=2048,\n",
    "    epochs=100,\n",
    "    steps_per_epoch=len(train_loader_classifier),\n",
    "    adam_e=1e-8,\n",
    "    drp=0.1,\n",
    "    wd=0.0,\n",
    "    pct_start=0.1,\n",
    ")"
   ],
   "outputs": [],
   "execution_count": null
  },
  {
   "cell_type": "markdown",
   "id": "802f350873e1806d",
   "metadata": {},
   "source": [
    "#### Checkpointing\n",
    "\n",
    "#TODO: add documentation"
   ]
  },
  {
   "cell_type": "code",
   "id": "b123befecb9a8b47",
   "metadata": {},
   "source": [
    "checkpoint_callback = L.pytorch.callbacks.ModelCheckpoint(\n",
    "    dirpath=\"./lightning_checkpoints\",\n",
    "    filename=get_run_name(MODEL_NAME, config) + \"-{epoch:02d}-{val_acc:.2f}\",\n",
    "    monitor=\"valid_acc\",\n",
    "    save_last=True,\n",
    "    mode=\"max\"\n",
    ")"
   ],
   "outputs": [],
   "execution_count": null
  },
  {
   "cell_type": "markdown",
   "id": "9a112c21ae9f586",
   "metadata": {},
   "source": [
    "#### Early Stopping\n",
    "\n",
    "#TODO: add documentation"
   ]
  },
  {
   "cell_type": "code",
   "id": "75151dc056ffb566",
   "metadata": {},
   "source": [
    "early_stopping_callback = L.pytorch.callbacks.EarlyStopping(\n",
    "    monitor=\"valid_acc\",\n",
    "    patience=15,\n",
    "    mode=\"max\",\n",
    ")"
   ],
   "outputs": [],
   "execution_count": null
  },
  {
   "cell_type": "markdown",
   "id": "5f5710a3c3640df3",
   "metadata": {},
   "source": [
    "Execute training run"
   ]
  },
  {
   "cell_type": "code",
   "id": "c0b043c76c9360d8",
   "metadata": {},
   "source": [
    "wandb.init(\n",
    "    entity=\"david-schurtenberger\",\n",
    "    project=\"NLP_Project_1\",\n",
    "    name=get_run_name(MODEL_NAME, config),\n",
    "    config=config,\n",
    ")\n",
    "wandb_logger = WandbLogger(project=\"NLP_Project_1\")\n",
    "lightning_train_classifier(wandb.config, wandb_logger, checkpoint_callback, early_stopping_callback)\n",
    "wandb.finish()"
   ],
   "outputs": [],
   "execution_count": null
  },
  {
   "cell_type": "markdown",
   "id": "3313074f11e44e07",
   "metadata": {},
   "source": "### Hyperparameter tuning"
  },
  {
   "metadata": {},
   "cell_type": "code",
   "outputs": [],
   "execution_count": null,
   "source": [
    "def classifier_sweep(config=None):\n",
    "    with wandb.init(config=config):\n",
    "        config = wandb.config\n",
    "        wandb.run.name = get_run_name(MODEL_NAME, config)\n",
    "        checkpoint_callback = L.pytorch.callbacks.ModelCheckpoint(\n",
    "            dirpath=\"./lightning_checkpoints\",\n",
    "            filename=get_run_name(MODEL_NAME, config) + \"-{epoch:02d}-{val_acc:.2f}\",\n",
    "            monitor=\"valid_acc\",\n",
    "            save_last=True,\n",
    "            mode=\"max\"\n",
    "        )\n",
    "        wandb_logger = WandbLogger(log_model=True)\n",
    "        lightning_train_classifier(config, wandb_logger, checkpoint_callback)"
   ],
   "id": "3a1267cbffa1e6a2"
  },
  {
   "metadata": {},
   "cell_type": "code",
   "outputs": [],
   "execution_count": null,
   "source": [
    "sweep_config = {\n",
    "    \"name\": \"ClassifierSweep\",\n",
    "    \"method\": \"bayes\",\n",
    "    \"metric\": {\"name\": \"val_acc\", \"goal\": \"maximize\"},\n",
    "    \"parameters\": {\n",
    "        \"lr\": {\"min\": 1e-5, \"max\": 1e-1},\n",
    "        \"hd_cls\": {\"values\": [512, 1024, 2048, 4096]},\n",
    "        \"wd\": {\"value\": 0.0},\n",
    "        \"adam_e\": {\"value\": 1e-8},\n",
    "        \"drp\": {\"min\": 0, \"max\": 0.3},\n",
    "        \"pct_start\": {\"values\": [0.1, 0.2, 0.3]},\n",
    "        \"epochs\": {\"value\": 100},\n",
    "        \"steps_per_epoch\": {\"value\": len(train_loader_classifier)},\n",
    "    },\n",
    "    \"early_terminate\": {\n",
    "        \"type\": \"hyperband\",\n",
    "        \"min_iter\": 10,\n",
    "        \"eta\": 2\n",
    "    }\n",
    "}"
   ],
   "id": "6a8e9434bb5ec197"
  },
  {
   "metadata": {},
   "cell_type": "code",
   "outputs": [],
   "execution_count": null,
   "source": [
    "sweep_id = wandb.sweep(\n",
    "    sweep=sweep_config, \n",
    "    entity=\"david-schurtenberger\",\n",
    "    project=\"NLP_Project_1\",\n",
    ")"
   ],
   "id": "d76663298b254e6"
  },
  {
   "metadata": {},
   "cell_type": "code",
   "outputs": [],
   "execution_count": null,
   "source": "wandb.agent(sweep_id=sweep_id, function=classifier_sweep, count=50)",
   "id": "8bb4d55ac009eb4a"
  },
  {
   "cell_type": "markdown",
   "id": "78a92ceca9fa4119",
   "metadata": {},
   "source": [
    "## Evaluation"
   ]
  },
  {
   "cell_type": "code",
   "id": "24831257099358aa",
   "metadata": {},
   "source": [],
   "outputs": [],
   "execution_count": null
  },
  {
   "cell_type": "markdown",
   "id": "3bb349b7a3afb091",
   "metadata": {},
   "source": [
    "## Interpretation"
   ]
  },
  {
   "cell_type": "code",
   "id": "c163ba3cc6c0116d",
   "metadata": {},
   "source": [],
   "outputs": [],
   "execution_count": null
  },
  {
   "cell_type": "markdown",
   "id": "670529384ff1a832",
   "metadata": {},
   "source": [
    "# WordEmbeddings &rarr; RNN &rarr; Classifier"
   ]
  },
  {
   "cell_type": "markdown",
   "id": "1cdcb2c089c31f7d",
   "metadata": {},
   "source": [
    "## Model\n",
    "\n",
    "#TODO: add documentation and checkpointing/early stopping"
   ]
  },
  {
   "cell_type": "code",
   "id": "c2bae4a45e8fc91c",
   "metadata": {},
   "source": [
    "class RNNClassifier(Classifier):\n",
    "    def __init__(\n",
    "            self, \n",
    "            input_dim: int = 300, \n",
    "            hidden_dim_gru: int = 512,\n",
    "            hidden_dim_linear: int = 4096, \n",
    "            output_dim: int = 5, \n",
    "            bidirectional: bool = False,\n",
    "            num_gru_layers: int = 2,\n",
    "            dropout: float = 0.0,\n",
    "    ):\n",
    "        self.num_directions = 2 if bidirectional else 1\n",
    "        self.num_gru_layers = num_gru_layers\n",
    "        self.output_dim = output_dim\n",
    "        super().__init__(\n",
    "            input_dim=hidden_dim_gru * self.num_directions * self.output_dim, \n",
    "            hidden_dim=hidden_dim_linear, \n",
    "            output_dim=output_dim,\n",
    "            dropout=dropout,\n",
    "        )\n",
    "        self.gru = nn.GRU(input_dim, hidden_dim_gru, num_layers=2, batch_first=True, bidirectional=bidirectional)\n",
    "        \n",
    "    def forward(self, x: torch.Tensor, lengths: torch.Tensor) -> torch.Tensor:\n",
    "        batch_size, num_choices, seq_len, emb_dim = x.shape\n",
    "        x = x.view(batch_size * num_choices, seq_len, emb_dim)\n",
    "        packed_x = nn.utils.rnn.pack_padded_sequence(x, lengths.repeat_interleave(num_choices), batch_first=True, enforce_sorted=False)\n",
    "        h0 = x.data.new_zeros(self.num_gru_layers * self.num_directions, batch_size * num_choices, self.gru.hidden_size)\n",
    "        _, hn = self.gru(packed_x, h0)\n",
    "        fnn_in = hn[-self.num_directions:, :, :].transpose(0, 1).flatten(1)\n",
    "        return super().forward(fnn_in.view(-1, self.output_dim * fnn_in.size(-1)))\n",
    "    \n",
    "    def reset_parameters(self):\n",
    "        super().reset_parameters()\n",
    "        self.gru.reset_parameters()\n",
    "        "
   ],
   "outputs": [],
   "execution_count": null
  },
  {
   "cell_type": "markdown",
   "id": "c23810130acebbab",
   "metadata": {},
   "source": [
    "## Training\n",
    "\n",
    "#TODO: add documentation\n",
    "\n",
    "#### Training routine\n",
    "\n",
    "Define the function **train_rnn_plus_classifier** which describes the training routine for the classifier model using the **Trainer** class of *lightning* "
   ]
  },
  {
   "cell_type": "code",
   "id": "a870444a893c16ff",
   "metadata": {},
   "source": [
    "def train_rnn_plus_classifier(config, logger, *callbacks):\n",
    "    L.seed_everything(42)\n",
    "    model = CqaModule(\n",
    "        RNNClassifier(\n",
    "            hidden_dim_gru=config.get(\"hd_gru\"),\n",
    "            hidden_dim_linear=config.get(\"hd_cls\"),\n",
    "            bidirectional=config.get(\"bidirectional\"),\n",
    "            dropout=config.get(\"drp\"),\n",
    "        ),\n",
    "        nn.CrossEntropyLoss,\n",
    "        **config\n",
    "    )\n",
    "    trainer = L.Trainer(\n",
    "        max_epochs=config.get(\"epochs\"),\n",
    "        accelerator=\"auto\",\n",
    "        devices=1,\n",
    "        callbacks=list(callbacks),\n",
    "        logger=logger,\n",
    "    )\n",
    "    trainer.fit(model, train_loader_rnn, valid_loader_rnn)"
   ],
   "outputs": [],
   "execution_count": null
  },
  {
   "cell_type": "markdown",
   "id": "441eee485b252e03",
   "metadata": {},
   "source": "Define run parameters"
  },
  {
   "cell_type": "code",
   "id": "41e467b32185e949",
   "metadata": {},
   "source": [
    "MODEL_NAME = \"RNN+Classifier\"\n",
    "config = dict(\n",
    "    lr=1e-4,\n",
    "    hd_cls=2048,\n",
    "    hd_gru=128,\n",
    "    bidirectional=False,\n",
    "    epochs=100,\n",
    "    steps_per_epoch=len(train_loader_rnn),\n",
    "    adam_e=1e-8,\n",
    "    drp=0.1,\n",
    "    wd=0.0,\n",
    "    pct_start=0.1,\n",
    ")"
   ],
   "outputs": [],
   "execution_count": null
  },
  {
   "cell_type": "markdown",
   "id": "75ce958849464f1f",
   "metadata": {},
   "source": [
    "#### Checkpointing\n",
    "\n",
    "#TODO: add documentation"
   ]
  },
  {
   "cell_type": "code",
   "id": "30798af57774703e",
   "metadata": {},
   "source": [
    "checkpoint_callback = L.pytorch.callbacks.ModelCheckpoint(\n",
    "    dirpath=\"./lightning_checkpoints\",\n",
    "    filename=get_run_name(MODEL_NAME, config) + \"-{epoch:02d}-{val_acc:.2f}\",\n",
    "    monitor=\"valid_acc\",\n",
    "    save_last=True,\n",
    "    mode=\"max\"\n",
    ")"
   ],
   "outputs": [],
   "execution_count": null
  },
  {
   "cell_type": "markdown",
   "id": "bdd0e84624145fb1",
   "metadata": {},
   "source": [
    "#### Early stopping\n",
    "\n",
    "#TODO: add documentation"
   ]
  },
  {
   "cell_type": "code",
   "id": "34553d9464e6aaf4",
   "metadata": {},
   "source": [
    "early_stopping_callback = L.pytorch.callbacks.EarlyStopping(\n",
    "    monitor=\"valid_acc\",\n",
    "    patience=15,\n",
    "    mode=\"max\"\n",
    ")"
   ],
   "outputs": [],
   "execution_count": null
  },
  {
   "cell_type": "markdown",
   "id": "518191c47d06b261",
   "metadata": {},
   "source": [
    "Initialize wandb experiment tracking for run\n"
   ]
  },
  {
   "cell_type": "code",
   "id": "12d4fb483b7a6f82",
   "metadata": {},
   "source": [
    "with wandb.init(\n",
    "    entity=\"david-schurtenberger\",\n",
    "    project=\"NLP_Project_1\",\n",
    "    name=get_run_name(MODEL_NAME, config),\n",
    "    config=config,\n",
    "):\n",
    "    wandb_logger = WandbLogger(project=\"NLP_Project_1\")\n",
    "    train_rnn_plus_classifier(wandb.config, wandb_logger, checkpoint_callback, early_stopping_callback)"
   ],
   "outputs": [],
   "execution_count": null
  },
  {
   "metadata": {},
   "cell_type": "markdown",
   "source": "### Hyperparameter tuning",
   "id": "e9fbbaa9081e158f"
  },
  {
   "metadata": {},
   "cell_type": "code",
   "outputs": [],
   "execution_count": null,
   "source": [
    "def rnn_sweep(config=None):\n",
    "    with wandb.init(config=config):\n",
    "        config = wandb.config\n",
    "        wandb.run.name = get_run_name(MODEL_NAME, config)\n",
    "        checkpoint_callback = L.pytorch.callbacks.ModelCheckpoint(\n",
    "            dirpath=\"./lightning_checkpoints\",\n",
    "            filename=get_run_name(MODEL_NAME, config) + \"-{epoch:02d}-{val_acc:.2f}\",\n",
    "            monitor=\"valid_acc\",\n",
    "            save_last=True,\n",
    "            mode=\"max\"\n",
    "        )\n",
    "        wandb_logger = WandbLogger(log_model=True)\n",
    "        train_rnn_plus_classifier(config, wandb_logger, checkpoint_callback)"
   ],
   "id": "91b8bb5ef59a9f5d"
  },
  {
   "metadata": {},
   "cell_type": "code",
   "outputs": [],
   "execution_count": null,
   "source": [
    "sweep_config = {\n",
    "    \"name\": \"RNN+ClassifierSweep\",\n",
    "    \"method\": \"bayes\",\n",
    "    \"metric\": {\"name\": \"val_acc\", \"goal\": \"maximize\"},\n",
    "    \"parameters\": {\n",
    "        \"lr\": {\"min\": 1e-5, \"max\": 1e-1},\n",
    "        \"hd_cls\": {\"values\": [512, 1024, 2048, 4096]},\n",
    "        \"hd_gru\": {\"values\": [64, 128, 256]},\n",
    "        \"wd\": {\"value\": 0.0},\n",
    "        \"adam_e\": {\"value\": 1e-8},\n",
    "        \"drp\": {\"min\": 0, \"max\": 0.3},\n",
    "        \"pct_start\": {\"values\": [0.1, 0.2, 0.3]},\n",
    "        \"epochs\": {\"value\": 100},\n",
    "        \"steps_per_epoch\": {\"value\": len(train_loader_classifier)},\n",
    "    },\n",
    "    \"early_terminate\": {\n",
    "        \"type\": \"hyperband\",\n",
    "        \"min_iter\": 10,\n",
    "        \"eta\": 2\n",
    "    }\n",
    "}"
   ],
   "id": "e9f01a4b1130a6e8"
  },
  {
   "metadata": {},
   "cell_type": "code",
   "outputs": [],
   "execution_count": null,
   "source": [
    "sweep_id = wandb.sweep(\n",
    "    sweep=sweep_config, \n",
    "    entity=\"david-schurtenberger\",\n",
    "    project=\"NLP_Project_1\",\n",
    ")"
   ],
   "id": "37fa4e9fb61f669f"
  },
  {
   "metadata": {},
   "cell_type": "code",
   "outputs": [],
   "execution_count": null,
   "source": "wandb.agent(sweep_id=sweep_id, function=classifier_sweep, count=50)",
   "id": "c7b91b503c2f6a46"
  },
  {
   "cell_type": "markdown",
   "id": "ce68cd63697752b0",
   "metadata": {},
   "source": [
    "## Evaluation"
   ]
  },
  {
   "cell_type": "code",
   "id": "3008186ea326c4e",
   "metadata": {},
   "source": [],
   "outputs": [],
   "execution_count": null
  },
  {
   "cell_type": "markdown",
   "id": "f241fe1cf1168f92",
   "metadata": {},
   "source": [
    "## Interpretation"
   ]
  },
  {
   "cell_type": "code",
   "id": "62fd1ce96fabd34a",
   "metadata": {},
   "source": [],
   "outputs": [],
   "execution_count": null
  }
 ],
 "metadata": {
  "kernelspec": {
   "display_name": "Python 3 (ipykernel)",
   "language": "python",
   "name": "python3"
  },
  "language_info": {
   "codemirror_mode": {
    "name": "ipython",
    "version": 3
   },
   "file_extension": ".py",
   "mimetype": "text/x-python",
   "name": "python",
   "nbconvert_exporter": "python",
   "pygments_lexer": "ipython3",
   "version": "3.12.9"
  }
 },
 "nbformat": 4,
 "nbformat_minor": 5
}
