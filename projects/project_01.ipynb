{
 "cells": [
  {
   "metadata": {},
   "cell_type": "markdown",
   "source": [
    "## Introduction\n",
    "\n",
    "*INSERT LINK TO WANDB VIEW*"
   ],
   "id": "d4cbec299a5d4f64"
  },
  {
   "metadata": {},
   "cell_type": "code",
   "source": "",
   "id": "3db4c54b33606e47",
   "outputs": [],
   "execution_count": null
  },
  {
   "metadata": {},
   "cell_type": "markdown",
   "source": "## Setup",
   "id": "dd1fcc78251ae773"
  },
  {
   "metadata": {},
   "cell_type": "markdown",
   "source": [
    "#### Install dependencies\n",
    "\n",
    "* **torch**: PyTorch framework for the creation of neural networks\n",
    "* **lightning**: Lightning wrapper for pytorch for simple network training\n",
    "* **datasets**: HuggingFace datasets to download and load the data set\n",
    "* **wandb**: Weights & Biases for experiment tracking\n",
    "* **evaluate**: ...\n",
    "* **ipywidgets**: ..."
   ],
   "id": "ae74b556f3aff49"
  },
  {
   "metadata": {},
   "cell_type": "code",
   "source": "%pip install -q torch lightning datasets wandb evaluate ipywidgets",
   "id": "33f5c188a84c79a9",
   "outputs": [],
   "execution_count": null
  },
  {
   "metadata": {},
   "cell_type": "markdown",
   "source": [
    "#### Load dataset\n",
    "\n",
    "Use the pre-defined method to load the dataset and do the train and validation split"
   ],
   "id": "b696ef4250c380a0"
  },
  {
   "metadata": {},
   "cell_type": "code",
   "source": [
    "from datasets import load_dataset, Dataset\n",
    "\n",
    "train: Dataset = load_dataset(\"tau/commonsense_qa\", split=\"train[:-1000]\")\n",
    "valid: Dataset = load_dataset(\"tau/commonsense_qa\", split=\"train[-1000:]\")\n",
    "test: Dataset = load_dataset(\"tau/commonsense_qa\", split=\"validation\")\n",
    "\n",
    "print(len(train), len(valid), len(test))"
   ],
   "id": "ad899724a20482d9",
   "outputs": [],
   "execution_count": null
  },
  {
   "metadata": {},
   "cell_type": "markdown",
   "source": [
    "#### Setup Weights & Biases\n",
    "\n",
    "Login to weights and biases to enable experiment tracking for later network training"
   ],
   "id": "cdc78217c5ed1f84"
  },
  {
   "metadata": {},
   "cell_type": "code",
   "source": [
    "import wandb\n",
    "wandb.login()"
   ],
   "id": "b9bc41bae4172979",
   "outputs": [],
   "execution_count": null
  },
  {
   "metadata": {},
   "cell_type": "markdown",
   "source": "## Preprocessing",
   "id": "b635a3413d69a3fc"
  },
  {
   "metadata": {},
   "cell_type": "code",
   "source": [
    "def preprocess(data: Dataset):\n",
    "    pass"
   ],
   "id": "beff391944e99b90",
   "outputs": [],
   "execution_count": null
  },
  {
   "metadata": {},
   "cell_type": "markdown",
   "source": "## Model",
   "id": "1a26a4c41b4d0171"
  },
  {
   "metadata": {},
   "cell_type": "code",
   "source": "",
   "id": "62e9d4d4e8704f92",
   "outputs": [],
   "execution_count": null
  },
  {
   "metadata": {},
   "cell_type": "markdown",
   "source": "## Training",
   "id": "4c1d04ba2f9898ed"
  },
  {
   "metadata": {},
   "cell_type": "code",
   "source": "",
   "id": "f20c68b42f1e3715",
   "outputs": [],
   "execution_count": null
  },
  {
   "metadata": {},
   "cell_type": "markdown",
   "source": "## Evaluation",
   "id": "78a92ceca9fa4119"
  },
  {
   "metadata": {},
   "cell_type": "code",
   "source": "",
   "id": "24831257099358aa",
   "outputs": [],
   "execution_count": null
  },
  {
   "metadata": {},
   "cell_type": "markdown",
   "source": "## Interpretation",
   "id": "3bb349b7a3afb091"
  },
  {
   "metadata": {},
   "cell_type": "code",
   "source": "",
   "id": "c163ba3cc6c0116d",
   "outputs": [],
   "execution_count": null
  }
 ],
 "metadata": {
  "kernelspec": {
   "display_name": "Python 3",
   "language": "python",
   "name": "python3"
  },
  "language_info": {
   "codemirror_mode": {
    "name": "ipython",
    "version": 2
   },
   "file_extension": ".py",
   "mimetype": "text/x-python",
   "name": "python",
   "nbconvert_exporter": "python",
   "pygments_lexer": "ipython2",
   "version": "2.7.6"
  }
 },
 "nbformat": 4,
 "nbformat_minor": 5
}
