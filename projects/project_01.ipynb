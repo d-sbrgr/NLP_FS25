{
 "cells": [
  {
   "cell_type": "markdown",
   "id": "d4cbec299a5d4f64",
   "metadata": {},
   "source": [
    "## Introduction\n",
    "\n",
    "* # TODO: INSERT LINK TO WANDB VIEW"
   ]
  },
  {
   "cell_type": "code",
   "execution_count": null,
   "id": "3db4c54b33606e47",
   "metadata": {
    "ExecuteTime": {
     "end_time": "2025-03-19T06:15:17.466986Z",
     "start_time": "2025-03-19T06:15:17.462621Z"
    }
   },
   "outputs": [],
   "source": []
  },
  {
   "cell_type": "markdown",
   "id": "dd1fcc78251ae773",
   "metadata": {},
   "source": [
    "## Setup"
   ]
  },
  {
   "cell_type": "markdown",
   "id": "ae74b556f3aff49",
   "metadata": {},
   "source": [
    "#### Install dependencies\n",
    "\n",
    "* **torch**: PyTorch framework for the creation of neural networks\n",
    "* **lightning**: Lightning wrapper for pytorch for simple network training\n",
    "* **huggingface_hub**: HuggingFace hub for downloading word vectors\n",
    "* **datasets**: HuggingFace datasets to download and load the data set\n",
    "* **wandb**: Weights & Biases for experiment tracking\n",
    "* **fasttext**: Word embedding library\n",
    "* **nltk**: Natural Language Toolkit used for word tokenization\n",
    "* **torchmetrics**: Extension to lightning to compute model metrics"
   ]
  },
  {
   "cell_type": "code",
   "execution_count": 1,
   "id": "33f5c188a84c79a9",
   "metadata": {
    "ExecuteTime": {
     "end_time": "2025-03-19T09:27:44.467950Z",
     "start_time": "2025-03-19T09:27:40.158949Z"
    }
   },
   "outputs": [
    {
     "name": "stdout",
     "output_type": "stream",
     "text": [
      "Note: you may need to restart the kernel to use updated packages.\n",
      "Note: you may need to restart the kernel to use updated packages.\n"
     ]
    }
   ],
   "source": [
    "import sys\n",
    "\n",
    "%pip install -q torch lightning huggingface_hub datasets wandb nltk torchmetrics\n",
    "\n",
    "if sys.platform == 'win32': # Windows requires different fasttext implementation\n",
    "    %pip install -q fasttext-wheel\n",
    "else: \n",
    "    %pip install -q fasttext"
   ]
  },
  {
   "cell_type": "markdown",
   "id": "b696ef4250c380a0",
   "metadata": {},
   "source": [
    "#### Load dataset\n",
    "\n",
    "Use the pre-defined method to load the dataset and do the train and validation split"
   ]
  },
  {
   "cell_type": "code",
   "execution_count": 2,
   "id": "ad899724a20482d9",
   "metadata": {
    "ExecuteTime": {
     "end_time": "2025-03-19T12:49:59.439696Z",
     "start_time": "2025-03-19T12:49:42.466851Z"
    }
   },
   "outputs": [
    {
     "data": {
      "application/vnd.jupyter.widget-view+json": {
       "model_id": "bf2a7b8fd05f486b828cf5a008cdfb5f",
       "version_major": 2,
       "version_minor": 0
      },
      "text/plain": [
       "README.md:   0%|          | 0.00/7.39k [00:00<?, ?B/s]"
      ]
     },
     "metadata": {},
     "output_type": "display_data"
    },
    {
     "data": {
      "application/vnd.jupyter.widget-view+json": {
       "model_id": "30db924c59564a39a72f397e02d1f43f",
       "version_major": 2,
       "version_minor": 0
      },
      "text/plain": [
       "train-00000-of-00001.parquet:   0%|          | 0.00/1.25M [00:00<?, ?B/s]"
      ]
     },
     "metadata": {},
     "output_type": "display_data"
    },
    {
     "data": {
      "application/vnd.jupyter.widget-view+json": {
       "model_id": "876f6822c51d47268f452029685a2521",
       "version_major": 2,
       "version_minor": 0
      },
      "text/plain": [
       "validation-00000-of-00001.parquet:   0%|          | 0.00/160k [00:00<?, ?B/s]"
      ]
     },
     "metadata": {},
     "output_type": "display_data"
    },
    {
     "data": {
      "application/vnd.jupyter.widget-view+json": {
       "model_id": "0d644c89342e476d87cd4c32133fbfb5",
       "version_major": 2,
       "version_minor": 0
      },
      "text/plain": [
       "test-00000-of-00001.parquet:   0%|          | 0.00/151k [00:00<?, ?B/s]"
      ]
     },
     "metadata": {},
     "output_type": "display_data"
    },
    {
     "data": {
      "application/vnd.jupyter.widget-view+json": {
       "model_id": "1e2e2ba7b0ee4b69bd77de88955c470e",
       "version_major": 2,
       "version_minor": 0
      },
      "text/plain": [
       "Generating train split:   0%|          | 0/9741 [00:00<?, ? examples/s]"
      ]
     },
     "metadata": {},
     "output_type": "display_data"
    },
    {
     "data": {
      "application/vnd.jupyter.widget-view+json": {
       "model_id": "a736e60081c04c25bd65595b063b6167",
       "version_major": 2,
       "version_minor": 0
      },
      "text/plain": [
       "Generating validation split:   0%|          | 0/1221 [00:00<?, ? examples/s]"
      ]
     },
     "metadata": {},
     "output_type": "display_data"
    },
    {
     "data": {
      "application/vnd.jupyter.widget-view+json": {
       "model_id": "2aa01db225d14d32a5616558d4865025",
       "version_major": 2,
       "version_minor": 0
      },
      "text/plain": [
       "Generating test split:   0%|          | 0/1140 [00:00<?, ? examples/s]"
      ]
     },
     "metadata": {},
     "output_type": "display_data"
    },
    {
     "name": "stdout",
     "output_type": "stream",
     "text": [
      "8741 1000 1221\n"
     ]
    }
   ],
   "source": [
    "from datasets import load_dataset, Dataset\n",
    "\n",
    "train: Dataset = load_dataset(\"tau/commonsense_qa\", split=\"train[:-1000]\")\n",
    "valid: Dataset = load_dataset(\"tau/commonsense_qa\", split=\"train[-1000:]\")\n",
    "test: Dataset = load_dataset(\"tau/commonsense_qa\", split=\"validation\")\n",
    "\n",
    "print(len(train), len(valid), len(test))"
   ]
  },
  {
   "cell_type": "markdown",
   "id": "cdc78217c5ed1f84",
   "metadata": {},
   "source": [
    "#### Setup Weights & Biases\n",
    "\n",
    "Login to weights and biases to enable experiment tracking"
   ]
  },
  {
   "cell_type": "code",
   "execution_count": 31,
   "id": "b9bc41bae4172979",
   "metadata": {},
   "outputs": [
    {
     "name": "stderr",
     "output_type": "stream",
     "text": [
      "Failed to detect the name of this notebook, you can set it manually with the WANDB_NOTEBOOK_NAME environment variable to enable code saving.\n",
      "\u001b[34m\u001b[1mwandb\u001b[0m: Using wandb-core as the SDK backend.  Please refer to https://wandb.me/wandb-core for more information.\n",
      "\u001b[34m\u001b[1mwandb\u001b[0m: Logging into wandb.ai. (Learn how to deploy a W&B server locally: https://wandb.me/wandb-server)\n",
      "\u001b[34m\u001b[1mwandb\u001b[0m: You can find your API key in your browser here: https://wandb.ai/authorize\n",
      "\u001b[34m\u001b[1mwandb\u001b[0m: Paste an API key from your profile and hit enter:"
     ]
    },
    {
     "name": "stdin",
     "output_type": "stream",
     "text": [
      "  ········\n"
     ]
    },
    {
     "name": "stderr",
     "output_type": "stream",
     "text": [
      "\u001b[34m\u001b[1mwandb\u001b[0m: \u001b[33mWARNING\u001b[0m If you're specifying your api key in code, ensure this code is not shared publicly.\n",
      "\u001b[34m\u001b[1mwandb\u001b[0m: \u001b[33mWARNING\u001b[0m Consider setting the WANDB_API_KEY environment variable, or running `wandb login` from the command line.\n",
      "\u001b[34m\u001b[1mwandb\u001b[0m: No netrc file found, creating one.\n",
      "\u001b[34m\u001b[1mwandb\u001b[0m: Appending key for api.wandb.ai to your netrc file: /home/jovyan/.netrc\n",
      "\u001b[34m\u001b[1mwandb\u001b[0m: Currently logged in as: \u001b[33mschurtenberger-david\u001b[0m (\u001b[33mdavid-schurtenberger\u001b[0m) to \u001b[32mhttps://api.wandb.ai\u001b[0m. Use \u001b[1m`wandb login --relogin`\u001b[0m to force relogin\n"
     ]
    },
    {
     "data": {
      "text/plain": [
       "True"
      ]
     },
     "execution_count": 31,
     "metadata": {},
     "output_type": "execute_result"
    }
   ],
   "source": [
    "import wandb\n",
    "wandb.login()"
   ]
  },
  {
   "cell_type": "markdown",
   "id": "b635a3413d69a3fc",
   "metadata": {},
   "source": [
    "## Preprocessing\n",
    "\n",
    "#### Vocabulary/Embedding\n",
    "\n",
    "* I decided to use the **FastText** library for this project, since in class it was said that FastText is superior to the other embedding models and there is no problem with embedding unknown words, because it can create word vectors from their subwords. Furthermore, I will be working with the **facebook/fasttext-en-vectors** word vectors from the HuggingFace hub. They embed words from the English language, which is the only relevant language.\n",
    "\n",
    "* This choice influences decisions in the following pre-processing steps.\n",
    "\n",
    "#### Format cleaning (e.g. html-extracted text)\n",
    "\n",
    "* No format cleaning is performed, because we work with a carefully assembled and standardized dataset used in model benchmarking.\n",
    "\n",
    "#### Tokenization\n",
    "\n",
    "* *word_tokenizer* from the **nltk** library will be used. This tokenizer works well for the English language. It also splits punctuation from text, which matches the tokens the fasttext word vectors were trained on.\n",
    "\n",
    "#### Lowercasing, stemming, lemmatizing, stopword/punctuation removal\n",
    "\n",
    "* **Lowercasing**: Although the word vectors in use were trained on case-sensitive data, the tokenized words will be lowercased to reach a smaller vocabulary and minimize out-of-vocabulary words.\n",
    "* **Stemming**: The word embedding model was not trained on word stems and therefore no stemming is carried out.\n",
    "* **Lemmatizing**: The word tokens to be embedded will not be lemmatized, because the fasttext model was trained on un-lemmatized words and the n-gram encoding of the words used in fasttext preserves sub-word information.\n",
    "* **Stopword/Punctudation removal**: Since the task is to answer common-sense questions, stopwords and punctuation will not be removed. Most of the questions are quite short and the loss of information if either a critical stopword in the question or punctuation that changes the meaning of the question is removed could be significant.\n",
    "\n",
    "#### Removal of unknown/other words\n",
    "\n",
    "* Since I am working with a fasttext model, the removal of unknown words is not necessary, because vectors for them can implicitly be built from their n-gram vectors. Also, the encounter of unknown words is not expected.\n",
    "\n",
    "#### Truncation\n",
    "\n",
    "* Input will not be truncated. After some data review, the question yielding the most embedded word vectors yields a tensor of shape **300x67**. Depending on the input format, the RNN model will have to perform significantly less than 100 time steps for the longest input, which is deemed to be feasible. Also, if padding is implemented correctly, for every timestep only the necessary amount of time steps will be executed.\n",
    "\n",
    "#### Feature selection\n",
    "\n",
    "* Of the available features, the **question**, the **choices** and the **answerKey** were chosen. While the *questionConcept* seemed like an interesting feature at first, after some data review it was determined, that this feature often simply contains a word from the question. In the end this feature was left out in order not to give too much emphasis to a single word that does likely not help answering the question at all.\n",
    "\n",
    "#### Input format: how is data passed to the model?\n",
    "\n",
    "###### Classifier\n",
    "\n",
    "   * I chose the input for the *Classifier Model* to be a tensor of size **1800**. The first 300 elements are the averages of the embedded question tokens, next are 300 elements for every embedded and averaged answer vector from answer option 'A' to 'E'.\n",
    "      * The average of the question vectors was chosen, because it is a good tradeoff between information retention and input  dimension for the classifier.\n",
    "      * The question vector is before the answer vectors, because \"Q&A\" also has question first, then answers.\n",
    "      * The answers are arranged from 'A' to 'E' because of alphabetical order.\n",
    "      * The average of the answer embeddings has been chosen, since answers can consist of multiple words and therefore may yield multiple embedding vectors.\n",
    "\n",
    "###### RNN + Classifier\n",
    "\n",
    "   * I chose the input for the *RNN + Classifier Model* to be tensor of size **300 x (N + 10)**. The first *N* columns of the tensor are the word-embeddings of the question. The last *10* columns are the averages of the word embeddings for each answer choice, separated by a *SEP* token.\n",
    "      * As separation token the character **¦** was chosen, because it is known to the embeddings model, but does not appear in the data.\n",
    "      * The separation token was introduced to signal to the model, that after the input after this reserved token is an answer choice.\n",
    "      * All answer embeddings are concatenated to the question embeddings to only need one full pass through the RNN model to get a prediction.\n",
    "      * The answer embeddings are after the question embeddings, because \"Q&A\" also has question first, then answer.\n",
    "\n",
    "#### Label format: what should the model predict?\n",
    "\n",
    "* Both model architectures will predict a vector of length 5. Every answer choice ('A' through 'E') is encoded on an index in the vector (0 through 4). Since the classifier at the last stage of the model predicts the likelihood of each output, this output format seems the most reasonable. Also, with this kind of output, the model only needs to run once for every classification, which should increase compute performance.\n",
    "\n",
    "#### Train/valid/test splits\n",
    "\n",
    "* As seen in the *Introduction* section, the train/validation/test splits are performed as defined in the course\n",
    "\n",
    "#### Batching, padding\n",
    "\n",
    "* # TODO: test on gpu-hub for optimal batching. padding only necessary for RNN model?\n",
    "* For each model, \n",
    "* Only the input of the **RNN + Classifier** model is of variable size, therefore padding is only necessary for that model."
   ]
  },
  {
   "cell_type": "markdown",
   "id": "8bf5eb8363eacb78",
   "metadata": {},
   "source": [
    "### Tokenize\n",
    "\n",
    "Create method to tokenize and lowercase a given text"
   ]
  },
  {
   "cell_type": "code",
   "execution_count": 3,
   "id": "5b71c0f47430aebe",
   "metadata": {
    "ExecuteTime": {
     "end_time": "2025-03-19T12:50:12.719442Z",
     "start_time": "2025-03-19T12:50:12.219600Z"
    }
   },
   "outputs": [
    {
     "name": "stderr",
     "output_type": "stream",
     "text": [
      "[nltk_data] Downloading package punkt_tab to /home/jovyan/nltk_data...\n",
      "[nltk_data]   Package punkt_tab is already up-to-date!\n"
     ]
    }
   ],
   "source": [
    "import nltk\n",
    "\n",
    "nltk.download(\"punkt_tab\")\n",
    "\n",
    "def tokenize(text: str) -> list[str]:\n",
    "    return [w.lower() for w in nltk.word_tokenize(text, language=\"english\")]"
   ]
  },
  {
   "cell_type": "markdown",
   "id": "226d42f6a99035f0",
   "metadata": {},
   "source": [
    "### Word embeddings\n",
    "\n",
    "Download the english fasttext word vectors and load their model into the variable *wv_model*\n",
    "\n",
    "Create a function to embed a list of tokenized words and return them as a list of pytorch tensors"
   ]
  },
  {
   "cell_type": "code",
   "execution_count": 4,
   "id": "1403d38e9ae55f30",
   "metadata": {
    "ExecuteTime": {
     "end_time": "2025-03-19T12:50:22.598266Z",
     "start_time": "2025-03-19T12:50:14.968565Z"
    }
   },
   "outputs": [
    {
     "data": {
      "application/vnd.jupyter.widget-view+json": {
       "model_id": "c4a7de380a3340eca3807ed06f076eec",
       "version_major": 2,
       "version_minor": 0
      },
      "text/plain": [
       "model.bin:   0%|          | 0.00/7.24G [00:00<?, ?B/s]"
      ]
     },
     "metadata": {},
     "output_type": "display_data"
    }
   ],
   "source": [
    "import fasttext\n",
    "from huggingface_hub import hf_hub_download\n",
    "\n",
    "model_path = hf_hub_download(\"facebook/fasttext-en-vectors\", \"model.bin\")\n",
    "wv_model = fasttext.load_model(model_path)\n",
    "\n",
    "def get_embeddings_for_tokens(tokens: list[str]):\n",
    "    return torch.stack([torch.tensor(wv_model[t]) for t in tokens]).T\n",
    "    "
   ]
  },
  {
   "cell_type": "markdown",
   "id": "762f05a64aba4571",
   "metadata": {},
   "source": [
    "### Data Loading and Formatting\n",
    "\n",
    "Create a **pytorch** *Dataset* class in which the HuggingFace dataset is loaded and preprocessed. This allows for an easy integration with a *DataLoader* afterward."
   ]
  },
  {
   "cell_type": "code",
   "execution_count": 5,
   "id": "e2dfba7d95d0678",
   "metadata": {
    "ExecuteTime": {
     "end_time": "2025-03-19T12:50:25.062162Z",
     "start_time": "2025-03-19T12:50:23.659421Z"
    }
   },
   "outputs": [],
   "source": [
    "from typing import Callable\n",
    "\n",
    "import torch\n",
    "from torch.utils.data import Dataset\n",
    "from datasets import Dataset as HFDataset\n",
    "\n",
    "TransformMethod = Callable[[torch.Tensor, list[torch.Tensor]], torch.Tensor]"
   ]
  },
  {
   "cell_type": "markdown",
   "id": "aa78299e9e366c1d",
   "metadata": {},
   "source": [
    "Create a separator token from a character that is known to the word vector model, but unused in the train, valid and test datasets "
   ]
  },
  {
   "cell_type": "code",
   "execution_count": 6,
   "id": "40a64f78521705ac",
   "metadata": {
    "ExecuteTime": {
     "end_time": "2025-03-19T12:50:29.743454Z",
     "start_time": "2025-03-19T12:50:29.143921Z"
    }
   },
   "outputs": [],
   "source": [
    "def char_not_in_huggingface_dataset(char: str, dataset: HFDataset) -> bool:\n",
    "    for datapoint in dataset:\n",
    "        if char in datapoint[\"question\"] or any(char in c for c in datapoint[\"choices\"][\"text\"]):\n",
    "            return False\n",
    "    return True\n",
    "    \n",
    "\n",
    "placeholder = \"¦\"\n",
    "assert placeholder in wv_model # Check if placeholder is a known token in the model\n",
    "assert char_not_in_huggingface_dataset(placeholder, train)\n",
    "assert char_not_in_huggingface_dataset(placeholder, valid)\n",
    "assert char_not_in_huggingface_dataset(placeholder, test)\n",
    "\n",
    "SEP_TOKEN = torch.tensor(wv_model[placeholder])"
   ]
  },
  {
   "cell_type": "code",
   "execution_count": 7,
   "id": "beff391944e99b90",
   "metadata": {
    "ExecuteTime": {
     "end_time": "2025-03-19T12:50:32.939190Z",
     "start_time": "2025-03-19T12:50:32.926706Z"
    }
   },
   "outputs": [],
   "source": [
    "KEY_INDEX_MAPPING = {\n",
    "    \"A\": 0,\n",
    "    \"B\": 1,\n",
    "    \"C\": 2,\n",
    "    \"D\": 3,\n",
    "    \"E\": 4,\n",
    "}\n",
    "\n",
    "class CommonsenseQADataset(Dataset):\n",
    "    _target_transform: TransformMethod\n",
    "    \n",
    "    def __init__(self, dataset: HFDataset):\n",
    "        self.dataset: list[dict[str, torch.tensor | list[torch.tensor]]] = []\n",
    "        self._transform_hugging_face_dataset(dataset)\n",
    "        \n",
    "    def set_target_transform(self, transform: TransformMethod):\n",
    "        self._target_transform = transform\n",
    "    \n",
    "    def _transform_hugging_face_dataset(self, dataset: HFDataset):\n",
    "        self.dataset.extend([{\n",
    "            \"question\": get_embeddings_for_tokens(tokenize(entry[\"question\"])),\n",
    "            \"choices\": torch.hstack([get_embeddings_for_tokens(tokenize(choice)).mean(dim=1).unsqueeze(1) for choice in entry[\"choices\"][\"text\"]]),\n",
    "            \"answer\": torch.eye(5)[KEY_INDEX_MAPPING[entry[\"answerKey\"]]],\n",
    "        } for entry in dataset])\n",
    "        if len(self.dataset) != len(dataset):\n",
    "            raise RuntimeError(\"Converted dataset is not full reflection of source data\")\n",
    "    \n",
    "    def __len__(self):\n",
    "        return len(self.dataset)\n",
    "    \n",
    "    def __getitem__(self, idx):\n",
    "        data_point = self.dataset[idx]\n",
    "        feature = self._target_transform(data_point[\"question\"], data_point[\"choices\"])\n",
    "        target = data_point[\"answer\"]\n",
    "        return feature, target"
   ]
  },
  {
   "cell_type": "markdown",
   "id": "31cc3469965c8b86",
   "metadata": {},
   "source": [
    "Interchangeable transform function for **Classifier** network\n",
    "\n",
    "* Function input: Question-tensor (300 x N) and answer-tensor (300 x 5)\n",
    "* Function output: Classifier vector (1800)\n",
    "    * Average of question vectors yields vector of size 300\n",
    "    * Question vector and answer vectors are concatenated (5 * 300 = 1800)"
   ]
  },
  {
   "cell_type": "code",
   "execution_count": 8,
   "id": "d1384f3a7738a244",
   "metadata": {
    "ExecuteTime": {
     "end_time": "2025-03-19T12:50:36.052757Z",
     "start_time": "2025-03-19T12:50:36.042344Z"
    }
   },
   "outputs": [],
   "source": [
    "def classifier_target_transform(question: torch.Tensor, answers: torch.Tensor) -> torch.Tensor:\n",
    "    return torch.cat((question.mean(dim=1), answers.T.flatten()))"
   ]
  },
  {
   "cell_type": "markdown",
   "id": "8b65a982633864dd",
   "metadata": {},
   "source": [
    "Interchangeable transform function for **RNN + Classifier** network\n",
    "\n",
    "* Function input: Question-tensor (300 x N) and answer-tensor (300 x 5)\n",
    "* Function output: RNN-tensor (300 x (N + 10)) with N question vectors, 5 answer vectors and 5 SEP_TOKEN vectors separating the question from the answer and the answers from each other."
   ]
  },
  {
   "cell_type": "code",
   "execution_count": 9,
   "id": "7278eaffa9f7bae1",
   "metadata": {
    "ExecuteTime": {
     "end_time": "2025-03-19T12:50:37.480585Z",
     "start_time": "2025-03-19T12:50:37.468410Z"
    }
   },
   "outputs": [],
   "source": [
    "def rnn_target_transform(question: torch.Tensor, answers: torch.Tensor) -> torch.Tensor:\n",
    "    separated_answers = torch.empty(300, 10)\n",
    "    for i in range(5):\n",
    "        separated_answers[:, 2*i] = SEP_TOKEN\n",
    "        separated_answers[:, 2*i+1] = answers[:, i]\n",
    "    return torch.cat([question, separated_answers], dim=1)"
   ]
  },
  {
   "cell_type": "markdown",
   "id": "1e4941497bdf4f65",
   "metadata": {},
   "source": [
    "Transform HuggingFace datasets to pytorch Datasets"
   ]
  },
  {
   "cell_type": "code",
   "execution_count": 10,
   "id": "16ae26b8c01da94b",
   "metadata": {
    "ExecuteTime": {
     "end_time": "2025-03-19T13:40:42.674222Z",
     "start_time": "2025-03-19T13:40:35.905221Z"
    }
   },
   "outputs": [],
   "source": [
    "train_data = CommonsenseQADataset(train)\n",
    "valid_data = CommonsenseQADataset(valid)\n",
    "test_data = CommonsenseQADataset(test)"
   ]
  },
  {
   "cell_type": "markdown",
   "id": "554586163be5eb6b",
   "metadata": {},
   "source": [
    "# 1. Architecture: WordEmbeddings &rarr; Classifier"
   ]
  },
  {
   "cell_type": "markdown",
   "id": "1a26a4c41b4d0171",
   "metadata": {},
   "source": [
    "## Model\n",
    "\n",
    "I chose to use **lightning** to create a streamlined model training process. The *LightningModule* subclass was created with the help of the [API doc](https://lightning.ai/docs/pytorch/LTS/common/lightning_module.html#lightningmodule-api) and the \"experiment_tracking\" notebook that we looked at in the Project Discussion lecture\n",
    "\n",
    "The model architecture complies with the required architecture in the project description.\n",
    "* Between input and hidden layer there is RELU-non-linearity as activation function. Reason: required\n",
    "* The output of the second layer is activated using SoftMax. Reason: meaningful output activation for multiclass classification\n",
    "* The metrics \"val_loss\", \"val_acc\", \"train_loss\", \"train_acc\" are logged after every epoch. Reason: Meaningful metrics, not overwhelming experiment tracking view"
   ]
  },
  {
   "cell_type": "code",
   "execution_count": 11,
   "id": "62e9d4d4e8704f92",
   "metadata": {
    "ExecuteTime": {
     "end_time": "2025-03-19T12:51:00.219715Z",
     "start_time": "2025-03-19T12:50:59.087784Z"
    }
   },
   "outputs": [],
   "source": [
    "import lightning as L\n",
    "import torchmetrics\n",
    "import torch.nn as nn\n",
    "import torch"
   ]
  },
  {
   "cell_type": "code",
   "execution_count": 66,
   "id": "9b28aac91bda610e",
   "metadata": {
    "ExecuteTime": {
     "end_time": "2025-03-19T12:51:01.362014Z",
     "start_time": "2025-03-19T12:51:01.348628Z"
    }
   },
   "outputs": [],
   "source": [
    "class CqaClassifier(L.LightningModule):\n",
    "    def __init__(\n",
    "            self, \n",
    "            input_dim: int = 1800, \n",
    "            hidden_dim: int = 4096, \n",
    "            output_dim: int = 5, \n",
    "            learning_rate: float = 1e-4,\n",
    "            adam_epsilon: float = 1e-8,\n",
    "            weight_decay: float = 0.0,          \n",
    "    ):\n",
    "        super().__init__()\n",
    "        \n",
    "        self.save_hyperparameters()\n",
    "        \n",
    "        self.fc1 = nn.Linear(input_dim, hidden_dim)\n",
    "        self.fc2 = nn.Linear(hidden_dim, output_dim)\n",
    "        self.loss_fn = nn.CrossEntropyLoss()\n",
    "        \n",
    "        self._train_acc = torchmetrics.Accuracy(\"multiclass\", num_classes=output_dim)\n",
    "        self._train_loss = []\n",
    "        self._valid_acc = torchmetrics.Accuracy(\"multiclass\", num_classes=output_dim)\n",
    "        self._valid_loss = []\n",
    "        \n",
    "    def forward(self, x: torch.Tensor) -> torch.Tensor:\n",
    "        fc1 = torch.relu(self.fc1(x))\n",
    "        output = torch.softmax(self.fc2(fc1), dim=1)\n",
    "        return output\n",
    "    \n",
    "    def training_step(self, batch, batch_idx):\n",
    "        x, y = batch\n",
    "        y_hat = self(x)\n",
    "        loss = self.loss_fn(y_hat, y)\n",
    "        self._train_loss.append(loss)\n",
    "        self._train_acc(y_hat, y)\n",
    "        return loss\n",
    "\n",
    "    def validation_step(self, batch, batch_idx):\n",
    "        x, y = batch\n",
    "        y_hat = self(x)\n",
    "        loss = self.loss_fn(y_hat, y)\n",
    "        self._valid_loss.append(loss)\n",
    "        self._valid_acc(y_hat, y)\n",
    "\n",
    "    def test_step(self, batch, batch_idx):\n",
    "        x, y = batch\n",
    "        y_hat = self(x)\n",
    "        loss = self.loss_fn(y_hat, y)\n",
    "        self.log('test_loss', loss)\n",
    "\n",
    "    def on_train_epoch_end(self):\n",
    "        loss = torch.stack(self._train_loss).mean()\n",
    "        self.log_dict({'train_loss': loss, 'train_acc': self._train_acc.compute()}, prog_bar=True)\n",
    "        self._train_loss.clear()\n",
    "        self._train_acc.reset()\n",
    "\n",
    "    def on_validation_epoch_end(self):\n",
    "        loss = torch.stack(self._valid_loss).mean()\n",
    "        self.log_dict({'valid_loss': loss, 'valid_acc': self._valid_acc.compute()}, prog_bar=True)\n",
    "        self._valid_loss.clear()\n",
    "        self._valid_acc.reset()\n",
    "\n",
    "    def configure_optimizers(self):\n",
    "        return torch.optim.AdamW(\n",
    "            self.parameters(), \n",
    "            lr=self.hparams.learning_rate, \n",
    "            eps=self.hparams.adam_epsilon, \n",
    "            weight_decay=self.hparams.weight_decay\n",
    "        )\n",
    "        "
   ]
  },
  {
   "cell_type": "markdown",
   "id": "4c1d04ba2f9898ed",
   "metadata": {},
   "source": [
    "## Training"
   ]
  },
  {
   "cell_type": "markdown",
   "id": "f3ad86e7de95bd58",
   "metadata": {},
   "source": [
    "#### Utilities\n",
    "\n",
    "Create a Utility class for run parameters, that automatically creates a meaningful run-name and returns the config for wandb\n",
    "\n",
    "* Require a model_name, this will also be used as run-name on wandb. Reason: directly clear what model is trained, but not too much information in run name as recommended from wandb\n",
    "* Optional hyperparameter *kwargs* that are passed to the wandb initialization as config. Reason: Track all hyperparameters for reproducability"
   ]
  },
  {
   "cell_type": "code",
   "execution_count": 39,
   "id": "8f80f88f66034749",
   "metadata": {
    "ExecuteTime": {
     "end_time": "2025-03-19T12:51:04.576927Z",
     "start_time": "2025-03-19T12:51:04.567358Z"
    }
   },
   "outputs": [],
   "source": [
    "class RunParameters:\n",
    "    def __init__(self, model_name: str, **kwargs):\n",
    "        self._name = model_name\n",
    "        self._params = dict(kwargs)\n",
    "    \n",
    "    def __call__(self) -> dict:\n",
    "        return self._params\n",
    "    \n",
    "    def __str__(self):\n",
    "        return self._name"
   ]
  },
  {
   "cell_type": "markdown",
   "id": "bf00949e4a7c6540",
   "metadata": {},
   "source": [
    "Utility function to find the optimal batch size. A batch size that uses 80% of the available GPU memory was deemed to be optimal. Reason: Use bulk of memory available, but leave some headroom"
   ]
  },
  {
   "cell_type": "code",
   "execution_count": 40,
   "id": "336b81312efd5aff",
   "metadata": {
    "ExecuteTime": {
     "end_time": "2025-03-19T13:47:15.315461Z",
     "start_time": "2025-03-19T13:47:15.306884Z"
    }
   },
   "outputs": [],
   "source": [
    "def batch_size_finder(data: Dataset, model: L.LightningModule, max_memory_usage=0.8) -> tuple[int, float]:\n",
    "    device = \"cuda\" if torch.cuda.is_available() else \"cpu\"\n",
    "    if not device == \"cuda\":\n",
    "        raise RuntimeError(\"Can only be run on gpu\")\n",
    "    batch_size, memory_usage = 1, 0\n",
    "    model.to(device)\n",
    "    \n",
    "    while True:\n",
    "        loader = torch.utils.data.DataLoader(data, batch_size=batch_size)\n",
    "        inputs = labels = torch.tensor([])\n",
    "        for i, l in loader:\n",
    "            if i.shape > inputs.shape:\n",
    "                inputs, labels = i, l\n",
    "        try:\n",
    "            inputs, labels = inputs.to(device), labels.to(device)\n",
    "            _ = model(inputs)\n",
    "            \n",
    "            # Check memory usage\n",
    "            mem_allocated = torch.cuda.memory_allocated(device)\n",
    "            mem_reserved = torch.cuda.memory_reserved(device)\n",
    "            mem_usage = mem_allocated / mem_reserved\n",
    "\n",
    "            print(f\"Batch Size: {batch_size}, Memory Usage: {mem_usage:%}\")\n",
    "\n",
    "            if mem_usage <= memory_usage:\n",
    "                return batch_size // 2, memory_usage\n",
    "            \n",
    "            if mem_usage >= max_memory_usage:\n",
    "                return batch_size, mem_usage\n",
    "           \n",
    "            batch_size *= 2\n",
    "            memory_usage = mem_usage\n",
    "        \n",
    "        except RuntimeError as e:\n",
    "            if 'out of memory' in str(e):\n",
    "                return batch_size // 2, memory_usage\n",
    "            raise e\n",
    "    "
   ]
  },
  {
   "cell_type": "markdown",
   "id": "302e5be5719640b0",
   "metadata": {},
   "source": [
    "#### Run parameters"
   ]
  },
  {
   "cell_type": "markdown",
   "id": "250550d4a74675ae",
   "metadata": {},
   "source": [
    "Set the data target transformer to the Classifier model function"
   ]
  },
  {
   "cell_type": "code",
   "execution_count": 41,
   "id": "e5d682f2c543bae3",
   "metadata": {
    "ExecuteTime": {
     "end_time": "2025-03-19T13:47:17.221887Z",
     "start_time": "2025-03-19T13:47:17.215960Z"
    }
   },
   "outputs": [],
   "source": [
    "train_data.set_target_transform(classifier_target_transform)\n",
    "valid_data.set_target_transform(classifier_target_transform)"
   ]
  },
  {
   "cell_type": "markdown",
   "id": "5eda600335fa7906",
   "metadata": {},
   "source": [
    "Find optimal batch size for a model with the given amount of hidden layers on the training set"
   ]
  },
  {
   "cell_type": "code",
   "execution_count": 42,
   "id": "b351e436e6bfdd5c",
   "metadata": {
    "ExecuteTime": {
     "end_time": "2025-03-19T13:47:18.245667Z",
     "start_time": "2025-03-19T13:47:18.179844Z"
    }
   },
   "outputs": [
    {
     "name": "stdout",
     "output_type": "stream",
     "text": [
      "Batch Size: 1, Memory Usage: 90.755547%\n",
      "Batch Size: 1 @ 90.755547% memory usage\n"
     ]
    }
   ],
   "source": [
    "HIDDEN_DIM = 4096\n",
    "BATCH_SIZE, memory_usage = batch_size_finder(train_data, CqaClassifier(hidden_dim=HIDDEN_DIM))\n",
    "print(f\"Batch Size: {BATCH_SIZE} @ {memory_usage:%} memory usage\")\n",
    "BATCH_SIZE = 256 # Overwrite batch size, because entire dataset could be loaded at once"
   ]
  },
  {
   "cell_type": "code",
   "execution_count": 43,
   "id": "20fced576b1c3b20",
   "metadata": {
    "ExecuteTime": {
     "end_time": "2025-03-19T13:35:13.115411Z",
     "start_time": "2025-03-19T13:35:13.110073Z"
    }
   },
   "outputs": [],
   "source": [
    "parameters = RunParameters(\n",
    "    \"Classifier-v1\",\n",
    "    learning_rate=1e-4,\n",
    "    epochs=20,\n",
    "    hidden_dim=HIDDEN_DIM,\n",
    "    adam_epsilon=1e-8,\n",
    "    weight_decay=0.0,\n",
    "    train_batch_size=BATCH_SIZE,\n",
    "    valid_batch_size=BATCH_SIZE,\n",
    ")"
   ]
  },
  {
   "cell_type": "markdown",
   "id": "8c4911a7dab1bb10",
   "metadata": {},
   "source": [
    "#### Initialize wandb experiment tracking for run"
   ]
  },
  {
   "cell_type": "code",
   "execution_count": 47,
   "id": "82b2dd9acb4f7145",
   "metadata": {},
   "outputs": [],
   "source": [
    "from lightning.pytorch.loggers import WandbLogger"
   ]
  },
  {
   "cell_type": "code",
   "execution_count": 54,
   "id": "7575c2ac5ad19d59",
   "metadata": {},
   "outputs": [
    {
     "data": {
      "text/html": [
       "Tracking run with wandb version 0.19.8"
      ],
      "text/plain": [
       "<IPython.core.display.HTML object>"
      ]
     },
     "metadata": {},
     "output_type": "display_data"
    },
    {
     "data": {
      "text/html": [
       "Run data is saved locally in <code>/home/jovyan/NLP_FS25/projects/wandb/run-20250320_065406-ymncxt1g</code>"
      ],
      "text/plain": [
       "<IPython.core.display.HTML object>"
      ]
     },
     "metadata": {},
     "output_type": "display_data"
    },
    {
     "data": {
      "text/html": [
       "Syncing run <strong><a href='https://wandb.ai/david-schurtenberger/NLP_Project_1/runs/ymncxt1g' target=\"_blank\">Classifier-v1</a></strong> to <a href='https://wandb.ai/david-schurtenberger/NLP_Project_1' target=\"_blank\">Weights & Biases</a> (<a href='https://wandb.me/developer-guide' target=\"_blank\">docs</a>)<br>"
      ],
      "text/plain": [
       "<IPython.core.display.HTML object>"
      ]
     },
     "metadata": {},
     "output_type": "display_data"
    },
    {
     "data": {
      "text/html": [
       " View project at <a href='https://wandb.ai/david-schurtenberger/NLP_Project_1' target=\"_blank\">https://wandb.ai/david-schurtenberger/NLP_Project_1</a>"
      ],
      "text/plain": [
       "<IPython.core.display.HTML object>"
      ]
     },
     "metadata": {},
     "output_type": "display_data"
    },
    {
     "data": {
      "text/html": [
       " View run at <a href='https://wandb.ai/david-schurtenberger/NLP_Project_1/runs/ymncxt1g' target=\"_blank\">https://wandb.ai/david-schurtenberger/NLP_Project_1/runs/ymncxt1g</a>"
      ],
      "text/plain": [
       "<IPython.core.display.HTML object>"
      ]
     },
     "metadata": {},
     "output_type": "display_data"
    }
   ],
   "source": [
    "wandb.init(\n",
    "    entity=\"david-schurtenberger\",\n",
    "    project=\"NLP_Project_1\",\n",
    "    name=str(parameters),\n",
    "    config=parameters(),\n",
    ")\n",
    "wandb_logger = WandbLogger(project=\"NLP_Project_1\")"
   ]
  },
  {
   "cell_type": "markdown",
   "id": "2783a8e580d74f72",
   "metadata": {},
   "source": [
    "#### Training routine\n",
    "\n",
    "Define the function **train_classifier** which describes the training routine for the classifier model using the **Trainer** class of *lightning* "
   ]
  },
  {
   "cell_type": "code",
   "execution_count": 55,
   "id": "e462b206a5f1b90a",
   "metadata": {},
   "outputs": [],
   "source": [
    "def train_classifier(config, logger, train_loader, valid_loader):\n",
    "    L.seed_everything(42)\n",
    "    model = CqaClassifier(\n",
    "        hidden_dim=config.get(\"hidden_dim\"),\n",
    "        learning_rate=config.get(\"learning_rate\"),\n",
    "        adam_epsilon=config.get(\"adam_epsilon\"),\n",
    "        weight_decay=config.get(\"weight_decay\")\n",
    "    )\n",
    "    trainer = L.Trainer(\n",
    "        max_epochs=config.get(\"epochs\"),\n",
    "        accelerator=\"auto\",\n",
    "        devices=1,\n",
    "        logger=logger,\n",
    "    )\n",
    "    trainer.fit(model, train_loader, valid_loader)"
   ]
  },
  {
   "cell_type": "markdown",
   "id": "eeea74002f402df7",
   "metadata": {},
   "source": [
    "Instantiate data loaders"
   ]
  },
  {
   "cell_type": "code",
   "execution_count": 56,
   "id": "bc31264725ea79e1",
   "metadata": {},
   "outputs": [],
   "source": [
    "train_loader = torch.utils.data.DataLoader(train_data, wandb.config[\"train_batch_size\"], shuffle=True)\n",
    "valid_loader = torch.utils.data.DataLoader(valid_data, wandb.config[\"valid_batch_size\"])"
   ]
  },
  {
   "cell_type": "markdown",
   "id": "5f5710a3c3640df3",
   "metadata": {},
   "source": [
    "Execute training run"
   ]
  },
  {
   "cell_type": "code",
   "execution_count": 67,
   "id": "c0b043c76c9360d8",
   "metadata": {},
   "outputs": [
    {
     "name": "stderr",
     "output_type": "stream",
     "text": [
      "Seed set to 42\n",
      "You are using the plain ModelCheckpoint callback. Consider using LitModelCheckpoint which with seamless uploading to Model registry.\n",
      "GPU available: True (cuda), used: True\n",
      "TPU available: False, using: 0 TPU cores\n",
      "HPU available: False, using: 0 HPUs\n",
      "LOCAL_RANK: 0 - CUDA_VISIBLE_DEVICES: [0]\n",
      "\n",
      "  | Name       | Type               | Params | Mode \n",
      "----------------------------------------------------------\n",
      "0 | fc1        | Linear             | 7.4 M  | train\n",
      "1 | fc2        | Linear             | 20.5 K | train\n",
      "2 | loss_fn    | CrossEntropyLoss   | 0      | train\n",
      "3 | _train_acc | MulticlassAccuracy | 0      | train\n",
      "4 | _valid_acc | MulticlassAccuracy | 0      | train\n",
      "----------------------------------------------------------\n",
      "7.4 M     Trainable params\n",
      "0         Non-trainable params\n",
      "7.4 M     Total params\n",
      "29.590    Total estimated model params size (MB)\n",
      "5         Modules in train mode\n",
      "0         Modules in eval mode\n"
     ]
    },
    {
     "data": {
      "application/vnd.jupyter.widget-view+json": {
       "model_id": "0d71e52138824347947f6474e6c71ac3",
       "version_major": 2,
       "version_minor": 0
      },
      "text/plain": [
       "Sanity Checking: |          | 0/? [00:00<?, ?it/s]"
      ]
     },
     "metadata": {},
     "output_type": "display_data"
    },
    {
     "data": {
      "application/vnd.jupyter.widget-view+json": {
       "model_id": "00244455414d464fb52b9a7f2b306c6a",
       "version_major": 2,
       "version_minor": 0
      },
      "text/plain": [
       "Training: |          | 0/? [00:00<?, ?it/s]"
      ]
     },
     "metadata": {},
     "output_type": "display_data"
    },
    {
     "data": {
      "application/vnd.jupyter.widget-view+json": {
       "model_id": "0aa4c110a0f14cc5969bc794e31147d3",
       "version_major": 2,
       "version_minor": 0
      },
      "text/plain": [
       "Validation: |          | 0/? [00:00<?, ?it/s]"
      ]
     },
     "metadata": {},
     "output_type": "display_data"
    },
    {
     "name": "stdout",
     "output_type": "stream",
     "text": [
      "[tensor(1.6095, device='cuda:0', grad_fn=<DivBackward1>), tensor(1.6096, device='cuda:0', grad_fn=<DivBackward1>), tensor(1.6096, device='cuda:0', grad_fn=<DivBackward1>), tensor(1.6095, device='cuda:0', grad_fn=<DivBackward1>), tensor(1.6096, device='cuda:0', grad_fn=<DivBackward1>), tensor(1.6090, device='cuda:0', grad_fn=<DivBackward1>), tensor(1.6099, device='cuda:0', grad_fn=<DivBackward1>), tensor(1.6084, device='cuda:0', grad_fn=<DivBackward1>), tensor(1.6097, device='cuda:0', grad_fn=<DivBackward1>), tensor(1.6106, device='cuda:0', grad_fn=<DivBackward1>), tensor(1.6092, device='cuda:0', grad_fn=<DivBackward1>), tensor(1.6094, device='cuda:0', grad_fn=<DivBackward1>), tensor(1.6097, device='cuda:0', grad_fn=<DivBackward1>), tensor(1.6100, device='cuda:0', grad_fn=<DivBackward1>), tensor(1.6091, device='cuda:0', grad_fn=<DivBackward1>), tensor(1.6085, device='cuda:0', grad_fn=<DivBackward1>), tensor(1.6102, device='cuda:0', grad_fn=<DivBackward1>), tensor(1.6098, device='cuda:0', grad_fn=<DivBackward1>), tensor(1.6108, device='cuda:0', grad_fn=<DivBackward1>), tensor(1.6099, device='cuda:0', grad_fn=<DivBackward1>), tensor(1.6094, device='cuda:0', grad_fn=<DivBackward1>), tensor(1.6085, device='cuda:0', grad_fn=<DivBackward1>), tensor(1.6094, device='cuda:0', grad_fn=<DivBackward1>), tensor(1.6079, device='cuda:0', grad_fn=<DivBackward1>), tensor(1.6092, device='cuda:0', grad_fn=<DivBackward1>), tensor(1.6082, device='cuda:0', grad_fn=<DivBackward1>), tensor(1.6099, device='cuda:0', grad_fn=<DivBackward1>), tensor(1.6099, device='cuda:0', grad_fn=<DivBackward1>), tensor(1.6097, device='cuda:0', grad_fn=<DivBackward1>), tensor(1.6086, device='cuda:0', grad_fn=<DivBackward1>), tensor(1.6104, device='cuda:0', grad_fn=<DivBackward1>), tensor(1.6090, device='cuda:0', grad_fn=<DivBackward1>), tensor(1.6088, device='cuda:0', grad_fn=<DivBackward1>), tensor(1.6093, device='cuda:0', grad_fn=<DivBackward1>), tensor(1.6070, device='cuda:0', grad_fn=<DivBackward1>)]\n"
     ]
    },
    {
     "data": {
      "application/vnd.jupyter.widget-view+json": {
       "model_id": "d6db31b07823473b91a75092c06270c7",
       "version_major": 2,
       "version_minor": 0
      },
      "text/plain": [
       "Validation: |          | 0/? [00:00<?, ?it/s]"
      ]
     },
     "metadata": {},
     "output_type": "display_data"
    },
    {
     "name": "stdout",
     "output_type": "stream",
     "text": [
      "[tensor(1.6069, device='cuda:0', grad_fn=<DivBackward1>), tensor(1.6078, device='cuda:0', grad_fn=<DivBackward1>), tensor(1.6068, device='cuda:0', grad_fn=<DivBackward1>), tensor(1.6065, device='cuda:0', grad_fn=<DivBackward1>), tensor(1.6060, device='cuda:0', grad_fn=<DivBackward1>), tensor(1.6054, device='cuda:0', grad_fn=<DivBackward1>), tensor(1.6058, device='cuda:0', grad_fn=<DivBackward1>), tensor(1.6065, device='cuda:0', grad_fn=<DivBackward1>), tensor(1.6065, device='cuda:0', grad_fn=<DivBackward1>), tensor(1.6058, device='cuda:0', grad_fn=<DivBackward1>), tensor(1.6059, device='cuda:0', grad_fn=<DivBackward1>), tensor(1.6050, device='cuda:0', grad_fn=<DivBackward1>), tensor(1.6072, device='cuda:0', grad_fn=<DivBackward1>), tensor(1.6061, device='cuda:0', grad_fn=<DivBackward1>), tensor(1.6057, device='cuda:0', grad_fn=<DivBackward1>), tensor(1.6056, device='cuda:0', grad_fn=<DivBackward1>), tensor(1.6067, device='cuda:0', grad_fn=<DivBackward1>), tensor(1.6055, device='cuda:0', grad_fn=<DivBackward1>), tensor(1.6050, device='cuda:0', grad_fn=<DivBackward1>), tensor(1.6080, device='cuda:0', grad_fn=<DivBackward1>), tensor(1.6063, device='cuda:0', grad_fn=<DivBackward1>), tensor(1.6038, device='cuda:0', grad_fn=<DivBackward1>), tensor(1.6061, device='cuda:0', grad_fn=<DivBackward1>), tensor(1.6069, device='cuda:0', grad_fn=<DivBackward1>), tensor(1.6052, device='cuda:0', grad_fn=<DivBackward1>), tensor(1.6053, device='cuda:0', grad_fn=<DivBackward1>), tensor(1.6059, device='cuda:0', grad_fn=<DivBackward1>), tensor(1.6083, device='cuda:0', grad_fn=<DivBackward1>), tensor(1.6045, device='cuda:0', grad_fn=<DivBackward1>), tensor(1.6067, device='cuda:0', grad_fn=<DivBackward1>), tensor(1.6087, device='cuda:0', grad_fn=<DivBackward1>), tensor(1.6048, device='cuda:0', grad_fn=<DivBackward1>), tensor(1.6069, device='cuda:0', grad_fn=<DivBackward1>), tensor(1.6050, device='cuda:0', grad_fn=<DivBackward1>), tensor(1.6088, device='cuda:0', grad_fn=<DivBackward1>)]\n"
     ]
    },
    {
     "data": {
      "application/vnd.jupyter.widget-view+json": {
       "model_id": "df4b44b306dc48079caad4dc9fa4237d",
       "version_major": 2,
       "version_minor": 0
      },
      "text/plain": [
       "Validation: |          | 0/? [00:00<?, ?it/s]"
      ]
     },
     "metadata": {},
     "output_type": "display_data"
    },
    {
     "name": "stdout",
     "output_type": "stream",
     "text": [
      "[tensor(1.6032, device='cuda:0', grad_fn=<DivBackward1>), tensor(1.6025, device='cuda:0', grad_fn=<DivBackward1>), tensor(1.6036, device='cuda:0', grad_fn=<DivBackward1>), tensor(1.6021, device='cuda:0', grad_fn=<DivBackward1>), tensor(1.6025, device='cuda:0', grad_fn=<DivBackward1>), tensor(1.6043, device='cuda:0', grad_fn=<DivBackward1>), tensor(1.6024, device='cuda:0', grad_fn=<DivBackward1>), tensor(1.6035, device='cuda:0', grad_fn=<DivBackward1>), tensor(1.6051, device='cuda:0', grad_fn=<DivBackward1>), tensor(1.6042, device='cuda:0', grad_fn=<DivBackward1>), tensor(1.6006, device='cuda:0', grad_fn=<DivBackward1>), tensor(1.5990, device='cuda:0', grad_fn=<DivBackward1>), tensor(1.6024, device='cuda:0', grad_fn=<DivBackward1>), tensor(1.6024, device='cuda:0', grad_fn=<DivBackward1>), tensor(1.6059, device='cuda:0', grad_fn=<DivBackward1>), tensor(1.6052, device='cuda:0', grad_fn=<DivBackward1>), tensor(1.6008, device='cuda:0', grad_fn=<DivBackward1>), tensor(1.6042, device='cuda:0', grad_fn=<DivBackward1>), tensor(1.6043, device='cuda:0', grad_fn=<DivBackward1>), tensor(1.6030, device='cuda:0', grad_fn=<DivBackward1>), tensor(1.6019, device='cuda:0', grad_fn=<DivBackward1>), tensor(1.6025, device='cuda:0', grad_fn=<DivBackward1>), tensor(1.6034, device='cuda:0', grad_fn=<DivBackward1>), tensor(1.6044, device='cuda:0', grad_fn=<DivBackward1>), tensor(1.6035, device='cuda:0', grad_fn=<DivBackward1>), tensor(1.6014, device='cuda:0', grad_fn=<DivBackward1>), tensor(1.6026, device='cuda:0', grad_fn=<DivBackward1>), tensor(1.6012, device='cuda:0', grad_fn=<DivBackward1>), tensor(1.6035, device='cuda:0', grad_fn=<DivBackward1>), tensor(1.6022, device='cuda:0', grad_fn=<DivBackward1>), tensor(1.6017, device='cuda:0', grad_fn=<DivBackward1>), tensor(1.6009, device='cuda:0', grad_fn=<DivBackward1>), tensor(1.6011, device='cuda:0', grad_fn=<DivBackward1>), tensor(1.6037, device='cuda:0', grad_fn=<DivBackward1>), tensor(1.6064, device='cuda:0', grad_fn=<DivBackward1>)]\n"
     ]
    },
    {
     "data": {
      "application/vnd.jupyter.widget-view+json": {
       "model_id": "8f674dc20d0647acbdd45be9364905a2",
       "version_major": 2,
       "version_minor": 0
      },
      "text/plain": [
       "Validation: |          | 0/? [00:00<?, ?it/s]"
      ]
     },
     "metadata": {},
     "output_type": "display_data"
    },
    {
     "name": "stdout",
     "output_type": "stream",
     "text": [
      "[tensor(1.5997, device='cuda:0', grad_fn=<DivBackward1>), tensor(1.6009, device='cuda:0', grad_fn=<DivBackward1>), tensor(1.6002, device='cuda:0', grad_fn=<DivBackward1>), tensor(1.5969, device='cuda:0', grad_fn=<DivBackward1>), tensor(1.5991, device='cuda:0', grad_fn=<DivBackward1>), tensor(1.5996, device='cuda:0', grad_fn=<DivBackward1>), tensor(1.5998, device='cuda:0', grad_fn=<DivBackward1>), tensor(1.5968, device='cuda:0', grad_fn=<DivBackward1>), tensor(1.6005, device='cuda:0', grad_fn=<DivBackward1>), tensor(1.5987, device='cuda:0', grad_fn=<DivBackward1>), tensor(1.5991, device='cuda:0', grad_fn=<DivBackward1>), tensor(1.6002, device='cuda:0', grad_fn=<DivBackward1>), tensor(1.5970, device='cuda:0', grad_fn=<DivBackward1>), tensor(1.5960, device='cuda:0', grad_fn=<DivBackward1>), tensor(1.5995, device='cuda:0', grad_fn=<DivBackward1>), tensor(1.5999, device='cuda:0', grad_fn=<DivBackward1>), tensor(1.5987, device='cuda:0', grad_fn=<DivBackward1>), tensor(1.5986, device='cuda:0', grad_fn=<DivBackward1>), tensor(1.5961, device='cuda:0', grad_fn=<DivBackward1>), tensor(1.5982, device='cuda:0', grad_fn=<DivBackward1>), tensor(1.5988, device='cuda:0', grad_fn=<DivBackward1>), tensor(1.5973, device='cuda:0', grad_fn=<DivBackward1>), tensor(1.5964, device='cuda:0', grad_fn=<DivBackward1>), tensor(1.5979, device='cuda:0', grad_fn=<DivBackward1>), tensor(1.5987, device='cuda:0', grad_fn=<DivBackward1>), tensor(1.5986, device='cuda:0', grad_fn=<DivBackward1>), tensor(1.5965, device='cuda:0', grad_fn=<DivBackward1>), tensor(1.5992, device='cuda:0', grad_fn=<DivBackward1>), tensor(1.6008, device='cuda:0', grad_fn=<DivBackward1>), tensor(1.5994, device='cuda:0', grad_fn=<DivBackward1>), tensor(1.5958, device='cuda:0', grad_fn=<DivBackward1>), tensor(1.5963, device='cuda:0', grad_fn=<DivBackward1>), tensor(1.5998, device='cuda:0', grad_fn=<DivBackward1>), tensor(1.5954, device='cuda:0', grad_fn=<DivBackward1>), tensor(1.5982, device='cuda:0', grad_fn=<DivBackward1>)]\n"
     ]
    },
    {
     "data": {
      "application/vnd.jupyter.widget-view+json": {
       "model_id": "ff7654e03ff8405f9de5dc35606c9db4",
       "version_major": 2,
       "version_minor": 0
      },
      "text/plain": [
       "Validation: |          | 0/? [00:00<?, ?it/s]"
      ]
     },
     "metadata": {},
     "output_type": "display_data"
    },
    {
     "name": "stdout",
     "output_type": "stream",
     "text": [
      "[tensor(1.5937, device='cuda:0', grad_fn=<DivBackward1>), tensor(1.5932, device='cuda:0', grad_fn=<DivBackward1>), tensor(1.5955, device='cuda:0', grad_fn=<DivBackward1>), tensor(1.5924, device='cuda:0', grad_fn=<DivBackward1>), tensor(1.5913, device='cuda:0', grad_fn=<DivBackward1>), tensor(1.5924, device='cuda:0', grad_fn=<DivBackward1>), tensor(1.5901, device='cuda:0', grad_fn=<DivBackward1>), tensor(1.5887, device='cuda:0', grad_fn=<DivBackward1>), tensor(1.5973, device='cuda:0', grad_fn=<DivBackward1>), tensor(1.5933, device='cuda:0', grad_fn=<DivBackward1>), tensor(1.5899, device='cuda:0', grad_fn=<DivBackward1>), tensor(1.5893, device='cuda:0', grad_fn=<DivBackward1>), tensor(1.5934, device='cuda:0', grad_fn=<DivBackward1>), tensor(1.5952, device='cuda:0', grad_fn=<DivBackward1>), tensor(1.5928, device='cuda:0', grad_fn=<DivBackward1>), tensor(1.5921, device='cuda:0', grad_fn=<DivBackward1>), tensor(1.5927, device='cuda:0', grad_fn=<DivBackward1>), tensor(1.5955, device='cuda:0', grad_fn=<DivBackward1>), tensor(1.5908, device='cuda:0', grad_fn=<DivBackward1>), tensor(1.5915, device='cuda:0', grad_fn=<DivBackward1>), tensor(1.5924, device='cuda:0', grad_fn=<DivBackward1>), tensor(1.5909, device='cuda:0', grad_fn=<DivBackward1>), tensor(1.5918, device='cuda:0', grad_fn=<DivBackward1>), tensor(1.5941, device='cuda:0', grad_fn=<DivBackward1>), tensor(1.5891, device='cuda:0', grad_fn=<DivBackward1>), tensor(1.5938, device='cuda:0', grad_fn=<DivBackward1>), tensor(1.5886, device='cuda:0', grad_fn=<DivBackward1>), tensor(1.5942, device='cuda:0', grad_fn=<DivBackward1>), tensor(1.5938, device='cuda:0', grad_fn=<DivBackward1>), tensor(1.5901, device='cuda:0', grad_fn=<DivBackward1>), tensor(1.5895, device='cuda:0', grad_fn=<DivBackward1>), tensor(1.5962, device='cuda:0', grad_fn=<DivBackward1>), tensor(1.5902, device='cuda:0', grad_fn=<DivBackward1>), tensor(1.5874, device='cuda:0', grad_fn=<DivBackward1>), tensor(1.5941, device='cuda:0', grad_fn=<DivBackward1>)]\n"
     ]
    },
    {
     "data": {
      "application/vnd.jupyter.widget-view+json": {
       "model_id": "4d7ea0cc95f04e0f978856845b72cb8b",
       "version_major": 2,
       "version_minor": 0
      },
      "text/plain": [
       "Validation: |          | 0/? [00:00<?, ?it/s]"
      ]
     },
     "metadata": {},
     "output_type": "display_data"
    },
    {
     "name": "stdout",
     "output_type": "stream",
     "text": [
      "[tensor(1.5866, device='cuda:0', grad_fn=<DivBackward1>), tensor(1.5876, device='cuda:0', grad_fn=<DivBackward1>), tensor(1.5896, device='cuda:0', grad_fn=<DivBackward1>), tensor(1.5838, device='cuda:0', grad_fn=<DivBackward1>), tensor(1.5895, device='cuda:0', grad_fn=<DivBackward1>), tensor(1.5844, device='cuda:0', grad_fn=<DivBackward1>), tensor(1.5879, device='cuda:0', grad_fn=<DivBackward1>), tensor(1.5820, device='cuda:0', grad_fn=<DivBackward1>), tensor(1.5891, device='cuda:0', grad_fn=<DivBackward1>), tensor(1.5804, device='cuda:0', grad_fn=<DivBackward1>), tensor(1.5814, device='cuda:0', grad_fn=<DivBackward1>), tensor(1.5889, device='cuda:0', grad_fn=<DivBackward1>), tensor(1.5824, device='cuda:0', grad_fn=<DivBackward1>), tensor(1.5846, device='cuda:0', grad_fn=<DivBackward1>), tensor(1.5844, device='cuda:0', grad_fn=<DivBackward1>), tensor(1.5897, device='cuda:0', grad_fn=<DivBackward1>), tensor(1.5816, device='cuda:0', grad_fn=<DivBackward1>), tensor(1.5851, device='cuda:0', grad_fn=<DivBackward1>), tensor(1.5810, device='cuda:0', grad_fn=<DivBackward1>), tensor(1.5848, device='cuda:0', grad_fn=<DivBackward1>), tensor(1.5825, device='cuda:0', grad_fn=<DivBackward1>), tensor(1.5814, device='cuda:0', grad_fn=<DivBackward1>), tensor(1.5769, device='cuda:0', grad_fn=<DivBackward1>), tensor(1.5889, device='cuda:0', grad_fn=<DivBackward1>), tensor(1.5763, device='cuda:0', grad_fn=<DivBackward1>), tensor(1.5906, device='cuda:0', grad_fn=<DivBackward1>), tensor(1.5802, device='cuda:0', grad_fn=<DivBackward1>), tensor(1.5782, device='cuda:0', grad_fn=<DivBackward1>), tensor(1.5845, device='cuda:0', grad_fn=<DivBackward1>), tensor(1.5809, device='cuda:0', grad_fn=<DivBackward1>), tensor(1.5764, device='cuda:0', grad_fn=<DivBackward1>), tensor(1.5852, device='cuda:0', grad_fn=<DivBackward1>), tensor(1.5772, device='cuda:0', grad_fn=<DivBackward1>), tensor(1.5891, device='cuda:0', grad_fn=<DivBackward1>), tensor(1.5811, device='cuda:0', grad_fn=<DivBackward1>)]\n"
     ]
    },
    {
     "data": {
      "application/vnd.jupyter.widget-view+json": {
       "model_id": "97f757f5a6f04a88a7472c628e038cdf",
       "version_major": 2,
       "version_minor": 0
      },
      "text/plain": [
       "Validation: |          | 0/? [00:00<?, ?it/s]"
      ]
     },
     "metadata": {},
     "output_type": "display_data"
    },
    {
     "name": "stdout",
     "output_type": "stream",
     "text": [
      "[tensor(1.5745, device='cuda:0', grad_fn=<DivBackward1>), tensor(1.5767, device='cuda:0', grad_fn=<DivBackward1>), tensor(1.5756, device='cuda:0', grad_fn=<DivBackward1>), tensor(1.5738, device='cuda:0', grad_fn=<DivBackward1>), tensor(1.5746, device='cuda:0', grad_fn=<DivBackward1>), tensor(1.5766, device='cuda:0', grad_fn=<DivBackward1>), tensor(1.5755, device='cuda:0', grad_fn=<DivBackward1>), tensor(1.5689, device='cuda:0', grad_fn=<DivBackward1>), tensor(1.5829, device='cuda:0', grad_fn=<DivBackward1>), tensor(1.5676, device='cuda:0', grad_fn=<DivBackward1>), tensor(1.5647, device='cuda:0', grad_fn=<DivBackward1>), tensor(1.5808, device='cuda:0', grad_fn=<DivBackward1>), tensor(1.5703, device='cuda:0', grad_fn=<DivBackward1>), tensor(1.5733, device='cuda:0', grad_fn=<DivBackward1>), tensor(1.5732, device='cuda:0', grad_fn=<DivBackward1>), tensor(1.5709, device='cuda:0', grad_fn=<DivBackward1>), tensor(1.5722, device='cuda:0', grad_fn=<DivBackward1>), tensor(1.5729, device='cuda:0', grad_fn=<DivBackward1>), tensor(1.5634, device='cuda:0', grad_fn=<DivBackward1>), tensor(1.5707, device='cuda:0', grad_fn=<DivBackward1>), tensor(1.5758, device='cuda:0', grad_fn=<DivBackward1>), tensor(1.5792, device='cuda:0', grad_fn=<DivBackward1>), tensor(1.5814, device='cuda:0', grad_fn=<DivBackward1>), tensor(1.5780, device='cuda:0', grad_fn=<DivBackward1>), tensor(1.5810, device='cuda:0', grad_fn=<DivBackward1>), tensor(1.5685, device='cuda:0', grad_fn=<DivBackward1>), tensor(1.5682, device='cuda:0', grad_fn=<DivBackward1>), tensor(1.5780, device='cuda:0', grad_fn=<DivBackward1>), tensor(1.5731, device='cuda:0', grad_fn=<DivBackward1>), tensor(1.5685, device='cuda:0', grad_fn=<DivBackward1>), tensor(1.5677, device='cuda:0', grad_fn=<DivBackward1>), tensor(1.5740, device='cuda:0', grad_fn=<DivBackward1>), tensor(1.5700, device='cuda:0', grad_fn=<DivBackward1>), tensor(1.5688, device='cuda:0', grad_fn=<DivBackward1>), tensor(1.5856, device='cuda:0', grad_fn=<DivBackward1>)]\n"
     ]
    },
    {
     "data": {
      "application/vnd.jupyter.widget-view+json": {
       "model_id": "8160c0feb6694e1ebf3b8fb2154504fe",
       "version_major": 2,
       "version_minor": 0
      },
      "text/plain": [
       "Validation: |          | 0/? [00:00<?, ?it/s]"
      ]
     },
     "metadata": {},
     "output_type": "display_data"
    },
    {
     "name": "stdout",
     "output_type": "stream",
     "text": [
      "[tensor(1.5637, device='cuda:0', grad_fn=<DivBackward1>), tensor(1.5502, device='cuda:0', grad_fn=<DivBackward1>), tensor(1.5598, device='cuda:0', grad_fn=<DivBackward1>), tensor(1.5524, device='cuda:0', grad_fn=<DivBackward1>), tensor(1.5788, device='cuda:0', grad_fn=<DivBackward1>), tensor(1.5622, device='cuda:0', grad_fn=<DivBackward1>), tensor(1.5642, device='cuda:0', grad_fn=<DivBackward1>), tensor(1.5559, device='cuda:0', grad_fn=<DivBackward1>), tensor(1.5814, device='cuda:0', grad_fn=<DivBackward1>), tensor(1.5713, device='cuda:0', grad_fn=<DivBackward1>), tensor(1.5700, device='cuda:0', grad_fn=<DivBackward1>), tensor(1.5663, device='cuda:0', grad_fn=<DivBackward1>), tensor(1.5606, device='cuda:0', grad_fn=<DivBackward1>), tensor(1.5447, device='cuda:0', grad_fn=<DivBackward1>), tensor(1.5591, device='cuda:0', grad_fn=<DivBackward1>), tensor(1.5562, device='cuda:0', grad_fn=<DivBackward1>), tensor(1.5677, device='cuda:0', grad_fn=<DivBackward1>), tensor(1.5533, device='cuda:0', grad_fn=<DivBackward1>), tensor(1.5530, device='cuda:0', grad_fn=<DivBackward1>), tensor(1.5619, device='cuda:0', grad_fn=<DivBackward1>), tensor(1.5557, device='cuda:0', grad_fn=<DivBackward1>), tensor(1.5599, device='cuda:0', grad_fn=<DivBackward1>), tensor(1.5587, device='cuda:0', grad_fn=<DivBackward1>), tensor(1.5597, device='cuda:0', grad_fn=<DivBackward1>), tensor(1.5580, device='cuda:0', grad_fn=<DivBackward1>), tensor(1.5573, device='cuda:0', grad_fn=<DivBackward1>), tensor(1.5600, device='cuda:0', grad_fn=<DivBackward1>), tensor(1.5692, device='cuda:0', grad_fn=<DivBackward1>), tensor(1.5644, device='cuda:0', grad_fn=<DivBackward1>), tensor(1.5606, device='cuda:0', grad_fn=<DivBackward1>), tensor(1.5657, device='cuda:0', grad_fn=<DivBackward1>), tensor(1.5761, device='cuda:0', grad_fn=<DivBackward1>), tensor(1.5576, device='cuda:0', grad_fn=<DivBackward1>), tensor(1.5563, device='cuda:0', grad_fn=<DivBackward1>), tensor(1.5379, device='cuda:0', grad_fn=<DivBackward1>)]\n"
     ]
    },
    {
     "data": {
      "application/vnd.jupyter.widget-view+json": {
       "model_id": "43b868d4145a40169045a2c0702bb7d1",
       "version_major": 2,
       "version_minor": 0
      },
      "text/plain": [
       "Validation: |          | 0/? [00:00<?, ?it/s]"
      ]
     },
     "metadata": {},
     "output_type": "display_data"
    },
    {
     "name": "stdout",
     "output_type": "stream",
     "text": [
      "[tensor(1.5511, device='cuda:0', grad_fn=<DivBackward1>), tensor(1.5439, device='cuda:0', grad_fn=<DivBackward1>), tensor(1.5477, device='cuda:0', grad_fn=<DivBackward1>), tensor(1.5595, device='cuda:0', grad_fn=<DivBackward1>), tensor(1.5595, device='cuda:0', grad_fn=<DivBackward1>), tensor(1.5528, device='cuda:0', grad_fn=<DivBackward1>), tensor(1.5458, device='cuda:0', grad_fn=<DivBackward1>), tensor(1.5465, device='cuda:0', grad_fn=<DivBackward1>), tensor(1.5543, device='cuda:0', grad_fn=<DivBackward1>), tensor(1.5636, device='cuda:0', grad_fn=<DivBackward1>), tensor(1.5548, device='cuda:0', grad_fn=<DivBackward1>), tensor(1.5486, device='cuda:0', grad_fn=<DivBackward1>), tensor(1.5549, device='cuda:0', grad_fn=<DivBackward1>), tensor(1.5593, device='cuda:0', grad_fn=<DivBackward1>), tensor(1.5479, device='cuda:0', grad_fn=<DivBackward1>), tensor(1.5259, device='cuda:0', grad_fn=<DivBackward1>), tensor(1.5343, device='cuda:0', grad_fn=<DivBackward1>), tensor(1.5469, device='cuda:0', grad_fn=<DivBackward1>), tensor(1.5335, device='cuda:0', grad_fn=<DivBackward1>), tensor(1.5440, device='cuda:0', grad_fn=<DivBackward1>), tensor(1.5379, device='cuda:0', grad_fn=<DivBackward1>), tensor(1.5454, device='cuda:0', grad_fn=<DivBackward1>), tensor(1.5503, device='cuda:0', grad_fn=<DivBackward1>), tensor(1.5519, device='cuda:0', grad_fn=<DivBackward1>), tensor(1.5642, device='cuda:0', grad_fn=<DivBackward1>), tensor(1.5465, device='cuda:0', grad_fn=<DivBackward1>), tensor(1.5568, device='cuda:0', grad_fn=<DivBackward1>), tensor(1.5602, device='cuda:0', grad_fn=<DivBackward1>), tensor(1.5544, device='cuda:0', grad_fn=<DivBackward1>), tensor(1.5561, device='cuda:0', grad_fn=<DivBackward1>), tensor(1.5456, device='cuda:0', grad_fn=<DivBackward1>), tensor(1.5436, device='cuda:0', grad_fn=<DivBackward1>), tensor(1.5419, device='cuda:0', grad_fn=<DivBackward1>), tensor(1.5410, device='cuda:0', grad_fn=<DivBackward1>), tensor(1.5492, device='cuda:0', grad_fn=<DivBackward1>)]\n"
     ]
    },
    {
     "data": {
      "application/vnd.jupyter.widget-view+json": {
       "model_id": "efe0e014f833488db3a646e67a3309c0",
       "version_major": 2,
       "version_minor": 0
      },
      "text/plain": [
       "Validation: |          | 0/? [00:00<?, ?it/s]"
      ]
     },
     "metadata": {},
     "output_type": "display_data"
    },
    {
     "name": "stdout",
     "output_type": "stream",
     "text": [
      "[tensor(1.5212, device='cuda:0', grad_fn=<DivBackward1>), tensor(1.5589, device='cuda:0', grad_fn=<DivBackward1>), tensor(1.5451, device='cuda:0', grad_fn=<DivBackward1>), tensor(1.5490, device='cuda:0', grad_fn=<DivBackward1>), tensor(1.5429, device='cuda:0', grad_fn=<DivBackward1>), tensor(1.5345, device='cuda:0', grad_fn=<DivBackward1>), tensor(1.5493, device='cuda:0', grad_fn=<DivBackward1>), tensor(1.5302, device='cuda:0', grad_fn=<DivBackward1>), tensor(1.5345, device='cuda:0', grad_fn=<DivBackward1>), tensor(1.5445, device='cuda:0', grad_fn=<DivBackward1>), tensor(1.5269, device='cuda:0', grad_fn=<DivBackward1>), tensor(1.5324, device='cuda:0', grad_fn=<DivBackward1>), tensor(1.5420, device='cuda:0', grad_fn=<DivBackward1>), tensor(1.5362, device='cuda:0', grad_fn=<DivBackward1>), tensor(1.5433, device='cuda:0', grad_fn=<DivBackward1>), tensor(1.5382, device='cuda:0', grad_fn=<DivBackward1>), tensor(1.5310, device='cuda:0', grad_fn=<DivBackward1>), tensor(1.5320, device='cuda:0', grad_fn=<DivBackward1>), tensor(1.5463, device='cuda:0', grad_fn=<DivBackward1>), tensor(1.5250, device='cuda:0', grad_fn=<DivBackward1>), tensor(1.5370, device='cuda:0', grad_fn=<DivBackward1>), tensor(1.5382, device='cuda:0', grad_fn=<DivBackward1>), tensor(1.5404, device='cuda:0', grad_fn=<DivBackward1>), tensor(1.5266, device='cuda:0', grad_fn=<DivBackward1>), tensor(1.5269, device='cuda:0', grad_fn=<DivBackward1>), tensor(1.5186, device='cuda:0', grad_fn=<DivBackward1>), tensor(1.5320, device='cuda:0', grad_fn=<DivBackward1>), tensor(1.5222, device='cuda:0', grad_fn=<DivBackward1>), tensor(1.5111, device='cuda:0', grad_fn=<DivBackward1>), tensor(1.5273, device='cuda:0', grad_fn=<DivBackward1>), tensor(1.5227, device='cuda:0', grad_fn=<DivBackward1>), tensor(1.5427, device='cuda:0', grad_fn=<DivBackward1>), tensor(1.5398, device='cuda:0', grad_fn=<DivBackward1>), tensor(1.5378, device='cuda:0', grad_fn=<DivBackward1>), tensor(1.5219, device='cuda:0', grad_fn=<DivBackward1>)]\n"
     ]
    },
    {
     "data": {
      "application/vnd.jupyter.widget-view+json": {
       "model_id": "723f3fb6880a4d00950b02d739968516",
       "version_major": 2,
       "version_minor": 0
      },
      "text/plain": [
       "Validation: |          | 0/? [00:00<?, ?it/s]"
      ]
     },
     "metadata": {},
     "output_type": "display_data"
    },
    {
     "name": "stdout",
     "output_type": "stream",
     "text": [
      "[tensor(1.5069, device='cuda:0', grad_fn=<DivBackward1>), tensor(1.5247, device='cuda:0', grad_fn=<DivBackward1>), tensor(1.5275, device='cuda:0', grad_fn=<DivBackward1>), tensor(1.5126, device='cuda:0', grad_fn=<DivBackward1>), tensor(1.5221, device='cuda:0', grad_fn=<DivBackward1>), tensor(1.5383, device='cuda:0', grad_fn=<DivBackward1>), tensor(1.4992, device='cuda:0', grad_fn=<DivBackward1>), tensor(1.5198, device='cuda:0', grad_fn=<DivBackward1>), tensor(1.5287, device='cuda:0', grad_fn=<DivBackward1>), tensor(1.5148, device='cuda:0', grad_fn=<DivBackward1>), tensor(1.5089, device='cuda:0', grad_fn=<DivBackward1>), tensor(1.5010, device='cuda:0', grad_fn=<DivBackward1>), tensor(1.5235, device='cuda:0', grad_fn=<DivBackward1>), tensor(1.5019, device='cuda:0', grad_fn=<DivBackward1>), tensor(1.5252, device='cuda:0', grad_fn=<DivBackward1>), tensor(1.5205, device='cuda:0', grad_fn=<DivBackward1>), tensor(1.5222, device='cuda:0', grad_fn=<DivBackward1>), tensor(1.5143, device='cuda:0', grad_fn=<DivBackward1>), tensor(1.5208, device='cuda:0', grad_fn=<DivBackward1>), tensor(1.5409, device='cuda:0', grad_fn=<DivBackward1>), tensor(1.5287, device='cuda:0', grad_fn=<DivBackward1>), tensor(1.5140, device='cuda:0', grad_fn=<DivBackward1>), tensor(1.5453, device='cuda:0', grad_fn=<DivBackward1>), tensor(1.5421, device='cuda:0', grad_fn=<DivBackward1>), tensor(1.5260, device='cuda:0', grad_fn=<DivBackward1>), tensor(1.5120, device='cuda:0', grad_fn=<DivBackward1>), tensor(1.5283, device='cuda:0', grad_fn=<DivBackward1>), tensor(1.5208, device='cuda:0', grad_fn=<DivBackward1>), tensor(1.5215, device='cuda:0', grad_fn=<DivBackward1>), tensor(1.5223, device='cuda:0', grad_fn=<DivBackward1>), tensor(1.5285, device='cuda:0', grad_fn=<DivBackward1>), tensor(1.5427, device='cuda:0', grad_fn=<DivBackward1>), tensor(1.5367, device='cuda:0', grad_fn=<DivBackward1>), tensor(1.4997, device='cuda:0', grad_fn=<DivBackward1>), tensor(1.5521, device='cuda:0', grad_fn=<DivBackward1>)]\n"
     ]
    },
    {
     "data": {
      "application/vnd.jupyter.widget-view+json": {
       "model_id": "13720f2b32754da3947bc16eb5e3b53f",
       "version_major": 2,
       "version_minor": 0
      },
      "text/plain": [
       "Validation: |          | 0/? [00:00<?, ?it/s]"
      ]
     },
     "metadata": {},
     "output_type": "display_data"
    },
    {
     "name": "stdout",
     "output_type": "stream",
     "text": [
      "[tensor(1.5284, device='cuda:0', grad_fn=<DivBackward1>), tensor(1.5133, device='cuda:0', grad_fn=<DivBackward1>), tensor(1.4923, device='cuda:0', grad_fn=<DivBackward1>), tensor(1.4975, device='cuda:0', grad_fn=<DivBackward1>), tensor(1.5192, device='cuda:0', grad_fn=<DivBackward1>), tensor(1.5064, device='cuda:0', grad_fn=<DivBackward1>), tensor(1.4967, device='cuda:0', grad_fn=<DivBackward1>), tensor(1.5160, device='cuda:0', grad_fn=<DivBackward1>), tensor(1.4917, device='cuda:0', grad_fn=<DivBackward1>), tensor(1.5026, device='cuda:0', grad_fn=<DivBackward1>), tensor(1.5125, device='cuda:0', grad_fn=<DivBackward1>), tensor(1.5255, device='cuda:0', grad_fn=<DivBackward1>), tensor(1.5305, device='cuda:0', grad_fn=<DivBackward1>), tensor(1.5126, device='cuda:0', grad_fn=<DivBackward1>), tensor(1.5101, device='cuda:0', grad_fn=<DivBackward1>), tensor(1.4957, device='cuda:0', grad_fn=<DivBackward1>), tensor(1.4997, device='cuda:0', grad_fn=<DivBackward1>), tensor(1.4973, device='cuda:0', grad_fn=<DivBackward1>), tensor(1.4891, device='cuda:0', grad_fn=<DivBackward1>), tensor(1.5047, device='cuda:0', grad_fn=<DivBackward1>), tensor(1.5200, device='cuda:0', grad_fn=<DivBackward1>), tensor(1.5100, device='cuda:0', grad_fn=<DivBackward1>), tensor(1.5152, device='cuda:0', grad_fn=<DivBackward1>), tensor(1.4997, device='cuda:0', grad_fn=<DivBackward1>), tensor(1.4975, device='cuda:0', grad_fn=<DivBackward1>), tensor(1.5223, device='cuda:0', grad_fn=<DivBackward1>), tensor(1.5068, device='cuda:0', grad_fn=<DivBackward1>), tensor(1.5147, device='cuda:0', grad_fn=<DivBackward1>), tensor(1.5089, device='cuda:0', grad_fn=<DivBackward1>), tensor(1.5094, device='cuda:0', grad_fn=<DivBackward1>), tensor(1.5117, device='cuda:0', grad_fn=<DivBackward1>), tensor(1.5192, device='cuda:0', grad_fn=<DivBackward1>), tensor(1.4970, device='cuda:0', grad_fn=<DivBackward1>), tensor(1.5127, device='cuda:0', grad_fn=<DivBackward1>), tensor(1.5688, device='cuda:0', grad_fn=<DivBackward1>)]\n"
     ]
    },
    {
     "data": {
      "application/vnd.jupyter.widget-view+json": {
       "model_id": "31d5f59fe6574a59bbb72d44f1b79bd7",
       "version_major": 2,
       "version_minor": 0
      },
      "text/plain": [
       "Validation: |          | 0/? [00:00<?, ?it/s]"
      ]
     },
     "metadata": {},
     "output_type": "display_data"
    },
    {
     "name": "stdout",
     "output_type": "stream",
     "text": [
      "[tensor(1.4796, device='cuda:0', grad_fn=<DivBackward1>), tensor(1.4920, device='cuda:0', grad_fn=<DivBackward1>), tensor(1.5093, device='cuda:0', grad_fn=<DivBackward1>), tensor(1.4972, device='cuda:0', grad_fn=<DivBackward1>), tensor(1.4926, device='cuda:0', grad_fn=<DivBackward1>), tensor(1.5174, device='cuda:0', grad_fn=<DivBackward1>), tensor(1.5129, device='cuda:0', grad_fn=<DivBackward1>), tensor(1.5031, device='cuda:0', grad_fn=<DivBackward1>), tensor(1.4868, device='cuda:0', grad_fn=<DivBackward1>), tensor(1.4818, device='cuda:0', grad_fn=<DivBackward1>), tensor(1.4904, device='cuda:0', grad_fn=<DivBackward1>), tensor(1.5021, device='cuda:0', grad_fn=<DivBackward1>), tensor(1.5239, device='cuda:0', grad_fn=<DivBackward1>), tensor(1.5068, device='cuda:0', grad_fn=<DivBackward1>), tensor(1.4880, device='cuda:0', grad_fn=<DivBackward1>), tensor(1.5047, device='cuda:0', grad_fn=<DivBackward1>), tensor(1.4757, device='cuda:0', grad_fn=<DivBackward1>), tensor(1.4694, device='cuda:0', grad_fn=<DivBackward1>), tensor(1.4713, device='cuda:0', grad_fn=<DivBackward1>), tensor(1.5156, device='cuda:0', grad_fn=<DivBackward1>), tensor(1.5060, device='cuda:0', grad_fn=<DivBackward1>), tensor(1.4855, device='cuda:0', grad_fn=<DivBackward1>), tensor(1.4901, device='cuda:0', grad_fn=<DivBackward1>), tensor(1.5007, device='cuda:0', grad_fn=<DivBackward1>), tensor(1.4913, device='cuda:0', grad_fn=<DivBackward1>), tensor(1.4929, device='cuda:0', grad_fn=<DivBackward1>), tensor(1.4990, device='cuda:0', grad_fn=<DivBackward1>), tensor(1.4823, device='cuda:0', grad_fn=<DivBackward1>), tensor(1.4901, device='cuda:0', grad_fn=<DivBackward1>), tensor(1.4942, device='cuda:0', grad_fn=<DivBackward1>), tensor(1.5066, device='cuda:0', grad_fn=<DivBackward1>), tensor(1.5014, device='cuda:0', grad_fn=<DivBackward1>), tensor(1.4904, device='cuda:0', grad_fn=<DivBackward1>), tensor(1.5101, device='cuda:0', grad_fn=<DivBackward1>), tensor(1.5523, device='cuda:0', grad_fn=<DivBackward1>)]\n"
     ]
    },
    {
     "data": {
      "application/vnd.jupyter.widget-view+json": {
       "model_id": "8bb1a49c5da04d73a53ec154f56760e6",
       "version_major": 2,
       "version_minor": 0
      },
      "text/plain": [
       "Validation: |          | 0/? [00:00<?, ?it/s]"
      ]
     },
     "metadata": {},
     "output_type": "display_data"
    },
    {
     "name": "stdout",
     "output_type": "stream",
     "text": [
      "[tensor(1.4940, device='cuda:0', grad_fn=<DivBackward1>), tensor(1.4705, device='cuda:0', grad_fn=<DivBackward1>), tensor(1.4705, device='cuda:0', grad_fn=<DivBackward1>), tensor(1.4772, device='cuda:0', grad_fn=<DivBackward1>), tensor(1.4768, device='cuda:0', grad_fn=<DivBackward1>), tensor(1.4748, device='cuda:0', grad_fn=<DivBackward1>), tensor(1.4774, device='cuda:0', grad_fn=<DivBackward1>), tensor(1.4978, device='cuda:0', grad_fn=<DivBackward1>), tensor(1.4811, device='cuda:0', grad_fn=<DivBackward1>), tensor(1.5038, device='cuda:0', grad_fn=<DivBackward1>), tensor(1.4665, device='cuda:0', grad_fn=<DivBackward1>), tensor(1.4854, device='cuda:0', grad_fn=<DivBackward1>), tensor(1.5071, device='cuda:0', grad_fn=<DivBackward1>), tensor(1.4847, device='cuda:0', grad_fn=<DivBackward1>), tensor(1.4703, device='cuda:0', grad_fn=<DivBackward1>), tensor(1.4864, device='cuda:0', grad_fn=<DivBackward1>), tensor(1.4557, device='cuda:0', grad_fn=<DivBackward1>), tensor(1.4799, device='cuda:0', grad_fn=<DivBackward1>), tensor(1.4922, device='cuda:0', grad_fn=<DivBackward1>), tensor(1.4972, device='cuda:0', grad_fn=<DivBackward1>), tensor(1.5035, device='cuda:0', grad_fn=<DivBackward1>), tensor(1.4974, device='cuda:0', grad_fn=<DivBackward1>), tensor(1.4643, device='cuda:0', grad_fn=<DivBackward1>), tensor(1.4688, device='cuda:0', grad_fn=<DivBackward1>), tensor(1.5020, device='cuda:0', grad_fn=<DivBackward1>), tensor(1.4780, device='cuda:0', grad_fn=<DivBackward1>), tensor(1.5015, device='cuda:0', grad_fn=<DivBackward1>), tensor(1.4805, device='cuda:0', grad_fn=<DivBackward1>), tensor(1.5015, device='cuda:0', grad_fn=<DivBackward1>), tensor(1.4785, device='cuda:0', grad_fn=<DivBackward1>), tensor(1.4873, device='cuda:0', grad_fn=<DivBackward1>), tensor(1.4564, device='cuda:0', grad_fn=<DivBackward1>), tensor(1.4894, device='cuda:0', grad_fn=<DivBackward1>), tensor(1.4788, device='cuda:0', grad_fn=<DivBackward1>), tensor(1.4897, device='cuda:0', grad_fn=<DivBackward1>)]\n"
     ]
    },
    {
     "data": {
      "application/vnd.jupyter.widget-view+json": {
       "model_id": "f6e5edb9802d428d924ba7ee2642d1d1",
       "version_major": 2,
       "version_minor": 0
      },
      "text/plain": [
       "Validation: |          | 0/? [00:00<?, ?it/s]"
      ]
     },
     "metadata": {},
     "output_type": "display_data"
    },
    {
     "name": "stdout",
     "output_type": "stream",
     "text": [
      "[tensor(1.4948, device='cuda:0', grad_fn=<DivBackward1>), tensor(1.4784, device='cuda:0', grad_fn=<DivBackward1>), tensor(1.4635, device='cuda:0', grad_fn=<DivBackward1>), tensor(1.4759, device='cuda:0', grad_fn=<DivBackward1>), tensor(1.4788, device='cuda:0', grad_fn=<DivBackward1>), tensor(1.4649, device='cuda:0', grad_fn=<DivBackward1>), tensor(1.4659, device='cuda:0', grad_fn=<DivBackward1>), tensor(1.4514, device='cuda:0', grad_fn=<DivBackward1>), tensor(1.4814, device='cuda:0', grad_fn=<DivBackward1>), tensor(1.4695, device='cuda:0', grad_fn=<DivBackward1>), tensor(1.4623, device='cuda:0', grad_fn=<DivBackward1>), tensor(1.4613, device='cuda:0', grad_fn=<DivBackward1>), tensor(1.4887, device='cuda:0', grad_fn=<DivBackward1>), tensor(1.4653, device='cuda:0', grad_fn=<DivBackward1>), tensor(1.4899, device='cuda:0', grad_fn=<DivBackward1>), tensor(1.4817, device='cuda:0', grad_fn=<DivBackward1>), tensor(1.4697, device='cuda:0', grad_fn=<DivBackward1>), tensor(1.5010, device='cuda:0', grad_fn=<DivBackward1>), tensor(1.4414, device='cuda:0', grad_fn=<DivBackward1>), tensor(1.4949, device='cuda:0', grad_fn=<DivBackward1>), tensor(1.4386, device='cuda:0', grad_fn=<DivBackward1>), tensor(1.4661, device='cuda:0', grad_fn=<DivBackward1>), tensor(1.4473, device='cuda:0', grad_fn=<DivBackward1>), tensor(1.4750, device='cuda:0', grad_fn=<DivBackward1>), tensor(1.4749, device='cuda:0', grad_fn=<DivBackward1>), tensor(1.4774, device='cuda:0', grad_fn=<DivBackward1>), tensor(1.4705, device='cuda:0', grad_fn=<DivBackward1>), tensor(1.4464, device='cuda:0', grad_fn=<DivBackward1>), tensor(1.4805, device='cuda:0', grad_fn=<DivBackward1>), tensor(1.4861, device='cuda:0', grad_fn=<DivBackward1>), tensor(1.4756, device='cuda:0', grad_fn=<DivBackward1>), tensor(1.4519, device='cuda:0', grad_fn=<DivBackward1>), tensor(1.4784, device='cuda:0', grad_fn=<DivBackward1>), tensor(1.4989, device='cuda:0', grad_fn=<DivBackward1>), tensor(1.4313, device='cuda:0', grad_fn=<DivBackward1>)]\n"
     ]
    },
    {
     "data": {
      "application/vnd.jupyter.widget-view+json": {
       "model_id": "94d585ad62eb4e259d2febc72c29a75a",
       "version_major": 2,
       "version_minor": 0
      },
      "text/plain": [
       "Validation: |          | 0/? [00:00<?, ?it/s]"
      ]
     },
     "metadata": {},
     "output_type": "display_data"
    },
    {
     "name": "stdout",
     "output_type": "stream",
     "text": [
      "[tensor(1.4575, device='cuda:0', grad_fn=<DivBackward1>), tensor(1.4650, device='cuda:0', grad_fn=<DivBackward1>), tensor(1.4617, device='cuda:0', grad_fn=<DivBackward1>), tensor(1.4531, device='cuda:0', grad_fn=<DivBackward1>), tensor(1.4763, device='cuda:0', grad_fn=<DivBackward1>), tensor(1.4614, device='cuda:0', grad_fn=<DivBackward1>), tensor(1.4703, device='cuda:0', grad_fn=<DivBackward1>), tensor(1.4427, device='cuda:0', grad_fn=<DivBackward1>), tensor(1.4607, device='cuda:0', grad_fn=<DivBackward1>), tensor(1.4425, device='cuda:0', grad_fn=<DivBackward1>), tensor(1.4837, device='cuda:0', grad_fn=<DivBackward1>), tensor(1.4515, device='cuda:0', grad_fn=<DivBackward1>), tensor(1.4453, device='cuda:0', grad_fn=<DivBackward1>), tensor(1.4651, device='cuda:0', grad_fn=<DivBackward1>), tensor(1.4894, device='cuda:0', grad_fn=<DivBackward1>), tensor(1.4482, device='cuda:0', grad_fn=<DivBackward1>), tensor(1.4311, device='cuda:0', grad_fn=<DivBackward1>), tensor(1.4487, device='cuda:0', grad_fn=<DivBackward1>), tensor(1.4665, device='cuda:0', grad_fn=<DivBackward1>), tensor(1.4665, device='cuda:0', grad_fn=<DivBackward1>), tensor(1.4702, device='cuda:0', grad_fn=<DivBackward1>), tensor(1.5077, device='cuda:0', grad_fn=<DivBackward1>), tensor(1.4634, device='cuda:0', grad_fn=<DivBackward1>), tensor(1.4472, device='cuda:0', grad_fn=<DivBackward1>), tensor(1.4519, device='cuda:0', grad_fn=<DivBackward1>), tensor(1.4435, device='cuda:0', grad_fn=<DivBackward1>), tensor(1.4741, device='cuda:0', grad_fn=<DivBackward1>), tensor(1.4800, device='cuda:0', grad_fn=<DivBackward1>), tensor(1.4750, device='cuda:0', grad_fn=<DivBackward1>), tensor(1.4504, device='cuda:0', grad_fn=<DivBackward1>), tensor(1.4540, device='cuda:0', grad_fn=<DivBackward1>), tensor(1.4305, device='cuda:0', grad_fn=<DivBackward1>), tensor(1.4600, device='cuda:0', grad_fn=<DivBackward1>), tensor(1.4466, device='cuda:0', grad_fn=<DivBackward1>), tensor(1.4402, device='cuda:0', grad_fn=<DivBackward1>)]\n"
     ]
    },
    {
     "data": {
      "application/vnd.jupyter.widget-view+json": {
       "model_id": "c96d1e77025547ac9a3f4661182417c0",
       "version_major": 2,
       "version_minor": 0
      },
      "text/plain": [
       "Validation: |          | 0/? [00:00<?, ?it/s]"
      ]
     },
     "metadata": {},
     "output_type": "display_data"
    },
    {
     "name": "stdout",
     "output_type": "stream",
     "text": [
      "[tensor(1.4343, device='cuda:0', grad_fn=<DivBackward1>), tensor(1.4758, device='cuda:0', grad_fn=<DivBackward1>), tensor(1.4288, device='cuda:0', grad_fn=<DivBackward1>), tensor(1.4368, device='cuda:0', grad_fn=<DivBackward1>), tensor(1.4311, device='cuda:0', grad_fn=<DivBackward1>), tensor(1.4455, device='cuda:0', grad_fn=<DivBackward1>), tensor(1.4136, device='cuda:0', grad_fn=<DivBackward1>), tensor(1.4673, device='cuda:0', grad_fn=<DivBackward1>), tensor(1.4485, device='cuda:0', grad_fn=<DivBackward1>), tensor(1.4931, device='cuda:0', grad_fn=<DivBackward1>), tensor(1.4152, device='cuda:0', grad_fn=<DivBackward1>), tensor(1.4385, device='cuda:0', grad_fn=<DivBackward1>), tensor(1.4435, device='cuda:0', grad_fn=<DivBackward1>), tensor(1.4178, device='cuda:0', grad_fn=<DivBackward1>), tensor(1.4509, device='cuda:0', grad_fn=<DivBackward1>), tensor(1.4538, device='cuda:0', grad_fn=<DivBackward1>), tensor(1.4620, device='cuda:0', grad_fn=<DivBackward1>), tensor(1.4618, device='cuda:0', grad_fn=<DivBackward1>), tensor(1.4580, device='cuda:0', grad_fn=<DivBackward1>), tensor(1.4209, device='cuda:0', grad_fn=<DivBackward1>), tensor(1.4537, device='cuda:0', grad_fn=<DivBackward1>), tensor(1.4618, device='cuda:0', grad_fn=<DivBackward1>), tensor(1.4600, device='cuda:0', grad_fn=<DivBackward1>), tensor(1.4575, device='cuda:0', grad_fn=<DivBackward1>), tensor(1.4729, device='cuda:0', grad_fn=<DivBackward1>), tensor(1.4558, device='cuda:0', grad_fn=<DivBackward1>), tensor(1.4360, device='cuda:0', grad_fn=<DivBackward1>), tensor(1.4324, device='cuda:0', grad_fn=<DivBackward1>), tensor(1.4604, device='cuda:0', grad_fn=<DivBackward1>), tensor(1.4546, device='cuda:0', grad_fn=<DivBackward1>), tensor(1.4612, device='cuda:0', grad_fn=<DivBackward1>), tensor(1.4630, device='cuda:0', grad_fn=<DivBackward1>), tensor(1.4268, device='cuda:0', grad_fn=<DivBackward1>), tensor(1.4623, device='cuda:0', grad_fn=<DivBackward1>), tensor(1.4393, device='cuda:0', grad_fn=<DivBackward1>)]\n"
     ]
    },
    {
     "data": {
      "application/vnd.jupyter.widget-view+json": {
       "model_id": "4191190c481b4156868b2fd968b50f95",
       "version_major": 2,
       "version_minor": 0
      },
      "text/plain": [
       "Validation: |          | 0/? [00:00<?, ?it/s]"
      ]
     },
     "metadata": {},
     "output_type": "display_data"
    },
    {
     "name": "stdout",
     "output_type": "stream",
     "text": [
      "[tensor(1.4675, device='cuda:0', grad_fn=<DivBackward1>), tensor(1.4339, device='cuda:0', grad_fn=<DivBackward1>), tensor(1.4037, device='cuda:0', grad_fn=<DivBackward1>), tensor(1.4151, device='cuda:0', grad_fn=<DivBackward1>), tensor(1.4306, device='cuda:0', grad_fn=<DivBackward1>), tensor(1.4414, device='cuda:0', grad_fn=<DivBackward1>), tensor(1.4427, device='cuda:0', grad_fn=<DivBackward1>), tensor(1.4224, device='cuda:0', grad_fn=<DivBackward1>), tensor(1.4472, device='cuda:0', grad_fn=<DivBackward1>), tensor(1.4305, device='cuda:0', grad_fn=<DivBackward1>), tensor(1.4404, device='cuda:0', grad_fn=<DivBackward1>), tensor(1.4420, device='cuda:0', grad_fn=<DivBackward1>), tensor(1.4255, device='cuda:0', grad_fn=<DivBackward1>), tensor(1.4436, device='cuda:0', grad_fn=<DivBackward1>), tensor(1.4321, device='cuda:0', grad_fn=<DivBackward1>), tensor(1.4171, device='cuda:0', grad_fn=<DivBackward1>), tensor(1.4415, device='cuda:0', grad_fn=<DivBackward1>), tensor(1.4581, device='cuda:0', grad_fn=<DivBackward1>), tensor(1.4812, device='cuda:0', grad_fn=<DivBackward1>), tensor(1.4534, device='cuda:0', grad_fn=<DivBackward1>), tensor(1.4203, device='cuda:0', grad_fn=<DivBackward1>), tensor(1.4289, device='cuda:0', grad_fn=<DivBackward1>), tensor(1.4575, device='cuda:0', grad_fn=<DivBackward1>), tensor(1.4171, device='cuda:0', grad_fn=<DivBackward1>), tensor(1.4464, device='cuda:0', grad_fn=<DivBackward1>), tensor(1.4355, device='cuda:0', grad_fn=<DivBackward1>), tensor(1.4408, device='cuda:0', grad_fn=<DivBackward1>), tensor(1.4536, device='cuda:0', grad_fn=<DivBackward1>), tensor(1.4265, device='cuda:0', grad_fn=<DivBackward1>), tensor(1.4601, device='cuda:0', grad_fn=<DivBackward1>), tensor(1.4112, device='cuda:0', grad_fn=<DivBackward1>), tensor(1.4620, device='cuda:0', grad_fn=<DivBackward1>), tensor(1.4545, device='cuda:0', grad_fn=<DivBackward1>), tensor(1.4065, device='cuda:0', grad_fn=<DivBackward1>), tensor(1.3848, device='cuda:0', grad_fn=<DivBackward1>)]\n"
     ]
    },
    {
     "data": {
      "application/vnd.jupyter.widget-view+json": {
       "model_id": "73be2906bc984e549c78ebb697889344",
       "version_major": 2,
       "version_minor": 0
      },
      "text/plain": [
       "Validation: |          | 0/? [00:00<?, ?it/s]"
      ]
     },
     "metadata": {},
     "output_type": "display_data"
    },
    {
     "name": "stdout",
     "output_type": "stream",
     "text": [
      "[tensor(1.4364, device='cuda:0', grad_fn=<DivBackward1>), tensor(1.4422, device='cuda:0', grad_fn=<DivBackward1>), tensor(1.4336, device='cuda:0', grad_fn=<DivBackward1>), tensor(1.4358, device='cuda:0', grad_fn=<DivBackward1>), tensor(1.4144, device='cuda:0', grad_fn=<DivBackward1>), tensor(1.4402, device='cuda:0', grad_fn=<DivBackward1>), tensor(1.4211, device='cuda:0', grad_fn=<DivBackward1>), tensor(1.4283, device='cuda:0', grad_fn=<DivBackward1>), tensor(1.3935, device='cuda:0', grad_fn=<DivBackward1>), tensor(1.4166, device='cuda:0', grad_fn=<DivBackward1>), tensor(1.4173, device='cuda:0', grad_fn=<DivBackward1>), tensor(1.4378, device='cuda:0', grad_fn=<DivBackward1>), tensor(1.4531, device='cuda:0', grad_fn=<DivBackward1>), tensor(1.4251, device='cuda:0', grad_fn=<DivBackward1>), tensor(1.4303, device='cuda:0', grad_fn=<DivBackward1>), tensor(1.4536, device='cuda:0', grad_fn=<DivBackward1>), tensor(1.4240, device='cuda:0', grad_fn=<DivBackward1>), tensor(1.3871, device='cuda:0', grad_fn=<DivBackward1>), tensor(1.4350, device='cuda:0', grad_fn=<DivBackward1>), tensor(1.4348, device='cuda:0', grad_fn=<DivBackward1>), tensor(1.3747, device='cuda:0', grad_fn=<DivBackward1>), tensor(1.4152, device='cuda:0', grad_fn=<DivBackward1>), tensor(1.4559, device='cuda:0', grad_fn=<DivBackward1>), tensor(1.4365, device='cuda:0', grad_fn=<DivBackward1>), tensor(1.4268, device='cuda:0', grad_fn=<DivBackward1>), tensor(1.3932, device='cuda:0', grad_fn=<DivBackward1>), tensor(1.4382, device='cuda:0', grad_fn=<DivBackward1>), tensor(1.4300, device='cuda:0', grad_fn=<DivBackward1>), tensor(1.4493, device='cuda:0', grad_fn=<DivBackward1>), tensor(1.4249, device='cuda:0', grad_fn=<DivBackward1>), tensor(1.4313, device='cuda:0', grad_fn=<DivBackward1>), tensor(1.4268, device='cuda:0', grad_fn=<DivBackward1>), tensor(1.4332, device='cuda:0', grad_fn=<DivBackward1>), tensor(1.4178, device='cuda:0', grad_fn=<DivBackward1>), tensor(1.4822, device='cuda:0', grad_fn=<DivBackward1>)]\n"
     ]
    },
    {
     "data": {
      "application/vnd.jupyter.widget-view+json": {
       "model_id": "c25eedbaf579476faa67390b9d6ec8a4",
       "version_major": 2,
       "version_minor": 0
      },
      "text/plain": [
       "Validation: |          | 0/? [00:00<?, ?it/s]"
      ]
     },
     "metadata": {},
     "output_type": "display_data"
    },
    {
     "name": "stdout",
     "output_type": "stream",
     "text": [
      "[tensor(1.4043, device='cuda:0', grad_fn=<DivBackward1>), tensor(1.4313, device='cuda:0', grad_fn=<DivBackward1>), tensor(1.4328, device='cuda:0', grad_fn=<DivBackward1>), tensor(1.4121, device='cuda:0', grad_fn=<DivBackward1>), tensor(1.4093, device='cuda:0', grad_fn=<DivBackward1>), tensor(1.4334, device='cuda:0', grad_fn=<DivBackward1>), tensor(1.4302, device='cuda:0', grad_fn=<DivBackward1>), tensor(1.4087, device='cuda:0', grad_fn=<DivBackward1>), tensor(1.4207, device='cuda:0', grad_fn=<DivBackward1>), tensor(1.4179, device='cuda:0', grad_fn=<DivBackward1>), tensor(1.4278, device='cuda:0', grad_fn=<DivBackward1>), tensor(1.4144, device='cuda:0', grad_fn=<DivBackward1>), tensor(1.4080, device='cuda:0', grad_fn=<DivBackward1>), tensor(1.4471, device='cuda:0', grad_fn=<DivBackward1>), tensor(1.4130, device='cuda:0', grad_fn=<DivBackward1>), tensor(1.4077, device='cuda:0', grad_fn=<DivBackward1>), tensor(1.4391, device='cuda:0', grad_fn=<DivBackward1>), tensor(1.4136, device='cuda:0', grad_fn=<DivBackward1>), tensor(1.4306, device='cuda:0', grad_fn=<DivBackward1>), tensor(1.4106, device='cuda:0', grad_fn=<DivBackward1>), tensor(1.4196, device='cuda:0', grad_fn=<DivBackward1>), tensor(1.3824, device='cuda:0', grad_fn=<DivBackward1>), tensor(1.4276, device='cuda:0', grad_fn=<DivBackward1>), tensor(1.3910, device='cuda:0', grad_fn=<DivBackward1>), tensor(1.4370, device='cuda:0', grad_fn=<DivBackward1>), tensor(1.4261, device='cuda:0', grad_fn=<DivBackward1>), tensor(1.3864, device='cuda:0', grad_fn=<DivBackward1>), tensor(1.4223, device='cuda:0', grad_fn=<DivBackward1>), tensor(1.4129, device='cuda:0', grad_fn=<DivBackward1>), tensor(1.4012, device='cuda:0', grad_fn=<DivBackward1>), tensor(1.4146, device='cuda:0', grad_fn=<DivBackward1>), tensor(1.4257, device='cuda:0', grad_fn=<DivBackward1>), tensor(1.4265, device='cuda:0', grad_fn=<DivBackward1>), tensor(1.4175, device='cuda:0', grad_fn=<DivBackward1>), tensor(1.3891, device='cuda:0', grad_fn=<DivBackward1>)]\n"
     ]
    },
    {
     "name": "stderr",
     "output_type": "stream",
     "text": [
      "`Trainer.fit` stopped: `max_epochs=20` reached.\n"
     ]
    }
   ],
   "source": [
    "train_classifier(wandb.config, wandb_logger, train_loader, valid_loader)"
   ]
  },
  {
   "cell_type": "code",
   "execution_count": 68,
   "id": "80455405-b423-486a-8b99-8ec36f515f09",
   "metadata": {},
   "outputs": [
    {
     "data": {
      "text/html": [],
      "text/plain": [
       "<IPython.core.display.HTML object>"
      ]
     },
     "metadata": {},
     "output_type": "display_data"
    },
    {
     "data": {
      "text/html": [
       "<br>    <style><br>        .wandb-row {<br>            display: flex;<br>            flex-direction: row;<br>            flex-wrap: wrap;<br>            justify-content: flex-start;<br>            width: 100%;<br>        }<br>        .wandb-col {<br>            display: flex;<br>            flex-direction: column;<br>            flex-basis: 100%;<br>            flex: 1;<br>            padding: 10px;<br>        }<br>    </style><br><div class=\"wandb-row\"><div class=\"wandb-col\"><h3>Run history:</h3><br/><table class=\"wandb\"><tr><td>epoch</td><td>▁▁▁▁▁▁▁▁▂▂▂▂▂▂▃▃▃▄▄▄▄▄▄▅▅▅▅▅▆▆▆▆▇▇▇▇▇███</td></tr><tr><td>train_acc</td><td>▁▁▁▁▁▁▁▁▁▁▁▁▁▁▁▁▁▁▁▁</td></tr><tr><td>train_loss</td><td>████▇▇▇▆▆▅▅▄▄▃▃▃▂▂▁▁</td></tr><tr><td>trainer/global_step</td><td>▁▁▁▁▁▁▁▁▂▂▂▂▂▂▃▃▃▄▄▄▄▄▄▅▅▅▅▅▆▆▆▆▇▇▇▇▇███</td></tr><tr><td>valid_acc</td><td>▁▁▁▁▁▁▁▁▁▁▁▁▁▁▁▁▁▁▁▁▁▁▁▁▁</td></tr><tr><td>valid_loss</td><td>▁▁▁▁▁▂▁▁▁▁▁▁▂▂▃▃▄▄▅▅▆▆▇██</td></tr></table><br/></div><div class=\"wandb-col\"><h3>Run summary:</h3><br/><table class=\"wandb\"><tr><td>epoch</td><td>19</td></tr><tr><td>train_acc</td><td>0</td></tr><tr><td>train_loss</td><td>1.41692</td></tr><tr><td>trainer/global_step</td><td>699</td></tr><tr><td>valid_acc</td><td>0</td></tr><tr><td>valid_loss</td><td>1.62677</td></tr></table><br/></div></div>"
      ],
      "text/plain": [
       "<IPython.core.display.HTML object>"
      ]
     },
     "metadata": {},
     "output_type": "display_data"
    },
    {
     "data": {
      "text/html": [
       " View run <strong style=\"color:#cdcd00\">Classifier-v1</strong> at: <a href='https://wandb.ai/david-schurtenberger/NLP_Project_1/runs/ymncxt1g' target=\"_blank\">https://wandb.ai/david-schurtenberger/NLP_Project_1/runs/ymncxt1g</a><br> View project at: <a href='https://wandb.ai/david-schurtenberger/NLP_Project_1' target=\"_blank\">https://wandb.ai/david-schurtenberger/NLP_Project_1</a><br>Synced 5 W&B file(s), 0 media file(s), 0 artifact file(s) and 0 other file(s)"
      ],
      "text/plain": [
       "<IPython.core.display.HTML object>"
      ]
     },
     "metadata": {},
     "output_type": "display_data"
    },
    {
     "data": {
      "text/html": [
       "Find logs at: <code>./wandb/run-20250320_065406-ymncxt1g/logs</code>"
      ],
      "text/plain": [
       "<IPython.core.display.HTML object>"
      ]
     },
     "metadata": {},
     "output_type": "display_data"
    }
   ],
   "source": [
    "wandb.finish()"
   ]
  },
  {
   "cell_type": "markdown",
   "id": "78a92ceca9fa4119",
   "metadata": {},
   "source": [
    "## Evaluation"
   ]
  },
  {
   "cell_type": "code",
   "execution_count": null,
   "id": "24831257099358aa",
   "metadata": {},
   "outputs": [],
   "source": []
  },
  {
   "cell_type": "markdown",
   "id": "3bb349b7a3afb091",
   "metadata": {},
   "source": [
    "## Interpretation"
   ]
  },
  {
   "cell_type": "code",
   "execution_count": null,
   "id": "c163ba3cc6c0116d",
   "metadata": {},
   "outputs": [],
   "source": []
  },
  {
   "cell_type": "markdown",
   "id": "670529384ff1a832",
   "metadata": {},
   "source": [
    "# WordEmbeddings &rarr; RNN &rarr; Classifier"
   ]
  },
  {
   "cell_type": "markdown",
   "id": "1cdcb2c089c31f7d",
   "metadata": {},
   "source": [
    "## Model"
   ]
  },
  {
   "cell_type": "code",
   "execution_count": null,
   "id": "c2bae4a45e8fc91c",
   "metadata": {},
   "outputs": [],
   "source": []
  },
  {
   "cell_type": "markdown",
   "id": "c23810130acebbab",
   "metadata": {},
   "source": [
    "## Training"
   ]
  },
  {
   "cell_type": "code",
   "execution_count": null,
   "id": "c727fc00f6873225",
   "metadata": {},
   "outputs": [],
   "source": []
  },
  {
   "cell_type": "markdown",
   "id": "ce68cd63697752b0",
   "metadata": {},
   "source": [
    "## Evaluation"
   ]
  },
  {
   "cell_type": "code",
   "execution_count": null,
   "id": "3008186ea326c4e",
   "metadata": {},
   "outputs": [],
   "source": []
  },
  {
   "cell_type": "markdown",
   "id": "f241fe1cf1168f92",
   "metadata": {},
   "source": [
    "## Interpretation"
   ]
  },
  {
   "cell_type": "code",
   "execution_count": null,
   "id": "62fd1ce96fabd34a",
   "metadata": {},
   "outputs": [],
   "source": []
  }
 ],
 "metadata": {
  "kernelspec": {
   "display_name": "Python 3 (ipykernel)",
   "language": "python",
   "name": "python3"
  },
  "language_info": {
   "codemirror_mode": {
    "name": "ipython",
    "version": 3
   },
   "file_extension": ".py",
   "mimetype": "text/x-python",
   "name": "python",
   "nbconvert_exporter": "python",
   "pygments_lexer": "ipython3",
   "version": "3.12.9"
  }
 },
 "nbformat": 4,
 "nbformat_minor": 5
}
