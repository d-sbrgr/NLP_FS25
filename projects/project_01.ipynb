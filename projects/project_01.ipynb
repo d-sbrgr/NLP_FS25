{
 "cells": [
  {
   "cell_type": "markdown",
   "id": "d4cbec299a5d4f64",
   "metadata": {},
   "source": [
    "## Introduction\n",
    "\n",
    "This notebook shows the implementation of the *Project 1* of the HS25 cohort of the NLP course at HSLU.\n",
    "\n",
    "The task was to answer single-choice questions from the commonsenseQA dataset using two different architectures:\n",
    "* A simple 2-layer classifier with RELU-nonlinearity\n",
    "* A 2-layer GRU or LSTM followed by a 2-layer classifier with RELU-nonlinearity\n",
    "\n",
    "All code implementations can be found in this notebook. Experiments have been tracked using *wandb* and their results are shown in a wandb [project report](https://api.wandb.ai/links/david-schurtenberger/kcematxe)"
   ]
  },
  {
   "cell_type": "markdown",
   "id": "dd1fcc78251ae773",
   "metadata": {},
   "source": [
    "## Setup"
   ]
  },
  {
   "cell_type": "markdown",
   "id": "ae74b556f3aff49",
   "metadata": {},
   "source": [
    "#### Install dependencies\n",
    "\n",
    "* **torch**: PyTorch framework for the creation of neural networks\n",
    "* **lightning**: Lightning wrapper for pytorch for simple network training\n",
    "* **huggingface_hub**: HuggingFace hub for downloading word vectors\n",
    "* **datasets**: HuggingFace datasets to download and load the data set\n",
    "* **wandb**: Weights & Biases for experiment tracking\n",
    "* **fasttext**: Word embedding library\n",
    "* **nltk**: Natural Language Toolkit used for word tokenization\n",
    "* **torchmetrics**: Extension to lightning to compute model metrics\n",
    "* **matplotlib**: Display confusion matrix plot\n",
    "* **pandas**: Create error analysis in tabular format"
   ]
  },
  {
   "cell_type": "code",
   "execution_count": 1,
   "id": "33f5c188a84c79a9",
   "metadata": {},
   "outputs": [
    {
     "name": "stdout",
     "output_type": "stream",
     "text": [
      "Note: you may need to restart the kernel to use updated packages.\n",
      "Note: you may need to restart the kernel to use updated packages.\n"
     ]
    }
   ],
   "source": [
    "import sys\n",
    "\n",
    "%pip install -q torch lightning huggingface_hub datasets wandb nltk torchmetrics matplotlib pandas\n",
    "\n",
    "if sys.platform == 'win32': # Windows requires different fasttext implementation\n",
    "    %pip install -q fasttext-wheel\n",
    "else: \n",
    "    %pip install -q fasttext"
   ]
  },
  {
   "cell_type": "markdown",
   "id": "827b435e83550d40",
   "metadata": {},
   "source": [
    "Do all the imports needed in this project, but keep them separate depending on the part of the notebook that uses them. Reason: Makes reading easier in later sections if done subsequently, but don't users to import everything if they just want to run some specific cells"
   ]
  },
  {
   "cell_type": "markdown",
   "id": "ddf6c5769e426a79",
   "metadata": {},
   "source": [
    "##### pytorch & lightning"
   ]
  },
  {
   "cell_type": "code",
   "execution_count": 2,
   "id": "5e0c3ad68f73131c",
   "metadata": {
    "ExecuteTime": {
     "end_time": "2025-04-05T08:47:50.135734Z",
     "start_time": "2025-04-05T08:47:06.902121Z"
    }
   },
   "outputs": [],
   "source": [
    "import torch\n",
    "import torch.nn as nn\n",
    "import torch.nn.functional as F\n",
    "from torch.utils.data import Dataset\n",
    "import lightning as L\n",
    "from lightning.pytorch.loggers import WandbLogger\n",
    "import torchmetrics"
   ]
  },
  {
   "cell_type": "markdown",
   "id": "28a8be01f6acc709",
   "metadata": {},
   "source": [
    "##### Huggingface"
   ]
  },
  {
   "cell_type": "code",
   "execution_count": 3,
   "id": "ef6c55b396bb8a21",
   "metadata": {},
   "outputs": [],
   "source": [
    "from huggingface_hub import hf_hub_download\n",
    "from datasets import Dataset as HFDataset\n",
    "from datasets import load_dataset"
   ]
  },
  {
   "cell_type": "markdown",
   "id": "57cbccf2e9344a44",
   "metadata": {},
   "source": [
    "##### Tokenization & Embeddings"
   ]
  },
  {
   "cell_type": "code",
   "execution_count": 4,
   "id": "abfecdc173a6fd4f",
   "metadata": {},
   "outputs": [],
   "source": [
    "import nltk\n",
    "import fasttext"
   ]
  },
  {
   "cell_type": "markdown",
   "id": "b8ee75b073f883d",
   "metadata": {},
   "source": [
    "##### Evaluation"
   ]
  },
  {
   "cell_type": "code",
   "execution_count": 5,
   "id": "9e378a871147cb90",
   "metadata": {},
   "outputs": [],
   "source": [
    "import numpy as np\n",
    "import pandas as pd\n",
    "import matplotlib.pyplot as plt\n",
    "%matplotlib inline"
   ]
  },
  {
   "cell_type": "markdown",
   "id": "36d523ec31804506",
   "metadata": {},
   "source": [
    "##### Python Builtins"
   ]
  },
  {
   "cell_type": "code",
   "execution_count": 6,
   "id": "2ccac58d97e06351",
   "metadata": {},
   "outputs": [],
   "source": [
    "from typing import Callable\n",
    "import time"
   ]
  },
  {
   "cell_type": "markdown",
   "id": "bf90dec31f8030c9",
   "metadata": {},
   "source": [
    "##### Experiment Tracking"
   ]
  },
  {
   "cell_type": "code",
   "execution_count": 7,
   "id": "2c62074d7822dd2f",
   "metadata": {},
   "outputs": [],
   "source": [
    "import wandb"
   ]
  },
  {
   "cell_type": "markdown",
   "id": "b696ef4250c380a0",
   "metadata": {},
   "source": [
    "#### Load dataset\n",
    "\n",
    "Use the pre-defined method to load the dataset and do the train and validation split"
   ]
  },
  {
   "cell_type": "code",
   "execution_count": 8,
   "id": "ad899724a20482d9",
   "metadata": {},
   "outputs": [
    {
     "name": "stdout",
     "output_type": "stream",
     "text": [
      "8741 1000 1221\n"
     ]
    }
   ],
   "source": [
    "train: HFDataset = load_dataset(\"tau/commonsense_qa\", split=\"train[:-1000]\")\n",
    "valid: HFDataset = load_dataset(\"tau/commonsense_qa\", split=\"train[-1000:]\")\n",
    "test: HFDataset = load_dataset(\"tau/commonsense_qa\", split=\"validation\")\n",
    "\n",
    "print(len(train), len(valid), len(test))"
   ]
  },
  {
   "cell_type": "markdown",
   "id": "cdc78217c5ed1f84",
   "metadata": {},
   "source": [
    "#### Setup Weights & Biases\n",
    "\n",
    "Login to weights and biases to enable experiment tracking"
   ]
  },
  {
   "cell_type": "code",
   "execution_count": 9,
   "id": "b9bc41bae4172979",
   "metadata": {},
   "outputs": [
    {
     "name": "stderr",
     "output_type": "stream",
     "text": [
      "\u001b[34m\u001b[1mwandb\u001b[0m: \u001b[32m\u001b[41mERROR\u001b[0m Failed to detect the name of this notebook. You can set it manually with the WANDB_NOTEBOOK_NAME environment variable to enable code saving.\n",
      "\u001b[34m\u001b[1mwandb\u001b[0m: Using wandb-core as the SDK backend.  Please refer to https://wandb.me/wandb-core for more information.\n",
      "\u001b[34m\u001b[1mwandb\u001b[0m: Currently logged in as: \u001b[33mschurtenberger-david\u001b[0m (\u001b[33mdavid-schurtenberger\u001b[0m) to \u001b[32mhttps://api.wandb.ai\u001b[0m. Use \u001b[1m`wandb login --relogin`\u001b[0m to force relogin\n"
     ]
    },
    {
     "data": {
      "text/plain": [
       "True"
      ]
     },
     "execution_count": 9,
     "metadata": {},
     "output_type": "execute_result"
    }
   ],
   "source": [
    "wandb.login()"
   ]
  },
  {
   "cell_type": "markdown",
   "id": "b635a3413d69a3fc",
   "metadata": {},
   "source": [
    "## Preprocessing\n",
    "\n",
    "#### Vocabulary/Embedding\n",
    "\n",
    "* I used **FastText** word embeddings. Reason:\n",
    "\n",
    "    * Mentioned in class that FastText is superior to other embedding models\n",
    "    * Can handle unknown words, due to subword embeddings\n",
    "\n",
    "* I will be working with the [Facebook English Fasttext embeddings](https://huggingface.co/facebook/fasttext-en-vectors). Reason:\n",
    "\n",
    "    * They are directly downloadable from *HuggingFace hub*\n",
    "    * The embed words from the English language, which is the scope of this project\n",
    "\n",
    "* This choice influences decisions in the following pre-processing steps.\n",
    "\n",
    "#### Format cleaning (e.g. html-extracted text)\n",
    "\n",
    "* No format cleaning is performed. Reason:\n",
    "    \n",
    "    * We are working with a carefully assembled and standardized dataset used in model benchmarking\n",
    "\n",
    "#### Tokenization\n",
    "\n",
    "* *word_tokenizer* from the **nltk** library will be used. Reason:\n",
    "\n",
    "    * Works well for the English language\n",
    "    * It splits punctuation from text, which matches the tokens the fasttext word vectors were trained on\n",
    "\n",
    "#### Lowercasing, stemming, lemmatizing, stopword/punctuation removal\n",
    "\n",
    "* **Lowercasing**: Tokenized words are lower-cased. Reason:\n",
    "\n",
    "    * Keep vocabulary small\n",
    "    * The FastText model from facebook was trained on uppercase, so it could handle uppercased words, but using lower-cased also minimized out-of-vocabulary words\n",
    "\n",
    "* **Stemming**: No stemming is used. Reason:\n",
    "\n",
    "    * The embedding model was not trained on word stems and therefore no stemming is carried out\n",
    "    \n",
    "* **Lemmatizing**: The word tokens to be embedded will not be lemmatized. Reason:\n",
    " \n",
    "    * The embedding model was trained on un-lemmatized words \n",
    "    * The n-gram encoding of the words used in fasttext preserves sub-word information\n",
    "\n",
    "* **Stopword/Punctudation removal**: No stopword, punctuation removal. Reason:\n",
    "\n",
    "    * Stopwords and punctuation can be crucial for question answering\n",
    "    * Questions are short, therefore minimize loss of information\n",
    "\n",
    "#### Removal of unknown/other words\n",
    "\n",
    "* No unknown or other words are removed. Reason:\n",
    "\n",
    "    * FastText can build embeddings from a words n-gram vectors\n",
    "    * The encounter of unknown words is not expected\n",
    "\n",
    "#### Truncation\n",
    "\n",
    "* Input will not be truncated. Reason:\n",
    "\n",
    "    * Longest question yields an embedded tensor of shape **67x300**\n",
    "    * Depending on input format, the processing of a little over 67 timesteps is deemed to be feasible\n",
    "\n",
    "#### Feature selection\n",
    "\n",
    "* **question**, **choices** and **answerKey** were selected. Reason:\n",
    "\n",
    "    * *questionConcept* seemed interesting, but this feature often simply contains a word from the question\n",
    "    * The end this feature was left out in order not to give too much emphasis to a single word that does likely not help answering the question at all\n",
    "\n",
    "#### Input format: how is data passed to the model?\n",
    "\n",
    "###### Classifier\n",
    "\n",
    "* Tensor with shape **(1800,)**.\n",
    "\n",
    "* The first 300 elements are the averages of the embedded question tokens, next are 300 elements for every embedded and averaged answer vector from answer option 'A' to 'E'. Reason:\n",
    "    \n",
    "    * Average of question vectors, because it is a good tradeoff between information retention and input  dimension for the classifier\n",
    "    * Question vector is before answer vectors because \"Q&A\" also has question first, then answers\n",
    "    * Answers are arranged from 'A' to 'E' because of alphabetical order\n",
    "    * Average of the answer embeddings because answers can consist of multiple words and may yield multiple embedding vectors\n",
    "\n",
    "###### RNN + Classifier\n",
    "\n",
    "* Tensor with shape **(5, N + 2, 300)**\n",
    "\n",
    "* The average of the answer embeddings, are concatenated to the question with sequence length *N* with a separator token in between. Reason:\n",
    "\n",
    "    * Question preprended to every answer because every resulting hidden vector has the same amount of question and answer encoded\n",
    "    * Average of answer embeddings because every choice has the same amount of time steps in answer encoding\n",
    "    * Separator token from character **¦** because model can learn when question stops and answer start and character is not used in dataset\n",
    "    * Answer embeddings after question embeddings, because \"Q&A\" also has question first, then answer.    \n",
    "\n",
    "#### Label format: what should the model predict?\n",
    "\n",
    "* Tensor with shape **(5,)**. Reason:\n",
    "\n",
    "    * Answers choices ('A' through 'E') are encoded on an index in the vector (0 through 4)\n",
    "    * Classifier at last model step predicts likelihood of each class/choice\n",
    "\n",
    "#### Train/valid/test splits\n",
    "\n",
    "* Last *1000* entries of train set are validation set. Validation set is test set. Reason:\n",
    "\n",
    "    * Required in assignment\n",
    "\n",
    "#### Batching, padding\n",
    "\n",
    "* Batch size is **512** (both architectures). Reason:\n",
    "\n",
    "    * Experimentation showed that both datasets fully fit on GPU memory on *gpuhub*\n",
    "    * Choose *512* as batch size to keep doing stochastic gradient descent\n",
    "    * *gpuhub* does not always allocate same amount of GPU memory, but batch size *512* never used more than 80% of allocated memory\n",
    "\n",
    "* During training at one point there were suddenly *CUDA memory errors* encountered, this is why the batch size for the *RNN+Classifier* model has been dropped to **256** for the remaining runs. \n",
    "\n",
    "* No padding for *Classifier* model. Reason:\n",
    "\n",
    "    * Input is always of the same size\n",
    "    \n",
    "* Padding to maximum sequence length of batch for *RNN+Classifier* model. Reason:\n",
    "\n",
    "    * Question tensors are of variable length\n",
    "    * Same sequence length needed for every tensor of a batch, to compute one single tensor\n",
    "    * Padded tensor can be packed to keep parallel processing on GPU without executing timesteps for padding vectors\n",
    "    * Implemented in **rnn_collate_fn**"
   ]
  },
  {
   "cell_type": "markdown",
   "id": "8bf5eb8363eacb78",
   "metadata": {},
   "source": [
    "### Tokenize\n",
    "\n",
    "Create method to tokenize and lowercase a given text"
   ]
  },
  {
   "cell_type": "code",
   "execution_count": 10,
   "id": "5b71c0f47430aebe",
   "metadata": {},
   "outputs": [
    {
     "name": "stderr",
     "output_type": "stream",
     "text": [
      "[nltk_data] Downloading package punkt_tab to /home/jovyan/nltk_data...\n",
      "[nltk_data]   Package punkt_tab is already up-to-date!\n"
     ]
    }
   ],
   "source": [
    "nltk.download(\"punkt_tab\")\n",
    "\n",
    "def tokenize(text: str) -> list[str]:\n",
    "    return [w.lower() for w in nltk.word_tokenize(text, language=\"english\")]"
   ]
  },
  {
   "cell_type": "markdown",
   "id": "226d42f6a99035f0",
   "metadata": {},
   "source": [
    "### Word embeddings\n",
    "\n",
    "Download the english fasttext word vectors and load their model into the variable *wv_model*\n",
    "\n",
    "Create a function to embed a list of tokenized words and return them as a list of pytorch tensors"
   ]
  },
  {
   "cell_type": "code",
   "execution_count": 11,
   "id": "1403d38e9ae55f30",
   "metadata": {},
   "outputs": [],
   "source": [
    "model_path = hf_hub_download(\"facebook/fasttext-en-vectors\", \"model.bin\")\n",
    "wv_model = fasttext.load_model(model_path)\n",
    "\n",
    "def get_embeddings_for_tokens(tokens: list[str]):\n",
    "    return torch.stack([torch.tensor(wv_model[t]) for t in tokens])\n",
    "    "
   ]
  },
  {
   "cell_type": "markdown",
   "id": "762f05a64aba4571",
   "metadata": {},
   "source": [
    "### Data Loading and Formatting\n",
    "\n"
   ]
  },
  {
   "cell_type": "markdown",
   "id": "8315f9983ca8dd7a",
   "metadata": {},
   "source": [
    "Introduce a type for functions that transform question and answer tensors into combined tensors for both model architectures"
   ]
  },
  {
   "cell_type": "code",
   "execution_count": 12,
   "id": "e2dfba7d95d0678",
   "metadata": {},
   "outputs": [],
   "source": [
    "TransformMethod = Callable[[torch.Tensor, list[torch.Tensor]], torch.Tensor]"
   ]
  },
  {
   "cell_type": "markdown",
   "id": "aa78299e9e366c1d",
   "metadata": {},
   "source": [
    "Create a separator token from a character that is known to the word vector model, but unused in the train, valid and test datasets "
   ]
  },
  {
   "cell_type": "code",
   "execution_count": 13,
   "id": "40a64f78521705ac",
   "metadata": {},
   "outputs": [
    {
     "data": {
      "text/plain": [
       "torch.Size([300])"
      ]
     },
     "execution_count": 13,
     "metadata": {},
     "output_type": "execute_result"
    }
   ],
   "source": [
    "def char_not_in_huggingface_dataset(char: str, dataset: HFDataset) -> bool:\n",
    "    for datapoint in dataset:\n",
    "        if char in datapoint[\"question\"] or any(char in c for c in datapoint[\"choices\"][\"text\"]):\n",
    "            return False\n",
    "    return True\n",
    "    \n",
    "\n",
    "separator = \"¦\"\n",
    "assert separator in wv_model # Check if placeholder is a known token in the model\n",
    "assert char_not_in_huggingface_dataset(separator, train)\n",
    "assert char_not_in_huggingface_dataset(separator, valid)\n",
    "assert char_not_in_huggingface_dataset(separator, test)\n",
    "\n",
    "SEP_TOKEN = torch.tensor(wv_model[separator])\n",
    "SEP_TOKEN.shape"
   ]
  },
  {
   "cell_type": "markdown",
   "id": "5265749ca521018b",
   "metadata": {},
   "source": [
    "Create a **pytorch** *Dataset* class in which the HuggingFace dataset is loaded and preprocessed. This allows for an easy integration with a *DataLoader* afterward."
   ]
  },
  {
   "cell_type": "code",
   "execution_count": 14,
   "id": "beff391944e99b90",
   "metadata": {},
   "outputs": [],
   "source": [
    "KEY_INDEX_MAPPING = {\n",
    "    \"A\": 0,\n",
    "    \"B\": 1,\n",
    "    \"C\": 2,\n",
    "    \"D\": 3,\n",
    "    \"E\": 4,\n",
    "}\n",
    "\n",
    "class CommonsenseQADataset(Dataset):    \n",
    "    def __init__(self, dataset: HFDataset, transform: TransformMethod):\n",
    "        self.dataset: list[dict[str, torch.tensor | list[torch.tensor]]] = []\n",
    "        self._target_transform = transform\n",
    "        self._transform_hugging_face_dataset(dataset)\n",
    "    \n",
    "    def _transform_hugging_face_dataset(self, dataset: HFDataset):\n",
    "        self.dataset.extend([{\n",
    "            \"feature\": self._target_transform(\n",
    "                get_embeddings_for_tokens(tokenize(entry[\"question\"])),\n",
    "                [get_embeddings_for_tokens(tokenize(choice)) for choice in entry[\"choices\"][\"text\"]],\n",
    "            ),\n",
    "            \"label\": torch.tensor(KEY_INDEX_MAPPING[entry[\"answerKey\"]]),\n",
    "        } for entry in dataset])\n",
    "        if len(self.dataset) != len(dataset):\n",
    "            raise RuntimeError(\"Converted dataset is not full reflection of source data\")\n",
    "    \n",
    "    def __len__(self):\n",
    "        return len(self.dataset)\n",
    "    \n",
    "    def __getitem__(self, idx):\n",
    "        data_point = self.dataset[idx]\n",
    "        return data_point[\"feature\"], data_point[\"label\"]"
   ]
  },
  {
   "cell_type": "markdown",
   "id": "31cc3469965c8b86",
   "metadata": {},
   "source": [
    "Transform function for **Classifier** architecture\n",
    "\n",
    "* Function input: Question-tensor (N, 300) and answer-tensor (5, 300)\n",
    "* Function output: Classifier-tensor (1800,)\n",
    "    * Average of question vectors yields tensor with shape (300,)\n",
    "    * Question vector and answer vectors are concatenated (300,) + (5, 300) = (1800,)"
   ]
  },
  {
   "cell_type": "code",
   "execution_count": 15,
   "id": "d1384f3a7738a244",
   "metadata": {},
   "outputs": [],
   "source": [
    "def classifier_target_transform(question: torch.Tensor, answers: list[torch.Tensor]) -> torch.Tensor:\n",
    "    return torch.cat((question.mean(dim=0), *(a.mean(dim=0) for a in answers)))"
   ]
  },
  {
   "cell_type": "markdown",
   "id": "8b65a982633864dd",
   "metadata": {},
   "source": [
    "Transform function for **RNN + Classifier** architecture\n",
    "\n",
    "* Function input: Question-tensor (N, 300) and answer-tensor (5, 300)\n",
    "* Function output: RNN-tensor (5, N + 2, 300) with N question vectors, 1 SEP_TOKEN vectors separating the question from the answer and 1 answer vector. For every answer individually"
   ]
  },
  {
   "cell_type": "code",
   "execution_count": 16,
   "id": "7278eaffa9f7bae1",
   "metadata": {},
   "outputs": [],
   "source": [
    "def rnn_target_transform(question: torch.Tensor, answers: list[torch.Tensor]) -> torch.Tensor:\n",
    "    concatenated = [torch.cat((question, SEP_TOKEN.unsqueeze(0), answer.mean(dim=0).unsqueeze(0))) for answer in answers]\n",
    "    return torch.stack(concatenated, dim=0)"
   ]
  },
  {
   "cell_type": "markdown",
   "id": "6844adea2617f1eb",
   "metadata": {},
   "source": [
    "Collate function for **RNN + Classifier** architecture\n",
    "\n",
    "* Function input: List of length *batch_size* (*B*) of tuples of transformed tensors and labels\n",
    "    * Shape transformed tensors (5, S, 300) (S = sequence length)\n",
    "* Function output: Forward-tensor (B, 5, MAX_S, 300)\n",
    "    * Unsorted for later semantic evaluation, but with lenghts so sequence can be sorted for *pack_padded_sequence*"
   ]
  },
  {
   "cell_type": "code",
   "execution_count": 17,
   "id": "57768745de06f997",
   "metadata": {
    "ExecuteTime": {
     "end_time": "2025-04-05T08:47:50.162961Z",
     "start_time": "2025-04-05T08:47:50.153142Z"
    }
   },
   "outputs": [],
   "source": [
    "def rnn_collate_fn(batch: list[tuple[torch.Tensor, torch.Tensor]]):\n",
    "    questions, labels = zip(*batch)\n",
    "\n",
    "    lengths = torch.tensor([q.shape[1] for q in questions])\n",
    "    max_len = lengths.max()\n",
    "    padded_questions = torch.stack(\n",
    "        [torch.nn.functional.pad(q, (0, 0, 0, max_len - l)) for q, l in zip(questions, lengths)])\n",
    "\n",
    "    labels = torch.stack(labels)\n",
    "\n",
    "    return padded_questions, lengths, labels"
   ]
  },
  {
   "cell_type": "markdown",
   "id": "1e4941497bdf4f65",
   "metadata": {},
   "source": [
    "Transform HuggingFace datasets to pytorch Datasets for both Classifier and RNN+Classifier models"
   ]
  },
  {
   "cell_type": "code",
   "execution_count": 18,
   "id": "16ae26b8c01da94b",
   "metadata": {},
   "outputs": [],
   "source": [
    "train_classifier = CommonsenseQADataset(train, classifier_target_transform)\n",
    "valid_classifier = CommonsenseQADataset(valid, classifier_target_transform)\n",
    "test_classifier = CommonsenseQADataset(test, classifier_target_transform)\n",
    "\n",
    "\n",
    "train_rnn = CommonsenseQADataset(train, rnn_target_transform)\n",
    "valid_rnn = CommonsenseQADataset(valid, rnn_target_transform)\n",
    "test_rnn = CommonsenseQADataset(test, rnn_target_transform)"
   ]
  },
  {
   "cell_type": "markdown",
   "id": "fc5a1ae791e74c08",
   "metadata": {},
   "source": [
    "The following routine was used to determine the best batch size. It was only run after model architecture definition and processing was implemented to determine the best batch size to use."
   ]
  },
  {
   "cell_type": "code",
   "execution_count": 19,
   "id": "b41bb4779fb9290e",
   "metadata": {},
   "outputs": [],
   "source": [
    "def batch_size_finder(data: Dataset, model: nn.Module, collate_fn = None, max_memory_usage=0.8) -> tuple[int, float]:\n",
    "    device = \"cuda\" if torch.cuda.is_available() else \"cpu\"\n",
    "    if not device == \"cuda\":\n",
    "        raise RuntimeError(\"Can only be run on gpu\")\n",
    "    batch_size, memory_usage = 16, 0\n",
    "    model.to(device)\n",
    "    \n",
    "    while True:\n",
    "        loader = torch.utils.data.DataLoader(data, batch_size=batch_size, collate_fn=collate_fn, num_workers=4)\n",
    "        inputs = nn.utils.rnn.PackedSequence(torch.tensor(()), torch.tensor(())) if collate_fn else torch.tensor([])\n",
    "        labels = torch.tensor([])\n",
    "        for i, l in loader:\n",
    "            if isinstance(i, nn.utils.rnn.PackedSequence):\n",
    "                if i.batch_sizes.shape > inputs.batch_sizes.shape:\n",
    "                    inputs, labels = i, l                  \n",
    "            elif i.shape > inputs.shape:\n",
    "                inputs, labels = i, l\n",
    "        try:\n",
    "            inputs, labels = inputs.to(device), labels.to(device)\n",
    "            _ = model(inputs)\n",
    "            \n",
    "            # Check memory usage\n",
    "            mem_allocated = torch.cuda.memory_allocated(device)\n",
    "            mem_reserved = torch.cuda.memory_reserved(device)\n",
    "            mem_usage = mem_allocated / mem_reserved\n",
    "\n",
    "            print(f\"Batch Size: {batch_size}, Memory Usage: {mem_usage:%}\")\n",
    "\n",
    "            if mem_usage <= memory_usage:\n",
    "                return batch_size // 2, memory_usage\n",
    "            \n",
    "            if mem_usage >= max_memory_usage:\n",
    "                return batch_size, mem_usage\n",
    "           \n",
    "            batch_size *= 2\n",
    "            memory_usage = mem_usage\n",
    "        \n",
    "        except RuntimeError as e:\n",
    "            if 'out of memory' in str(e):\n",
    "                return batch_size // 2, memory_usage\n",
    "            raise e\n",
    "    "
   ]
  },
  {
   "cell_type": "markdown",
   "id": "3c78934ccac35531",
   "metadata": {},
   "source": [
    "Determine the optimal batch size for both Classifier and RNN+Classifier models. Optimal batch size was chosen to be when 80% of memory is used. -> As mentioned, the entire dataset fit onto GPU memory, using model hyperparameters that lead to most parameters. A batch size of 512 was chosen to have about 18 training steps and keep doing stochastic gradient descent."
   ]
  },
  {
   "cell_type": "code",
   "execution_count": 20,
   "id": "f965e29192a6149",
   "metadata": {},
   "outputs": [],
   "source": [
    "# HIDDEN_DIM_CLASSIFIER = 4096\n",
    "# BATCH_SIZE_CLASSIFIER, memory_usage = batch_size_finder(train_classifier, Classifier(hidden_dim=HIDDEN_DIM_CLASSIFIER))\n",
    "# print(f\"Batch Size: {BATCH_SIZE_CLASSIFIER} @ {memory_usage:%} memory usage\")\n",
    "BATCH_SIZE_CLASSIFIER = 512"
   ]
  },
  {
   "cell_type": "code",
   "execution_count": 21,
   "id": "4abd0c35b8861437",
   "metadata": {},
   "outputs": [],
   "source": [
    "#HIDDEN_DIM_RNN_LINEAR, HIDDEN_DIM_RNN_GRU, BIDIRECTIONAL = 2048, 256, True\n",
    "# BATCH_SIZE_RNN, memory_usage = batch_size_finder(train_rnn, RNNClassifier(hidden_dim_linear=HIDDEN_DIM_RNN_LINEAR, hidden_dim_gru=HIDDEN_DIM_RNN_GRU, bidirectional=BIDIRECTIONAL), rnn_collate_fn)\n",
    "# print(f\"Batch Size: {BATCH_SIZE_RNN} @ {memory_usage:%} memory usage\")\n",
    "BATCH_SIZE_RNN = 256"
   ]
  },
  {
   "cell_type": "markdown",
   "id": "6d659013d41df134",
   "metadata": {},
   "source": [
    "Instantiate data loaders for both model types\n",
    "\n",
    "* Shuffle training data. Reason: Minimize risk of learning inhibition due to sorted training data\n",
    "* Include collate function for RNN. Reason: Create single tensor from tensors with different sequence lenght in batch"
   ]
  },
  {
   "cell_type": "code",
   "execution_count": 22,
   "id": "9eca8e459cf146cc",
   "metadata": {},
   "outputs": [],
   "source": [
    "train_loader_classifier = torch.utils.data.DataLoader(train_classifier, batch_size=BATCH_SIZE_CLASSIFIER, shuffle=True, num_workers=4)\n",
    "valid_loader_classifier = torch.utils.data.DataLoader(valid_classifier, batch_size=BATCH_SIZE_CLASSIFIER, num_workers=4)\n",
    "test_loader_classifier = torch.utils.data.DataLoader(test_classifier, batch_size=BATCH_SIZE_CLASSIFIER, num_workers=4)\n",
    "\n",
    "train_loader_rnn = torch.utils.data.DataLoader(train_rnn, batch_size=BATCH_SIZE_RNN, collate_fn=rnn_collate_fn, shuffle=True, num_workers=4)\n",
    "valid_loader_rnn = torch.utils.data.DataLoader(valid_rnn, batch_size=BATCH_SIZE_RNN, collate_fn=rnn_collate_fn, num_workers=4)\n",
    "test_loader_rnn = torch.utils.data.DataLoader(test_rnn, batch_size=BATCH_SIZE_RNN, collate_fn=rnn_collate_fn, num_workers=4)"
   ]
  },
  {
   "cell_type": "markdown",
   "id": "554586163be5eb6b",
   "metadata": {},
   "source": [
    "# 1. Architecture: Classifier\n",
    "## WordEmbeddings &rarr; Classifier"
   ]
  },
  {
   "cell_type": "markdown",
   "id": "1a26a4c41b4d0171",
   "metadata": {},
   "source": [
    "## Model\n",
    "\n",
    "#### Network architecture (layers, dims, nonlinearities, regularizations, normalizations, classifier)\n",
    "\n",
    "* **Layers**\n",
    "    * Two linear layers. Reason:\n",
    "        * Required in assignment\n",
    "    \n",
    "* **Dimensions**\n",
    "    * First layer: `input_dim = 1800`, `output_dim = 512`. Reason:\n",
    "        * Input dim given from data preprocessing\n",
    "        * Output dim determined through hyperparameter sweeps\n",
    "    * Second Layer: `input_dim = 512`, `output_dim = 5`. Reason: \n",
    "        * Input dim must match output dim of layer 1\n",
    "        * Output dim given from problem to be solved with 5 classes\n",
    "                \n",
    "* **Nonlinearities**\n",
    "    * RELU-nonlinearity in between the two layers. Reason:\n",
    "        * Required in assignment\n",
    "\n",
    "* **Regularizations**\n",
    "    * Dropout with probability of `p = 0.5` after output activation of first layer. Reason:\n",
    "        * Ensure some information redundancy in hidden layer of classifier\n",
    "        * Value determined through hyperparameter sweeps\n",
    " \n",
    "* **Normalizations**\n",
    "    * No normalization was used. Reason:\n",
    "        * Not required to be used\n",
    "        * Extra computation of normalization was deemed not to be worth it\n",
    "\n",
    "* **Classifier**\n",
    "    * A multiclass classifier was used. Reason:\n",
    "        * The task is inherently a multiclass classification task with 5 classes\n",
    "        * The model was expected to perform better having to choose one class given the information of all classes at once instead of binary classification with only information of the question and one answer at a time.   "
   ]
  },
  {
   "cell_type": "code",
   "execution_count": 23,
   "id": "40c1e0798eb9f7f4",
   "metadata": {},
   "outputs": [],
   "source": [
    "class Classifier(nn.Module):\n",
    "    def __init__(\n",
    "            self, \n",
    "            input_dim: int = 1800, \n",
    "            hidden_dim: int = 2048, \n",
    "            output_dim: int = 5, \n",
    "            dropout: float = 0.2\n",
    "    ):\n",
    "        super().__init__()\n",
    "        self.fc1 = nn.Linear(input_dim, hidden_dim)\n",
    "        self.fc2 = nn.Linear(hidden_dim, output_dim)\n",
    "        self.dropout = nn.Dropout(dropout)\n",
    "        \n",
    "    def forward(self, x: torch.Tensor, _=None) -> torch.Tensor:\n",
    "        out = F.relu(self.fc1(x))\n",
    "        out = self.dropout(out)\n",
    "        return self.fc2(out)\n",
    "    \n",
    "    def reset_parameters(self):\n",
    "        self.fc1.reset_parameters()\n",
    "        self.fc2.reset_parameters()"
   ]
  },
  {
   "cell_type": "markdown",
   "id": "4c1d04ba2f9898ed",
   "metadata": {},
   "source": [
    "## Training\n",
    "\n",
    "#### Loss, optimizer\n",
    "* **Loss function**: *CrossEntropyLoss*. Reason:\n",
    "    * Architecture is designed as a multiclass classifier\n",
    "\n",
    "* **Optimizer**: *Adam*. Reason:\n",
    "    * Showed better poerformance in hyperparameter tuning\n",
    "    * Adaptive learning rates based on gradients\n",
    "\n",
    "#### Experiment design (model/optimizer/loss variants, hyperparameters)\n",
    "\n",
    "* **Model/Optimizer/Loss variants**: *Adam* and *AdamW* as optimizers were tried. Reason:\n",
    "    * CrossEntropyLoss is only meaningful loss function for this problem\n",
    "    * Did not have the time to try out different models, also assignment was strict on model architecture\n",
    "    * Good past experience with *AdamW*, but ChatGPT suggested using *Adam* for this model\n",
    "\n",
    "* **Hyperparameters**: The following parameters were chosen for the baseline model\n",
    "    * optimizer: *Adam*,\n",
    "    * learning rate: 1e-3,\n",
    "    * hidden dimension: 2048\n",
    "    * training epochs: 50\n",
    "    * dropout: 0.2\n",
    "    * weight decay: 1e-5\n",
    "    * scheduler start percentage: 0.1\n",
    "    * **Goal**: Maximize validation accuracy\n",
    "    * Reason:\n",
    "        * Maximizing validation accuracy was chosen because as many questions as possible should be answered correctly, no matter how wrong the others are\n",
    "        * Initial hyperparameters were defined using suggestions from ChatGPT after showing it the model architecture, explaining the input format and the dataset in use\n",
    "\n",
    "#### Number of training runs\n",
    "\n",
    "* 1 run on baseline model. Reason:\n",
    "    * Have comparable result on hyperparameters that were deemed good at implementation time\n",
    "* 30 runs in first broad sweep. Tuning [`optimizer`, `learning_rate`, `hidden_dim`, `dropout`, `weight_decay`] Reason:\n",
    "    * Broad range of values around baseline model parameters to tune in on most promising ranges\n",
    "    * Sweep using *random* method because validation accuracy spikes a lot for a single epoch and bayes would focus on these runs\n",
    "* 30 runs in second narrow sweep. Tuning [`learning_rate`, `hidden_dim`, `dopout`, `weight_decay`]. Reason:\n",
    "    * Two models in first sweep showed actual learning capabilities without the validation accuracy spiking and jumping around\n",
    "    * Choose paramters above and below the parameters of these two runs\n",
    "\n",
    "#### Model checkpointing\n",
    "\n",
    "* Best and last epoch for every run is checkpointed. Reason:\n",
    "    * Keep best run for possible later test set evaluation\n",
    "    * Keep last run for possible later elongated training or fine-tuning\n",
    "\n",
    "#### Early stopping\n",
    "\n",
    "* Early stopping after 20 epochs of no improvement on validation accuracy. Reason:\n",
    "    * Do not waste computation\n",
    "    * Model accuracy was seen to further deteriorate after more than 20 epochs of no improvement\n",
    "\n",
    "#### Sweeps\n",
    "\n",
    "* Two sweeps, one broad sweep and one narrow sweep. Reason:\n",
    "    * Determined to be the most efficient method of hyperparameter optimization\n",
    "    * *random* sweep method can find possible parameter combinations even when target metric jumps around a lot\n",
    "    * Refer to the wandb project report for more information on the sweeps"
   ]
  },
  {
   "cell_type": "markdown",
   "id": "718e0f3dff45f259",
   "metadata": {},
   "source": [
    "Create a LightningModule subclass that takes the model and all hyperparameters as arguments. With this class training can be simplified using the pytorch lightning framework. This class will also be reused for the RNN+Classifier model.\n"
   ]
  },
  {
   "cell_type": "code",
   "execution_count": 24,
   "id": "4a277ab7-8897-45e4-b022-e1ed8f288443",
   "metadata": {},
   "outputs": [],
   "source": [
    "OPTIMIZERS = {\n",
    "    \"Adam\": torch.optim.Adam,\n",
    "    \"AdamW\": torch.optim.AdamW,\n",
    "}"
   ]
  },
  {
   "cell_type": "code",
   "execution_count": 25,
   "id": "130d3b7479e8a8eb",
   "metadata": {},
   "outputs": [],
   "source": [
    "class CqaModule(L.LightningModule):\n",
    "    def __init__(\n",
    "            self, \n",
    "            model: Classifier,\n",
    "            loss_function,\n",
    "            output_dim=5,\n",
    "            **kwargs        \n",
    "    ):\n",
    "        super().__init__()\n",
    "        self.save_hyperparameters(kwargs)\n",
    "        self.model = model\n",
    "        self.model.reset_parameters()\n",
    "        \n",
    "        self.loss_fn = loss_function()\n",
    "        \n",
    "        self._train_acc = torchmetrics.Accuracy(\"multiclass\", num_classes=output_dim)\n",
    "        self._train_loss = []\n",
    "        self._valid_acc = torchmetrics.Accuracy(\"multiclass\", num_classes=output_dim)\n",
    "        self._valid_loss = []\n",
    "        self._max_valid_acc = 0\n",
    "        self._test_acc = torchmetrics.Accuracy(\"multiclass\", num_classes=output_dim)\n",
    "        self._test_preds = []\n",
    "        \n",
    "    def forward(self, x: torch.Tensor, lengths: torch.Tensor = None) -> torch.Tensor:\n",
    "        return self.model(x, lengths)\n",
    "    \n",
    "    def training_step(self, batch, batch_idx):\n",
    "        y = batch[-1]\n",
    "        y_hat = self(*batch[:-1])\n",
    "        loss = self.loss_fn(y_hat, y)\n",
    "        self._train_loss.append(loss)\n",
    "        self._train_acc(y_hat.argmax(-1), y)\n",
    "        return loss\n",
    "\n",
    "    def validation_step(self, batch, batch_idx):\n",
    "        y = batch[-1]\n",
    "        y_hat = self(*batch[:-1])\n",
    "        loss = self.loss_fn(y_hat, y)\n",
    "        self._valid_loss.append(loss)\n",
    "        self._valid_acc(y_hat.argmax(-1), y)\n",
    "\n",
    "    def on_train_epoch_end(self):\n",
    "        loss = torch.stack(self._train_loss).mean()\n",
    "        self.log_dict({'train_loss': loss, 'train_acc': self._train_acc.compute()}, prog_bar=True)\n",
    "        self._train_loss.clear()\n",
    "        self._train_acc.reset()\n",
    "\n",
    "    def on_validation_epoch_end(self):\n",
    "        loss = torch.stack(self._valid_loss).mean()\n",
    "        valid_acc = self._valid_acc.compute()\n",
    "        self._max_valid_acc = max(self._max_valid_acc, valid_acc)\n",
    "        self.log_dict({'valid_loss': loss, 'valid_acc': valid_acc, 'max_valid_acc': self._max_valid_acc}, prog_bar=True)\n",
    "        self._valid_loss.clear()\n",
    "        self._valid_acc.reset()\n",
    "\n",
    "    def configure_optimizers(self):\n",
    "        optim = OPTIMIZERS.get(self.hparams.optim)(\n",
    "            self.parameters(), \n",
    "            lr=self.hparams.lr, \n",
    "            weight_decay=self.hparams.wd\n",
    "        )\n",
    "        scheduler = torch.optim.lr_scheduler.OneCycleLR(optim, self.hparams.lr, epochs=self.hparams.epochs, steps_per_epoch=self.hparams.steps_per_epoch, pct_start=self.hparams.pct_start, div_factor=1000, final_div_factor=10000)\n",
    "        return {\"optimizer\": optim, \"lr_scheduler\": scheduler}\n",
    "        "
   ]
  },
  {
   "cell_type": "markdown",
   "id": "96fee839789148a2",
   "metadata": {},
   "source": [
    "#### Training routine\n",
    "\n",
    "Define the function **train_classifier** which describes the training routine for the classifier model using the **Trainer** class of *lightning* "
   ]
  },
  {
   "cell_type": "code",
   "execution_count": 26,
   "id": "50dc9afa3b8d2e16",
   "metadata": {},
   "outputs": [],
   "source": [
    "def lightning_train_classifier(config, logger, *callbacks):\n",
    "    L.seed_everything(42)\n",
    "    model = CqaModule(\n",
    "        Classifier(hidden_dim=config.get(\"hd_cls\"), dropout=config.get(\"drp\")),\n",
    "        nn.CrossEntropyLoss,\n",
    "        **config\n",
    "    )\n",
    "    trainer = L.Trainer(\n",
    "        max_epochs=config.get(\"epochs\"),\n",
    "        accelerator=\"auto\",\n",
    "        devices=1,\n",
    "        callbacks=list(callbacks),\n",
    "        logger=logger,\n",
    "    )\n",
    "    trainer.fit(model, train_loader_classifier, valid_loader_classifier)"
   ]
  },
  {
   "cell_type": "markdown",
   "id": "302e5be5719640b0",
   "metadata": {},
   "source": [
    "#### Run parameters"
   ]
  },
  {
   "cell_type": "code",
   "execution_count": 27,
   "id": "4023fb40f5bec5c1",
   "metadata": {},
   "outputs": [],
   "source": [
    "def get_run_name(model_name: str):\n",
    "    params = []\n",
    "    return f\"{model_name}_{time.strftime('%y%m%d%H%M%S')}\""
   ]
  },
  {
   "cell_type": "markdown",
   "id": "f6cae337d032af7a",
   "metadata": {},
   "source": [
    "Baseline parameters for Classifier model"
   ]
  },
  {
   "cell_type": "code",
   "execution_count": 28,
   "id": "20fced576b1c3b20",
   "metadata": {},
   "outputs": [],
   "source": [
    "MODEL_NAME = \"Classifier_Baseline\"\n",
    "config = dict(\n",
    "    optim=\"Adam\",\n",
    "    lr=1e-3,\n",
    "    hd_cls=2048,\n",
    "    epochs=50,\n",
    "    steps_per_epoch=len(train_loader_classifier),\n",
    "    drp=0.2,\n",
    "    wd=1e-5,\n",
    "    pct_start=0.1,\n",
    ")"
   ]
  },
  {
   "cell_type": "markdown",
   "id": "802f350873e1806d",
   "metadata": {},
   "source": [
    "#### Checkpointing"
   ]
  },
  {
   "cell_type": "code",
   "execution_count": 29,
   "id": "b123befecb9a8b47",
   "metadata": {},
   "outputs": [],
   "source": [
    "checkpoint_callback = L.pytorch.callbacks.ModelCheckpoint(\n",
    "    dirpath=\"./lightning_checkpoints\",\n",
    "    filename=get_run_name(MODEL_NAME) + \"-{epoch:02d}-{valid_acc:.2f}\",\n",
    "    monitor=\"valid_acc\",\n",
    "    save_last=True,\n",
    "    mode=\"max\"\n",
    ")"
   ]
  },
  {
   "cell_type": "markdown",
   "id": "9a112c21ae9f586",
   "metadata": {},
   "source": [
    "#### Early Stopping"
   ]
  },
  {
   "cell_type": "code",
   "execution_count": 30,
   "id": "75151dc056ffb566",
   "metadata": {},
   "outputs": [],
   "source": [
    "early_stopping_callback = L.pytorch.callbacks.EarlyStopping(\n",
    "    monitor=\"valid_acc\",\n",
    "    patience=20,\n",
    "    mode=\"max\",\n",
    ")"
   ]
  },
  {
   "cell_type": "markdown",
   "id": "5f5710a3c3640df3",
   "metadata": {},
   "source": [
    "Execute training run"
   ]
  },
  {
   "cell_type": "code",
   "execution_count": 31,
   "id": "c0b043c76c9360d8",
   "metadata": {},
   "outputs": [],
   "source": [
    "with wandb.init(\n",
    "    entity=\"david-schurtenberger\",\n",
    "    project=\"NLP_Project_1\",\n",
    "    name=get_run_name(MODEL_NAME, config),\n",
    "    config=config,\n",
    ") as run:\n",
    "    wandb_logger = WandbLogger(project=\"NLP_Project_1\")\n",
    "    lightning_train_classifier(run.config, wandb_logger, checkpoint_callback, early_stopping_callback)"
   ]
  },
  {
   "cell_type": "markdown",
   "id": "3313074f11e44e07",
   "metadata": {},
   "source": [
    "### Hyperparameter tuning"
   ]
  },
  {
   "cell_type": "code",
   "execution_count": 31,
   "id": "3a1267cbffa1e6a2",
   "metadata": {},
   "outputs": [],
   "source": [
    "MODEL_NAME = \"Classifier\"\n",
    "def classifier_sweep(config=None):\n",
    "    with wandb.init(config=config) as run:\n",
    "        config = wandb.config\n",
    "        run.name = get_run_name(MODEL_NAME)\n",
    "        checkpoint_callback = L.pytorch.callbacks.ModelCheckpoint(\n",
    "            dirpath=\"./lightning_checkpoints\",\n",
    "            filename=get_run_name(MODEL_NAME) + \"-{epoch:02d}-{valid_acc:.2f}\",\n",
    "            monitor=\"valid_acc\",\n",
    "            save_last=True,\n",
    "            mode=\"max\"\n",
    "        )\n",
    "        early_stopping_callback = L.pytorch.callbacks.EarlyStopping(\n",
    "            monitor=\"valid_acc\",\n",
    "            patience=20,\n",
    "            mode=\"max\",\n",
    "        )\n",
    "        wandb_logger = WandbLogger(log_model=True)\n",
    "        lightning_train_classifier(config, wandb_logger, checkpoint_callback, early_stopping_callback)"
   ]
  },
  {
   "cell_type": "markdown",
   "id": "1eea117bb339c0e7",
   "metadata": {},
   "source": [
    "Broad sweep\n",
    "\n",
    "Use a broad range of values for most hyperparameters to get most promising values and combination of values"
   ]
  },
  {
   "cell_type": "code",
   "execution_count": 32,
   "id": "53301ec0de017953",
   "metadata": {},
   "outputs": [],
   "source": [
    "broad_sweep_parameters = {\n",
    "        \"lr\": {\"values\": [1e-4, 1e-3, 1e-2]},\n",
    "        \"optim\": {\"values\": [\"Adam\", \"AdamW\"]},\n",
    "        \"hd_cls\": {\"values\": [512, 1024, 2048]},\n",
    "        \"wd\": {\"values\": [0, 1e-5, 1e-4, 1e-3]},\n",
    "        \"drp\": {\"values\": [0.1, 0.2, 0.3, 0.5]},\n",
    "        \"pct_start\": {\"values\": [0.1, 0.2, 0.3]},\n",
    "        \"epochs\": {\"value\": 50},\n",
    "        \"steps_per_epoch\": {\"value\": len(train_loader_classifier)},\n",
    "    }"
   ]
  },
  {
   "cell_type": "markdown",
   "id": "c64f18d807de5fd7",
   "metadata": {},
   "source": [
    "Narrow sweep\n",
    "\n",
    "With results from broad sweep, choose closer ranges of values to determine overall best combination of hyperparameters"
   ]
  },
  {
   "cell_type": "code",
   "execution_count": 33,
   "id": "a3da4032044e3ae",
   "metadata": {},
   "outputs": [],
   "source": [
    "narrow_sweep_1_parameters = {\n",
    "        \"lr\": {\"values\": [1e-5, 1e-4, 1e-3]},\n",
    "        \"optim\": {\"value\": \"Adam\"},\n",
    "        \"hd_cls\": {\"values\": [256, 512, 1024]},\n",
    "        \"wd\": {\"values\": [1e-6, 1e-5, 1e-4]},\n",
    "        \"drp\": {\"values\": [0.4, 0.5]},\n",
    "        \"pct_start\": {\"value\": 0.1},\n",
    "        \"epochs\": {\"value\": 100},\n",
    "        \"steps_per_epoch\": {\"value\": len(train_loader_classifier)},\n",
    "    }"
   ]
  },
  {
   "cell_type": "code",
   "execution_count": 34,
   "id": "a05f18ad-7b87-428f-a8f9-cc3b2dfed229",
   "metadata": {},
   "outputs": [],
   "source": [
    "narrow_sweep_2_parameters = {\n",
    "        \"lr\": {\"values\": [1e-4, 1e-3, 1e-2]},\n",
    "        \"optim\": {\"value\": \"AdamW\"},\n",
    "        \"hd_cls\": {\"values\": [512, 1024]},\n",
    "        \"wd\": {\"values\": [1e-6, 1e-5, 1e-4]},\n",
    "        \"drp\": {\"values\": [0, 0.1, 0.2]},\n",
    "        \"pct_start\": {\"value\": 0.3},\n",
    "        \"epochs\": {\"value\": 100},\n",
    "        \"steps_per_epoch\": {\"value\": len(train_loader_classifier)},\n",
    "    }"
   ]
  },
  {
   "cell_type": "code",
   "execution_count": 35,
   "id": "6a8e9434bb5ec197",
   "metadata": {},
   "outputs": [],
   "source": [
    "sweep_config = {\n",
    "    \"name\": \"ClassifierSweep_V2_Narrow_2\",\n",
    "    \"method\": \"random\",\n",
    "    \"metric\": {\"name\": \"max_valid_acc\", \"goal\": \"maximize\"},\n",
    "    \"parameters\": narrow_sweep_2_parameters,\n",
    "}"
   ]
  },
  {
   "cell_type": "code",
   "execution_count": 37,
   "id": "d76663298b254e6",
   "metadata": {},
   "outputs": [
    {
     "name": "stdout",
     "output_type": "stream",
     "text": [
      "Create sweep with ID: p56k2mm6\n",
      "Sweep URL: https://wandb.ai/david-schurtenberger/NLP_Project_1/sweeps/p56k2mm6\n"
     ]
    }
   ],
   "source": [
    "sweep_id = wandb.sweep(\n",
    "    sweep=sweep_config, \n",
    "    entity=\"david-schurtenberger\",\n",
    "    project=\"NLP_Project_1\",\n",
    ")"
   ]
  },
  {
   "cell_type": "code",
   "execution_count": null,
   "id": "8bb4d55ac009eb4a",
   "metadata": {},
   "outputs": [],
   "source": [
    "wandb.agent(sweep_id=sweep_id, function=classifier_sweep, count=30)"
   ]
  },
  {
   "cell_type": "code",
   "execution_count": null,
   "id": "74cc92c65c32b272",
   "metadata": {},
   "outputs": [],
   "source": [
    "wandb.api.stop_sweep(sweep_id)"
   ]
  },
  {
   "cell_type": "markdown",
   "id": "4c279b2d86506c4b",
   "metadata": {},
   "source": [
    "After all sweeps, and run analysis the following run was determined to be best. For the selection of the best model refer to the *wandb project report*"
   ]
  },
  {
   "cell_type": "code",
   "execution_count": 36,
   "id": "14dd4604dcb51131",
   "metadata": {},
   "outputs": [],
   "source": [
    "checkpoint_path = \"lightning_checkpoints/Classifier_250406195330-epoch=18-valid_acc=0.24.ckpt\""
   ]
  },
  {
   "cell_type": "markdown",
   "id": "78a92ceca9fa4119",
   "metadata": {},
   "source": [
    "## Evaluation"
   ]
  },
  {
   "cell_type": "markdown",
   "id": "ddbc777af0e0d97e",
   "metadata": {},
   "source": [
    "Load the best classifier model from its checkpoint with the hyperparameters of its run"
   ]
  },
  {
   "cell_type": "code",
   "execution_count": 37,
   "id": "f52a88e45f63b520",
   "metadata": {},
   "outputs": [],
   "source": [
    "classifier_model = CqaModule.load_from_checkpoint(checkpoint_path, model=Classifier(hidden_dim=512, dropout=0.1), loss_function=nn.CrossEntropyLoss)"
   ]
  },
  {
   "cell_type": "markdown",
   "id": "67fb5e03ea748e65",
   "metadata": {},
   "source": [
    "Run evaluation on the test set and save the predictions, the logits of each prediction and the true labels"
   ]
  },
  {
   "cell_type": "code",
   "execution_count": 38,
   "id": "929d77f442aedfec",
   "metadata": {},
   "outputs": [],
   "source": [
    "def evaluate_model(model, dataloader) -> tuple[np.array, np.array, np.array]:\n",
    "    device = \"cuda\" if torch.cuda.is_available() else \"cpu\"\n",
    "    model.eval()\n",
    "    predictions, logits, true_labels = [], [], []\n",
    "\n",
    "    with torch.no_grad():\n",
    "        for inputs, labels in dataloader:\n",
    "            inputs = inputs.to(device)\n",
    "            l = model(inputs)\n",
    "            l = l.to(\"cpu\")\n",
    "            preds = torch.argmax(l, dim=-1)\n",
    "            \n",
    "            logits.append(l)\n",
    "            predictions.append(preds)\n",
    "            true_labels.append(labels)\n",
    "\n",
    "    return torch.cat(predictions), torch.cat(logits), torch.cat(true_labels)"
   ]
  },
  {
   "cell_type": "code",
   "execution_count": 39,
   "id": "ad2e3b7113c7941a",
   "metadata": {},
   "outputs": [],
   "source": [
    "predictions, logits, labels = evaluate_model(classifier_model, test_loader_classifier)"
   ]
  },
  {
   "cell_type": "markdown",
   "id": "89b512a5dc2fa17f",
   "metadata": {},
   "source": [
    "Accuracy on test set"
   ]
  },
  {
   "cell_type": "code",
   "execution_count": 40,
   "id": "6839fd37dfbe2fe1",
   "metadata": {},
   "outputs": [
    {
     "name": "stdout",
     "output_type": "stream",
     "text": [
      "Test Accuracy: 21.21%\n"
     ]
    }
   ],
   "source": [
    "acc = torchmetrics.Accuracy(\"multiclass\", num_classes=5)\n",
    "acc.update(predictions, labels)\n",
    "print(f\"Test Accuracy: {acc.compute():.2%}\")"
   ]
  },
  {
   "cell_type": "markdown",
   "id": "48754eda8babdbdc",
   "metadata": {},
   "source": [
    "Create Confusion Matrix"
   ]
  },
  {
   "cell_type": "code",
   "execution_count": 41,
   "id": "116461c0d3da2456",
   "metadata": {},
   "outputs": [
    {
     "data": {
      "image/png": "[encoded data removed]",
      "text/plain": [
       "<Figure size 640x480 with 2 Axes>"
      ]
     },
     "metadata": {},
     "output_type": "display_data"
    }
   ],
   "source": [
    "cm = torchmetrics.ConfusionMatrix(\"multiclass\", num_classes=5)\n",
    "cm.update(predictions, labels)\n",
    "fig, ax = cm.plot(labels=[\"A\", \"B\", \"C\", \"D\", \"E\"], cmap=\"plasma\")\n",
    "cbar = fig.colorbar(ax.images[0], ax=ax)\n",
    "plt.show()"
   ]
  },
  {
   "cell_type": "markdown",
   "id": "a2fd2533359faad6",
   "metadata": {},
   "source": [
    "#### Result description\n",
    "\n",
    "* The model produces an accuracy of **21.21%**\n",
    "* Class *D* is heavily overpredicted\n",
    "* Only class *B* gets a fair shore of the other predictions\n",
    "* For no class the most predictions are matching with the actual labels"
   ]
  },
  {
   "cell_type": "markdown",
   "id": "b38e23b3a0bc47ff",
   "metadata": {},
   "source": [
    "#### Error analysis"
   ]
  },
  {
   "cell_type": "code",
   "execution_count": 42,
   "id": "861bafaff7eacb27",
   "metadata": {},
   "outputs": [
    {
     "data": {
      "text/html": [
       "<div>\n",
       "<style scoped>\n",
       "    .dataframe tbody tr th:only-of-type {\n",
       "        vertical-align: middle;\n",
       "    }\n",
       "\n",
       "    .dataframe tbody tr th {\n",
       "        vertical-align: top;\n",
       "    }\n",
       "\n",
       "    .dataframe thead th {\n",
       "        text-align: right;\n",
       "    }\n",
       "</style>\n",
       "<table border=\"1\" class=\"dataframe\">\n",
       "  <thead>\n",
       "    <tr style=\"text-align: right;\">\n",
       "      <th></th>\n",
       "      <th>Index</th>\n",
       "      <th>True Label</th>\n",
       "      <th>Predicted Label</th>\n",
       "      <th>Confidence</th>\n",
       "      <th>Top-1 Class</th>\n",
       "      <th>Top-1 Prob</th>\n",
       "      <th>Top-2 Class</th>\n",
       "      <th>Top-2 Prob</th>\n",
       "      <th>Top-3 Class</th>\n",
       "      <th>Top-3 Prob</th>\n",
       "    </tr>\n",
       "  </thead>\n",
       "  <tbody>\n",
       "    <tr>\n",
       "      <th>832</th>\n",
       "      <td>1044</td>\n",
       "      <td>1</td>\n",
       "      <td>3</td>\n",
       "      <td>0.217</td>\n",
       "      <td>3</td>\n",
       "      <td>0.217</td>\n",
       "      <td>2</td>\n",
       "      <td>0.205</td>\n",
       "      <td>4</td>\n",
       "      <td>0.202</td>\n",
       "    </tr>\n",
       "    <tr>\n",
       "      <th>542</th>\n",
       "      <td>678</td>\n",
       "      <td>2</td>\n",
       "      <td>3</td>\n",
       "      <td>0.215</td>\n",
       "      <td>3</td>\n",
       "      <td>0.215</td>\n",
       "      <td>2</td>\n",
       "      <td>0.208</td>\n",
       "      <td>1</td>\n",
       "      <td>0.197</td>\n",
       "    </tr>\n",
       "    <tr>\n",
       "      <th>252</th>\n",
       "      <td>321</td>\n",
       "      <td>0</td>\n",
       "      <td>2</td>\n",
       "      <td>0.215</td>\n",
       "      <td>2</td>\n",
       "      <td>0.215</td>\n",
       "      <td>3</td>\n",
       "      <td>0.201</td>\n",
       "      <td>1</td>\n",
       "      <td>0.199</td>\n",
       "    </tr>\n",
       "    <tr>\n",
       "      <th>352</th>\n",
       "      <td>439</td>\n",
       "      <td>0</td>\n",
       "      <td>3</td>\n",
       "      <td>0.215</td>\n",
       "      <td>3</td>\n",
       "      <td>0.215</td>\n",
       "      <td>1</td>\n",
       "      <td>0.201</td>\n",
       "      <td>2</td>\n",
       "      <td>0.196</td>\n",
       "    </tr>\n",
       "    <tr>\n",
       "      <th>98</th>\n",
       "      <td>130</td>\n",
       "      <td>3</td>\n",
       "      <td>1</td>\n",
       "      <td>0.214</td>\n",
       "      <td>1</td>\n",
       "      <td>0.214</td>\n",
       "      <td>3</td>\n",
       "      <td>0.204</td>\n",
       "      <td>0</td>\n",
       "      <td>0.198</td>\n",
       "    </tr>\n",
       "    <tr>\n",
       "      <th>270</th>\n",
       "      <td>343</td>\n",
       "      <td>1</td>\n",
       "      <td>3</td>\n",
       "      <td>0.214</td>\n",
       "      <td>3</td>\n",
       "      <td>0.214</td>\n",
       "      <td>2</td>\n",
       "      <td>0.199</td>\n",
       "      <td>1</td>\n",
       "      <td>0.198</td>\n",
       "    </tr>\n",
       "    <tr>\n",
       "      <th>300</th>\n",
       "      <td>380</td>\n",
       "      <td>0</td>\n",
       "      <td>1</td>\n",
       "      <td>0.214</td>\n",
       "      <td>1</td>\n",
       "      <td>0.214</td>\n",
       "      <td>3</td>\n",
       "      <td>0.205</td>\n",
       "      <td>2</td>\n",
       "      <td>0.198</td>\n",
       "    </tr>\n",
       "    <tr>\n",
       "      <th>891</th>\n",
       "      <td>1123</td>\n",
       "      <td>4</td>\n",
       "      <td>1</td>\n",
       "      <td>0.214</td>\n",
       "      <td>1</td>\n",
       "      <td>0.214</td>\n",
       "      <td>3</td>\n",
       "      <td>0.204</td>\n",
       "      <td>4</td>\n",
       "      <td>0.200</td>\n",
       "    </tr>\n",
       "    <tr>\n",
       "      <th>341</th>\n",
       "      <td>426</td>\n",
       "      <td>0</td>\n",
       "      <td>2</td>\n",
       "      <td>0.214</td>\n",
       "      <td>2</td>\n",
       "      <td>0.214</td>\n",
       "      <td>3</td>\n",
       "      <td>0.198</td>\n",
       "      <td>1</td>\n",
       "      <td>0.197</td>\n",
       "    </tr>\n",
       "    <tr>\n",
       "      <th>569</th>\n",
       "      <td>710</td>\n",
       "      <td>3</td>\n",
       "      <td>1</td>\n",
       "      <td>0.214</td>\n",
       "      <td>1</td>\n",
       "      <td>0.214</td>\n",
       "      <td>0</td>\n",
       "      <td>0.204</td>\n",
       "      <td>3</td>\n",
       "      <td>0.198</td>\n",
       "    </tr>\n",
       "  </tbody>\n",
       "</table>\n",
       "</div>"
      ],
      "text/plain": [
       "     Index True Label Predicted Label  Confidence  Top-1 Class  Top-1 Prob  \\\n",
       "832   1044          1               3       0.217            3       0.217   \n",
       "542    678          2               3       0.215            3       0.215   \n",
       "252    321          0               2       0.215            2       0.215   \n",
       "352    439          0               3       0.215            3       0.215   \n",
       "98     130          3               1       0.214            1       0.214   \n",
       "270    343          1               3       0.214            3       0.214   \n",
       "300    380          0               1       0.214            1       0.214   \n",
       "891   1123          4               1       0.214            1       0.214   \n",
       "341    426          0               2       0.214            2       0.214   \n",
       "569    710          3               1       0.214            1       0.214   \n",
       "\n",
       "     Top-2 Class  Top-2 Prob  Top-3 Class  Top-3 Prob  \n",
       "832            2       0.205            4       0.202  \n",
       "542            2       0.208            1       0.197  \n",
       "252            3       0.201            1       0.199  \n",
       "352            1       0.201            2       0.196  \n",
       "98             3       0.204            0       0.198  \n",
       "270            2       0.199            1       0.198  \n",
       "300            3       0.205            2       0.198  \n",
       "891            3       0.204            4       0.200  \n",
       "341            3       0.198            1       0.197  \n",
       "569            0       0.204            3       0.198  "
      ]
     },
     "execution_count": 42,
     "metadata": {},
     "output_type": "execute_result"
    }
   ],
   "source": [
    "misclassified_indices = np.where(predictions != labels)[0]\n",
    "\n",
    "error_collection = []\n",
    "for index in misclassified_indices:\n",
    "    probs = nn.functional.softmax(logits[index], dim=-1)\n",
    "    probs = probs.numpy()\n",
    "    top3_indices = np.argsort(probs)[::-1][:3]\n",
    "    top3_probs = probs[top3_indices]\n",
    "    \n",
    "    error_collection.append({\n",
    "        \"Index\": index,\n",
    "        \"True Label\": labels[index].numpy(),\n",
    "        \"Predicted Label\": predictions[index].numpy(),\n",
    "        \"Confidence\": probs[predictions[index]],\n",
    "        \"Top-1 Class\": top3_indices[0],\n",
    "        \"Top-1 Prob\": top3_probs[0],\n",
    "        \"Top-2 Class\": top3_indices[1],\n",
    "        \"Top-2 Prob\": top3_probs[1],\n",
    "        \"Top-3 Class\": top3_indices[2],\n",
    "        \"Top-3 Prob\": top3_probs[2],\n",
    "    })\n",
    "\n",
    "pd.set_option(\"display.precision\", 3)\n",
    "df_errors = pd.DataFrame(error_collection)\n",
    "df_errors.sort_values(by='Confidence', ascending=False, inplace=True)\n",
    "df_errors.head(10)"
   ]
  },
  {
   "cell_type": "markdown",
   "id": "aa0cfcb0-3f4b-4e69-994d-d0ed9b7cda34",
   "metadata": {},
   "source": [
    "#### Key findings\n",
    "\n",
    "* The maximum confidence when making wrong predictions at *21.7%* is rather low, the model is therefore not confidently making wrong predictions\n",
    "* The maximum confidence of wrong predictions is in the range of the actual accuracy of the model\n",
    "* The true label is often also not in the top-2 predictions\n",
    "* About half of the time, the true label is in the top-3 predictions "
   ]
  },
  {
   "cell_type": "code",
   "execution_count": 57,
   "id": "0e80e265-9db0-425b-bea4-812edf62f1de",
   "metadata": {},
   "outputs": [],
   "source": [
    "def get_semantic_analysis(df_errors, hf_dataset):\n",
    "    INDEX_KEY_MAPPING = {\n",
    "        0: \"A\",\n",
    "        1: \"B\",\n",
    "        2: \"C\",\n",
    "        3: \"D\",\n",
    "        4: \"E\",\n",
    "    }\n",
    "\n",
    "    for _, row in df_errors.head(5).iterrows():\n",
    "        index = row[\"Index\"]\n",
    "        true_label = row[\"True Label\"]\n",
    "        predicted_label = row[\"Predicted Label\"]\n",
    "\n",
    "        print(f\"Predicted: {INDEX_KEY_MAPPING.get(int(predicted_label))}\")\n",
    "        print(f\"Ground Truth: {INDEX_KEY_MAPPING.get(int(true_label))}\")\n",
    "        print(f\"Q: {hf_dataset[index]['question']}\")\n",
    "        print(\"\\n\".join(f\"{INDEX_KEY_MAPPING.get(i)}: {a}\" for i, a in enumerate(hf_dataset[index][\"choices\"][\"text\"])))\n",
    "        print(\"\\n\")"
   ]
  },
  {
   "cell_type": "code",
   "execution_count": 58,
   "id": "52405ef4-3146-403d-8f1c-885f95021378",
   "metadata": {},
   "outputs": [
    {
     "name": "stdout",
     "output_type": "stream",
     "text": [
      "Predicted: D\n",
      "Ground Truth: B\n",
      "Q: The tiger was stuck in what animal prison where he got lazy and fat?\n",
      "A: jungle\n",
      "B: zoo\n",
      "C: kill\n",
      "D: india\n",
      "E: eat cake\n",
      "\n",
      "\n",
      "Predicted: D\n",
      "Ground Truth: C\n",
      "Q: What can disease destroy?\n",
      "A: rug\n",
      "B: third world country\n",
      "C: human body\n",
      "D: hospital\n",
      "E: building\n",
      "\n",
      "\n",
      "Predicted: C\n",
      "Ground Truth: A\n",
      "Q: Sarah dropped the marble because she wanted to do what?\n",
      "A: game\n",
      "B: pouch\n",
      "C: home\n",
      "D: store\n",
      "E: jar\n",
      "\n",
      "\n",
      "Predicted: D\n",
      "Ground Truth: A\n",
      "Q: If it is Chrismas time what came most recently before?\n",
      "A: halloween\n",
      "B: summer\n",
      "C: easter\n",
      "D: kwaanza\n",
      "E: give gift\n",
      "\n",
      "\n",
      "Predicted: B\n",
      "Ground Truth: D\n",
      "Q: Playing baseball is a lot like any other sport, there is always a risk of what?\n",
      "A: sore muscles\n",
      "B: errors\n",
      "C: happiness\n",
      "D: injury\n",
      "E: fun\n",
      "\n",
      "\n"
     ]
    }
   ],
   "source": [
    "get_semantic_analysis(df_errors, test)"
   ]
  },
  {
   "cell_type": "markdown",
   "id": "3bb349b7a3afb091",
   "metadata": {},
   "source": [
    "## Interpretation"
   ]
  },
  {
   "cell_type": "markdown",
   "id": "5fc060e631c74c61",
   "metadata": {},
   "source": [
    "It seems like the model does not have the capacity to accurately and confidently predict the correct answer to a question. As can be seen in the confusion matrix, the model overpredicts class *B* very often and neglects class *A* heavily. This seems to be an inherent bias and cannot simply be explained with a lack of capacity. \n",
    "\n",
    "In the semantic analysis it can be seen that often times, the model is predicting \"in the right direction\". It has a grasp of what semantic class a word belongs to and predicts rarely something that does not make sense at all.\n",
    "\n",
    "Overall, this model is not suited to complete the task of question answering."
   ]
  },
  {
   "cell_type": "markdown",
   "id": "670529384ff1a832",
   "metadata": {},
   "source": [
    "# 2. Architecture: RNN+Classifier\n",
    "## WordEmbeddings &rarr; RNN &rarr; Classifier"
   ]
  },
  {
   "cell_type": "markdown",
   "id": "1cdcb2c089c31f7d",
   "metadata": {},
   "source": [
    "## Model\n",
    "\n",
    "#### Network architecture (layers, dims, nonlinearities, regularizations, normalizations, classifier)\n",
    "\n",
    "* **Layers**\n",
    "    * Two GRU layers and two linear layers. Reason:\n",
    "        * Required in assignment\n",
    "        * GRU chosen over LSTM because they have similar performance, but GRU has less trainable weights, which makes model smaller\n",
    "    \n",
    "* **Dimensions**\n",
    "    * First GRU Layer: `input_dim = 300`, `hidden_dim = 256`. Reason:\n",
    "        * This must match the size of the embedding vectors\n",
    "    * Second GRU Layer: `input_dim = 256`, `hidden_dim = 256`. Reason:\n",
    "        *  This was determined to be the best hidden dimension for the GRU using hyperparameter sweeps\n",
    "    * First layer: `input_dim = 2560`, `output_dim = 4096`. Reason:\n",
    "        * These were determined through hyperparameter sweeps\n",
    "        * The model is bidirectional therefore the input dimension is `2 * hidden_dim_gru * num_classes`\n",
    "        * Output dim determined through hyperparameter sweeps\n",
    "    * Second Layer: `input_dim = 4096`, `output_dim = 5`. Reason: \n",
    "        * Input dim must match output dim of layer 1\n",
    "        * Output dim given from problem to be solved with 5 classes\n",
    "                \n",
    "* **Nonlinearities**\n",
    "    * RELU-nonlinearity in between the two layers. Reason:\n",
    "        * Required in assignment\n",
    "\n",
    "* **Regularizations**\n",
    "    * Dropout with probability of `p = 0.3` between GRU layers. Reason:\n",
    "        * First model version was heavily overfitting, therefore more regularization added\n",
    "    * Dropout with probability of `p = 0.3` after output activation of first classification layer. Reason:\n",
    "        * First model version was heavily overfitting, therefore increase dropout in classifier\n",
    "        * Ensure some information redundancy in hidden layer of classifier\n",
    "        * Best probability determined in hyperparameter sweeps\n",
    " \n",
    "* **Normalizations**\n",
    "    * BatchNormalization was used before classifier input. Reason:\n",
    "        * After consultation with ChatGPT on what could be improved in my model, it suggested to add Normalization before the Classifier input for added regularization\n",
    "        * The validation accuracy was jumping around a lot in the first model version, I hoped normalized input would help the classifier\n",
    "\n",
    "* **Classifier**\n",
    "    * A multiclass classifier was used. Reason:\n",
    "        * The task is inherently a multiclass classification task with 5 classes\n",
    "        * The model was expected to perform better having to choose one class given the information of all classes at once instead of binary classification with only information of the question and one answer at a time.\n",
    "        * Comparability to classifier architecture"
   ]
  },
  {
   "cell_type": "code",
   "execution_count": 60,
   "id": "c2bae4a45e8fc91c",
   "metadata": {},
   "outputs": [],
   "source": [
    "class RNNClassifier(Classifier):\n",
    "    def __init__(\n",
    "            self, \n",
    "            input_dim: int = 300, \n",
    "            hidden_dim_gru: int = 256,\n",
    "            hidden_dim_linear: int = 4096, \n",
    "            output_dim: int = 5, \n",
    "            bidirectional: bool = True,\n",
    "            num_gru_layers: int = 2,\n",
    "            dropout_cls: float = 0.3,\n",
    "            dropout_gru: float = 0.3\n",
    "    ):\n",
    "        self.num_directions = 2 if bidirectional else 1\n",
    "        self.num_gru_layers = num_gru_layers\n",
    "        self.output_dim = output_dim\n",
    "        super().__init__(\n",
    "            input_dim=hidden_dim_gru * self.num_directions * self.output_dim, \n",
    "            hidden_dim=hidden_dim_linear, \n",
    "            output_dim=output_dim,\n",
    "            dropout=dropout_cls,\n",
    "        )\n",
    "        self.norm = nn.BatchNorm1d(output_dim * hidden_dim_gru * self.num_directions)\n",
    "        self.gru = nn.GRU(input_dim, hidden_dim_gru, num_layers=2, batch_first=True, bidirectional=bidirectional, dropout=dropout_gru)\n",
    "        \n",
    "    def forward(self, x: torch.Tensor, lengths: torch.Tensor) -> torch.Tensor:\n",
    "        batch_size, num_choices, seq_len, emb_dim = x.shape\n",
    "    \n",
    "        lengths, perm_idx = lengths.sort(descending=True)\n",
    "        x = x[perm_idx]\n",
    "        x = x.view(batch_size * num_choices, seq_len, emb_dim)\n",
    "        lengths = lengths.to(\"cpu\").type(torch.int64)\n",
    "        packed_x = nn.utils.rnn.pack_padded_sequence(x, lengths.repeat_interleave(num_choices), batch_first=True)\n",
    "    \n",
    "        h0 = torch.zeros(self.num_gru_layers * self.num_directions, batch_size * num_choices, self.gru.hidden_size).to(\n",
    "            x.device)\n",
    "    \n",
    "        _, hn = self.gru(packed_x, h0)\n",
    "        fnn_in = hn[-self.num_directions:, :, :].transpose(0, 1).flatten(-2, -1).view(batch_size, -1)\n",
    "        fnn_in = self.norm(fnn_in)\n",
    "        out = super().forward(fnn_in)\n",
    "        perm_out = torch.empty_like(out)\n",
    "        perm_out[perm_idx] = out\n",
    "        return perm_out\n",
    "    \n",
    "    def reset_parameters(self):\n",
    "        super().reset_parameters()\n",
    "        self.gru.reset_parameters()\n",
    "        "
   ]
  },
  {
   "cell_type": "markdown",
   "id": "c23810130acebbab",
   "metadata": {},
   "source": [
    "## Training\n",
    "\n",
    "#### Loss, optimizer\n",
    "* **Loss function**: CrossEntropyLoss. Reason:\n",
    "    * Architecture is designed as a multiclass classifier\n",
    "\n",
    "* **Optimizer**: Adam. Reason:\n",
    "    * Hyperparameter tuning showed, Adam is better suited than AdamW\n",
    "    * Adaptive learning rates based on gradients\n",
    "\n",
    "#### Experiment design (model/optimizer/loss variants, hyperparameters)\n",
    "\n",
    "* **Model/Optimizer/Loss variants**: Two model architectures were tried:\n",
    "    * Architecture 1: Concatenation of all answer embedding to the question separated by separator embeddings. Reason:\n",
    "        * Very easy to implement\n",
    "        * Seemed like a sensible way to tackle the problem\n",
    "    * Architecture 2 (final): Each answer embedding separately concatenated to question embeddings with separator embedding inbetween. Reason:\n",
    "        * Bad performance of first model architecture\n",
    "        * Every final hidden state has same amount of time steps encoded\n",
    "    * Loss was not varied. Reason: \n",
    "        * CrossEntropyLoss is only meaningful loss function for this problem\n",
    "    * Regularization was heavily varied. Reason:\n",
    "        * First model of architecture 2 was heavily overfitting\n",
    "        * Dropout ond GRU was tried\n",
    "        * Batch normalization between GRU and classifier was tried\n",
    "    * Both *Adam* and *AdamW* were used as optimizers. Reason:\n",
    "        * Past good experience with *AdamW* optimizer\n",
    "        * ChatGPT suggested, I should also try *Adam* optimizer, which could perform better on smaller datasets\n",
    "\n",
    "* **Hyperparameters**: The following parameters were chosen for the baseline model\n",
    "    * learning rate: 1e-4\n",
    "    * optimizer: *Adam*\n",
    "    * hidden dimension classifier: 2048\n",
    "    * hidden dimension gru: 512\n",
    "    * bidirectional: True\n",
    "    * training epochs: 100\n",
    "    * dropout classifier: 0.2\n",
    "    * dropout gru: 0.2\n",
    "    * weight decay: 1e-5\n",
    "    * scheduler start percentage: 0.1\n",
    "    * **Goal**: Maximize validation accuracy\n",
    "    * Reason:\n",
    "        * Maximizing validation accuracy was chosen because as many questions as possible should be answered correctly, no matter how wrong the others are\n",
    "        * Initial hyperparameters were defined using suggestions from ChatGPT after showing it the model architecture, explaining the input format and the dataset in use\n",
    "\n",
    "#### Number of training runs\n",
    "\n",
    "* 1 run on baseline model. Reason:\n",
    "    * Have comparable result on hyperparameters that were deemed good at implementation time\n",
    " \n",
    "* 30 runs in first broad sweep. Tuning [`optimizer`, `learning_rate`, `hidden_dim classifier`, `hidden_dim gru`, `bidirectional`, `dropout classifier`, `dropout gru`, `weight_decay`]. Reason:\n",
    "    * Broad range of values around baseline model parameters to tune in on most promising ranges\n",
    "    * 30 runs give a good insight on which hyperparameters have high importance and what ranges are sensible\n",
    "    * Sweep using *random* method because validation accuracy spikes a lot for a single epoch and bayes would focus on these runs\n",
    "* 50 runs in second narrow sweep. Tuning [`learning_rate`, `hidden_dim_classifier`,  `hidden_dim_gru`, `dopout_classifier`, `dropout_gru`, `weight_decay`]. Reason:\n",
    "    * One model in first sweep showed like it was learning without overfitting heavily\n",
    "    * Choose paramters above and below the parameters of this run\n",
    "\n",
    "#### Model checkpointing\n",
    "\n",
    "* Best and last epoch for every run is checkpointed. Reason:\n",
    "    * Keep best run for possible later test set evaluation\n",
    "    * Keep last run for possible later elongated training or fine-tuning\n",
    "* Checkpointing was made with pytorch_lightning locally. Reason:\n",
    "    * Did not know that wandb could handle this too\n",
    "    * Will use wandb for checkpointing the next time to not have checkpoint files locally\n",
    "\n",
    "#### Early stopping\n",
    "\n",
    "* Early stopping after 30 epochs of no improvement on validation accuracy. Reason:\n",
    "    * Do not waste computation\n",
    "    * Model accuracy was seen to further deteriorate after more than 30 epochs of no improvement\n",
    "\n",
    "#### Sweeps\n",
    "\n",
    "* Two sweeps, one broad sweep and one narrow sweep. Reason:\n",
    "    * Determined to be the most efficient method of hyperparameter optimization\n",
    "    * *random* sweep was used, because *bayes* focuses too heavily on outliers in validation accuracy\n",
    "    * Refer to the wandb project report for more information on the sweeps"
   ]
  },
  {
   "cell_type": "markdown",
   "id": "ad9ae8c92f875001",
   "metadata": {},
   "source": [
    "#### Training routine\n",
    "\n",
    "Define the function **train_rnn_plus_classifier** which describes the training routine for the classifier model using the **Trainer** class of *lightning* "
   ]
  },
  {
   "cell_type": "code",
   "execution_count": 61,
   "id": "a870444a893c16ff",
   "metadata": {},
   "outputs": [],
   "source": [
    "def train_rnn_plus_classifier(config, logger, *callbacks):\n",
    "    L.seed_everything(42)\n",
    "    model = CqaModule(\n",
    "        RNNClassifier(\n",
    "            hidden_dim_gru=config.get(\"hd_gru\"),\n",
    "            hidden_dim_linear=config.get(\"hd_cls\"),\n",
    "            bidirectional=config.get(\"bidirectional\"),\n",
    "            dropout_cls=config.get(\"drp_cls\"),\n",
    "            dropout_gru=config.get(\"drp_gru\"),\n",
    "        ),\n",
    "        nn.CrossEntropyLoss,\n",
    "        **config\n",
    "    )\n",
    "    trainer = L.Trainer(\n",
    "        max_epochs=config.get(\"epochs\"),\n",
    "        accelerator=\"auto\",\n",
    "        devices=1,\n",
    "        callbacks=list(callbacks),\n",
    "        logger=logger,\n",
    "    )\n",
    "    trainer.fit(model, train_loader_rnn, valid_loader_rnn)"
   ]
  },
  {
   "cell_type": "markdown",
   "id": "441eee485b252e03",
   "metadata": {},
   "source": [
    "Define run parameters"
   ]
  },
  {
   "cell_type": "code",
   "execution_count": 62,
   "id": "41e467b32185e949",
   "metadata": {},
   "outputs": [],
   "source": [
    "MODEL_NAME = \"RNN+Classifier_Baseline\"\n",
    "config = dict(\n",
    "    lr=1e-4,\n",
    "    optim=\"Adam\",\n",
    "    hd_cls=2048,\n",
    "    hd_gru=512,\n",
    "    bidirectional=True,\n",
    "    epochs=100,\n",
    "    steps_per_epoch=len(train_loader_rnn),\n",
    "    drp_cls=0.2,\n",
    "    drp_gru=0.2,\n",
    "    wd=1e-5,\n",
    "    pct_start=0.1,\n",
    ")"
   ]
  },
  {
   "cell_type": "markdown",
   "id": "75ce958849464f1f",
   "metadata": {},
   "source": [
    "#### Checkpointing"
   ]
  },
  {
   "cell_type": "code",
   "execution_count": 63,
   "id": "30798af57774703e",
   "metadata": {},
   "outputs": [],
   "source": [
    "checkpoint_callback = L.pytorch.callbacks.ModelCheckpoint(\n",
    "    dirpath=\"./lightning_checkpoints\",\n",
    "    filename=get_run_name(MODEL_NAME) + \"-{epoch:02d}-{valid_acc:.2f}\",\n",
    "    monitor=\"valid_acc\",\n",
    "    save_last=True,\n",
    "    mode=\"max\"\n",
    ")"
   ]
  },
  {
   "cell_type": "markdown",
   "id": "bdd0e84624145fb1",
   "metadata": {},
   "source": [
    "#### Early stopping"
   ]
  },
  {
   "cell_type": "code",
   "execution_count": 64,
   "id": "34553d9464e6aaf4",
   "metadata": {},
   "outputs": [],
   "source": [
    "early_stopping_callback = L.pytorch.callbacks.EarlyStopping(\n",
    "    monitor=\"valid_acc\",\n",
    "    patience=30,\n",
    "    mode=\"max\"\n",
    ")"
   ]
  },
  {
   "cell_type": "markdown",
   "id": "518191c47d06b261",
   "metadata": {},
   "source": [
    "Initialize wandb experiment tracking for run\n"
   ]
  },
  {
   "cell_type": "code",
   "execution_count": null,
   "id": "12d4fb483b7a6f82",
   "metadata": {},
   "outputs": [],
   "source": [
    "with wandb.init(\n",
    "    entity=\"david-schurtenberger\",\n",
    "    project=\"NLP_Project_1\",\n",
    "    name=get_run_name(MODEL_NAME),\n",
    "    config=config,\n",
    ") as run:\n",
    "    wandb_logger = WandbLogger(project=\"NLP_Project_1\")\n",
    "    train_rnn_plus_classifier(run.config, wandb_logger, checkpoint_callback, early_stopping_callback)"
   ]
  },
  {
   "cell_type": "markdown",
   "id": "e9fbbaa9081e158f",
   "metadata": {},
   "source": [
    "### Hyperparameter tuning"
   ]
  },
  {
   "cell_type": "code",
   "execution_count": 65,
   "id": "91b8bb5ef59a9f5d",
   "metadata": {},
   "outputs": [],
   "source": [
    "MODEL_NAME = \"RNN+Classifier\"\n",
    "def rnn_sweep(config=None):\n",
    "    with wandb.init(config=config) as run:\n",
    "        config = wandb.config\n",
    "        run.name = get_run_name(MODEL_NAME)\n",
    "        checkpoint_callback = L.pytorch.callbacks.ModelCheckpoint(\n",
    "            dirpath=\"./lightning_checkpoints\",\n",
    "            filename=get_run_name(MODEL_NAME) + \"-{epoch:02d}-{valid_acc:.2f}\",\n",
    "            monitor=\"valid_acc\",\n",
    "            save_last=True,\n",
    "            mode=\"max\"\n",
    "        )\n",
    "        early_stopping_callback = L.pytorch.callbacks.EarlyStopping(\n",
    "            monitor=\"valid_acc\",\n",
    "            patience=30,\n",
    "            mode=\"max\"\n",
    "        )\n",
    "        wandb_logger = WandbLogger(log_model=True)\n",
    "        train_rnn_plus_classifier(config, wandb_logger, checkpoint_callback, early_stopping_callback)"
   ]
  },
  {
   "cell_type": "markdown",
   "id": "39e2f40f4a5c674d",
   "metadata": {},
   "source": [
    "Broad sweep"
   ]
  },
  {
   "cell_type": "code",
   "execution_count": 66,
   "id": "6b0d6fbbd5c4732e",
   "metadata": {},
   "outputs": [],
   "source": [
    "broad_sweep_parameters = {\n",
    "        \"lr\": {\"values\": [1e-4, 1e-3]},\n",
    "        \"optim\": {\"values\": [\"Adam\", \"AdamW\"]},\n",
    "        \"hd_cls\": {\"values\": [1024, 2048, 4096]},\n",
    "        \"hd_gru\": {\"values\": [256, 512, 1024]},\n",
    "        \"bidirectional\": {\"values\": [True, False]},\n",
    "        \"wd\": {\"values\": [0, 1e-5, 1e-4, 1e-3]},\n",
    "        \"drp_cls\": {\"values\": [0.0, 0.2, 0.4, 0.5]},\n",
    "        \"drp_gru\": {\"values\": [0.0, 0.2, 0.4, 0.5]},\n",
    "        \"pct_start\": {\"values\": [0.1, 0.2, 0.3]},\n",
    "        \"epochs\": {\"value\": 100},\n",
    "        \"steps_per_epoch\": {\"value\": len(train_loader_rnn)},\n",
    "    }"
   ]
  },
  {
   "cell_type": "code",
   "execution_count": 67,
   "id": "d9a80d2df08ff481",
   "metadata": {},
   "outputs": [],
   "source": [
    "narrow_sweep_parameters = {\n",
    "        \"lr\": {\"values\": [1e-4, 1e-3]},\n",
    "        \"optim\": {\"value\": \"Adam\"},\n",
    "        \"hd_cls\": {\"values\": [4096, 8192]},\n",
    "        \"hd_gru\": {\"values\": [256, 512]},\n",
    "        \"bidirectional\": {\"value\": True},\n",
    "        \"wd\": {\"values\": [1e-5, 1e-3]},\n",
    "        \"drp_cls\": {\"values\": [0.1, 0.2, 0.3]},\n",
    "        \"drp_gru\": {\"values\": [0.1, 0.2, 0.3]},\n",
    "        \"pct_start\": {\"value\": 0.1},\n",
    "        \"epochs\": {\"value\": 100},\n",
    "        \"steps_per_epoch\": {\"value\": len(train_loader_rnn)},\n",
    "    }"
   ]
  },
  {
   "cell_type": "code",
   "execution_count": 68,
   "id": "e9f01a4b1130a6e8",
   "metadata": {},
   "outputs": [],
   "source": [
    "sweep_config = {\n",
    "    \"name\": \"RNN+ClassifierSweep_V2_Narrow\",\n",
    "    \"method\": \"random\",\n",
    "    \"metric\": {\"name\": \"max_valid_acc\", \"goal\": \"maximize\"},\n",
    "    \"parameters\": narrow_sweep_parameters,\n",
    "}"
   ]
  },
  {
   "cell_type": "code",
   "execution_count": null,
   "id": "37fa4e9fb61f669f",
   "metadata": {},
   "outputs": [],
   "source": [
    "sweep_id = wandb.sweep(\n",
    "    sweep=sweep_config, \n",
    "    entity=\"david-schurtenberger\",\n",
    "    project=\"NLP_Project_1\",\n",
    ")"
   ]
  },
  {
   "cell_type": "code",
   "execution_count": null,
   "id": "c7b91b503c2f6a46",
   "metadata": {},
   "outputs": [],
   "source": [
    "wandb.agent(sweep_id=sweep_id, function=rnn_sweep, count=50)"
   ]
  },
  {
   "cell_type": "code",
   "execution_count": null,
   "id": "dd1e75023d439fab",
   "metadata": {},
   "outputs": [],
   "source": [
    "wandb.api.stop_sweep(sweep_id)"
   ]
  },
  {
   "cell_type": "markdown",
   "id": "ddd841edc36fab1c",
   "metadata": {},
   "source": [
    "Choose best model from hyperparameter sweeps and load checkpoint at peak validation accuracy. For the selection of the best model refer to the *wandb project report*"
   ]
  },
  {
   "cell_type": "code",
   "execution_count": 69,
   "id": "6749a74e022e7b20",
   "metadata": {},
   "outputs": [],
   "source": [
    "checkpoint_path = \"lightning_checkpoints/RNN+Classifier_250406214953-epoch=79-valid_acc=0.23.ckpt\""
   ]
  },
  {
   "cell_type": "markdown",
   "id": "ce68cd63697752b0",
   "metadata": {},
   "source": [
    "## Evaluation"
   ]
  },
  {
   "cell_type": "markdown",
   "id": "ac82c91c56a79946",
   "metadata": {},
   "source": [
    "Load the best classifier model from its checkpoint with the hyperparameters of its run"
   ]
  },
  {
   "cell_type": "code",
   "execution_count": 70,
   "id": "b414718dbed6bd16",
   "metadata": {},
   "outputs": [],
   "source": [
    "rnn_model = CqaModule.load_from_checkpoint(checkpoint_path, model=RNNClassifier(), loss_function=nn.CrossEntropyLoss)"
   ]
  },
  {
   "cell_type": "markdown",
   "id": "cded9b45638f5828",
   "metadata": {},
   "source": [
    "Run evaluation on the test set and save the predictions, the logits of each prediction and the true labels"
   ]
  },
  {
   "cell_type": "code",
   "execution_count": 71,
   "id": "1586737a49613922",
   "metadata": {},
   "outputs": [],
   "source": [
    "def evaluate_model(model, dataloader) -> tuple[np.array, np.array, np.array]:\n",
    "    device = \"cuda\" if torch.cuda.is_available() else \"cpu\"\n",
    "    model.eval()\n",
    "    predictions, logits, true_labels = [], [], []\n",
    "\n",
    "    with torch.no_grad():\n",
    "        for inputs, lengths, labels in dataloader:\n",
    "            inputs = inputs.to(device)\n",
    "            lengths = lengths.to(device)\n",
    "            l = model(inputs, lengths)\n",
    "            l = l.to(\"cpu\")\n",
    "            preds = torch.argmax(l, dim=-1)\n",
    "\n",
    "            logits.append(l)\n",
    "            predictions.append(preds)\n",
    "            true_labels.append(labels)\n",
    "\n",
    "    return torch.cat(predictions), torch.cat(logits), torch.cat(true_labels)"
   ]
  },
  {
   "cell_type": "code",
   "execution_count": 72,
   "id": "c4edae7d6b05b1ad",
   "metadata": {},
   "outputs": [],
   "source": [
    "predictions, logits, labels = evaluate_model(rnn_model, test_loader_rnn)"
   ]
  },
  {
   "cell_type": "markdown",
   "id": "d2282658ad65fe3e",
   "metadata": {},
   "source": [
    "Accuracy on test set"
   ]
  },
  {
   "cell_type": "code",
   "execution_count": 73,
   "id": "a0b7a56f9dd3f878",
   "metadata": {},
   "outputs": [
    {
     "name": "stdout",
     "output_type": "stream",
     "text": [
      "Test Accuracy: 20.88%\n"
     ]
    }
   ],
   "source": [
    "acc = torchmetrics.Accuracy(\"multiclass\", num_classes=5)\n",
    "acc.update(predictions, labels)\n",
    "print(f\"Test Accuracy: {acc.compute():.2%}\")"
   ]
  },
  {
   "cell_type": "markdown",
   "id": "7d709677ea36b82a",
   "metadata": {},
   "source": [
    "Confusion Matrix"
   ]
  },
  {
   "cell_type": "code",
   "execution_count": 74,
   "id": "b1395c3db24ab63d",
   "metadata": {},
   "outputs": [
    {
     "data": {
      "image/png": "[encoded data removed]",
      "text/plain": [
       "<Figure size 640x480 with 2 Axes>"
      ]
     },
     "metadata": {},
     "output_type": "display_data"
    }
   ],
   "source": [
    "cm = torchmetrics.ConfusionMatrix(\"multiclass\", num_classes=5)\n",
    "cm.update(predictions, labels)\n",
    "fig, ax = cm.plot(labels=[\"A\", \"B\", \"C\", \"D\", \"E\"], cmap=\"plasma\")\n",
    "cbar = fig.colorbar(ax.images[0], ax=ax)\n",
    "plt.show()"
   ]
  },
  {
   "cell_type": "markdown",
   "id": "bb08c89624f4839c",
   "metadata": {},
   "source": [
    "#### Result description\n",
    "\n",
    "* The model has an accuracy of **20.88%**\n",
    "* The model overpredicts classes *A* and *B*\n",
    "* Classes *A*, *D* and *E* have the most predictions when it is actually the correct class\n",
    "* The model seems to predict every class at an approximately equal amount\n",
    "* Only for true class *D* the model also has the most predictions at class *D*"
   ]
  },
  {
   "cell_type": "markdown",
   "id": "86d255fd4aff1a4",
   "metadata": {},
   "source": [
    "#### Error analysis"
   ]
  },
  {
   "cell_type": "code",
   "execution_count": 75,
   "id": "624ce0481b2e17b2",
   "metadata": {},
   "outputs": [
    {
     "data": {
      "text/html": [
       "<div>\n",
       "<style scoped>\n",
       "    .dataframe tbody tr th:only-of-type {\n",
       "        vertical-align: middle;\n",
       "    }\n",
       "\n",
       "    .dataframe tbody tr th {\n",
       "        vertical-align: top;\n",
       "    }\n",
       "\n",
       "    .dataframe thead th {\n",
       "        text-align: right;\n",
       "    }\n",
       "</style>\n",
       "<table border=\"1\" class=\"dataframe\">\n",
       "  <thead>\n",
       "    <tr style=\"text-align: right;\">\n",
       "      <th></th>\n",
       "      <th>Index</th>\n",
       "      <th>True Label</th>\n",
       "      <th>Predicted Label</th>\n",
       "      <th>Confidence</th>\n",
       "      <th>Top-1 Class</th>\n",
       "      <th>Top-1 Prob</th>\n",
       "      <th>Top-2 Class</th>\n",
       "      <th>Top-2 Prob</th>\n",
       "      <th>Top-3 Class</th>\n",
       "      <th>Top-3 Prob</th>\n",
       "    </tr>\n",
       "  </thead>\n",
       "  <tbody>\n",
       "    <tr>\n",
       "      <th>491</th>\n",
       "      <td>617</td>\n",
       "      <td>2</td>\n",
       "      <td>3</td>\n",
       "      <td>0.439</td>\n",
       "      <td>3</td>\n",
       "      <td>0.439</td>\n",
       "      <td>2</td>\n",
       "      <td>0.157</td>\n",
       "      <td>4</td>\n",
       "      <td>0.149</td>\n",
       "    </tr>\n",
       "    <tr>\n",
       "      <th>80</th>\n",
       "      <td>103</td>\n",
       "      <td>4</td>\n",
       "      <td>2</td>\n",
       "      <td>0.434</td>\n",
       "      <td>2</td>\n",
       "      <td>0.434</td>\n",
       "      <td>0</td>\n",
       "      <td>0.195</td>\n",
       "      <td>4</td>\n",
       "      <td>0.151</td>\n",
       "    </tr>\n",
       "    <tr>\n",
       "      <th>324</th>\n",
       "      <td>404</td>\n",
       "      <td>2</td>\n",
       "      <td>1</td>\n",
       "      <td>0.416</td>\n",
       "      <td>1</td>\n",
       "      <td>0.416</td>\n",
       "      <td>0</td>\n",
       "      <td>0.200</td>\n",
       "      <td>2</td>\n",
       "      <td>0.153</td>\n",
       "    </tr>\n",
       "    <tr>\n",
       "      <th>929</th>\n",
       "      <td>1173</td>\n",
       "      <td>0</td>\n",
       "      <td>2</td>\n",
       "      <td>0.416</td>\n",
       "      <td>2</td>\n",
       "      <td>0.416</td>\n",
       "      <td>1</td>\n",
       "      <td>0.194</td>\n",
       "      <td>3</td>\n",
       "      <td>0.160</td>\n",
       "    </tr>\n",
       "    <tr>\n",
       "      <th>180</th>\n",
       "      <td>236</td>\n",
       "      <td>0</td>\n",
       "      <td>4</td>\n",
       "      <td>0.409</td>\n",
       "      <td>4</td>\n",
       "      <td>0.409</td>\n",
       "      <td>3</td>\n",
       "      <td>0.218</td>\n",
       "      <td>2</td>\n",
       "      <td>0.130</td>\n",
       "    </tr>\n",
       "    <tr>\n",
       "      <th>607</th>\n",
       "      <td>765</td>\n",
       "      <td>3</td>\n",
       "      <td>1</td>\n",
       "      <td>0.406</td>\n",
       "      <td>1</td>\n",
       "      <td>0.406</td>\n",
       "      <td>3</td>\n",
       "      <td>0.224</td>\n",
       "      <td>2</td>\n",
       "      <td>0.128</td>\n",
       "    </tr>\n",
       "    <tr>\n",
       "      <th>692</th>\n",
       "      <td>873</td>\n",
       "      <td>3</td>\n",
       "      <td>0</td>\n",
       "      <td>0.401</td>\n",
       "      <td>0</td>\n",
       "      <td>0.401</td>\n",
       "      <td>3</td>\n",
       "      <td>0.185</td>\n",
       "      <td>1</td>\n",
       "      <td>0.150</td>\n",
       "    </tr>\n",
       "    <tr>\n",
       "      <th>112</th>\n",
       "      <td>143</td>\n",
       "      <td>0</td>\n",
       "      <td>3</td>\n",
       "      <td>0.398</td>\n",
       "      <td>3</td>\n",
       "      <td>0.398</td>\n",
       "      <td>2</td>\n",
       "      <td>0.196</td>\n",
       "      <td>1</td>\n",
       "      <td>0.185</td>\n",
       "    </tr>\n",
       "    <tr>\n",
       "      <th>823</th>\n",
       "      <td>1032</td>\n",
       "      <td>4</td>\n",
       "      <td>2</td>\n",
       "      <td>0.388</td>\n",
       "      <td>2</td>\n",
       "      <td>0.388</td>\n",
       "      <td>0</td>\n",
       "      <td>0.188</td>\n",
       "      <td>3</td>\n",
       "      <td>0.163</td>\n",
       "    </tr>\n",
       "    <tr>\n",
       "      <th>176</th>\n",
       "      <td>230</td>\n",
       "      <td>2</td>\n",
       "      <td>4</td>\n",
       "      <td>0.384</td>\n",
       "      <td>4</td>\n",
       "      <td>0.384</td>\n",
       "      <td>2</td>\n",
       "      <td>0.257</td>\n",
       "      <td>0</td>\n",
       "      <td>0.137</td>\n",
       "    </tr>\n",
       "  </tbody>\n",
       "</table>\n",
       "</div>"
      ],
      "text/plain": [
       "     Index True Label Predicted Label  Confidence  Top-1 Class  Top-1 Prob  \\\n",
       "491    617          2               3       0.439            3       0.439   \n",
       "80     103          4               2       0.434            2       0.434   \n",
       "324    404          2               1       0.416            1       0.416   \n",
       "929   1173          0               2       0.416            2       0.416   \n",
       "180    236          0               4       0.409            4       0.409   \n",
       "607    765          3               1       0.406            1       0.406   \n",
       "692    873          3               0       0.401            0       0.401   \n",
       "112    143          0               3       0.398            3       0.398   \n",
       "823   1032          4               2       0.388            2       0.388   \n",
       "176    230          2               4       0.384            4       0.384   \n",
       "\n",
       "     Top-2 Class  Top-2 Prob  Top-3 Class  Top-3 Prob  \n",
       "491            2       0.157            4       0.149  \n",
       "80             0       0.195            4       0.151  \n",
       "324            0       0.200            2       0.153  \n",
       "929            1       0.194            3       0.160  \n",
       "180            3       0.218            2       0.130  \n",
       "607            3       0.224            2       0.128  \n",
       "692            3       0.185            1       0.150  \n",
       "112            2       0.196            1       0.185  \n",
       "823            0       0.188            3       0.163  \n",
       "176            2       0.257            0       0.137  "
      ]
     },
     "execution_count": 75,
     "metadata": {},
     "output_type": "execute_result"
    }
   ],
   "source": [
    "misclassified_indices = np.where(predictions != labels)[0]\n",
    "\n",
    "error_collection = []\n",
    "for index in misclassified_indices:\n",
    "    probs = nn.functional.softmax(logits[index], dim=-1)\n",
    "    probs = probs.numpy()\n",
    "    top3_indices = np.argsort(probs)[::-1][:3]\n",
    "    top3_probs = probs[top3_indices]\n",
    "    \n",
    "    error_collection.append({\n",
    "        \"Index\": index,\n",
    "        \"True Label\": labels[index].numpy(),\n",
    "        \"Predicted Label\": predictions[index].numpy(),\n",
    "        \"Confidence\": probs[predictions[index]],\n",
    "        \"Top-1 Class\": top3_indices[0],\n",
    "        \"Top-1 Prob\": top3_probs[0],\n",
    "        \"Top-2 Class\": top3_indices[1],\n",
    "        \"Top-2 Prob\": top3_probs[1],\n",
    "        \"Top-3 Class\": top3_indices[2],\n",
    "        \"Top-3 Prob\": top3_probs[2],\n",
    "    })\n",
    "\n",
    "pd.set_option(\"display.precision\", 3)\n",
    "df_errors = pd.DataFrame(error_collection)\n",
    "df_errors.sort_values(by='Confidence', ascending=False, inplace=True)\n",
    "df_errors.head(10)"
   ]
  },
  {
   "cell_type": "markdown",
   "id": "ea2a0479928e048c",
   "metadata": {},
   "source": [
    "#### Key findings\n",
    "* The maximum confidence of wrong predictions is higher than for the classifier model\n",
    "* The model has a peak confidence for wrong predictions of 43.4%\n",
    "* For about two thirds of the wrong predictions shown, the true class is in the top-3 probabilities\n",
    "* The Lowest top-three probability for wrong predictions with highest confidence is 12.8%"
   ]
  },
  {
   "cell_type": "code",
   "execution_count": 76,
   "id": "1467859c-3576-4d2a-9c0f-5a1d5f3419f8",
   "metadata": {},
   "outputs": [],
   "source": [
    "def get_semantic_analysis(df_errors, hf_dataset):\n",
    "    INDEX_KEY_MAPPING = {\n",
    "        0: \"A\",\n",
    "        1: \"B\",\n",
    "        2: \"C\",\n",
    "        3: \"D\",\n",
    "        4: \"E\",\n",
    "    }\n",
    "\n",
    "    for _, row in df_errors.head(5).iterrows():\n",
    "        index = row[\"Index\"]\n",
    "        true_label = row[\"True Label\"]\n",
    "        predicted_label = row[\"Predicted Label\"]\n",
    "\n",
    "        print(f\"Predicted: {INDEX_KEY_MAPPING.get(int(predicted_label))}\")\n",
    "        print(f\"Ground Truth: {INDEX_KEY_MAPPING.get(int(true_label))}\")\n",
    "        print(f\"Q: {hf_dataset[index]['question']}\")\n",
    "        print(\"\\n\".join(f\"{INDEX_KEY_MAPPING.get(i)}: {a}\" for i, a in enumerate(hf_dataset[index][\"choices\"][\"text\"])))\n",
    "        print(\"\\n\")"
   ]
  },
  {
   "cell_type": "code",
   "execution_count": 77,
   "id": "3de08b30-7c8b-41f1-befb-0733c7651d56",
   "metadata": {},
   "outputs": [
    {
     "name": "stdout",
     "output_type": "stream",
     "text": [
      "Predicted: D\n",
      "Ground Truth: C\n",
      "Q: For many males hair is a concern as they get older, it begins to what, causing a receding hairline?\n",
      "A: thin out\n",
      "B: grow in ear\n",
      "C: fall out\n",
      "D: bulge\n",
      "E: composted\n",
      "\n",
      "\n",
      "Predicted: C\n",
      "Ground Truth: E\n",
      "Q: An underrated thing about computers is how they manage workflow, at one time it was a big deal when they could first do what?\n",
      "A: share files\n",
      "B: do arithmetic\n",
      "C: turn on\n",
      "D: cost money\n",
      "E: multitask\n",
      "\n",
      "\n",
      "Predicted: B\n",
      "Ground Truth: C\n",
      "Q: Sarah didn't like to play but she didn't want to be sedentary and bored, either, so she took up what?\n",
      "A: serious\n",
      "B: longplay\n",
      "C: musical\n",
      "D: eat cake\n",
      "E: doing nothing\n",
      "\n",
      "\n",
      "Predicted: C\n",
      "Ground Truth: A\n",
      "Q: No matter what date you put on it, we all know the universe to be what?\n",
      "A: very old\n",
      "B: infiniverse\n",
      "C: getting younger\n",
      "D: infinite\n",
      "E: real\n",
      "\n",
      "\n",
      "Predicted: E\n",
      "Ground Truth: A\n",
      "Q: A car was hailed to chauffeur someone to the opera house, where was it heading?\n",
      "A: go downtown\n",
      "B: appear suddenly\n",
      "C: go fast\n",
      "D: bottom out\n",
      "E: east\n",
      "\n",
      "\n"
     ]
    }
   ],
   "source": [
    "get_semantic_analysis(df_errors, test)"
   ]
  },
  {
   "cell_type": "markdown",
   "id": "f241fe1cf1168f92",
   "metadata": {},
   "source": [
    "## Interpretation"
   ]
  },
  {
   "cell_type": "markdown",
   "id": "e946802c0af77d9a",
   "metadata": {},
   "source": [
    "The overfitting of previous model versions has been mostly eliminated. Although the test accuracy is lower than the one of the Classifier model, this model has a more even spread of predictions and does not only focus on a single class.\n",
    "\n",
    "In the semantic analysis - which can be quite humorous - it becomes apparent that the model has learnt some things about semantics. For example it has learnt that the universe is related to age, even though it was predicted to be getting younger. Or it knows that a car heading somewhere has something to do with direction. The prediction of it going east is somewhat inexplainable, but still better than choosing for example bottom out.\n",
    "\n",
    "All in all, similar to the Classifier model, this implementation is unusable for question answering."
   ]
  },
  {
   "cell_type": "markdown",
   "id": "bb196fca75762f79",
   "metadata": {},
   "source": [
    "## Tools and References\n",
    "\n",
    "The following tools were used in the process of creating this notebook:\n",
    "* PyCharm (IDE)\n",
    "* gpuhub (cloud GPU)\n",
    "* ChatGPT (research and debugging)\n",
    "* Weights & Biases (experiment tracking)\n",
    "  \n",
    "* [pytorch documentation](https://pytorch.org/docs/stable/index.html)\n",
    "* [pytorch lightning documentation](https://lightning.ai/docs/pytorch/stable/)\n",
    "* [wandb documentation](https://docs.wandb.ai/https://docs.wandb.ai/)\n",
    "* [torchmetrics documentation](https://lightning.ai/docs/torchmetrics/stable/)"
   ]
  }
 ],
 "metadata": {
  "kernelspec": {
   "display_name": "Python 3 (ipykernel)",
   "language": "python",
   "name": "python3"
  },
  "language_info": {
   "codemirror_mode": {
    "name": "ipython",
    "version": 3
   },
   "file_extension": ".py",
   "mimetype": "text/x-python",
   "name": "python",
   "nbconvert_exporter": "python",
   "pygments_lexer": "ipython3",
   "version": "3.12.9"
  }
 },
 "nbformat": 4,
 "nbformat_minor": 5
}
