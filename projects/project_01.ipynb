{
 "cells": [
  {
   "metadata": {},
   "cell_type": "markdown",
   "source": [
    "## Introduction\n",
    "\n",
    "* # TODO: INSERT LINK TO WANDB VIEW"
   ],
   "id": "d4cbec299a5d4f64"
  },
  {
   "metadata": {
    "ExecuteTime": {
     "end_time": "2025-03-07T16:25:43.192141Z",
     "start_time": "2025-03-07T16:25:43.181299Z"
    }
   },
   "cell_type": "code",
   "source": "",
   "id": "3db4c54b33606e47",
   "outputs": [],
   "execution_count": null
  },
  {
   "metadata": {},
   "cell_type": "markdown",
   "source": "## Setup",
   "id": "dd1fcc78251ae773"
  },
  {
   "metadata": {},
   "cell_type": "markdown",
   "source": [
    "#### Install dependencies\n",
    "\n",
    "* **torch**: PyTorch framework for the creation of neural networks\n",
    "* **lightning**: Lightning wrapper for pytorch for simple network training\n",
    "* **huggingface_hub**: HuggingFace hub for downloading word vectors\n",
    "* **datasets**: HuggingFace datasets to download and load the data set\n",
    "* **wandb**: Weights & Biases for experiment tracking\n",
    "* **fasttext**: Word embedding library\n",
    "* **nltk**: Natural Language Toolkit used for word tokenization"
   ],
   "id": "ae74b556f3aff49"
  },
  {
   "metadata": {
    "ExecuteTime": {
     "end_time": "2025-03-17T19:18:26.261913Z",
     "start_time": "2025-03-17T19:18:20.861162Z"
    }
   },
   "cell_type": "code",
   "source": [
    "import sys\n",
    "\n",
    "if sys.platform == 'win32': # Windows requires different fasttext implementation\n",
    "    %pip install -q torch lightning huggingface_hub datasets wandb fasttext-wheel nltk evaluate\n",
    "else: \n",
    "    %pip install -q torch lightning huggingface_hub datasets wandb fasttext nltk evaluate"
   ],
   "id": "33f5c188a84c79a9",
   "outputs": [
    {
     "name": "stdout",
     "output_type": "stream",
     "text": [
      "Note: you may need to restart the kernel to use updated packages.\n"
     ]
    },
    {
     "name": "stderr",
     "output_type": "stream",
     "text": [
      "\n",
      "[notice] A new release of pip is available: 24.2 -> 25.0.1\n",
      "[notice] To update, run: python.exe -m pip install --upgrade pip\n"
     ]
    }
   ],
   "execution_count": 1
  },
  {
   "metadata": {},
   "cell_type": "markdown",
   "source": [
    "#### Load dataset\n",
    "\n",
    "Use the pre-defined method to load the dataset and do the train and validation split"
   ],
   "id": "b696ef4250c380a0"
  },
  {
   "metadata": {
    "ExecuteTime": {
     "end_time": "2025-03-17T19:18:56.483827Z",
     "start_time": "2025-03-17T19:18:47.575323Z"
    }
   },
   "cell_type": "code",
   "source": [
    "from datasets import load_dataset, Dataset\n",
    "\n",
    "train: Dataset = load_dataset(\"tau/commonsense_qa\", split=\"train[:-1000]\")\n",
    "valid: Dataset = load_dataset(\"tau/commonsense_qa\", split=\"train[-1000:]\")\n",
    "test: Dataset = load_dataset(\"tau/commonsense_qa\", split=\"validation\")\n",
    "\n",
    "print(len(train), len(valid), len(test))"
   ],
   "id": "ad899724a20482d9",
   "outputs": [
    {
     "name": "stdout",
     "output_type": "stream",
     "text": [
      "8741 1000 1221\n"
     ]
    }
   ],
   "execution_count": 3
  },
  {
   "metadata": {},
   "cell_type": "markdown",
   "source": [
    "#### Setup Weights & Biases\n",
    "\n",
    "Login to weights and biases to enable experiment tracking for later network training"
   ],
   "id": "cdc78217c5ed1f84"
  },
  {
   "metadata": {},
   "cell_type": "code",
   "source": [
    "import wandb\n",
    "wandb.login()"
   ],
   "id": "b9bc41bae4172979",
   "outputs": [],
   "execution_count": null
  },
  {
   "metadata": {},
   "cell_type": "markdown",
   "source": [
    "## Preprocessing\n",
    "\n",
    "#### Vocabulary/Embedding\n",
    "\n",
    "* I decided to use the **FastText** library for this project, since in class it was said that FastText is superior to the other embedding models and there is no problem with embedding unknown words, because it can create word vectors from their subwords. Furthermore, I will be working with the **facebook/fasttext-en-vectors** word vectors from the HuggingFace hub. They embed words from the English language, which is the only relevant language.\n",
    "\n",
    "* This choice influences decisions in the following pre-processing steps.\n",
    "\n",
    "#### Format cleaning (e.g. html-extracted text)\n",
    "\n",
    "* No format cleaning is performed, because we work with a carefully assembled and standardized dataset used in model benchmarking.\n",
    "\n",
    "#### Tokenization\n",
    "\n",
    "* *word_tokenizer* from the **nltk** library will be used. This tokenizer works well for the English language. It also splits punctuation from text, which matches the tokens the fasttext word vectors were trained on.\n",
    "\n",
    "#### Lowercasing, stemming, lemmatizing, stopword/punctuation removal\n",
    "\n",
    "* **Lowercasing**: Although the word vectors in use were trained on case-sensitive data, the tokenized words will be lowercased to reach a smaller vocabulary and minimize out-of-vocabulary words.\n",
    "* **Stemming**: The word embedding model was not trained on word stems and therefore no stemming is carried out.\n",
    "* **Lemmatizing**: The word tokens to be embedded will not be lemmatized, because the fasttext model was trained on un-lemmatized words and the n-gram encoding of the words used in fasttext preserves sub-word information.\n",
    "* **Stopword/Punctudation removal**: Since the task is to answer common-sense questions, stopwords and punctuation will not be removed. Most of the questions are quite short and the loss of information if either a critical stopword in the question or punctuation that changes the meaning of the question is removed could be significant.\n",
    "\n",
    "#### Removal of unknown/other words\n",
    "\n",
    "* Since I am working with a fasttext model, the removal of unknown words is not necessary, because vectors for them can implicitly be built from their n-gram vectors. Also, the encounter of unknown words is not expected.\n",
    "\n",
    "#### Truncation\n",
    "\n",
    "* Input will not be truncated. After some data review, the question yielding the most embedded word vectors yields a tensor of shape **300x67**. Depending on the input format, the RNN model will have to perform significantly less than 100 time steps for the longest input, which is deemed to be feasible. Also, if padding is implemented correctly, for every timestep only the necessary amount of time steps will be executed.\n",
    "\n",
    "#### Feature selection\n",
    "\n",
    "* Of the available features, the **question**, the **choices** and the **answerKey** were chosen. While the *questionConcept* seemed like an interesting feature at first, after some data review it was determined, that this feature often simply contains a word from the question. In the end this feature was left out in order not to give too much emphasis to a single word that does likely not help answering the question at all.\n",
    "\n",
    "#### Input format: how is data passed to the model?\n",
    "\n",
    "###### Classifier\n",
    "\n",
    "   * I chose the input for the *Classifier-Model* to be a vector of size **1800**. The first 300 elements are the averages of the embedded question tokens, next are 300 elements for every embedded answer vector from answer option 'A' to 'E'.\n",
    "      * The average of the question vectors is a good tradeoff between information retention and input  dimension for the classifier.\n",
    "      * The question vector is before the answer vectors, because \"Q&A\" also has question first, then answers.\n",
    "      * The answers are arranged from 'A' to 'E' because of alphabetical order.\n",
    "\n",
    "###### RNN + Classifier\n",
    "\n",
    "   * # TODO !\n",
    "\n",
    "#### Label format: what should the model predict?\n",
    "\n",
    "* Both model architectures will predict a vector of length 5. Every answer choice ('A' through 'E') is encoded on an index in the vector (0 through 4). Since the classifier at the last stage of the model predicts the likelihood of each output, this output format seems the most reasonable. Also, with this kind of output, the model only needs to run once for every classification, which should increase compute performance.\n",
    "\n",
    "#### Train/valid/test splits\n",
    "\n",
    "* As seen in the *Introduction* section, the train/validation/test splits are performed as defined in the course\n",
    "\n",
    "#### Batching, padding\n",
    "\n",
    "* # TODO: test on gpu-hub for optimal batching. padding only necessary for RNN model?"
   ],
   "id": "b635a3413d69a3fc"
  },
  {
   "metadata": {},
   "cell_type": "markdown",
   "source": [
    "### Tokenize\n",
    "\n",
    "Create method to tokenize and lowercase a given text"
   ],
   "id": "8bf5eb8363eacb78"
  },
  {
   "metadata": {
    "ExecuteTime": {
     "end_time": "2025-03-17T19:19:12.809703Z",
     "start_time": "2025-03-17T19:19:03.082202Z"
    }
   },
   "cell_type": "code",
   "source": [
    "import nltk\n",
    "\n",
    "nltk.download(\"punkt_tab\")\n",
    "\n",
    "def tokenize(text: str) -> list[str]:\n",
    "    return [w.lower() for w in nltk.word_tokenize(text, language=\"english\")]"
   ],
   "id": "5b71c0f47430aebe",
   "outputs": [
    {
     "name": "stderr",
     "output_type": "stream",
     "text": [
      "[nltk_data] Downloading package punkt_tab to\n",
      "[nltk_data]     C:\\Users\\dave_\\AppData\\Roaming\\nltk_data...\n",
      "[nltk_data]   Package punkt_tab is already up-to-date!\n"
     ]
    }
   ],
   "execution_count": 4
  },
  {
   "metadata": {},
   "cell_type": "markdown",
   "source": [
    "### Word embeddings\n",
    "\n",
    "Download the english fasttext word vectors and load their model into the variable *wv_model*\n",
    "\n",
    "Create a function to embed a list of tokenized words and return them as a list of pytorch tensors"
   ],
   "id": "226d42f6a99035f0"
  },
  {
   "metadata": {
    "ExecuteTime": {
     "end_time": "2025-03-17T19:38:46.016495Z",
     "start_time": "2025-03-17T19:38:24.423569Z"
    }
   },
   "cell_type": "code",
   "source": [
    "import fasttext\n",
    "from huggingface_hub import hf_hub_download\n",
    "\n",
    "model_path = hf_hub_download(\"facebook/fasttext-en-vectors\", \"model.bin\")\n",
    "wv_model = fasttext.load_model(model_path)\n",
    "\n",
    "def get_embeddings_for_tokens(tokens: list[str]):\n",
    "    return torch.stack([torch.tensor(wv_model[t]) for t in tokens]).T\n",
    "    "
   ],
   "id": "1403d38e9ae55f30",
   "outputs": [],
   "execution_count": 24
  },
  {
   "metadata": {},
   "cell_type": "markdown",
   "source": [
    "### Data Loading and Formatting\n",
    "\n",
    "Create a **pytorch** *Dataset* class in which the HuggingFace dataset is loaded and preprocessed. This allows for an easy integration with a *DataLoader* afterward."
   ],
   "id": "762f05a64aba4571"
  },
  {
   "metadata": {
    "ExecuteTime": {
     "end_time": "2025-03-17T20:06:03.207685Z",
     "start_time": "2025-03-17T20:06:03.197697Z"
    }
   },
   "cell_type": "code",
   "source": [
    "from typing import Callable\n",
    "\n",
    "import torch\n",
    "from torch.utils.data import Dataset\n",
    "from datasets import Dataset as HFDataset\n",
    "\n",
    "TransformMethod = Callable[[torch.Tensor, list[torch.Tensor]], torch.Tensor]"
   ],
   "id": "e2dfba7d95d0678",
   "outputs": [],
   "execution_count": 41
  },
  {
   "metadata": {},
   "cell_type": "markdown",
   "source": "Create a separator token from a character that is known to the word vector model, but unused in the train, valid and test datasets ",
   "id": "aa78299e9e366c1d"
  },
  {
   "metadata": {
    "ExecuteTime": {
     "end_time": "2025-03-17T19:38:53.665725Z",
     "start_time": "2025-03-17T19:38:51.721842Z"
    }
   },
   "cell_type": "code",
   "source": [
    "def char_not_in_huggingface_dataset(char: str, dataset: HFDataset) -> bool:\n",
    "    for datapoint in dataset:\n",
    "        if char in datapoint[\"question\"] or any(char in c for c in datapoint[\"choices\"][\"text\"]):\n",
    "            return False\n",
    "    return True\n",
    "    \n",
    "\n",
    "placeholder = \"¦\"\n",
    "assert placeholder in wv_model # Check if placeholder is a known token in the model\n",
    "assert char_not_in_huggingface_dataset(placeholder, train)\n",
    "assert char_not_in_huggingface_dataset(placeholder, valid)\n",
    "assert char_not_in_huggingface_dataset(placeholder, test)\n",
    "\n",
    "SEP_TOKEN = torch.tensor(wv_model[placeholder])"
   ],
   "id": "40a64f78521705ac",
   "outputs": [],
   "execution_count": 26
  },
  {
   "metadata": {
    "ExecuteTime": {
     "end_time": "2025-03-17T20:38:10.526089Z",
     "start_time": "2025-03-17T20:38:10.517704Z"
    }
   },
   "cell_type": "code",
   "source": [
    "KEY_INDEX_MAPPING = {\n",
    "    \"A\": 0,\n",
    "    \"B\": 1,\n",
    "    \"C\": 2,\n",
    "    \"D\": 3,\n",
    "    \"E\": 4,\n",
    "}\n",
    "\n",
    "PLACEHOLDER_TOKEN = wv_model[placeholder]\n",
    "\n",
    "class CommonsenseQADataset(Dataset):\n",
    "    _target_transform: TransformMethod\n",
    "    \n",
    "    def __init__(self, dataset: HFDataset):\n",
    "        self.dataset: list[dict[str, torch.tensor | list[torch.tensor]]] = []\n",
    "        self._transform_hugging_face_dataset(dataset)\n",
    "        \n",
    "    def set_target_transform(self, transform: TransformMethod):\n",
    "        self._target_transform = transform\n",
    "    \n",
    "    def _transform_hugging_face_dataset(self, dataset: HFDataset):\n",
    "        self.dataset.extend([{\n",
    "            \"question\": get_embeddings_for_tokens(tokenize(entry[\"question\"])),\n",
    "            \"choices\": torch.hstack([get_embeddings_for_tokens(tokenize(choice)).mean(dim=1).unsqueeze(1) for choice in entry[\"choices\"][\"text\"]]),\n",
    "            \"answer\": torch.eye(5)[KEY_INDEX_MAPPING[entry[\"answerKey\"]]],\n",
    "        } for entry in dataset])\n",
    "        if len(self.dataset) != len(dataset):\n",
    "            raise RuntimeError(\"Converted dataset is not full reflection of source data\")\n",
    "    \n",
    "    def __len__(self):\n",
    "        return len(self.dataset)\n",
    "    \n",
    "    def __getitem__(self, idx):\n",
    "        data_point = self.dataset[idx]\n",
    "        feature = self._target_transform(data_point[\"question\"], data_point[\"choices\"])\n",
    "        target = data_point[\"answer\"]\n",
    "        return feature, target"
   ],
   "id": "beff391944e99b90",
   "outputs": [],
   "execution_count": 71
  },
  {
   "metadata": {},
   "cell_type": "markdown",
   "source": [
    "Interchangeable transform function for **Classifier** network\n",
    "\n",
    "* Function input: Question-tensor (300 x N) and answer-tensor (300 x 5)\n",
    "* Function output: Classifier vector (1800)\n",
    "    * Average of question vectors yields vector of size 300\n",
    "    * Question vector and answer vectors are concatenated (5 * 300 = 1800)"
   ],
   "id": "31cc3469965c8b86"
  },
  {
   "metadata": {
    "ExecuteTime": {
     "end_time": "2025-03-17T20:47:05.039861Z",
     "start_time": "2025-03-17T20:47:05.027113Z"
    }
   },
   "cell_type": "code",
   "source": [
    "def classifier_target_transform(question: torch.Tensor, answers: torch.Tensor) -> torch.Tensor:\n",
    "    return torch.concat((question.mean(dim=1), answers.T.flatten()))"
   ],
   "id": "d1384f3a7738a244",
   "outputs": [],
   "execution_count": 76
  },
  {
   "metadata": {},
   "cell_type": "markdown",
   "source": [
    "Interchangeable transform function for **RNN + Classifier** network\n",
    "\n",
    "* Function input: Question-tensor (300 x N) and answer-tensor (300 x 5)\n",
    "* Function output: RNN-tensor (300 x (N + 10)) with N question vectors, 5 answer vectors and 5 SEP_TOKEN vectors separating the question from the answer and the answers from each other."
   ],
   "id": "8b65a982633864dd"
  },
  {
   "metadata": {
    "ExecuteTime": {
     "end_time": "2025-03-17T20:38:11.826015Z",
     "start_time": "2025-03-17T20:38:11.814787Z"
    }
   },
   "cell_type": "code",
   "source": [
    "def rnn_target_transform(question: torch.Tensor, answers: torch.Tensor) -> torch.Tensor:\n",
    "    separated_answers = torch.cat([SEP_TOKEN.unsqueeze(1).expand(-1, 5), answers], dim=1) # TODO: fix 5 times SEP then 5 time answers -> interleave the tensors\n",
    "    return torch.cat([question, separated_answers], dim=1)"
   ],
   "id": "7278eaffa9f7bae1",
   "outputs": [],
   "execution_count": 73
  },
  {
   "metadata": {
    "ExecuteTime": {
     "end_time": "2025-03-17T20:38:23.291868Z",
     "start_time": "2025-03-17T20:38:12.146474Z"
    }
   },
   "cell_type": "code",
   "source": [
    "data = CommonsenseQADataset(train)\n",
    "data.set_target_transform(rnn_target_transform)\n",
    "f, t = data[0]\n",
    "f.shape"
   ],
   "id": "16ae26b8c01da94b",
   "outputs": [
    {
     "data": {
      "text/plain": [
       "torch.Size([300, 34])"
      ]
     },
     "execution_count": 74,
     "metadata": {},
     "output_type": "execute_result"
    }
   ],
   "execution_count": 74
  },
  {
   "metadata": {
    "ExecuteTime": {
     "end_time": "2025-03-17T20:38:38.051185Z",
     "start_time": "2025-03-17T20:38:38.033929Z"
    }
   },
   "cell_type": "code",
   "source": "f",
   "id": "2c20f63b5a2560f4",
   "outputs": [
    {
     "data": {
      "text/plain": [
       "tensor([[-0.0517, -0.0448, -0.0492,  ..., -0.0336,  0.1913, -0.0805],\n",
       "        [ 0.0740,  0.0531, -0.0340,  ..., -0.0322,  0.1969,  0.0047],\n",
       "        [-0.0131,  0.0327,  0.0386,  ..., -0.0057,  0.0787, -0.0155],\n",
       "        ...,\n",
       "        [ 0.2370,  0.0433, -0.0201,  ...,  0.0604, -0.0383, -0.0197],\n",
       "        [ 0.0004,  0.0266,  0.0398,  ...,  0.0176,  0.0425,  0.0461],\n",
       "        [-0.0042, -0.0361,  0.0157,  ...,  0.0529, -0.0680, -0.0485]])"
      ]
     },
     "execution_count": 75,
     "metadata": {},
     "output_type": "execute_result"
    }
   ],
   "execution_count": 75
  },
  {
   "metadata": {},
   "cell_type": "markdown",
   "source": "## Model",
   "id": "1a26a4c41b4d0171"
  },
  {
   "metadata": {},
   "cell_type": "code",
   "source": "",
   "id": "62e9d4d4e8704f92",
   "outputs": [],
   "execution_count": null
  },
  {
   "metadata": {},
   "cell_type": "markdown",
   "source": "## Training",
   "id": "4c1d04ba2f9898ed"
  },
  {
   "metadata": {},
   "cell_type": "code",
   "source": "",
   "id": "f20c68b42f1e3715",
   "outputs": [],
   "execution_count": null
  },
  {
   "metadata": {},
   "cell_type": "markdown",
   "source": "## Evaluation",
   "id": "78a92ceca9fa4119"
  },
  {
   "metadata": {},
   "cell_type": "code",
   "source": "",
   "id": "24831257099358aa",
   "outputs": [],
   "execution_count": null
  },
  {
   "metadata": {},
   "cell_type": "markdown",
   "source": "## Interpretation",
   "id": "3bb349b7a3afb091"
  },
  {
   "metadata": {},
   "cell_type": "code",
   "source": "",
   "id": "c163ba3cc6c0116d",
   "outputs": [],
   "execution_count": null
  }
 ],
 "metadata": {
  "kernelspec": {
   "display_name": "Python 3",
   "language": "python",
   "name": "python3"
  },
  "language_info": {
   "codemirror_mode": {
    "name": "ipython",
    "version": 2
   },
   "file_extension": ".py",
   "mimetype": "text/x-python",
   "name": "python",
   "nbconvert_exporter": "python",
   "pygments_lexer": "ipython2",
   "version": "2.7.6"
  }
 },
 "nbformat": 4,
 "nbformat_minor": 5
}
