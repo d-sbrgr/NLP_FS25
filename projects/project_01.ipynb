{
 "cells": [
  {
   "metadata": {},
   "cell_type": "markdown",
   "source": [
    "# TODO-Liste\n",
    "    * Check out collate_fn and pack_padded_sequence / pad_sequence "
   ],
   "id": "3406a9645568d68d"
  },
  {
   "cell_type": "markdown",
   "id": "d4cbec299a5d4f64",
   "metadata": {},
   "source": [
    "## Introduction\n",
    "\n",
    "* #TODO: INSERT LINK TO WANDB VIEW"
   ]
  },
  {
   "cell_type": "code",
   "id": "3db4c54b33606e47",
   "metadata": {
    "ExecuteTime": {
     "end_time": "2025-03-21T06:36:09.828859Z",
     "start_time": "2025-03-21T06:36:09.822620Z"
    }
   },
   "source": [],
   "outputs": [],
   "execution_count": null
  },
  {
   "cell_type": "markdown",
   "id": "dd1fcc78251ae773",
   "metadata": {},
   "source": [
    "## Setup"
   ]
  },
  {
   "cell_type": "markdown",
   "id": "ae74b556f3aff49",
   "metadata": {},
   "source": [
    "#### Install dependencies\n",
    "\n",
    "* **torch**: PyTorch framework for the creation of neural networks\n",
    "* **lightning**: Lightning wrapper for pytorch for simple network training\n",
    "* **huggingface_hub**: HuggingFace hub for downloading word vectors\n",
    "* **datasets**: HuggingFace datasets to download and load the data set\n",
    "* **wandb**: Weights & Biases for experiment tracking\n",
    "* **fasttext**: Word embedding library\n",
    "* **nltk**: Natural Language Toolkit used for word tokenization\n",
    "* **torchmetrics**: Extension to lightning to compute model metrics"
   ]
  },
  {
   "cell_type": "code",
   "id": "33f5c188a84c79a9",
   "metadata": {
    "ExecuteTime": {
     "end_time": "2025-03-21T06:36:18.325309Z",
     "start_time": "2025-03-21T06:36:09.929911Z"
    }
   },
   "source": [
    "import sys\n",
    "\n",
    "%pip install -q torch lightning huggingface_hub datasets wandb nltk torchmetrics\n",
    "\n",
    "if sys.platform == 'win32': # Windows requires different fasttext implementation\n",
    "    %pip install -q fasttext-wheel\n",
    "else: \n",
    "    %pip install -q fasttext"
   ],
   "outputs": [
    {
     "name": "stdout",
     "output_type": "stream",
     "text": [
      "Note: you may need to restart the kernel to use updated packages.\n"
     ]
    },
    {
     "name": "stderr",
     "output_type": "stream",
     "text": [
      "\n",
      "[notice] A new release of pip is available: 24.2 -> 25.0.1\n",
      "[notice] To update, run: python.exe -m pip install --upgrade pip\n"
     ]
    },
    {
     "name": "stdout",
     "output_type": "stream",
     "text": [
      "Note: you may need to restart the kernel to use updated packages.\n"
     ]
    },
    {
     "name": "stderr",
     "output_type": "stream",
     "text": [
      "\n",
      "[notice] A new release of pip is available: 24.2 -> 25.0.1\n",
      "[notice] To update, run: python.exe -m pip install --upgrade pip\n"
     ]
    }
   ],
   "execution_count": 1
  },
  {
   "cell_type": "markdown",
   "id": "b696ef4250c380a0",
   "metadata": {},
   "source": [
    "#### Load dataset\n",
    "\n",
    "Use the pre-defined method to load the dataset and do the train and validation split"
   ]
  },
  {
   "cell_type": "code",
   "id": "ad899724a20482d9",
   "metadata": {
    "ExecuteTime": {
     "end_time": "2025-03-21T06:36:55.954901Z",
     "start_time": "2025-03-21T06:36:19.148268Z"
    }
   },
   "source": [
    "from datasets import load_dataset, Dataset\n",
    "\n",
    "train: Dataset = load_dataset(\"tau/commonsense_qa\", split=\"train[:-1000]\")\n",
    "valid: Dataset = load_dataset(\"tau/commonsense_qa\", split=\"train[-1000:]\")\n",
    "test: Dataset = load_dataset(\"tau/commonsense_qa\", split=\"validation\")\n",
    "\n",
    "print(len(train), len(valid), len(test))"
   ],
   "outputs": [
    {
     "name": "stderr",
     "output_type": "stream",
     "text": [
      "C:\\git\\NLP_FS25\\.env3\\Lib\\site-packages\\requests\\__init__.py:86: RequestsDependencyWarning: Unable to find acceptable character detection dependency (chardet or charset_normalizer).\n",
      "  warnings.warn(\n",
      "Using the latest cached version of the dataset since tau/commonsense_qa couldn't be found on the Hugging Face Hub\n",
      "Found the latest cached dataset configuration 'default' at C:\\Users\\dave_\\.cache\\huggingface\\datasets\\tau___commonsense_qa\\default\\0.0.0\\94630fe30dad47192a8546eb75f094926d47e155 (last modified on Fri Feb 28 14:04:56 2025).\n"
     ]
    },
    {
     "name": "stdout",
     "output_type": "stream",
     "text": [
      "8741 1000 1221\n"
     ]
    }
   ],
   "execution_count": 2
  },
  {
   "cell_type": "markdown",
   "id": "cdc78217c5ed1f84",
   "metadata": {},
   "source": [
    "#### Setup Weights & Biases\n",
    "\n",
    "Login to weights and biases to enable experiment tracking"
   ]
  },
  {
   "cell_type": "code",
   "id": "b9bc41bae4172979",
   "metadata": {},
   "source": [
    "import wandb\n",
    "wandb.login()"
   ],
   "outputs": [],
   "execution_count": null
  },
  {
   "cell_type": "markdown",
   "id": "b635a3413d69a3fc",
   "metadata": {},
   "source": [
    "## Preprocessing\n",
    "\n",
    "#### Vocabulary/Embedding\n",
    "\n",
    "* I decided to use the **FastText** library for this project, since in class it was said that FastText is superior to the other embedding models and there is no problem with embedding unknown words, because it can create word vectors from their subwords. Furthermore, I will be working with the **facebook/fasttext-en-vectors** word vectors from the HuggingFace hub. They embed words from the English language, which is the only relevant language.\n",
    "\n",
    "* This choice influences decisions in the following pre-processing steps.\n",
    "\n",
    "#### Format cleaning (e.g. html-extracted text)\n",
    "\n",
    "* No format cleaning is performed, because we work with a carefully assembled and standardized dataset used in model benchmarking.\n",
    "\n",
    "#### Tokenization\n",
    "\n",
    "* *word_tokenizer* from the **nltk** library will be used. This tokenizer works well for the English language. It also splits punctuation from text, which matches the tokens the fasttext word vectors were trained on.\n",
    "\n",
    "#### Lowercasing, stemming, lemmatizing, stopword/punctuation removal\n",
    "\n",
    "* **Lowercasing**: Although the word vectors in use were trained on case-sensitive data, the tokenized words will be lowercased to reach a smaller vocabulary and minimize out-of-vocabulary words.\n",
    "* **Stemming**: The word embedding model was not trained on word stems and therefore no stemming is carried out.\n",
    "* **Lemmatizing**: The word tokens to be embedded will not be lemmatized, because the fasttext model was trained on un-lemmatized words and the n-gram encoding of the words used in fasttext preserves sub-word information.\n",
    "* **Stopword/Punctudation removal**: Since the task is to answer common-sense questions, stopwords and punctuation will not be removed. Most of the questions are quite short and the loss of information if either a critical stopword in the question or punctuation that changes the meaning of the question is removed could be significant.\n",
    "\n",
    "#### Removal of unknown/other words\n",
    "\n",
    "* Since I am working with a fasttext model, the removal of unknown words is not necessary, because vectors for them can implicitly be built from their n-gram vectors. Also, the encounter of unknown words is not expected.\n",
    "\n",
    "#### Truncation\n",
    "\n",
    "* Input will not be truncated. After some data review, the question yielding the most embedded word vectors yields a tensor of shape **300x67**. Depending on the input format, the RNN model will have to perform significantly less than 100 time steps for the longest input, which is deemed to be feasible. Also, if padding is implemented correctly, for every timestep only the necessary amount of time steps will be executed.\n",
    "\n",
    "#### Feature selection\n",
    "\n",
    "* Of the available features, the **question**, the **choices** and the **answerKey** were chosen. While the *questionConcept* seemed like an interesting feature at first, after some data review it was determined, that this feature often simply contains a word from the question. In the end this feature was left out in order not to give too much emphasis to a single word that does likely not help answering the question at all.\n",
    "\n",
    "#### Input format: how is data passed to the model?\n",
    "\n",
    "###### Classifier\n",
    "\n",
    "   * I chose the input for the *Classifier Model* to be a tensor of size **1800**. The first 300 elements are the averages of the embedded question tokens, next are 300 elements for every embedded and averaged answer vector from answer option 'A' to 'E'.\n",
    "      * The average of the question vectors was chosen, because it is a good tradeoff between information retention and input  dimension for the classifier.\n",
    "      * The question vector is before the answer vectors, because \"Q&A\" also has question first, then answers.\n",
    "      * The answers are arranged from 'A' to 'E' because of alphabetical order.\n",
    "      * The average of the answer embeddings has been chosen, since answers can consist of multiple words and therefore may yield multiple embedding vectors.\n",
    "\n",
    "###### RNN + Classifier\n",
    "\n",
    "   * I chose the input for the *RNN + Classifier Model* to be tensor of size **300 x (N + 10)**. The first *N* columns of the tensor are the word-embeddings of the question. The last *10* columns are the averages of the word embeddings for each answer choice, separated by a *SEP* token.\n",
    "      * As separation token the character **¦** was chosen, because it is known to the embeddings model, but does not appear in the data.\n",
    "      * The separation token was introduced to signal to the model, that after the input after this reserved token is an answer choice.\n",
    "      * All answer embeddings are concatenated to the question embeddings to only need one full pass through the RNN model to get a prediction.\n",
    "      * The answer embeddings are after the question embeddings, because \"Q&A\" also has question first, then answer.\n",
    "\n",
    "#### Label format: what should the model predict?\n",
    "\n",
    "* Both model architectures will predict a vector of length 5. Every answer choice ('A' through 'E') is encoded on an index in the vector (0 through 4). Since the classifier at the last stage of the model predicts the likelihood of each output, this output format seems the most reasonable. Also, with this kind of output, the model only needs to run once for every classification, which should increase compute performance.\n",
    "\n",
    "#### Train/valid/test splits\n",
    "\n",
    "* As seen in the *Introduction* section, the train/validation/test splits are performed as defined in the course\n",
    "\n",
    "#### Batching, padding\n",
    "\n",
    "* For each model, before training the batch size is determined at which 80% of GPU memory is being used. This threshold was chosen, because the GPU is well utilized, but there is still room for unforseen memory usage.\n",
    "    * Note: For the classifier model, the entire training data sit would fit on the GPU memory at once. The batch size for that model will be statically set at **512**. Reason: Still use stochastic gradient descent with around 16 batches in total.\n",
    "* Only the input of the **RNN + Classifier** model is of variable size, therefore padding is only necessary for that model. #TODO: specify padding for RNN model"
   ]
  },
  {
   "cell_type": "markdown",
   "id": "8bf5eb8363eacb78",
   "metadata": {},
   "source": [
    "### Tokenize\n",
    "\n",
    "Create method to tokenize and lowercase a given text"
   ]
  },
  {
   "cell_type": "code",
   "id": "5b71c0f47430aebe",
   "metadata": {
    "ExecuteTime": {
     "end_time": "2025-03-21T06:37:08.409926Z",
     "start_time": "2025-03-21T06:36:56.057576Z"
    }
   },
   "source": [
    "import nltk\n",
    "\n",
    "nltk.download(\"punkt_tab\")\n",
    "\n",
    "def tokenize(text: str) -> list[str]:\n",
    "    return [w.lower() for w in nltk.word_tokenize(text, language=\"english\")]"
   ],
   "outputs": [
    {
     "name": "stderr",
     "output_type": "stream",
     "text": [
      "[nltk_data] Downloading package punkt_tab to\n",
      "[nltk_data]     C:\\Users\\dave_\\AppData\\Roaming\\nltk_data...\n",
      "[nltk_data]   Package punkt_tab is already up-to-date!\n"
     ]
    }
   ],
   "execution_count": 3
  },
  {
   "cell_type": "markdown",
   "id": "226d42f6a99035f0",
   "metadata": {},
   "source": [
    "### Word embeddings\n",
    "\n",
    "Download the english fasttext word vectors and load their model into the variable *wv_model*\n",
    "\n",
    "Create a function to embed a list of tokenized words and return them as a list of pytorch tensors"
   ]
  },
  {
   "cell_type": "code",
   "id": "1403d38e9ae55f30",
   "metadata": {
    "ExecuteTime": {
     "end_time": "2025-03-21T06:39:17.698858Z",
     "start_time": "2025-03-21T06:38:43.346091Z"
    }
   },
   "source": [
    "import fasttext\n",
    "from huggingface_hub import hf_hub_download\n",
    "\n",
    "model_path = hf_hub_download(\"facebook/fasttext-en-vectors\", \"model.bin\")\n",
    "wv_model = fasttext.load_model(model_path)\n",
    "\n",
    "def get_embeddings_for_tokens(tokens: list[str]):\n",
    "    return torch.stack([torch.tensor(wv_model[t]) for t in tokens])\n",
    "    "
   ],
   "outputs": [],
   "execution_count": 10
  },
  {
   "cell_type": "markdown",
   "id": "762f05a64aba4571",
   "metadata": {},
   "source": [
    "### Data Loading and Formatting\n",
    "\n",
    "Create a **pytorch** *Dataset* class in which the HuggingFace dataset is loaded and preprocessed. This allows for an easy integration with a *DataLoader* afterward."
   ]
  },
  {
   "cell_type": "code",
   "id": "e2dfba7d95d0678",
   "metadata": {
    "ExecuteTime": {
     "end_time": "2025-03-21T06:37:48.867596Z",
     "start_time": "2025-03-21T06:37:39.262306Z"
    }
   },
   "source": [
    "from typing import Callable\n",
    "\n",
    "import torch\n",
    "from torch.utils.data import Dataset\n",
    "from datasets import Dataset as HFDataset\n",
    "\n",
    "TransformMethod = Callable[[torch.Tensor, list[torch.Tensor]], torch.Tensor]"
   ],
   "outputs": [],
   "execution_count": 5
  },
  {
   "cell_type": "markdown",
   "id": "aa78299e9e366c1d",
   "metadata": {},
   "source": [
    "Create a separator token from a character that is known to the word vector model, but unused in the train, valid and test datasets "
   ]
  },
  {
   "cell_type": "code",
   "id": "40a64f78521705ac",
   "metadata": {
    "ExecuteTime": {
     "end_time": "2025-03-21T06:37:51.322570Z",
     "start_time": "2025-03-21T06:37:48.896716Z"
    }
   },
   "source": [
    "def char_not_in_huggingface_dataset(char: str, dataset: HFDataset) -> bool:\n",
    "    for datapoint in dataset:\n",
    "        if char in datapoint[\"question\"] or any(char in c for c in datapoint[\"choices\"][\"text\"]):\n",
    "            return False\n",
    "    return True\n",
    "    \n",
    "\n",
    "placeholder = \"¦\"\n",
    "assert placeholder in wv_model # Check if placeholder is a known token in the model\n",
    "assert char_not_in_huggingface_dataset(placeholder, train)\n",
    "assert char_not_in_huggingface_dataset(placeholder, valid)\n",
    "assert char_not_in_huggingface_dataset(placeholder, test)\n",
    "\n",
    "SEP_TOKEN = torch.tensor(wv_model[placeholder])"
   ],
   "outputs": [],
   "execution_count": 6
  },
  {
   "cell_type": "code",
   "id": "beff391944e99b90",
   "metadata": {
    "ExecuteTime": {
     "end_time": "2025-03-21T06:43:16.152484Z",
     "start_time": "2025-03-21T06:43:16.136024Z"
    }
   },
   "source": [
    "KEY_INDEX_MAPPING = {\n",
    "    \"A\": 0,\n",
    "    \"B\": 1,\n",
    "    \"C\": 2,\n",
    "    \"D\": 3,\n",
    "    \"E\": 4,\n",
    "}\n",
    "\n",
    "class CommonsenseQADataset(Dataset):\n",
    "    _target_transform: TransformMethod\n",
    "    \n",
    "    def __init__(self, dataset: HFDataset):\n",
    "        self.dataset: list[dict[str, torch.tensor | list[torch.tensor]]] = []\n",
    "        self._transform_hugging_face_dataset(dataset)\n",
    "        \n",
    "    def set_target_transform(self, transform: TransformMethod):\n",
    "        self._target_transform = transform\n",
    "    \n",
    "    def _transform_hugging_face_dataset(self, dataset: HFDataset):\n",
    "        self.dataset.extend([{\n",
    "            \"question\": get_embeddings_for_tokens(tokenize(entry[\"question\"])),\n",
    "            \"choices\": torch.stack([get_embeddings_for_tokens(tokenize(choice)).mean(dim=0) for choice in entry[\"choices\"][\"text\"]]),\n",
    "            \"answer\": torch.eye(5)[KEY_INDEX_MAPPING[entry[\"answerKey\"]]],\n",
    "        } for entry in dataset])\n",
    "        if len(self.dataset) != len(dataset):\n",
    "            raise RuntimeError(\"Converted dataset is not full reflection of source data\")\n",
    "    \n",
    "    def __len__(self):\n",
    "        return len(self.dataset)\n",
    "    \n",
    "    def __getitem__(self, idx):\n",
    "        data_point = self.dataset[idx]\n",
    "        feature = self._target_transform(data_point[\"question\"], data_point[\"choices\"])\n",
    "        target = data_point[\"answer\"]\n",
    "        return feature, target"
   ],
   "outputs": [],
   "execution_count": 23
  },
  {
   "cell_type": "markdown",
   "id": "31cc3469965c8b86",
   "metadata": {},
   "source": [
    "Interchangeable transform function for **Classifier** network\n",
    "\n",
    "* Function input: Question-tensor (300 x N) and answer-tensor (300 x 5)\n",
    "* Function output: Classifier vector (1800)\n",
    "    * Average of question vectors yields vector of size 300\n",
    "    * Question vector and answer vectors are concatenated (5 * 300 = 1800)"
   ]
  },
  {
   "cell_type": "code",
   "id": "d1384f3a7738a244",
   "metadata": {
    "ExecuteTime": {
     "end_time": "2025-03-21T06:44:23.749718Z",
     "start_time": "2025-03-21T06:44:23.742125Z"
    }
   },
   "source": [
    "def classifier_target_transform(question: torch.Tensor, answers: torch.Tensor) -> torch.Tensor:\n",
    "    return torch.cat((question.mean(dim=0), answers.flatten()))"
   ],
   "outputs": [],
   "execution_count": 26
  },
  {
   "cell_type": "markdown",
   "id": "8b65a982633864dd",
   "metadata": {},
   "source": [
    "Interchangeable transform function for **RNN + Classifier** network\n",
    "\n",
    "* Function input: Question-tensor (300 x N) and answer-tensor (300 x 5)\n",
    "* Function output: RNN-tensor (300 x (N + 10)) with N question vectors, 5 answer vectors and 5 SEP_TOKEN vectors separating the question from the answer and the answers from each other."
   ]
  },
  {
   "cell_type": "code",
   "id": "7278eaffa9f7bae1",
   "metadata": {
    "ExecuteTime": {
     "end_time": "2025-03-21T06:56:09.447148Z",
     "start_time": "2025-03-21T06:56:09.441Z"
    }
   },
   "source": [
    "def rnn_target_transform(question: torch.Tensor, answers: torch.Tensor) -> torch.Tensor:\n",
    "    sep_tokens = SEP_TOKEN.expand(5, 300)\n",
    "    separated_answers = torch.stack((sep_tokens, answers), dim=1).reshape(10, 300)\n",
    "    \n",
    "    return torch.cat([question, separated_answers])"
   ],
   "outputs": [],
   "execution_count": 47
  },
  {
   "cell_type": "markdown",
   "id": "1e4941497bdf4f65",
   "metadata": {},
   "source": [
    "Transform HuggingFace datasets to pytorch Datasets"
   ]
  },
  {
   "cell_type": "code",
   "execution_count": 10,
   "id": "16ae26b8c01da94b",
   "metadata": {
    "ExecuteTime": {
     "end_time": "2025-03-19T13:40:42.674222Z",
     "start_time": "2025-03-19T13:40:35.905221Z"
    }
   },
   "outputs": [],
   "source": [
    "train_data = CommonsenseQADataset(train)\n",
    "valid_data = CommonsenseQADataset(valid)\n",
    "test_data = CommonsenseQADataset(test)"
   ]
  },
  {
   "cell_type": "markdown",
   "id": "554586163be5eb6b",
   "metadata": {},
   "source": [
    "# 1. Architecture: WordEmbeddings &rarr; Classifier"
   ]
  },
  {
   "cell_type": "markdown",
   "id": "1a26a4c41b4d0171",
   "metadata": {},
   "source": [
    "## Model\n",
    "\n",
    "I chose to use **lightning** to create a streamlined model training process. The *LightningModule* subclass was created with the help of the [API doc](https://lightning.ai/docs/pytorch/LTS/common/lightning_module.html#lightningmodule-api) and the \"experiment_tracking\" notebook that we looked at in the Project Discussion lecture\n",
    "\n",
    "The model architecture complies with the required architecture in the project description.\n",
    "* Between input and hidden layer there is RELU-non-linearity as activation function. Reason: required\n",
    "* The output of the second layer is activated using SoftMax. Reason: meaningful output activation for multiclass classification\n",
    "* The metrics \"val_loss\", \"val_acc\", \"train_loss\", \"train_acc\" are logged after every epoch. Reason: Meaningful metrics, not overwhelming experiment tracking view"
   ]
  },
  {
   "cell_type": "code",
   "execution_count": 11,
   "id": "62e9d4d4e8704f92",
   "metadata": {
    "ExecuteTime": {
     "end_time": "2025-03-19T12:51:00.219715Z",
     "start_time": "2025-03-19T12:50:59.087784Z"
    }
   },
   "outputs": [],
   "source": [
    "import lightning as L\n",
    "import torchmetrics\n",
    "import torch.nn as nn\n",
    "import torch"
   ]
  },
  {
   "cell_type": "code",
   "execution_count": 66,
   "id": "9b28aac91bda610e",
   "metadata": {
    "ExecuteTime": {
     "end_time": "2025-03-19T12:51:01.362014Z",
     "start_time": "2025-03-19T12:51:01.348628Z"
    }
   },
   "outputs": [],
   "source": [
    "class CqaClassifier(L.LightningModule):\n",
    "    def __init__(\n",
    "            self, \n",
    "            input_dim: int = 1800, \n",
    "            hidden_dim: int = 4096, \n",
    "            output_dim: int = 5, \n",
    "            learning_rate: float = 1e-4,\n",
    "            adam_epsilon: float = 1e-8,\n",
    "            weight_decay: float = 0.0,          \n",
    "    ):\n",
    "        super().__init__()\n",
    "        \n",
    "        self.save_hyperparameters()\n",
    "        \n",
    "        self.fc1 = nn.Linear(input_dim, hidden_dim)\n",
    "        self.fc2 = nn.Linear(hidden_dim, output_dim)\n",
    "        self.loss_fn = nn.CrossEntropyLoss()\n",
    "        \n",
    "        self._train_acc = torchmetrics.Accuracy(\"binary\", num_classes=output_dim)\n",
    "        self._train_loss = []\n",
    "        self._valid_acc = torchmetrics.Accuracy(\"binary\", num_classes=output_dim)\n",
    "        self._valid_loss = []\n",
    "        \n",
    "    def forward(self, x: torch.Tensor) -> torch.Tensor:\n",
    "        fc1 = torch.relu(self.fc1(x))\n",
    "        output = torch.softmax(self.fc2(fc1), dim=1)\n",
    "        return output\n",
    "    \n",
    "    def training_step(self, batch, batch_idx):\n",
    "        x, y = batch\n",
    "        y_hat = self(x)\n",
    "        loss = self.loss_fn(y_hat, y)\n",
    "        self._train_loss.append(loss)\n",
    "        self._train_acc(y_hat, y)\n",
    "        return loss\n",
    "\n",
    "    def validation_step(self, batch, batch_idx):\n",
    "        x, y = batch\n",
    "        y_hat = self(x)\n",
    "        loss = self.loss_fn(y_hat, y)\n",
    "        self._valid_loss.append(loss)\n",
    "        self._valid_acc(y_hat, y)\n",
    "\n",
    "    def test_step(self, batch, batch_idx):\n",
    "        x, y = batch\n",
    "        y_hat = self(x)\n",
    "        loss = self.loss_fn(y_hat, y)\n",
    "        self.log('test_loss', loss)\n",
    "\n",
    "    def on_train_epoch_end(self):\n",
    "        loss = torch.stack(self._train_loss).mean()\n",
    "        self.log_dict({'train_loss': loss, 'train_acc': self._train_acc.compute()}, prog_bar=True)\n",
    "        self._train_loss.clear()\n",
    "        self._train_acc.reset()\n",
    "\n",
    "    def on_validation_epoch_end(self):\n",
    "        loss = torch.stack(self._valid_loss).mean()\n",
    "        self.log_dict({'valid_loss': loss, 'valid_acc': self._valid_acc.compute()}, prog_bar=True)\n",
    "        self._valid_loss.clear()\n",
    "        self._valid_acc.reset()\n",
    "\n",
    "    def configure_optimizers(self):\n",
    "        return torch.optim.AdamW(\n",
    "            self.parameters(), \n",
    "            lr=self.hparams.learning_rate, \n",
    "            eps=self.hparams.adam_epsilon, \n",
    "            weight_decay=self.hparams.weight_decay\n",
    "        )\n",
    "        "
   ]
  },
  {
   "cell_type": "markdown",
   "id": "4c1d04ba2f9898ed",
   "metadata": {},
   "source": [
    "## Training"
   ]
  },
  {
   "cell_type": "markdown",
   "id": "f3ad86e7de95bd58",
   "metadata": {},
   "source": [
    "#### Utilities\n",
    "\n",
    "> These functions will be reused for the RNN+Classifier model, but not explicitly introduced again in that notebook section.\n",
    "\n",
    "Create a Utility class for run parameters, that automatically creates a meaningful run-name and returns the config for wandb\n",
    "\n",
    "* Require a model_name.\n",
    "* Optional hyperparameter *kwargs* that are passed to the wandb initialization as config. Reason: Track all hyperparameters for reproducibility\n",
    "* The run name for wandb will be created from the model name and some key hyperparameters as well as a timestamp. Reason: concise run name with most important information and include timestep for unique run names even with matching hyperparameters\n"
   ]
  },
  {
   "cell_type": "code",
   "id": "8f80f88f66034749",
   "metadata": {
    "ExecuteTime": {
     "end_time": "2025-03-20T18:37:31.636047Z",
     "start_time": "2025-03-20T18:37:31.626422Z"
    }
   },
   "source": [
    "import time\n",
    "\n",
    "class RunParameters:\n",
    "    def __init__(self, model_name: str, **kwargs):\n",
    "        self._name = model_name\n",
    "        self._params = dict(kwargs)\n",
    "    \n",
    "    def __call__(self) -> dict:\n",
    "        return self._params\n",
    "    \n",
    "    def __str__(self):\n",
    "        timestamp = time.strftime(\"%Y%m%d-%H%M%S\")\n",
    "        return f\"{self._name}_lr{self._params['learning_rate']}_bs{self._params['batch_size']}_ep{self._params['epochs']}_{timestamp}\""
   ],
   "outputs": [],
   "execution_count": 1
  },
  {
   "cell_type": "markdown",
   "id": "bf00949e4a7c6540",
   "metadata": {},
   "source": [
    "Utility function to find the optimal batch size. A batch size that uses 80% of the available GPU memory was deemed to be optimal. Reason: Use bulk of memory available, but leave some headroom"
   ]
  },
  {
   "cell_type": "code",
   "execution_count": 40,
   "id": "336b81312efd5aff",
   "metadata": {
    "ExecuteTime": {
     "end_time": "2025-03-19T13:47:15.315461Z",
     "start_time": "2025-03-19T13:47:15.306884Z"
    }
   },
   "outputs": [],
   "source": [
    "def batch_size_finder(data: Dataset, model: L.LightningModule, max_memory_usage=0.8) -> tuple[int, float]:\n",
    "    device = \"cuda\" if torch.cuda.is_available() else \"cpu\"\n",
    "    if not device == \"cuda\":\n",
    "        raise RuntimeError(\"Can only be run on gpu\")\n",
    "    batch_size, memory_usage = 1, 0\n",
    "    model.to(device)\n",
    "    \n",
    "    while True:\n",
    "        loader = torch.utils.data.DataLoader(data, batch_size=batch_size)\n",
    "        inputs = labels = torch.tensor([])\n",
    "        for i, l in loader:\n",
    "            if i.shape > inputs.shape:\n",
    "                inputs, labels = i, l\n",
    "        try:\n",
    "            inputs, labels = inputs.to(device), labels.to(device)\n",
    "            _ = model(inputs)\n",
    "            \n",
    "            # Check memory usage\n",
    "            mem_allocated = torch.cuda.memory_allocated(device)\n",
    "            mem_reserved = torch.cuda.memory_reserved(device)\n",
    "            mem_usage = mem_allocated / mem_reserved\n",
    "\n",
    "            print(f\"Batch Size: {batch_size}, Memory Usage: {mem_usage:%}\")\n",
    "\n",
    "            if mem_usage <= memory_usage:\n",
    "                return batch_size // 2, memory_usage\n",
    "            \n",
    "            if mem_usage >= max_memory_usage:\n",
    "                return batch_size, mem_usage\n",
    "           \n",
    "            batch_size *= 2\n",
    "            memory_usage = mem_usage\n",
    "        \n",
    "        except RuntimeError as e:\n",
    "            if 'out of memory' in str(e):\n",
    "                return batch_size // 2, memory_usage\n",
    "            raise e\n",
    "    "
   ]
  },
  {
   "cell_type": "markdown",
   "id": "302e5be5719640b0",
   "metadata": {},
   "source": [
    "#### Run parameters"
   ]
  },
  {
   "cell_type": "markdown",
   "id": "250550d4a74675ae",
   "metadata": {},
   "source": [
    "Set the data target transformer to the Classifier model function"
   ]
  },
  {
   "cell_type": "code",
   "execution_count": 41,
   "id": "e5d682f2c543bae3",
   "metadata": {
    "ExecuteTime": {
     "end_time": "2025-03-19T13:47:17.221887Z",
     "start_time": "2025-03-19T13:47:17.215960Z"
    }
   },
   "outputs": [],
   "source": [
    "train_data.set_target_transform(classifier_target_transform)\n",
    "valid_data.set_target_transform(classifier_target_transform)"
   ]
  },
  {
   "cell_type": "markdown",
   "id": "5eda600335fa7906",
   "metadata": {},
   "source": [
    "Find optimal batch size for a model with the given amount of hidden layers on the training set"
   ]
  },
  {
   "cell_type": "code",
   "execution_count": 42,
   "id": "b351e436e6bfdd5c",
   "metadata": {
    "ExecuteTime": {
     "end_time": "2025-03-19T13:47:18.245667Z",
     "start_time": "2025-03-19T13:47:18.179844Z"
    }
   },
   "outputs": [
    {
     "name": "stdout",
     "output_type": "stream",
     "text": [
      "Batch Size: 1, Memory Usage: 90.755547%\n",
      "Batch Size: 1 @ 90.755547% memory usage\n"
     ]
    }
   ],
   "source": [
    "HIDDEN_DIM = 4096\n",
    "BATCH_SIZE, memory_usage = batch_size_finder(train_data, CqaClassifier(hidden_dim=HIDDEN_DIM))\n",
    "print(f\"Batch Size: {BATCH_SIZE} @ {memory_usage:%} memory usage\")\n",
    "BATCH_SIZE = 512 # Set to 512, because entire dataset would fit on GPU at once"
   ]
  },
  {
   "metadata": {},
   "cell_type": "markdown",
   "source": "Define Hyperparameters for the run",
   "id": "f6cae337d032af7a"
  },
  {
   "cell_type": "code",
   "execution_count": 43,
   "id": "20fced576b1c3b20",
   "metadata": {
    "ExecuteTime": {
     "end_time": "2025-03-19T13:35:13.115411Z",
     "start_time": "2025-03-19T13:35:13.110073Z"
    }
   },
   "outputs": [],
   "source": [
    "parameters = RunParameters(\n",
    "    \"Classifier\",\n",
    "    learning_rate=1e-4,\n",
    "    epochs=20,\n",
    "    hidden_dim=HIDDEN_DIM,\n",
    "    adam_epsilon=1e-8,\n",
    "    weight_decay=0.0,\n",
    "    batch_size=BATCH_SIZE,\n",
    ")"
   ]
  },
  {
   "cell_type": "markdown",
   "id": "8c4911a7dab1bb10",
   "metadata": {},
   "source": "Initialize wandb experiment tracking for run"
  },
  {
   "cell_type": "code",
   "execution_count": 47,
   "id": "82b2dd9acb4f7145",
   "metadata": {},
   "outputs": [],
   "source": [
    "from lightning.pytorch.loggers import WandbLogger"
   ]
  },
  {
   "cell_type": "code",
   "execution_count": 54,
   "id": "7575c2ac5ad19d59",
   "metadata": {},
   "outputs": [
    {
     "data": {
      "text/html": [
       "Tracking run with wandb version 0.19.8"
      ],
      "text/plain": [
       "<IPython.core.display.HTML object>"
      ]
     },
     "metadata": {},
     "output_type": "display_data"
    },
    {
     "data": {
      "text/html": [
       "Run data is saved locally in <code>/home/jovyan/NLP_FS25/projects/wandb/run-20250320_065406-ymncxt1g</code>"
      ],
      "text/plain": [
       "<IPython.core.display.HTML object>"
      ]
     },
     "metadata": {},
     "output_type": "display_data"
    },
    {
     "data": {
      "text/html": [
       "Syncing run <strong><a href='https://wandb.ai/david-schurtenberger/NLP_Project_1/runs/ymncxt1g' target=\"_blank\">Classifier-v1</a></strong> to <a href='https://wandb.ai/david-schurtenberger/NLP_Project_1' target=\"_blank\">Weights & Biases</a> (<a href='https://wandb.me/developer-guide' target=\"_blank\">docs</a>)<br>"
      ],
      "text/plain": [
       "<IPython.core.display.HTML object>"
      ]
     },
     "metadata": {},
     "output_type": "display_data"
    },
    {
     "data": {
      "text/html": [
       " View project at <a href='https://wandb.ai/david-schurtenberger/NLP_Project_1' target=\"_blank\">https://wandb.ai/david-schurtenberger/NLP_Project_1</a>"
      ],
      "text/plain": [
       "<IPython.core.display.HTML object>"
      ]
     },
     "metadata": {},
     "output_type": "display_data"
    },
    {
     "data": {
      "text/html": [
       " View run at <a href='https://wandb.ai/david-schurtenberger/NLP_Project_1/runs/ymncxt1g' target=\"_blank\">https://wandb.ai/david-schurtenberger/NLP_Project_1/runs/ymncxt1g</a>"
      ],
      "text/plain": [
       "<IPython.core.display.HTML object>"
      ]
     },
     "metadata": {},
     "output_type": "display_data"
    }
   ],
   "source": [
    "wandb.init(\n",
    "    entity=\"david-schurtenberger\",\n",
    "    project=\"NLP_Project_1\",\n",
    "    name=str(parameters),\n",
    "    config=parameters(),\n",
    ")\n",
    "wandb_logger = WandbLogger(project=\"NLP_Project_1\")"
   ]
  },
  {
   "cell_type": "markdown",
   "id": "2783a8e580d74f72",
   "metadata": {},
   "source": [
    "#### Training routine\n",
    "\n",
    "Define the function **train_classifier** which describes the training routine for the classifier model using the **Trainer** class of *lightning* "
   ]
  },
  {
   "cell_type": "code",
   "execution_count": 55,
   "id": "e462b206a5f1b90a",
   "metadata": {},
   "outputs": [],
   "source": [
    "def train_classifier(config, logger, train_loader, valid_loader):\n",
    "    L.seed_everything(42)\n",
    "    model = CqaClassifier(\n",
    "        hidden_dim=config.get(\"hidden_dim\"),\n",
    "        learning_rate=config.get(\"learning_rate\"),\n",
    "        adam_epsilon=config.get(\"adam_epsilon\"),\n",
    "        weight_decay=config.get(\"weight_decay\")\n",
    "    )\n",
    "    trainer = L.Trainer(\n",
    "        max_epochs=config.get(\"epochs\"),\n",
    "        accelerator=\"auto\",\n",
    "        devices=1,\n",
    "        logger=logger,\n",
    "    )\n",
    "    trainer.fit(model, train_loader, valid_loader)"
   ]
  },
  {
   "cell_type": "markdown",
   "id": "eeea74002f402df7",
   "metadata": {},
   "source": [
    "Instantiate data loaders"
   ]
  },
  {
   "cell_type": "code",
   "execution_count": 56,
   "id": "bc31264725ea79e1",
   "metadata": {},
   "outputs": [],
   "source": [
    "train_loader = torch.utils.data.DataLoader(train_data, wandb.config[\"batch_size\"], shuffle=True)\n",
    "valid_loader = torch.utils.data.DataLoader(valid_data, wandb.config[\"batch_size\"])"
   ]
  },
  {
   "cell_type": "markdown",
   "id": "5f5710a3c3640df3",
   "metadata": {},
   "source": [
    "Execute training run"
   ]
  },
  {
   "cell_type": "code",
   "id": "c0b043c76c9360d8",
   "metadata": {},
   "source": [
    "train_classifier(wandb.config, wandb_logger, train_loader, valid_loader)"
   ],
   "outputs": [],
   "execution_count": null
  },
  {
   "metadata": {},
   "cell_type": "markdown",
   "source": "Finish the run on wandb",
   "id": "3313074f11e44e07"
  },
  {
   "cell_type": "code",
   "id": "80455405-b423-486a-8b99-8ec36f515f09",
   "metadata": {},
   "source": [
    "wandb.finish()"
   ],
   "outputs": [],
   "execution_count": null
  },
  {
   "cell_type": "markdown",
   "id": "78a92ceca9fa4119",
   "metadata": {},
   "source": [
    "## Evaluation"
   ]
  },
  {
   "cell_type": "code",
   "execution_count": null,
   "id": "24831257099358aa",
   "metadata": {},
   "outputs": [],
   "source": []
  },
  {
   "cell_type": "markdown",
   "id": "3bb349b7a3afb091",
   "metadata": {},
   "source": [
    "## Interpretation"
   ]
  },
  {
   "cell_type": "code",
   "execution_count": null,
   "id": "c163ba3cc6c0116d",
   "metadata": {},
   "outputs": [],
   "source": []
  },
  {
   "cell_type": "markdown",
   "id": "670529384ff1a832",
   "metadata": {},
   "source": [
    "# WordEmbeddings &rarr; RNN &rarr; Classifier"
   ]
  },
  {
   "cell_type": "markdown",
   "id": "1cdcb2c089c31f7d",
   "metadata": {},
   "source": [
    "## Model"
   ]
  },
  {
   "cell_type": "code",
   "execution_count": null,
   "id": "c2bae4a45e8fc91c",
   "metadata": {},
   "outputs": [],
   "source": []
  },
  {
   "cell_type": "markdown",
   "id": "c23810130acebbab",
   "metadata": {},
   "source": [
    "## Training"
   ]
  },
  {
   "cell_type": "code",
   "execution_count": null,
   "id": "c727fc00f6873225",
   "metadata": {},
   "outputs": [],
   "source": []
  },
  {
   "cell_type": "markdown",
   "id": "ce68cd63697752b0",
   "metadata": {},
   "source": [
    "## Evaluation"
   ]
  },
  {
   "cell_type": "code",
   "execution_count": null,
   "id": "3008186ea326c4e",
   "metadata": {},
   "outputs": [],
   "source": []
  },
  {
   "cell_type": "markdown",
   "id": "f241fe1cf1168f92",
   "metadata": {},
   "source": [
    "## Interpretation"
   ]
  },
  {
   "cell_type": "code",
   "execution_count": null,
   "id": "62fd1ce96fabd34a",
   "metadata": {},
   "outputs": [],
   "source": []
  }
 ],
 "metadata": {
  "kernelspec": {
   "display_name": "Python 3 (ipykernel)",
   "language": "python",
   "name": "python3"
  },
  "language_info": {
   "codemirror_mode": {
    "name": "ipython",
    "version": 3
   },
   "file_extension": ".py",
   "mimetype": "text/x-python",
   "name": "python",
   "nbconvert_exporter": "python",
   "pygments_lexer": "ipython3",
   "version": "3.12.9"
  }
 },
 "nbformat": 4,
 "nbformat_minor": 5
}
